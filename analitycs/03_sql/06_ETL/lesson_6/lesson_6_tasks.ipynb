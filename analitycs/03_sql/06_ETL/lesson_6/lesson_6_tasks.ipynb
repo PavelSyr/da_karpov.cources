{
 "cells": [
  {
   "cell_type": "code",
   "execution_count": 145,
   "metadata": {},
   "outputs": [],
   "source": [
    "import pandas as pd\n",
    "import numpy as np\n",
    "import pandahouse as ph\n",
    "import json\n",
    "import seaborn as sns\n",
    "import matplotlib.pyplot as plt\n",
    "\n",
    "%matplotlib inline"
   ]
  },
  {
   "cell_type": "code",
   "execution_count": 112,
   "metadata": {},
   "outputs": [],
   "source": [
    "sns.set(\n",
    "    font_scale =2,\n",
    "    style      =\"whitegrid\",\n",
    "    rc         ={'figure.figsize':(20,7)}\n",
    ")"
   ]
  },
  {
   "cell_type": "code",
   "execution_count": 20,
   "metadata": {},
   "outputs": [],
   "source": [
    "# read clickhouse connection info from file\n",
    "connection_path = './creds/connection-student-config.json'\n",
    "with open(connection_path) as json_file:\n",
    "    connection = json.load(json_file)"
   ]
  },
  {
   "cell_type": "markdown",
   "metadata": {},
   "source": [
    "step 2 <a href=\"https://lab.karpov.courses/learning/85/module/1058/lesson/9062/26606/118455/\">link</a>\n",
    "<br>Для начала, проверим правильность подключения к ClickHouse через pandahouse, отправив простой запрос: выведите количество строк в таблице ldn_listings."
   ]
  },
  {
   "cell_type": "code",
   "execution_count": 21,
   "metadata": {},
   "outputs": [
    {
     "data": {
      "text/html": [
       "<div>\n",
       "<style scoped>\n",
       "    .dataframe tbody tr th:only-of-type {\n",
       "        vertical-align: middle;\n",
       "    }\n",
       "\n",
       "    .dataframe tbody tr th {\n",
       "        vertical-align: top;\n",
       "    }\n",
       "\n",
       "    .dataframe thead th {\n",
       "        text-align: right;\n",
       "    }\n",
       "</style>\n",
       "<table border=\"1\" class=\"dataframe\">\n",
       "  <thead>\n",
       "    <tr style=\"text-align: right;\">\n",
       "      <th></th>\n",
       "      <th>row_count</th>\n",
       "    </tr>\n",
       "  </thead>\n",
       "  <tbody>\n",
       "    <tr>\n",
       "      <th>0</th>\n",
       "      <td>85207</td>\n",
       "    </tr>\n",
       "  </tbody>\n",
       "</table>\n",
       "</div>"
      ],
      "text/plain": [
       "   row_count\n",
       "0      85207"
      ]
     },
     "execution_count": 21,
     "metadata": {},
     "output_type": "execute_result"
    }
   ],
   "source": [
    "query = \"\"\"\n",
    "SELECT count() AS row_count\n",
    "FROM default.ldn_listings\n",
    "\"\"\"\n",
    "df = ph.read_clickhouse(query, connection=connection)\n",
    "df"
   ]
  },
  {
   "cell_type": "markdown",
   "metadata": {},
   "source": [
    "step 3 <a href=\"https://lab.karpov.courses/learning/85/module/1058/lesson/9062/26606/118456/\">link</a>\n",
    "<br>Выгрузите из таблицы данные о цене в зависимости от типа жилья. Необходимые столбцы:\n",
    "\n",
    "<br>price – цена за ночь\n",
    "<br>room_type – тип сдаваемого жилья (доступные варианты: Entire home/apt, Private room, Hotel room, Shared room)\n",
    "<br>Ограничение поставьте на 1000 строк. Результат должен быть отсортирован по возрастанию id.\n",
    "\n",
    "Пример результирующей таблицы:\n",
    "<pre>\n",
    "    <code>\n",
    "+-----------------+------------+\n",
    "| room_type       | price      |\n",
    "+-----------------+------------+\n",
    "| Private room    |         65 | \n",
    "| Entire home/apt |        100 | \n",
    "+-----------------+------------+\n",
    "    </code>\n",
    "</pre>"
   ]
  },
  {
   "cell_type": "code",
   "execution_count": 25,
   "metadata": {},
   "outputs": [
    {
     "data": {
      "text/html": [
       "<div>\n",
       "<style scoped>\n",
       "    .dataframe tbody tr th:only-of-type {\n",
       "        vertical-align: middle;\n",
       "    }\n",
       "\n",
       "    .dataframe tbody tr th {\n",
       "        vertical-align: top;\n",
       "    }\n",
       "\n",
       "    .dataframe thead th {\n",
       "        text-align: right;\n",
       "    }\n",
       "</style>\n",
       "<table border=\"1\" class=\"dataframe\">\n",
       "  <thead>\n",
       "    <tr style=\"text-align: right;\">\n",
       "      <th></th>\n",
       "      <th>id</th>\n",
       "      <th>room_type</th>\n",
       "      <th>price_f</th>\n",
       "    </tr>\n",
       "  </thead>\n",
       "  <tbody>\n",
       "    <tr>\n",
       "      <th>0</th>\n",
       "      <td>13913</td>\n",
       "      <td>Private room</td>\n",
       "      <td>65.0</td>\n",
       "    </tr>\n",
       "    <tr>\n",
       "      <th>1</th>\n",
       "      <td>15400</td>\n",
       "      <td>Entire home/apt</td>\n",
       "      <td>100.0</td>\n",
       "    </tr>\n",
       "    <tr>\n",
       "      <th>2</th>\n",
       "      <td>17402</td>\n",
       "      <td>Entire home/apt</td>\n",
       "      <td>300.0</td>\n",
       "    </tr>\n",
       "    <tr>\n",
       "      <th>3</th>\n",
       "      <td>17506</td>\n",
       "      <td>Private room</td>\n",
       "      <td>150.0</td>\n",
       "    </tr>\n",
       "    <tr>\n",
       "      <th>4</th>\n",
       "      <td>25023</td>\n",
       "      <td>Entire home/apt</td>\n",
       "      <td>65.0</td>\n",
       "    </tr>\n",
       "  </tbody>\n",
       "</table>\n",
       "</div>"
      ],
      "text/plain": [
       "      id        room_type  price_f\n",
       "0  13913     Private room     65.0\n",
       "1  15400  Entire home/apt    100.0\n",
       "2  17402  Entire home/apt    300.0\n",
       "3  17506     Private room    150.0\n",
       "4  25023  Entire home/apt     65.0"
      ]
     },
     "execution_count": 25,
     "metadata": {},
     "output_type": "execute_result"
    }
   ],
   "source": [
    "query = \"\"\"\n",
    "SELECT\n",
    "    id\n",
    "    , room_type\n",
    "    , replaceRegexpAll(price, '[$,]','') AS price_f\n",
    "    \n",
    "FROM default.ldn_listings\n",
    "\n",
    "ORDER BY id ASC\n",
    "\n",
    "LIMIT 1000\n",
    "\"\"\"\n",
    "df = ph.read_clickhouse(query, connection=connection)\n",
    "df.price_f = df.price_f.astype('float')\n",
    "df.head()"
   ]
  },
  {
   "cell_type": "code",
   "execution_count": 28,
   "metadata": {},
   "outputs": [
    {
     "data": {
      "text/html": [
       "<div>\n",
       "<style scoped>\n",
       "    .dataframe tbody tr th:only-of-type {\n",
       "        vertical-align: middle;\n",
       "    }\n",
       "\n",
       "    .dataframe tbody tr th {\n",
       "        vertical-align: top;\n",
       "    }\n",
       "\n",
       "    .dataframe thead th {\n",
       "        text-align: right;\n",
       "    }\n",
       "</style>\n",
       "<table border=\"1\" class=\"dataframe\">\n",
       "  <thead>\n",
       "    <tr style=\"text-align: right;\">\n",
       "      <th></th>\n",
       "      <th>price_f</th>\n",
       "    </tr>\n",
       "    <tr>\n",
       "      <th>room_type</th>\n",
       "      <th></th>\n",
       "    </tr>\n",
       "  </thead>\n",
       "  <tbody>\n",
       "    <tr>\n",
       "      <th>Entire home/apt</th>\n",
       "      <td>120.0</td>\n",
       "    </tr>\n",
       "    <tr>\n",
       "      <th>Hotel room</th>\n",
       "      <td>134.0</td>\n",
       "    </tr>\n",
       "    <tr>\n",
       "      <th>Private room</th>\n",
       "      <td>49.0</td>\n",
       "    </tr>\n",
       "    <tr>\n",
       "      <th>Shared room</th>\n",
       "      <td>29.5</td>\n",
       "    </tr>\n",
       "  </tbody>\n",
       "</table>\n",
       "</div>"
      ],
      "text/plain": [
       "                 price_f\n",
       "room_type               \n",
       "Entire home/apt    120.0\n",
       "Hotel room         134.0\n",
       "Private room        49.0\n",
       "Shared room         29.5"
      ]
     },
     "execution_count": 28,
     "metadata": {},
     "output_type": "execute_result"
    }
   ],
   "source": [
    "df.groupby(by='room_type') \\\n",
    "    .agg({'price_f':'quantile'}, q=0.75)"
   ]
  },
  {
   "cell_type": "code",
   "execution_count": 30,
   "metadata": {},
   "outputs": [],
   "source": [
    "df_describe = df.groupby(by='room_type') \\\n",
    "    .agg({'price_f':'describe'})"
   ]
  },
  {
   "cell_type": "code",
   "execution_count": 31,
   "metadata": {},
   "outputs": [
    {
     "data": {
      "text/html": [
       "<div>\n",
       "<style scoped>\n",
       "    .dataframe tbody tr th:only-of-type {\n",
       "        vertical-align: middle;\n",
       "    }\n",
       "\n",
       "    .dataframe tbody tr th {\n",
       "        vertical-align: top;\n",
       "    }\n",
       "\n",
       "    .dataframe thead tr th {\n",
       "        text-align: left;\n",
       "    }\n",
       "\n",
       "    .dataframe thead tr:last-of-type th {\n",
       "        text-align: right;\n",
       "    }\n",
       "</style>\n",
       "<table border=\"1\" class=\"dataframe\">\n",
       "  <thead>\n",
       "    <tr>\n",
       "      <th></th>\n",
       "      <th colspan=\"8\" halign=\"left\">price_f</th>\n",
       "    </tr>\n",
       "    <tr>\n",
       "      <th></th>\n",
       "      <th>count</th>\n",
       "      <th>mean</th>\n",
       "      <th>std</th>\n",
       "      <th>min</th>\n",
       "      <th>25%</th>\n",
       "      <th>50%</th>\n",
       "      <th>75%</th>\n",
       "      <th>max</th>\n",
       "    </tr>\n",
       "    <tr>\n",
       "      <th>room_type</th>\n",
       "      <th></th>\n",
       "      <th></th>\n",
       "      <th></th>\n",
       "      <th></th>\n",
       "      <th></th>\n",
       "      <th></th>\n",
       "      <th></th>\n",
       "      <th></th>\n",
       "    </tr>\n",
       "  </thead>\n",
       "  <tbody>\n",
       "    <tr>\n",
       "      <th>Entire home/apt</th>\n",
       "      <td>443.0</td>\n",
       "      <td>153.182844</td>\n",
       "      <td>149.768163</td>\n",
       "      <td>23.0</td>\n",
       "      <td>90.0</td>\n",
       "      <td>120.0</td>\n",
       "      <td>160.00</td>\n",
       "      <td>2000.0</td>\n",
       "    </tr>\n",
       "    <tr>\n",
       "      <th>Hotel room</th>\n",
       "      <td>2.0</td>\n",
       "      <td>134.000000</td>\n",
       "      <td>65.053824</td>\n",
       "      <td>88.0</td>\n",
       "      <td>111.0</td>\n",
       "      <td>134.0</td>\n",
       "      <td>157.00</td>\n",
       "      <td>180.0</td>\n",
       "    </tr>\n",
       "    <tr>\n",
       "      <th>Private room</th>\n",
       "      <td>551.0</td>\n",
       "      <td>66.820327</td>\n",
       "      <td>78.609313</td>\n",
       "      <td>12.0</td>\n",
       "      <td>35.5</td>\n",
       "      <td>49.0</td>\n",
       "      <td>70.00</td>\n",
       "      <td>1000.0</td>\n",
       "    </tr>\n",
       "    <tr>\n",
       "      <th>Shared room</th>\n",
       "      <td>4.0</td>\n",
       "      <td>61.250000</td>\n",
       "      <td>70.244217</td>\n",
       "      <td>20.0</td>\n",
       "      <td>21.5</td>\n",
       "      <td>29.5</td>\n",
       "      <td>69.25</td>\n",
       "      <td>166.0</td>\n",
       "    </tr>\n",
       "  </tbody>\n",
       "</table>\n",
       "</div>"
      ],
      "text/plain": [
       "                price_f                                                      \\\n",
       "                  count        mean         std   min    25%    50%     75%   \n",
       "room_type                                                                     \n",
       "Entire home/apt   443.0  153.182844  149.768163  23.0   90.0  120.0  160.00   \n",
       "Hotel room          2.0  134.000000   65.053824  88.0  111.0  134.0  157.00   \n",
       "Private room      551.0   66.820327   78.609313  12.0   35.5   49.0   70.00   \n",
       "Shared room         4.0   61.250000   70.244217  20.0   21.5   29.5   69.25   \n",
       "\n",
       "                         \n",
       "                    max  \n",
       "room_type                \n",
       "Entire home/apt  2000.0  \n",
       "Hotel room        180.0  \n",
       "Private room     1000.0  \n",
       "Shared room       166.0  "
      ]
     },
     "execution_count": 31,
     "metadata": {},
     "output_type": "execute_result"
    }
   ],
   "source": [
    "df_describe"
   ]
  },
  {
   "cell_type": "code",
   "execution_count": 35,
   "metadata": {},
   "outputs": [
    {
     "data": {
      "text/plain": [
       "price_f  count     551.000000\n",
       "         mean       66.820327\n",
       "         std        78.609313\n",
       "         min        12.000000\n",
       "         25%        35.500000\n",
       "         50%        49.000000\n",
       "         75%        70.000000\n",
       "         max      1000.000000\n",
       "Name: Private room, dtype: float64"
      ]
     },
     "execution_count": 35,
     "metadata": {},
     "output_type": "execute_result"
    }
   ],
   "source": [
    "df_describe.loc['Private room']"
   ]
  },
  {
   "cell_type": "markdown",
   "metadata": {},
   "source": [
    "step 4 <a href=\"https://lab.karpov.courses/learning/85/module/1058/lesson/9062/26606/118457/\">link</a>\n",
    "<br>К данным о цене и типе комнаты дополнительно выгрузите данные о рейтинге жилья (review_scores_rating). В запросе необходимо будет отфильтровать пустые значения review_scores_rating и сконвертировать эту колонку в тип float32.\n",
    "\n",
    "Hint: toFloat32OrNull(столбец)\n",
    "\n",
    "Давайте построим график рассеивания, который покажет зависимость средней цены от средней оценки в зависимости от типа жилья.\n",
    "\n",
    "Исходная таблица должна выглядеть так:\n",
    "\n",
    "<pre>\n",
    "    <code>\n",
    "+-----------------+------------+--------------------+\n",
    "| room_type       | price      |review_scores_rating|\n",
    "+-----------------+------------+--------------------+\n",
    "| Private room    |         65 | 96.0               |\n",
    "| Entire home/apt |        100 | 78.0               |\n",
    "+-----------------+------------+--------------------+\n",
    "    </code>\n",
    "</pre>\n",
    "\n",
    "1) сгруппируйте датафрейм по типу жилья и посчитайте среднее для цены и рейтинга (не забудьте привести рейтинг к типу float)\n",
    "\n",
    "2) используйте sns.scatterplot, чтобы построить график рассеивания средней цены (ось X) и рейтинга (ось Y) c разбивкой по типу жилья (параметр hue)"
   ]
  },
  {
   "cell_type": "code",
   "execution_count": 36,
   "metadata": {},
   "outputs": [
    {
     "data": {
      "text/html": [
       "<div>\n",
       "<style scoped>\n",
       "    .dataframe tbody tr th:only-of-type {\n",
       "        vertical-align: middle;\n",
       "    }\n",
       "\n",
       "    .dataframe tbody tr th {\n",
       "        vertical-align: top;\n",
       "    }\n",
       "\n",
       "    .dataframe thead th {\n",
       "        text-align: right;\n",
       "    }\n",
       "</style>\n",
       "<table border=\"1\" class=\"dataframe\">\n",
       "  <thead>\n",
       "    <tr style=\"text-align: right;\">\n",
       "      <th></th>\n",
       "      <th>id</th>\n",
       "      <th>room_type</th>\n",
       "      <th>price_f</th>\n",
       "      <th>review_scores_rating_f</th>\n",
       "    </tr>\n",
       "  </thead>\n",
       "  <tbody>\n",
       "    <tr>\n",
       "      <th>0</th>\n",
       "      <td>13913</td>\n",
       "      <td>Private room</td>\n",
       "      <td>65.0</td>\n",
       "      <td>97.0</td>\n",
       "    </tr>\n",
       "    <tr>\n",
       "      <th>1</th>\n",
       "      <td>15400</td>\n",
       "      <td>Entire home/apt</td>\n",
       "      <td>100.0</td>\n",
       "      <td>96.0</td>\n",
       "    </tr>\n",
       "    <tr>\n",
       "      <th>2</th>\n",
       "      <td>17402</td>\n",
       "      <td>Entire home/apt</td>\n",
       "      <td>300.0</td>\n",
       "      <td>94.0</td>\n",
       "    </tr>\n",
       "    <tr>\n",
       "      <th>3</th>\n",
       "      <td>25023</td>\n",
       "      <td>Entire home/apt</td>\n",
       "      <td>65.0</td>\n",
       "      <td>93.0</td>\n",
       "    </tr>\n",
       "    <tr>\n",
       "      <th>4</th>\n",
       "      <td>25123</td>\n",
       "      <td>Private room</td>\n",
       "      <td>29.0</td>\n",
       "      <td>96.0</td>\n",
       "    </tr>\n",
       "  </tbody>\n",
       "</table>\n",
       "</div>"
      ],
      "text/plain": [
       "      id        room_type  price_f  review_scores_rating_f\n",
       "0  13913     Private room     65.0                    97.0\n",
       "1  15400  Entire home/apt    100.0                    96.0\n",
       "2  17402  Entire home/apt    300.0                    94.0\n",
       "3  25023  Entire home/apt     65.0                    93.0\n",
       "4  25123     Private room     29.0                    96.0"
      ]
     },
     "execution_count": 36,
     "metadata": {},
     "output_type": "execute_result"
    }
   ],
   "source": [
    "query = \"\"\"\n",
    "SELECT\n",
    "    id\n",
    "    , room_type\n",
    "    , replaceRegexpAll(price, '[$,]','') AS price_f\n",
    "    , toFloat32OrNull(review_scores_rating) as review_scores_rating_f\n",
    "    \n",
    "FROM default.ldn_listings\n",
    "\n",
    "WHERE review_scores_rating != ''\n",
    "\n",
    "ORDER BY id ASC\n",
    "\n",
    "LIMIT 1000\n",
    "\"\"\"\n",
    "\n",
    "df = ph.read_clickhouse(query=query, connection=connection)\n",
    "df.price_f = df.price_f.astype('float')\n",
    "df.review_scores_rating_f = df.review_scores_rating_f.astype('float')\n",
    "df.head()"
   ]
  },
  {
   "cell_type": "code",
   "execution_count": 38,
   "metadata": {},
   "outputs": [
    {
     "data": {
      "text/html": [
       "<div>\n",
       "<style scoped>\n",
       "    .dataframe tbody tr th:only-of-type {\n",
       "        vertical-align: middle;\n",
       "    }\n",
       "\n",
       "    .dataframe tbody tr th {\n",
       "        vertical-align: top;\n",
       "    }\n",
       "\n",
       "    .dataframe thead th {\n",
       "        text-align: right;\n",
       "    }\n",
       "</style>\n",
       "<table border=\"1\" class=\"dataframe\">\n",
       "  <thead>\n",
       "    <tr style=\"text-align: right;\">\n",
       "      <th></th>\n",
       "      <th>room_type</th>\n",
       "      <th>price_f</th>\n",
       "      <th>review_scores_rating_f</th>\n",
       "    </tr>\n",
       "  </thead>\n",
       "  <tbody>\n",
       "    <tr>\n",
       "      <th>0</th>\n",
       "      <td>Entire home/apt</td>\n",
       "      <td>135.882957</td>\n",
       "      <td>93.568789</td>\n",
       "    </tr>\n",
       "    <tr>\n",
       "      <th>1</th>\n",
       "      <td>Hotel room</td>\n",
       "      <td>134.000000</td>\n",
       "      <td>92.500000</td>\n",
       "    </tr>\n",
       "    <tr>\n",
       "      <th>2</th>\n",
       "      <td>Private room</td>\n",
       "      <td>54.642436</td>\n",
       "      <td>94.766208</td>\n",
       "    </tr>\n",
       "    <tr>\n",
       "      <th>3</th>\n",
       "      <td>Shared room</td>\n",
       "      <td>21.000000</td>\n",
       "      <td>90.000000</td>\n",
       "    </tr>\n",
       "  </tbody>\n",
       "</table>\n",
       "</div>"
      ],
      "text/plain": [
       "         room_type     price_f  review_scores_rating_f\n",
       "0  Entire home/apt  135.882957               93.568789\n",
       "1       Hotel room  134.000000               92.500000\n",
       "2     Private room   54.642436               94.766208\n",
       "3      Shared room   21.000000               90.000000"
      ]
     },
     "execution_count": 38,
     "metadata": {},
     "output_type": "execute_result"
    }
   ],
   "source": [
    "df_mean = df.groupby(by='room_type', as_index=False) \\\n",
    "    .agg({'price_f':'mean', 'review_scores_rating_f':'mean'})\n",
    "\n",
    "df_mean"
   ]
  },
  {
   "cell_type": "code",
   "execution_count": 87,
   "metadata": {},
   "outputs": [
    {
     "data": {
      "text/plain": [
       "<AxesSubplot:xlabel='price_f', ylabel='review_scores_rating_f'>"
      ]
     },
     "execution_count": 87,
     "metadata": {},
     "output_type": "execute_result"
    },
    {
     "data": {
      "image/png": "[encoded data removed]",
      "text/plain": [
       "<Figure size 1440x504 with 1 Axes>"
      ]
     },
     "metadata": {},
     "output_type": "display_data"
    }
   ],
   "source": [
    "sns.scatterplot(data=df_mean, x='price_f', y='review_scores_rating_f', hue='room_type')"
   ]
  },
  {
   "cell_type": "markdown",
   "metadata": {},
   "source": [
    "step 5 <a href=\"https://lab.karpov.courses/learning/85/module/1058/lesson/9062/26606/118458/\">link</a>\n",
    "<br>Итак, помимо аренды жилья, на Airbnb также есть \"Впечатления\" — мероприятия, которые организуют местные жители.\n",
    "\n",
    "Проверим, какие способы верификации аккаунта использовали хозяева, предлагающие различные впечатления (experiences_offered != 'none'). Для каждого уникального пользователя выгрузите только две колонки:\n",
    "\n",
    "<br>host_id – идентификатор хозяина (уникальный)\n",
    "<br>host_verifications – какими способами хост подтвердил свой профиль\n",
    "<br>Затем обработайте столбец host_verifications:\n",
    "\n",
    "В ячейках находятся строковые представления списка (например, как результат str([1, 2, 3])). Приведите их к настоящему списку, где в качестве элементов будут храниться использованные способы подтверждения аккаунта: \n",
    "\n",
    "\"['email', 'phone', 'facebook']\" -> ['email', 'phone', 'facebook']\n",
    "\n",
    "2. Используйте методы explode и value_counts, чтобы посчитать, сколько раз встречается каждый способ верификации\n",
    "\n",
    "Сколько хозяев подтвердили профиль с помощью аккаунта Google?"
   ]
  },
  {
   "cell_type": "code",
   "execution_count": 68,
   "metadata": {},
   "outputs": [
    {
     "data": {
      "text/html": [
       "<div>\n",
       "<style scoped>\n",
       "    .dataframe tbody tr th:only-of-type {\n",
       "        vertical-align: middle;\n",
       "    }\n",
       "\n",
       "    .dataframe tbody tr th {\n",
       "        vertical-align: top;\n",
       "    }\n",
       "\n",
       "    .dataframe thead th {\n",
       "        text-align: right;\n",
       "    }\n",
       "</style>\n",
       "<table border=\"1\" class=\"dataframe\">\n",
       "  <thead>\n",
       "    <tr style=\"text-align: right;\">\n",
       "      <th></th>\n",
       "      <th>host_id</th>\n",
       "      <th>host_verifications</th>\n",
       "    </tr>\n",
       "  </thead>\n",
       "  <tbody>\n",
       "    <tr>\n",
       "      <th>0</th>\n",
       "      <td>6821</td>\n",
       "      <td>['email', 'phone', 'facebook', 'reviews', 'jum...</td>\n",
       "    </tr>\n",
       "    <tr>\n",
       "      <th>1</th>\n",
       "      <td>11431</td>\n",
       "      <td>['email', 'phone', 'facebook', 'reviews', 'jum...</td>\n",
       "    </tr>\n",
       "    <tr>\n",
       "      <th>2</th>\n",
       "      <td>27929</td>\n",
       "      <td>['email', 'phone', 'reviews', 'jumio', 'govern...</td>\n",
       "    </tr>\n",
       "    <tr>\n",
       "      <th>3</th>\n",
       "      <td>54730</td>\n",
       "      <td>['email', 'phone', 'facebook', 'reviews', 'off...</td>\n",
       "    </tr>\n",
       "    <tr>\n",
       "      <th>4</th>\n",
       "      <td>54987</td>\n",
       "      <td>['email', 'phone', 'google', 'reviews', 'manua...</td>\n",
       "    </tr>\n",
       "  </tbody>\n",
       "</table>\n",
       "</div>"
      ],
      "text/plain": [
       "   host_id                                 host_verifications\n",
       "0     6821  ['email', 'phone', 'facebook', 'reviews', 'jum...\n",
       "1    11431  ['email', 'phone', 'facebook', 'reviews', 'jum...\n",
       "2    27929  ['email', 'phone', 'reviews', 'jumio', 'govern...\n",
       "3    54730  ['email', 'phone', 'facebook', 'reviews', 'off...\n",
       "4    54987  ['email', 'phone', 'google', 'reviews', 'manua..."
      ]
     },
     "execution_count": 68,
     "metadata": {},
     "output_type": "execute_result"
    }
   ],
   "source": [
    "query = \"\"\"\n",
    "SELECT\n",
    "    DISTINCT host_id\n",
    "    , host_verifications\n",
    "    \n",
    "FROM default.ldn_listings\n",
    "\n",
    "WHERE experiences_offered != 'none'\n",
    "\n",
    "ORDER BY host_id ASC\n",
    "\"\"\"\n",
    "\n",
    "df = ph.read_clickhouse(query=query, connection=connection)\n",
    "df.head()"
   ]
  },
  {
   "cell_type": "code",
   "execution_count": 69,
   "metadata": {},
   "outputs": [],
   "source": [
    "df.host_verifications = df.host_verifications \\\n",
    "    .str.replace(pat=r'[\\[\\]]', repl='', regex=True) \\\n",
    "    .str.split(', ')"
   ]
  },
  {
   "cell_type": "code",
   "execution_count": 70,
   "metadata": {},
   "outputs": [],
   "source": [
    "df = df.explode('host_verifications')"
   ]
  },
  {
   "cell_type": "code",
   "execution_count": 71,
   "metadata": {},
   "outputs": [
    {
     "data": {
      "text/plain": [
       "'phone'                    1361\n",
       "'email'                    1345\n",
       "'reviews'                  1309\n",
       "'government_id'            1196\n",
       "'jumio'                    1115\n",
       "'offline_government_id'     469\n",
       "'work_email'                279\n",
       "'facebook'                  270\n",
       "'selfie'                    252\n",
       "'identity_manual'           227\n",
       "'manual_offline'             70\n",
       "'google'                     34\n",
       "'kba'                        27\n",
       "'manual_online'              16\n",
       "'sent_id'                     6\n",
       "Name: host_verifications, dtype: int64"
      ]
     },
     "execution_count": 71,
     "metadata": {},
     "output_type": "execute_result"
    }
   ],
   "source": [
    "df.host_verifications.value_counts()"
   ]
  },
  {
   "cell_type": "markdown",
   "metadata": {},
   "source": [
    "step 6 <a href=\"https://lab.karpov.courses/learning/85/module/1058/lesson/9062/26606/118459/\">link</a>\n",
    "<br>Теперь посмотрим, для скольких объявлений и в каких районах хозяева указали впечатления. Сгруппируйте данные по району и виду впечатления и посчитайте количество объявлений. Новый столбец назовите experiences_count.\n",
    "\n",
    "Пример трёх строк результирующей таблицы: в районе City of London для 7 объявлений указан тип впечатления business, для одного – family.\n",
    "\n",
    "<pre>\n",
    "    <code class=\"language-no-highlight\">\n",
    "+------------------------+---------------------+-------------------+\n",
    "| neighbourhood_cleansed | experiences_offered | experiences_count |\n",
    "+------------------------+---------------------+-------------------+\n",
    "| City of London         | business            |                 7 |\n",
    "| City of London         | family              |                 1 |\n",
    "| City of London         | romantic            |                 1 |\n",
    "+------------------------+---------------------+-------------------+\n",
    "    </code>\n",
    "</pre>\n",
    "\n",
    "Отсортируйте данные по убыванию experiences_count и выгрузите первые 100 строк. Затем преобразуйте данные с помощью pivot, поместив в индексы название района, столбцы – вид впечатления, а значения – число объявлений с таким впечатлением для каждого района. Визуализируйте результат с помощью sns.heatmap() c палитрой cmap=sns.cubehelix_palette(as_cmap=True). \n",
    "\n",
    "Какой график получился?"
   ]
  },
  {
   "cell_type": "code",
   "execution_count": 73,
   "metadata": {},
   "outputs": [
    {
     "data": {
      "text/html": [
       "<div>\n",
       "<style scoped>\n",
       "    .dataframe tbody tr th:only-of-type {\n",
       "        vertical-align: middle;\n",
       "    }\n",
       "\n",
       "    .dataframe tbody tr th {\n",
       "        vertical-align: top;\n",
       "    }\n",
       "\n",
       "    .dataframe thead th {\n",
       "        text-align: right;\n",
       "    }\n",
       "</style>\n",
       "<table border=\"1\" class=\"dataframe\">\n",
       "  <thead>\n",
       "    <tr style=\"text-align: right;\">\n",
       "      <th></th>\n",
       "      <th>neighbourhood_cleansed</th>\n",
       "      <th>experiences_offered</th>\n",
       "      <th>experiences_count</th>\n",
       "    </tr>\n",
       "  </thead>\n",
       "  <tbody>\n",
       "    <tr>\n",
       "      <th>0</th>\n",
       "      <td>Hackney</td>\n",
       "      <td>family</td>\n",
       "      <td>61</td>\n",
       "    </tr>\n",
       "    <tr>\n",
       "      <th>1</th>\n",
       "      <td>Tower Hamlets</td>\n",
       "      <td>business</td>\n",
       "      <td>58</td>\n",
       "    </tr>\n",
       "    <tr>\n",
       "      <th>2</th>\n",
       "      <td>Westminster</td>\n",
       "      <td>business</td>\n",
       "      <td>50</td>\n",
       "    </tr>\n",
       "    <tr>\n",
       "      <th>3</th>\n",
       "      <td>Hackney</td>\n",
       "      <td>social</td>\n",
       "      <td>49</td>\n",
       "    </tr>\n",
       "    <tr>\n",
       "      <th>4</th>\n",
       "      <td>Hammersmith and Fulham</td>\n",
       "      <td>business</td>\n",
       "      <td>48</td>\n",
       "    </tr>\n",
       "  </tbody>\n",
       "</table>\n",
       "</div>"
      ],
      "text/plain": [
       "   neighbourhood_cleansed experiences_offered  experiences_count\n",
       "0                 Hackney              family                 61\n",
       "1           Tower Hamlets            business                 58\n",
       "2             Westminster            business                 50\n",
       "3                 Hackney              social                 49\n",
       "4  Hammersmith and Fulham            business                 48"
      ]
     },
     "execution_count": 73,
     "metadata": {},
     "output_type": "execute_result"
    }
   ],
   "source": [
    "query = \"\"\"\n",
    "SELECT\n",
    "    neighbourhood_cleansed\n",
    "    , experiences_offered\n",
    "    , count() AS experiences_count\n",
    "    \n",
    "FROM default.ldn_listings\n",
    "\n",
    "WHERE experiences_offered != 'none'\n",
    "\n",
    "GROUP BY \n",
    "    neighbourhood_cleansed\n",
    "    , experiences_offered\n",
    "    \n",
    "ORDER BY experiences_count DESC\n",
    "\n",
    "LIMIT 100\n",
    "\"\"\"\n",
    "\n",
    "df = ph.read_clickhouse(query=query, connection=connection)\n",
    "df.head()"
   ]
  },
  {
   "cell_type": "code",
   "execution_count": 74,
   "metadata": {},
   "outputs": [
    {
     "data": {
      "text/plain": [
       "neighbourhood_cleansed    object\n",
       "experiences_offered       object\n",
       "experiences_count         uint64\n",
       "dtype: object"
      ]
     },
     "execution_count": 74,
     "metadata": {},
     "output_type": "execute_result"
    }
   ],
   "source": [
    "df.dtypes"
   ]
  },
  {
   "cell_type": "code",
   "execution_count": 83,
   "metadata": {},
   "outputs": [],
   "source": [
    "df_pivoted = df.pivot(index='neighbourhood_cleansed', columns='experiences_offered', values='experiences_count')"
   ]
  },
  {
   "cell_type": "code",
   "execution_count": 90,
   "metadata": {},
   "outputs": [
    {
     "data": {
      "text/html": [
       "<div>\n",
       "<style scoped>\n",
       "    .dataframe tbody tr th:only-of-type {\n",
       "        vertical-align: middle;\n",
       "    }\n",
       "\n",
       "    .dataframe tbody tr th {\n",
       "        vertical-align: top;\n",
       "    }\n",
       "\n",
       "    .dataframe thead th {\n",
       "        text-align: right;\n",
       "    }\n",
       "</style>\n",
       "<table border=\"1\" class=\"dataframe\">\n",
       "  <thead>\n",
       "    <tr style=\"text-align: right;\">\n",
       "      <th>experiences_offered</th>\n",
       "      <th>business</th>\n",
       "      <th>family</th>\n",
       "      <th>romantic</th>\n",
       "      <th>social</th>\n",
       "    </tr>\n",
       "    <tr>\n",
       "      <th>neighbourhood_cleansed</th>\n",
       "      <th></th>\n",
       "      <th></th>\n",
       "      <th></th>\n",
       "      <th></th>\n",
       "    </tr>\n",
       "  </thead>\n",
       "  <tbody>\n",
       "    <tr>\n",
       "      <th>Barking and Dagenham</th>\n",
       "      <td>NaN</td>\n",
       "      <td>NaN</td>\n",
       "      <td>NaN</td>\n",
       "      <td>2.0</td>\n",
       "    </tr>\n",
       "    <tr>\n",
       "      <th>Barnet</th>\n",
       "      <td>7.0</td>\n",
       "      <td>7.0</td>\n",
       "      <td>3.0</td>\n",
       "      <td>5.0</td>\n",
       "    </tr>\n",
       "    <tr>\n",
       "      <th>Bexley</th>\n",
       "      <td>1.0</td>\n",
       "      <td>NaN</td>\n",
       "      <td>NaN</td>\n",
       "      <td>NaN</td>\n",
       "    </tr>\n",
       "    <tr>\n",
       "      <th>Brent</th>\n",
       "      <td>9.0</td>\n",
       "      <td>21.0</td>\n",
       "      <td>5.0</td>\n",
       "      <td>6.0</td>\n",
       "    </tr>\n",
       "    <tr>\n",
       "      <th>Bromley</th>\n",
       "      <td>3.0</td>\n",
       "      <td>2.0</td>\n",
       "      <td>NaN</td>\n",
       "      <td>4.0</td>\n",
       "    </tr>\n",
       "    <tr>\n",
       "      <th>Camden</th>\n",
       "      <td>36.0</td>\n",
       "      <td>30.0</td>\n",
       "      <td>19.0</td>\n",
       "      <td>25.0</td>\n",
       "    </tr>\n",
       "    <tr>\n",
       "      <th>City of London</th>\n",
       "      <td>7.0</td>\n",
       "      <td>1.0</td>\n",
       "      <td>NaN</td>\n",
       "      <td>NaN</td>\n",
       "    </tr>\n",
       "    <tr>\n",
       "      <th>Croydon</th>\n",
       "      <td>2.0</td>\n",
       "      <td>3.0</td>\n",
       "      <td>NaN</td>\n",
       "      <td>4.0</td>\n",
       "    </tr>\n",
       "    <tr>\n",
       "      <th>Ealing</th>\n",
       "      <td>6.0</td>\n",
       "      <td>13.0</td>\n",
       "      <td>NaN</td>\n",
       "      <td>5.0</td>\n",
       "    </tr>\n",
       "    <tr>\n",
       "      <th>Enfield</th>\n",
       "      <td>3.0</td>\n",
       "      <td>NaN</td>\n",
       "      <td>NaN</td>\n",
       "      <td>2.0</td>\n",
       "    </tr>\n",
       "    <tr>\n",
       "      <th>Greenwich</th>\n",
       "      <td>9.0</td>\n",
       "      <td>4.0</td>\n",
       "      <td>NaN</td>\n",
       "      <td>5.0</td>\n",
       "    </tr>\n",
       "    <tr>\n",
       "      <th>Hackney</th>\n",
       "      <td>44.0</td>\n",
       "      <td>61.0</td>\n",
       "      <td>25.0</td>\n",
       "      <td>49.0</td>\n",
       "    </tr>\n",
       "    <tr>\n",
       "      <th>Hammersmith and Fulham</th>\n",
       "      <td>48.0</td>\n",
       "      <td>28.0</td>\n",
       "      <td>8.0</td>\n",
       "      <td>22.0</td>\n",
       "    </tr>\n",
       "    <tr>\n",
       "      <th>Haringey</th>\n",
       "      <td>12.0</td>\n",
       "      <td>21.0</td>\n",
       "      <td>4.0</td>\n",
       "      <td>11.0</td>\n",
       "    </tr>\n",
       "    <tr>\n",
       "      <th>Harrow</th>\n",
       "      <td>3.0</td>\n",
       "      <td>NaN</td>\n",
       "      <td>NaN</td>\n",
       "      <td>3.0</td>\n",
       "    </tr>\n",
       "    <tr>\n",
       "      <th>Hounslow</th>\n",
       "      <td>6.0</td>\n",
       "      <td>8.0</td>\n",
       "      <td>NaN</td>\n",
       "      <td>2.0</td>\n",
       "    </tr>\n",
       "    <tr>\n",
       "      <th>Islington</th>\n",
       "      <td>41.0</td>\n",
       "      <td>44.0</td>\n",
       "      <td>20.0</td>\n",
       "      <td>26.0</td>\n",
       "    </tr>\n",
       "    <tr>\n",
       "      <th>Kensington and Chelsea</th>\n",
       "      <td>37.0</td>\n",
       "      <td>32.0</td>\n",
       "      <td>30.0</td>\n",
       "      <td>13.0</td>\n",
       "    </tr>\n",
       "    <tr>\n",
       "      <th>Kingston upon Thames</th>\n",
       "      <td>3.0</td>\n",
       "      <td>4.0</td>\n",
       "      <td>NaN</td>\n",
       "      <td>NaN</td>\n",
       "    </tr>\n",
       "    <tr>\n",
       "      <th>Lambeth</th>\n",
       "      <td>36.0</td>\n",
       "      <td>25.0</td>\n",
       "      <td>11.0</td>\n",
       "      <td>41.0</td>\n",
       "    </tr>\n",
       "    <tr>\n",
       "      <th>Lewisham</th>\n",
       "      <td>11.0</td>\n",
       "      <td>16.0</td>\n",
       "      <td>2.0</td>\n",
       "      <td>10.0</td>\n",
       "    </tr>\n",
       "    <tr>\n",
       "      <th>Merton</th>\n",
       "      <td>3.0</td>\n",
       "      <td>4.0</td>\n",
       "      <td>2.0</td>\n",
       "      <td>3.0</td>\n",
       "    </tr>\n",
       "    <tr>\n",
       "      <th>Newham</th>\n",
       "      <td>9.0</td>\n",
       "      <td>9.0</td>\n",
       "      <td>1.0</td>\n",
       "      <td>9.0</td>\n",
       "    </tr>\n",
       "    <tr>\n",
       "      <th>Redbridge</th>\n",
       "      <td>3.0</td>\n",
       "      <td>5.0</td>\n",
       "      <td>NaN</td>\n",
       "      <td>2.0</td>\n",
       "    </tr>\n",
       "    <tr>\n",
       "      <th>Richmond upon Thames</th>\n",
       "      <td>10.0</td>\n",
       "      <td>7.0</td>\n",
       "      <td>2.0</td>\n",
       "      <td>5.0</td>\n",
       "    </tr>\n",
       "    <tr>\n",
       "      <th>Southwark</th>\n",
       "      <td>24.0</td>\n",
       "      <td>21.0</td>\n",
       "      <td>9.0</td>\n",
       "      <td>34.0</td>\n",
       "    </tr>\n",
       "    <tr>\n",
       "      <th>Sutton</th>\n",
       "      <td>3.0</td>\n",
       "      <td>NaN</td>\n",
       "      <td>NaN</td>\n",
       "      <td>NaN</td>\n",
       "    </tr>\n",
       "    <tr>\n",
       "      <th>Tower Hamlets</th>\n",
       "      <td>58.0</td>\n",
       "      <td>16.0</td>\n",
       "      <td>13.0</td>\n",
       "      <td>46.0</td>\n",
       "    </tr>\n",
       "    <tr>\n",
       "      <th>Waltham Forest</th>\n",
       "      <td>14.0</td>\n",
       "      <td>4.0</td>\n",
       "      <td>NaN</td>\n",
       "      <td>12.0</td>\n",
       "    </tr>\n",
       "    <tr>\n",
       "      <th>Wandsworth</th>\n",
       "      <td>23.0</td>\n",
       "      <td>24.0</td>\n",
       "      <td>13.0</td>\n",
       "      <td>13.0</td>\n",
       "    </tr>\n",
       "    <tr>\n",
       "      <th>Westminster</th>\n",
       "      <td>50.0</td>\n",
       "      <td>37.0</td>\n",
       "      <td>23.0</td>\n",
       "      <td>18.0</td>\n",
       "    </tr>\n",
       "  </tbody>\n",
       "</table>\n",
       "</div>"
      ],
      "text/plain": [
       "experiences_offered     business  family  romantic  social\n",
       "neighbourhood_cleansed                                    \n",
       "Barking and Dagenham         NaN     NaN       NaN     2.0\n",
       "Barnet                       7.0     7.0       3.0     5.0\n",
       "Bexley                       1.0     NaN       NaN     NaN\n",
       "Brent                        9.0    21.0       5.0     6.0\n",
       "Bromley                      3.0     2.0       NaN     4.0\n",
       "Camden                      36.0    30.0      19.0    25.0\n",
       "City of London               7.0     1.0       NaN     NaN\n",
       "Croydon                      2.0     3.0       NaN     4.0\n",
       "Ealing                       6.0    13.0       NaN     5.0\n",
       "Enfield                      3.0     NaN       NaN     2.0\n",
       "Greenwich                    9.0     4.0       NaN     5.0\n",
       "Hackney                     44.0    61.0      25.0    49.0\n",
       "Hammersmith and Fulham      48.0    28.0       8.0    22.0\n",
       "Haringey                    12.0    21.0       4.0    11.0\n",
       "Harrow                       3.0     NaN       NaN     3.0\n",
       "Hounslow                     6.0     8.0       NaN     2.0\n",
       "Islington                   41.0    44.0      20.0    26.0\n",
       "Kensington and Chelsea      37.0    32.0      30.0    13.0\n",
       "Kingston upon Thames         3.0     4.0       NaN     NaN\n",
       "Lambeth                     36.0    25.0      11.0    41.0\n",
       "Lewisham                    11.0    16.0       2.0    10.0\n",
       "Merton                       3.0     4.0       2.0     3.0\n",
       "Newham                       9.0     9.0       1.0     9.0\n",
       "Redbridge                    3.0     5.0       NaN     2.0\n",
       "Richmond upon Thames        10.0     7.0       2.0     5.0\n",
       "Southwark                   24.0    21.0       9.0    34.0\n",
       "Sutton                       3.0     NaN       NaN     NaN\n",
       "Tower Hamlets               58.0    16.0      13.0    46.0\n",
       "Waltham Forest              14.0     4.0       NaN    12.0\n",
       "Wandsworth                  23.0    24.0      13.0    13.0\n",
       "Westminster                 50.0    37.0      23.0    18.0"
      ]
     },
     "execution_count": 90,
     "metadata": {},
     "output_type": "execute_result"
    }
   ],
   "source": [
    "df_pivoted"
   ]
  },
  {
   "cell_type": "code",
   "execution_count": 93,
   "metadata": {},
   "outputs": [
    {
     "data": {
      "text/plain": [
       "<AxesSubplot:xlabel='experiences_offered', ylabel='neighbourhood_cleansed'>"
      ]
     },
     "execution_count": 93,
     "metadata": {},
     "output_type": "execute_result"
    },
    {
     "data": {
      "image/png": "[encoded data removed]",
      "text/plain": [
       "<Figure size 720x720 with 2 Axes>"
      ]
     },
     "metadata": {},
     "output_type": "display_data"
    }
   ],
   "source": [
    "sns.set(\n",
    "    font_scale = 1,\n",
    "    style      = \"ticks\",\n",
    "    rc         = {'figure.figsize':(10,10)}\n",
    ")\n",
    "\n",
    "sns.heatmap(data = df_pivoted, cmap=sns.cubehelix_palette(as_cmap=True), xticklabels=True, yticklabels=True)"
   ]
  },
  {
   "cell_type": "markdown",
   "metadata": {},
   "source": [
    "step 7 <a href=\"https://lab.karpov.courses/learning/85/module/1058/lesson/9062/26606/118460/\">link</a>\n",
    "<br>Выгрузите данные о ценах за ночь для разных типов жилья, для которых также доступен какой-либо вид впечатления. Необходимые для составления запроса столбцы:\n",
    "\n",
    "room_type – тип сдаваемого жилья (доступные варианты: Entire home/apt, Private room, Hotel room, Shared room)\n",
    "<br>price – цена за ночь \n",
    "<br>experiences_offered – вид доступного впечатления (оставить не 'none')\n",
    "<br>Пример части результирующей таблицы:\n",
    "\n",
    "<pre>\n",
    "    <code>\n",
    "+-----------------+------------+\n",
    "| room_type       | price_corr |\n",
    "+-----------------+------------+\n",
    "| Private room    |         65 |\n",
    "| Entire home/apt |        100 |\n",
    "| Entire home/apt |        ... |\n",
    "+-----------------+------------+\n",
    "    </code>\n",
    "</pre>\n",
    "\n",
    "Далее постройте два графика, используя distplot из библиотеки seaborn:\n",
    "\n",
    "На первом отобразите исходные распределения цен для каждого типа жилья\n",
    "<br>На втором – логарифмированные значения (np.log())"
   ]
  },
  {
   "cell_type": "code",
   "execution_count": 127,
   "metadata": {},
   "outputs": [
    {
     "data": {
      "text/html": [
       "<div>\n",
       "<style scoped>\n",
       "    .dataframe tbody tr th:only-of-type {\n",
       "        vertical-align: middle;\n",
       "    }\n",
       "\n",
       "    .dataframe tbody tr th {\n",
       "        vertical-align: top;\n",
       "    }\n",
       "\n",
       "    .dataframe thead th {\n",
       "        text-align: right;\n",
       "    }\n",
       "</style>\n",
       "<table border=\"1\" class=\"dataframe\">\n",
       "  <thead>\n",
       "    <tr style=\"text-align: right;\">\n",
       "      <th></th>\n",
       "      <th>room_type</th>\n",
       "      <th>price_f</th>\n",
       "    </tr>\n",
       "  </thead>\n",
       "  <tbody>\n",
       "    <tr>\n",
       "      <th>0</th>\n",
       "      <td>Private room</td>\n",
       "      <td>65.0</td>\n",
       "    </tr>\n",
       "    <tr>\n",
       "      <th>1</th>\n",
       "      <td>Entire home/apt</td>\n",
       "      <td>100.0</td>\n",
       "    </tr>\n",
       "    <tr>\n",
       "      <th>2</th>\n",
       "      <td>Private room</td>\n",
       "      <td>150.0</td>\n",
       "    </tr>\n",
       "    <tr>\n",
       "      <th>3</th>\n",
       "      <td>Private room</td>\n",
       "      <td>45.0</td>\n",
       "    </tr>\n",
       "    <tr>\n",
       "      <th>4</th>\n",
       "      <td>Private room</td>\n",
       "      <td>25.0</td>\n",
       "    </tr>\n",
       "  </tbody>\n",
       "</table>\n",
       "</div>"
      ],
      "text/plain": [
       "         room_type  price_f\n",
       "0     Private room     65.0\n",
       "1  Entire home/apt    100.0\n",
       "2     Private room    150.0\n",
       "3     Private room     45.0\n",
       "4     Private room     25.0"
      ]
     },
     "execution_count": 127,
     "metadata": {},
     "output_type": "execute_result"
    }
   ],
   "source": [
    "query = \"\"\"\n",
    "SELECT\n",
    "    room_type\n",
    "    , toFloat32OrNull(replaceRegexpAll(price, '[$,]', '')) AS price_f\n",
    "    \n",
    "FROM default.ldn_listings\n",
    "\n",
    "WHERE experiences_offered != 'none'\n",
    "\"\"\"\n",
    "\n",
    "df = ph.read_clickhouse(query=query, connection=connection)\n",
    "df.head()"
   ]
  },
  {
   "cell_type": "code",
   "execution_count": 97,
   "metadata": {},
   "outputs": [
    {
     "data": {
      "text/plain": [
       "room_type     object\n",
       "price_f      float32\n",
       "dtype: object"
      ]
     },
     "execution_count": 97,
     "metadata": {},
     "output_type": "execute_result"
    }
   ],
   "source": [
    "df.dtypes"
   ]
  },
  {
   "cell_type": "code",
   "execution_count": 115,
   "metadata": {},
   "outputs": [],
   "source": [
    "sns.set(\n",
    "    font_scale =1,\n",
    "    style      =\"whitegrid\",\n",
    "    rc         ={'figure.figsize':(20,7)}\n",
    ")"
   ]
  },
  {
   "cell_type": "code",
   "execution_count": 128,
   "metadata": {},
   "outputs": [
    {
     "data": {
      "text/plain": [
       "<seaborn.axisgrid.FacetGrid at 0x7ff104e62c40>"
      ]
     },
     "execution_count": 128,
     "metadata": {},
     "output_type": "execute_result"
    },
    {
     "data": {
      "image/png": "[encoded data removed]",
      "text/plain": [
       "<Figure size 873.475x504 with 1 Axes>"
      ]
     },
     "metadata": {},
     "output_type": "display_data"
    }
   ],
   "source": [
    "sns.displot(data = df, x='price_f', hue='room_type', height=7, aspect=1.5)"
   ]
  },
  {
   "cell_type": "code",
   "execution_count": 129,
   "metadata": {},
   "outputs": [
    {
     "data": {
      "text/plain": [
       "<seaborn.axisgrid.FacetGrid at 0x7ff0e8c9a850>"
      ]
     },
     "execution_count": 129,
     "metadata": {},
     "output_type": "execute_result"
    },
    {
     "data": {
      "image/png": "[encoded data removed]",
      "text/plain": [
       "<Figure size 873.475x504 with 1 Axes>"
      ]
     },
     "metadata": {},
     "output_type": "display_data"
    }
   ],
   "source": [
    "sns.displot(data = df, x='price_f', hue='room_type', log_scale=True, height=7, aspect=1.5)"
   ]
  },
  {
   "cell_type": "code",
   "execution_count": 130,
   "metadata": {},
   "outputs": [
    {
     "name": "stderr",
     "output_type": "stream",
     "text": [
      "/opt/anaconda3/lib/python3.8/site-packages/seaborn/distributions.py:2557: FutureWarning: `distplot` is a deprecated function and will be removed in a future version. Please adapt your code to use either `displot` (a figure-level function with similar flexibility) or `histplot` (an axes-level function for histograms).\n",
      "  warnings.warn(msg, FutureWarning)\n"
     ]
    },
    {
     "data": {
      "image/png": "[encoded data removed]",
      "text/plain": [
       "<Figure size 1440x504 with 1 Axes>"
      ]
     },
     "metadata": {},
     "output_type": "display_data"
    }
   ],
   "source": [
    "sns.distplot(df.query(\"room_type=='Entire home/apt'\").price_f, kde=False, label='Entire home/apt')\n",
    "sns.distplot(df.query(\"room_type=='Private room'\").price_f, kde=False, label='Private room')\n",
    "sns.distplot(df.query(\"room_type=='Hotel room'\").price_f, kde=False, label='Hotel room')\n",
    "sns.distplot(df.query(\"room_type=='Shared room'\").price_f, kde=False, label='Shared room')\n",
    "plt.legend()\n",
    "plt.show()"
   ]
  },
  {
   "cell_type": "code",
   "execution_count": 131,
   "metadata": {},
   "outputs": [
    {
     "data": {
      "image/png": "[encoded data removed]",
      "text/plain": [
       "<Figure size 1440x504 with 1 Axes>"
      ]
     },
     "metadata": {},
     "output_type": "display_data"
    }
   ],
   "source": [
    "sns.distplot(np.log(df.query(\"room_type=='Entire home/apt'\").price_f), kde=False, label='Entire home/apt')\n",
    "sns.distplot(np.log(df.query(\"room_type=='Private room'\").price_f), kde=False, label='Private room')\n",
    "sns.distplot(np.log(df.query(\"room_type=='Hotel room'\").price_f), kde=False, label='Hotel room')\n",
    "sns.distplot(np.log(df.query(\"room_type=='Shared room'\").price_f), kde=False, label='Shared room')\n",
    "plt.legend()\n",
    "plt.show()"
   ]
  },
  {
   "cell_type": "markdown",
   "metadata": {},
   "source": [
    "step 8 <a href=\"https://lab.karpov.courses/learning/85/module/1058/lesson/9062/26606/118461/\">link</a>\n",
    "<br>Выгрузите данные о цене, типе жилья и дате первого отзыва, начиная со 2 января 2010 года. Необходимые столбцы:\n",
    "\n",
    "room_type – тип сдаваемого жилья (доступные варианты: Entire home/apt, Private room, Hotel room, Shared room)\n",
    "<br>price – цена за ночь\n",
    "<br>first_review – дата первого отзыва (отфильтровать по правилу \"строго больше 2010-01-01\")\n",
    "<br>Ограничение поставьте на 1000 строк.\n",
    "\n",
    "Пример результирующей таблицы:\n",
    "\n",
    "<pre>\n",
    "    <code>\n",
    "+-----------------+------------+------------+\n",
    "| room_type       | price_corr |first_review|\n",
    "+-----------------+------------+------------+\n",
    "| Private room    |         65 | 2010-03-23 |\n",
    "| Entire home/apt |        100 | 2012-01-01 |\n",
    "+-----------------+------------+------------+\n",
    "    </code>\n",
    "</pre>\n",
    "\n",
    "Используя библиотеку seaborn и функцию lineplot, постройте график динамики средних цен на жилье (ось Y) в зависимости от типа комнаты (цвет линии, параметр 'hue') по годам (ось X). Датафрейм должен быть отсортирован по годам.\n",
    "\n",
    "Пример датафрейма, который будет служить основой для графика:\n",
    "<pre>\n",
    "    <code>\n",
    "+-----------------+------------+------------+\n",
    "| room_type       | avg_price  | year       |\n",
    "+-----------------+------------+------------+\n",
    "| Private room    |         54 | 2010       |\n",
    "| Entire home/apt |        168 | 2012       |\n",
    "+-----------------+------------+------------+\n",
    "    </code>\n",
    "</pre>\n",
    "\n",
    "Hints: line plot; удалите последние 6 символов у значений в столбце даты, чтобы получить год, например, с помощью применения lambda-функции ."
   ]
  },
  {
   "cell_type": "code",
   "execution_count": 132,
   "metadata": {},
   "outputs": [
    {
     "data": {
      "text/html": [
       "<div>\n",
       "<style scoped>\n",
       "    .dataframe tbody tr th:only-of-type {\n",
       "        vertical-align: middle;\n",
       "    }\n",
       "\n",
       "    .dataframe tbody tr th {\n",
       "        vertical-align: top;\n",
       "    }\n",
       "\n",
       "    .dataframe thead th {\n",
       "        text-align: right;\n",
       "    }\n",
       "</style>\n",
       "<table border=\"1\" class=\"dataframe\">\n",
       "  <thead>\n",
       "    <tr style=\"text-align: right;\">\n",
       "      <th></th>\n",
       "      <th>room_type</th>\n",
       "      <th>price_f</th>\n",
       "      <th>first_review</th>\n",
       "    </tr>\n",
       "  </thead>\n",
       "  <tbody>\n",
       "    <tr>\n",
       "      <th>0</th>\n",
       "      <td>Private room</td>\n",
       "      <td>65.0</td>\n",
       "      <td>2010-08-18</td>\n",
       "    </tr>\n",
       "    <tr>\n",
       "      <th>1</th>\n",
       "      <td>Entire home/apt</td>\n",
       "      <td>300.0</td>\n",
       "      <td>2011-03-21</td>\n",
       "    </tr>\n",
       "    <tr>\n",
       "      <th>2</th>\n",
       "      <td>Entire home/apt</td>\n",
       "      <td>65.0</td>\n",
       "      <td>2016-03-05</td>\n",
       "    </tr>\n",
       "    <tr>\n",
       "      <th>3</th>\n",
       "      <td>Private room</td>\n",
       "      <td>29.0</td>\n",
       "      <td>2010-04-14</td>\n",
       "    </tr>\n",
       "    <tr>\n",
       "      <th>4</th>\n",
       "      <td>Private room</td>\n",
       "      <td>100.0</td>\n",
       "      <td>2010-10-16</td>\n",
       "    </tr>\n",
       "  </tbody>\n",
       "</table>\n",
       "</div>"
      ],
      "text/plain": [
       "         room_type  price_f first_review\n",
       "0     Private room     65.0   2010-08-18\n",
       "1  Entire home/apt    300.0   2011-03-21\n",
       "2  Entire home/apt     65.0   2016-03-05\n",
       "3     Private room     29.0   2010-04-14\n",
       "4     Private room    100.0   2010-10-16"
      ]
     },
     "execution_count": 132,
     "metadata": {},
     "output_type": "execute_result"
    }
   ],
   "source": [
    "query = \"\"\"\n",
    "SELECT\n",
    "    room_type\n",
    "    , toFloat32OrNull(replaceRegexpAll(price, '[$,]', '')) AS price_f\n",
    "    , first_review\n",
    "    \n",
    "FROM default.ldn_listings\n",
    "\n",
    "WHERE first_review > '2010-01-01'\n",
    "\n",
    "LIMIT 1000\n",
    "\"\"\"\n",
    "\n",
    "df = ph.read_clickhouse(query=query, connection=connection)\n",
    "df.head()"
   ]
  },
  {
   "cell_type": "code",
   "execution_count": 133,
   "metadata": {},
   "outputs": [
    {
     "data": {
      "text/plain": [
       "room_type        object\n",
       "price_f         float32\n",
       "first_review     object\n",
       "dtype: object"
      ]
     },
     "execution_count": 133,
     "metadata": {},
     "output_type": "execute_result"
    }
   ],
   "source": [
    "df.dtypes"
   ]
  },
  {
   "cell_type": "code",
   "execution_count": 139,
   "metadata": {},
   "outputs": [],
   "source": [
    "df.first_review = df.first_review.str.slice(0,4)"
   ]
  },
  {
   "cell_type": "code",
   "execution_count": 143,
   "metadata": {},
   "outputs": [],
   "source": [
    "df_room_year = df.groupby(by=['room_type', 'first_review'], as_index=False) \\\n",
    "    .agg({'price_f':'mean'}) \\\n",
    "    .rename(columns={'price_f':'avg_price', 'first_review':'year'})"
   ]
  },
  {
   "cell_type": "code",
   "execution_count": 144,
   "metadata": {},
   "outputs": [
    {
     "data": {
      "text/plain": [
       "<AxesSubplot:xlabel='year', ylabel='avg_price'>"
      ]
     },
     "execution_count": 144,
     "metadata": {},
     "output_type": "execute_result"
    },
    {
     "data": {
      "image/png": "[encoded data removed]",
      "text/plain": [
       "<Figure size 1440x504 with 1 Axes>"
      ]
     },
     "metadata": {},
     "output_type": "display_data"
    }
   ],
   "source": [
    "sns.lineplot(data=df_room_year, x='year', y='avg_price', hue='room_type')"
   ]
  },
  {
   "cell_type": "code",
   "execution_count": null,
   "metadata": {},
   "outputs": [],
   "source": []
  }
 ],
 "metadata": {
  "interpreter": {
   "hash": "40d3a090f54c6569ab1632332b64b2c03c39dcf918b08424e98f38b5ae0af88f"
  },
  "kernelspec": {
   "display_name": "Python 3.8.8 64-bit ('base': conda)",
   "language": "python",
   "name": "python3"
  },
  "language_info": {
   "codemirror_mode": {
    "name": "ipython",
    "version": 3
   },
   "file_extension": ".py",
   "mimetype": "text/x-python",
   "name": "python",
   "nbconvert_exporter": "python",
   "pygments_lexer": "ipython3",
   "version": "3.8.8"
  },
  "orig_nbformat": 4
 },
 "nbformat": 4,
 "nbformat_minor": 2
}
