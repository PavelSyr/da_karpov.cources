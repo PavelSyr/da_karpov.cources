{
 "cells": [
  {
   "cell_type": "code",
   "execution_count": 2,
   "id": "7d9064b2-c9be-4ea4-85ba-edbd12d66883",
   "metadata": {},
   "outputs": [
    {
     "name": "stdout",
     "output_type": "stream",
     "text": [
      "Collecting pandahouse\n",
      "  Downloading pandahouse-0.2.7.tar.gz (21 kB)\n",
      "Requirement already satisfied: pandas in c:\\users\\psyrnev\\anaconda3\\lib\\site-packages (from pandahouse) (1.2.4)\n",
      "Requirement already satisfied: requests in c:\\users\\psyrnev\\anaconda3\\lib\\site-packages (from pandahouse) (2.25.1)\n",
      "Requirement already satisfied: toolz in c:\\users\\psyrnev\\anaconda3\\lib\\site-packages (from pandahouse) (0.11.1)\n",
      "Requirement already satisfied: pytz>=2017.3 in c:\\users\\psyrnev\\anaconda3\\lib\\site-packages (from pandas->pandahouse) (2021.1)\n",
      "Requirement already satisfied: python-dateutil>=2.7.3 in c:\\users\\psyrnev\\anaconda3\\lib\\site-packages (from pandas->pandahouse) (2.8.1)\n",
      "Requirement already satisfied: numpy>=1.16.5 in c:\\users\\psyrnev\\anaconda3\\lib\\site-packages (from pandas->pandahouse) (1.20.1)\n",
      "Requirement already satisfied: six>=1.5 in c:\\users\\psyrnev\\anaconda3\\lib\\site-packages (from python-dateutil>=2.7.3->pandas->pandahouse) (1.15.0)\n",
      "Requirement already satisfied: chardet<5,>=3.0.2 in c:\\users\\psyrnev\\anaconda3\\lib\\site-packages (from requests->pandahouse) (4.0.0)\n",
      "Requirement already satisfied: idna<3,>=2.5 in c:\\users\\psyrnev\\anaconda3\\lib\\site-packages (from requests->pandahouse) (2.10)\n",
      "Requirement already satisfied: certifi>=2017.4.17 in c:\\users\\psyrnev\\anaconda3\\lib\\site-packages (from requests->pandahouse) (2020.12.5)\n",
      "Requirement already satisfied: urllib3<1.27,>=1.21.1 in c:\\users\\psyrnev\\anaconda3\\lib\\site-packages (from requests->pandahouse) (1.26.4)\n",
      "Building wheels for collected packages: pandahouse\n",
      "  Building wheel for pandahouse (setup.py): started\n",
      "  Building wheel for pandahouse (setup.py): finished with status 'done'\n",
      "  Created wheel for pandahouse: filename=pandahouse-0.2.7-py2.py3-none-any.whl size=5928 sha256=d407f7d002374429c303f3e3b2f11be20d25964b1ec5a317e7e18eb6072fedd7\n",
      "  Stored in directory: c:\\users\\psyrnev\\appdata\\local\\pip\\cache\\wheels\\ac\\4c\\5e\\db329483558c567308a40daf28533f98982d8f0e2443bb1ebd\n",
      "Successfully built pandahouse\n",
      "Installing collected packages: pandahouse\n",
      "Successfully installed pandahouse-0.2.7\n"
     ]
    }
   ],
   "source": [
    "!pip install pandahouse"
   ]
  },
  {
   "cell_type": "code",
   "execution_count": 3,
   "id": "00529af6-63e4-46c8-ae67-8fa00d5a7001",
   "metadata": {},
   "outputs": [],
   "source": [
    "import pandas as pd\n",
    "import numpy as np\n",
    "import pandahouse as ph\n",
    "import json"
   ]
  },
  {
   "cell_type": "code",
   "execution_count": 18,
   "id": "e36fe5cc-2bdc-4b83-a8f1-3266f071b947",
   "metadata": {},
   "outputs": [
    {
     "name": "stdout",
     "output_type": "stream",
     "text": [
      "host: https://clickhouse.lab.karpov.courses\n",
      "user: student\n",
      "database: default\n"
     ]
    }
   ],
   "source": [
    "# read clickhouse connection info from file\n",
    "# connection-student-config.json has to be like:\n",
    "# {\n",
    "#     'host': 'http://clickhouse.beslan.pro:8080',\n",
    "#     'database':'default',\n",
    "#     'user':'student', \n",
    "#     'password':'*******'\n",
    "# }\n",
    "connection_path = './creds/connection-student-config.json'\n",
    "with open(connection_path) as json_file:\n",
    "    connection = json.load(json_file)\n",
    "\n",
    "host = connection['host']\n",
    "user = connection['user']\n",
    "db = connection['database']\n",
    "print(f'host: {host}\\nuser: {user}\\ndatabase: {db}')"
   ]
  },
  {
   "cell_type": "markdown",
   "id": "19e5dc21-ea9e-48d9-926d-cfba9581188f",
   "metadata": {},
   "source": [
    "take data from one repository"
   ]
  },
  {
   "cell_type": "code",
   "execution_count": 12,
   "id": "146c4258-4413-4ff5-abb4-6b07ee56f62a",
   "metadata": {},
   "outputs": [],
   "source": [
    "query = \"\"\"\n",
    "SELECT \n",
    "    InvoiceNo\n",
    "    , StockCode\n",
    "    , Description\n",
    "    , Quantity\n",
    "    , toString(InvoiceDate) AS InvoiceDate \n",
    "    , toFloat64(UnitPrice) AS UnitPrice \n",
    "    , CustomerID\n",
    "    , Country\n",
    "FROM default.retail\n",
    "LIMIT 100\n",
    "\"\"\"\n",
    "df = ph.read_clickhouse(query, connection=connection)"
   ]
  },
  {
   "cell_type": "code",
   "execution_count": 13,
   "id": "5db5ffc1-9c88-4c02-a007-fa2b2116c07a",
   "metadata": {},
   "outputs": [
    {
     "data": {
      "text/plain": [
       "InvoiceNo       object\n",
       "StockCode       object\n",
       "Description     object\n",
       "Quantity         int32\n",
       "InvoiceDate     object\n",
       "UnitPrice      float64\n",
       "CustomerID      uint32\n",
       "Country         object\n",
       "dtype: object"
      ]
     },
     "execution_count": 13,
     "metadata": {},
     "output_type": "execute_result"
    }
   ],
   "source": [
    "df.dtypes"
   ]
  },
  {
   "cell_type": "code",
   "execution_count": null,
   "id": "387b997a-828b-4f47-9c24-7bd91f527c5a",
   "metadata": {},
   "outputs": [],
   "source": []
  },
  {
   "cell_type": "code",
   "execution_count": 30,
   "id": "675010ec-8e8e-47eb-aad8-61b8f5360f8d",
   "metadata": {},
   "outputs": [
    {
     "name": "stdout",
     "output_type": "stream",
     "text": [
      "host: https://clickhouse.lab.karpov.courses\n",
      "user: student-rw\n",
      "database: test\n"
     ]
    }
   ],
   "source": [
    "# read clickhouse connection info from file\n",
    "# connection-student-config.json has to be like:\n",
    "# {\n",
    "#     'host': 'http://clickhouse.beslan.pro:8080',\n",
    "#     'database':'test',\n",
    "#     'user':'student-rw', \n",
    "#     'password':'*******'\n",
    "# }\n",
    "connection_path = './creds/connection-student-rw-config.json'\n",
    "with open(connection_path) as json_file:\n",
    "    connection = json.load(json_file)\n",
    "    \n",
    "host = connection['host']\n",
    "user = connection['user']\n",
    "db = connection['database']\n",
    "print(f'host: {host}\\nuser: {user}\\ndatabase: {db}')"
   ]
  },
  {
   "cell_type": "code",
   "execution_count": 28,
   "id": "e8dc4703-a5f4-437d-969b-80e0a4f19e13",
   "metadata": {},
   "outputs": [],
   "source": [
    "# Execute this query in tabix\n",
    "# query = \"\"\"\n",
    "# CREATE TABLE IF NOT EXISTS test.retail_psyrnev_701\n",
    "# ( \n",
    "#     InvoiceNo String\n",
    "#     , StockCode String\n",
    "#     , Description String\n",
    "#     , Quantity Int32\n",
    "#     , InvoiceDate DateTime('Europe/London')\n",
    "#     , UnitPrice Decimal64(3)\n",
    "#     , CustomerID UInt32\n",
    "#     , Country String\n",
    "# ) ENGINE = MergeTree\n",
    "# ORDER BY (InvoiceDate, CustomerID)\n",
    "# \"\"\"\n",
    "\n",
    "# ph.read_clickhouse(query = query, connection=connection)"
   ]
  },
  {
   "cell_type": "code",
   "execution_count": 33,
   "id": "65dd5355-3437-43d3-9c8a-e93c26b259b1",
   "metadata": {},
   "outputs": [
    {
     "ename": "UnicodeDecodeError",
     "evalue": "'utf-8' codec can't decode byte 0x8b in position 1: invalid start byte",
     "output_type": "error",
     "traceback": [
      "\u001b[1;31m---------------------------------------------------------------------------\u001b[0m",
      "\u001b[1;31mUnicodeDecodeError\u001b[0m                        Traceback (most recent call last)",
      "\u001b[1;32m<ipython-input-33-f76e8526d55d>\u001b[0m in \u001b[0;36m<module>\u001b[1;34m\u001b[0m\n\u001b[0;32m     14\u001b[0m \"\"\"\n\u001b[0;32m     15\u001b[0m \u001b[1;33m\u001b[0m\u001b[0m\n\u001b[1;32m---> 16\u001b[1;33m \u001b[0mdf_rw\u001b[0m \u001b[1;33m=\u001b[0m \u001b[0mph\u001b[0m\u001b[1;33m.\u001b[0m\u001b[0mread_clickhouse\u001b[0m\u001b[1;33m(\u001b[0m\u001b[0mquery\u001b[0m\u001b[1;33m,\u001b[0m \u001b[0mconnection\u001b[0m\u001b[1;33m=\u001b[0m\u001b[0mconnection\u001b[0m\u001b[1;33m)\u001b[0m\u001b[1;33m\u001b[0m\u001b[1;33m\u001b[0m\u001b[0m\n\u001b[0m",
      "\u001b[1;32m~\\anaconda3\\lib\\site-packages\\pandahouse\\core.py\u001b[0m in \u001b[0;36mread_clickhouse\u001b[1;34m(query, tables, index, connection, **kwargs)\u001b[0m\n\u001b[0;32m     56\u001b[0m     lines = execute(query, external=external, stream=True,\n\u001b[0;32m     57\u001b[0m                     connection=connection)\n\u001b[1;32m---> 58\u001b[1;33m     \u001b[1;32mreturn\u001b[0m \u001b[0mto_dataframe\u001b[0m\u001b[1;33m(\u001b[0m\u001b[0mlines\u001b[0m\u001b[1;33m,\u001b[0m \u001b[1;33m**\u001b[0m\u001b[0mkwargs\u001b[0m\u001b[1;33m)\u001b[0m\u001b[1;33m\u001b[0m\u001b[1;33m\u001b[0m\u001b[0m\n\u001b[0m\u001b[0;32m     59\u001b[0m \u001b[1;33m\u001b[0m\u001b[0m\n\u001b[0;32m     60\u001b[0m \u001b[1;33m\u001b[0m\u001b[0m\n",
      "\u001b[1;32m~\\anaconda3\\lib\\site-packages\\pandahouse\\convert.py\u001b[0m in \u001b[0;36mto_dataframe\u001b[1;34m(lines, **kwargs)\u001b[0m\n\u001b[0;32m     60\u001b[0m \u001b[1;33m\u001b[0m\u001b[0m\n\u001b[0;32m     61\u001b[0m \u001b[1;32mdef\u001b[0m \u001b[0mto_dataframe\u001b[0m\u001b[1;33m(\u001b[0m\u001b[0mlines\u001b[0m\u001b[1;33m,\u001b[0m \u001b[1;33m**\u001b[0m\u001b[0mkwargs\u001b[0m\u001b[1;33m)\u001b[0m\u001b[1;33m:\u001b[0m\u001b[1;33m\u001b[0m\u001b[1;33m\u001b[0m\u001b[0m\n\u001b[1;32m---> 62\u001b[1;33m     \u001b[0mnames\u001b[0m \u001b[1;33m=\u001b[0m \u001b[0mlines\u001b[0m\u001b[1;33m.\u001b[0m\u001b[0mreadline\u001b[0m\u001b[1;33m(\u001b[0m\u001b[1;33m)\u001b[0m\u001b[1;33m.\u001b[0m\u001b[0mdecode\u001b[0m\u001b[1;33m(\u001b[0m\u001b[1;34m'utf-8'\u001b[0m\u001b[1;33m)\u001b[0m\u001b[1;33m.\u001b[0m\u001b[0mstrip\u001b[0m\u001b[1;33m(\u001b[0m\u001b[1;33m)\u001b[0m\u001b[1;33m.\u001b[0m\u001b[0msplit\u001b[0m\u001b[1;33m(\u001b[0m\u001b[1;34m'\\t'\u001b[0m\u001b[1;33m)\u001b[0m\u001b[1;33m\u001b[0m\u001b[1;33m\u001b[0m\u001b[0m\n\u001b[0m\u001b[0;32m     63\u001b[0m     \u001b[0mtypes\u001b[0m \u001b[1;33m=\u001b[0m \u001b[0mlines\u001b[0m\u001b[1;33m.\u001b[0m\u001b[0mreadline\u001b[0m\u001b[1;33m(\u001b[0m\u001b[1;33m)\u001b[0m\u001b[1;33m.\u001b[0m\u001b[0mdecode\u001b[0m\u001b[1;33m(\u001b[0m\u001b[1;34m'utf-8'\u001b[0m\u001b[1;33m)\u001b[0m\u001b[1;33m.\u001b[0m\u001b[0mstrip\u001b[0m\u001b[1;33m(\u001b[0m\u001b[1;33m)\u001b[0m\u001b[1;33m.\u001b[0m\u001b[0msplit\u001b[0m\u001b[1;33m(\u001b[0m\u001b[1;34m'\\t'\u001b[0m\u001b[1;33m)\u001b[0m\u001b[1;33m\u001b[0m\u001b[1;33m\u001b[0m\u001b[0m\n\u001b[0;32m     64\u001b[0m \u001b[1;33m\u001b[0m\u001b[0m\n",
      "\u001b[1;31mUnicodeDecodeError\u001b[0m: 'utf-8' codec can't decode byte 0x8b in position 1: invalid start byte"
     ]
    }
   ],
   "source": [
    "#try to take data\n",
    "quary = \"\"\"\n",
    "SELECT \n",
    "    InvoiceNo\n",
    "    , StockCode\n",
    "    , Description\n",
    "    , Quantity\n",
    "    , toString(InvoiceDate) AS InvoiceDate \n",
    "    , toFloat64(UnitPrice) AS UnitPrice \n",
    "    , CustomerID\n",
    "    , Country\n",
    "FROM test.retail_psyrnev_701\n",
    "LIMIT 100\n",
    "\"\"\"\n",
    "\n",
    "df_rw = ph.read_clickhouse(query, connection=connection)"
   ]
  },
  {
   "cell_type": "code",
   "execution_count": 35,
   "id": "46a45092-997b-49dd-8731-3aa80861afe8",
   "metadata": {},
   "outputs": [
    {
     "ename": "AttributeError",
     "evalue": "module 'pandahouse' has no attribute 'insert_dataframe'",
     "output_type": "error",
     "traceback": [
      "\u001b[1;31m---------------------------------------------------------------------------\u001b[0m",
      "\u001b[1;31mAttributeError\u001b[0m                            Traceback (most recent call last)",
      "\u001b[1;32m<ipython-input-35-57822c352ed9>\u001b[0m in \u001b[0;36m<module>\u001b[1;34m\u001b[0m\n\u001b[0;32m      3\u001b[0m \"\"\"\n\u001b[0;32m      4\u001b[0m \u001b[1;33m\u001b[0m\u001b[0m\n\u001b[1;32m----> 5\u001b[1;33m \u001b[0mph\u001b[0m\u001b[1;33m.\u001b[0m\u001b[0minsert_dataframe\u001b[0m\u001b[1;33m(\u001b[0m\u001b[0mquary\u001b[0m\u001b[1;33m=\u001b[0m\u001b[0mquary\u001b[0m\u001b[1;33m,\u001b[0m \u001b[0mdataframe\u001b[0m\u001b[1;33m=\u001b[0m\u001b[0mdf\u001b[0m\u001b[1;33m)\u001b[0m\u001b[1;33m\u001b[0m\u001b[1;33m\u001b[0m\u001b[0m\n\u001b[0m",
      "\u001b[1;31mAttributeError\u001b[0m: module 'pandahouse' has no attribute 'insert_dataframe'"
     ]
    }
   ],
   "source": [
    "query=\"\"\"\n",
    "INSERN INTO test.retail_psyrnev_701\n",
    "\"\"\"\n",
    "\n",
    "ph.insert_dataframe(quary=quary, dataframe=df)"
   ]
  }
 ],
 "metadata": {
  "kernelspec": {
   "display_name": "Python 3",
   "language": "python",
   "name": "python3"
  },
  "language_info": {
   "codemirror_mode": {
    "name": "ipython",
    "version": 3
   },
   "file_extension": ".py",
   "mimetype": "text/x-python",
   "name": "python",
   "nbconvert_exporter": "python",
   "pygments_lexer": "ipython3",
   "version": "3.8.8"
  }
 },
 "nbformat": 4,
 "nbformat_minor": 5
}
