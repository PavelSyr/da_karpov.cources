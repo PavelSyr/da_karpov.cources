{
 "cells": [
  {
   "cell_type": "code",
   "execution_count": 88,
   "metadata": {},
   "outputs": [],
   "source": [
    "import pandas as pd\n",
    "import numpy as np\n",
    "from io import StringIO\n",
    "from datetime import date\n",
    "\n",
    "import requests"
   ]
  },
  {
   "cell_type": "markdown",
   "metadata": {},
   "source": [
    "### Сначала определим год, за какой будем смотреть данные."
   ]
  },
  {
   "cell_type": "code",
   "execution_count": 4,
   "metadata": {},
   "outputs": [],
   "source": [
    "login = 'p-syrnev'"
   ]
  },
  {
   "cell_type": "code",
   "execution_count": 7,
   "metadata": {},
   "outputs": [],
   "source": [
    "target_year = 1994 + hash(f'{login}') % 23"
   ]
  },
  {
   "cell_type": "code",
   "execution_count": 9,
   "metadata": {},
   "outputs": [
    {
     "name": "stdout",
     "output_type": "stream",
     "text": [
      "будем смотреть данные за 2002u\n"
     ]
    }
   ],
   "source": [
    "print(f'будем смотреть данные за {target_year}г.')"
   ]
  },
  {
   "cell_type": "markdown",
   "metadata": {},
   "source": [
    "### Task 1, load data"
   ]
  },
  {
   "cell_type": "code",
   "execution_count": 15,
   "metadata": {},
   "outputs": [],
   "source": [
    "df = pd.read_csv('vgsales.csv')"
   ]
  },
  {
   "cell_type": "code",
   "execution_count": 16,
   "metadata": {},
   "outputs": [
    {
     "data": {
      "text/html": [
       "<div>\n",
       "<style scoped>\n",
       "    .dataframe tbody tr th:only-of-type {\n",
       "        vertical-align: middle;\n",
       "    }\n",
       "\n",
       "    .dataframe tbody tr th {\n",
       "        vertical-align: top;\n",
       "    }\n",
       "\n",
       "    .dataframe thead th {\n",
       "        text-align: right;\n",
       "    }\n",
       "</style>\n",
       "<table border=\"1\" class=\"dataframe\">\n",
       "  <thead>\n",
       "    <tr style=\"text-align: right;\">\n",
       "      <th></th>\n",
       "      <th>Rank</th>\n",
       "      <th>Name</th>\n",
       "      <th>Platform</th>\n",
       "      <th>Year</th>\n",
       "      <th>Genre</th>\n",
       "      <th>Publisher</th>\n",
       "      <th>NA_Sales</th>\n",
       "      <th>EU_Sales</th>\n",
       "      <th>JP_Sales</th>\n",
       "      <th>Other_Sales</th>\n",
       "      <th>Global_Sales</th>\n",
       "    </tr>\n",
       "  </thead>\n",
       "  <tbody>\n",
       "    <tr>\n",
       "      <th>0</th>\n",
       "      <td>1</td>\n",
       "      <td>Wii Sports</td>\n",
       "      <td>Wii</td>\n",
       "      <td>2006.0</td>\n",
       "      <td>Sports</td>\n",
       "      <td>Nintendo</td>\n",
       "      <td>41.49</td>\n",
       "      <td>29.02</td>\n",
       "      <td>3.77</td>\n",
       "      <td>8.46</td>\n",
       "      <td>82.74</td>\n",
       "    </tr>\n",
       "    <tr>\n",
       "      <th>1</th>\n",
       "      <td>2</td>\n",
       "      <td>Super Mario Bros.</td>\n",
       "      <td>NES</td>\n",
       "      <td>1985.0</td>\n",
       "      <td>Platform</td>\n",
       "      <td>Nintendo</td>\n",
       "      <td>29.08</td>\n",
       "      <td>3.58</td>\n",
       "      <td>6.81</td>\n",
       "      <td>0.77</td>\n",
       "      <td>40.24</td>\n",
       "    </tr>\n",
       "    <tr>\n",
       "      <th>2</th>\n",
       "      <td>3</td>\n",
       "      <td>Mario Kart Wii</td>\n",
       "      <td>Wii</td>\n",
       "      <td>2008.0</td>\n",
       "      <td>Racing</td>\n",
       "      <td>Nintendo</td>\n",
       "      <td>15.85</td>\n",
       "      <td>12.88</td>\n",
       "      <td>3.79</td>\n",
       "      <td>3.31</td>\n",
       "      <td>35.82</td>\n",
       "    </tr>\n",
       "    <tr>\n",
       "      <th>3</th>\n",
       "      <td>4</td>\n",
       "      <td>Wii Sports Resort</td>\n",
       "      <td>Wii</td>\n",
       "      <td>2009.0</td>\n",
       "      <td>Sports</td>\n",
       "      <td>Nintendo</td>\n",
       "      <td>15.75</td>\n",
       "      <td>11.01</td>\n",
       "      <td>3.28</td>\n",
       "      <td>2.96</td>\n",
       "      <td>33.00</td>\n",
       "    </tr>\n",
       "    <tr>\n",
       "      <th>4</th>\n",
       "      <td>5</td>\n",
       "      <td>Pokemon Red/Pokemon Blue</td>\n",
       "      <td>GB</td>\n",
       "      <td>1996.0</td>\n",
       "      <td>Role-Playing</td>\n",
       "      <td>Nintendo</td>\n",
       "      <td>11.27</td>\n",
       "      <td>8.89</td>\n",
       "      <td>10.22</td>\n",
       "      <td>1.00</td>\n",
       "      <td>31.37</td>\n",
       "    </tr>\n",
       "  </tbody>\n",
       "</table>\n",
       "</div>"
      ],
      "text/plain": [
       "   Rank                      Name Platform    Year         Genre Publisher  \\\n",
       "0     1                Wii Sports      Wii  2006.0        Sports  Nintendo   \n",
       "1     2         Super Mario Bros.      NES  1985.0      Platform  Nintendo   \n",
       "2     3            Mario Kart Wii      Wii  2008.0        Racing  Nintendo   \n",
       "3     4         Wii Sports Resort      Wii  2009.0        Sports  Nintendo   \n",
       "4     5  Pokemon Red/Pokemon Blue       GB  1996.0  Role-Playing  Nintendo   \n",
       "\n",
       "   NA_Sales  EU_Sales  JP_Sales  Other_Sales  Global_Sales  \n",
       "0     41.49     29.02      3.77         8.46         82.74  \n",
       "1     29.08      3.58      6.81         0.77         40.24  \n",
       "2     15.85     12.88      3.79         3.31         35.82  \n",
       "3     15.75     11.01      3.28         2.96         33.00  \n",
       "4     11.27      8.89     10.22         1.00         31.37  "
      ]
     },
     "execution_count": 16,
     "metadata": {},
     "output_type": "execute_result"
    }
   ],
   "source": [
    "df.head()"
   ]
  },
  {
   "cell_type": "code",
   "execution_count": 19,
   "metadata": {},
   "outputs": [
    {
     "name": "stdout",
     "output_type": "stream",
     "text": [
      "<class 'pandas.core.frame.DataFrame'>\n",
      "RangeIndex: 16598 entries, 0 to 16597\n",
      "Data columns (total 11 columns):\n",
      " #   Column        Non-Null Count  Dtype  \n",
      "---  ------        --------------  -----  \n",
      " 0   Rank          16598 non-null  int64  \n",
      " 1   Name          16598 non-null  object \n",
      " 2   Platform      16598 non-null  object \n",
      " 3   Year          16327 non-null  float64\n",
      " 4   Genre         16598 non-null  object \n",
      " 5   Publisher     16540 non-null  object \n",
      " 6   NA_Sales      16598 non-null  float64\n",
      " 7   EU_Sales      16598 non-null  float64\n",
      " 8   JP_Sales      16598 non-null  float64\n",
      " 9   Other_Sales   16598 non-null  float64\n",
      " 10  Global_Sales  16598 non-null  float64\n",
      "dtypes: float64(6), int64(1), object(4)\n",
      "memory usage: 1.4+ MB\n"
     ]
    }
   ],
   "source": [
    "df.info()"
   ]
  },
  {
   "cell_type": "code",
   "execution_count": 24,
   "metadata": {},
   "outputs": [],
   "source": [
    "df = df.query('Year == @target_year')\n",
    "\n",
    "df.Year = df.Year.astype('int')"
   ]
  },
  {
   "cell_type": "code",
   "execution_count": 25,
   "metadata": {},
   "outputs": [
    {
     "data": {
      "text/plain": [
       "array([2002])"
      ]
     },
     "execution_count": 25,
     "metadata": {},
     "output_type": "execute_result"
    }
   ],
   "source": [
    "df.Year.unique()"
   ]
  },
  {
   "cell_type": "code",
   "execution_count": 26,
   "metadata": {},
   "outputs": [],
   "source": [
    "# @task()\n",
    "def get_target_year_data():\n",
    "    # загрущим и отфильтруем датасет по заданному году\n",
    "    login = 'p-syrnev'\n",
    "    target_year = 1994 + hash(f'{login}') % 23\n",
    "    path = 'vgsales.csv'\n",
    "    # path = '/var/lib/airflow/airflow.git/dags/a.batalov/vgsales.csv'\n",
    "\n",
    "    print(f'Будем смотреть данные за {target_year}г.')\n",
    "    df_target_year = pd.read_csv(path).query('Year == @target_year')\n",
    "    df_target_year.Year = df_target_year.Year.astype('int') \n",
    "    return df_target_year.to_csv(index=False)\n",
    "    "
   ]
  },
  {
   "cell_type": "markdown",
   "metadata": {},
   "source": [
    "### Task 2\n",
    "Какая игра была самой продаваемой в этом году во всем мире?"
   ]
  },
  {
   "cell_type": "code",
   "execution_count": 32,
   "metadata": {},
   "outputs": [
    {
     "data": {
      "text/plain": [
       "'Grand Theft Auto: Vice City'"
      ]
     },
     "execution_count": 32,
     "metadata": {},
     "output_type": "execute_result"
    }
   ],
   "source": [
    "df.groupby(by='Name', as_index=False) \\\n",
    "    .agg({'Global_Sales':'sum'}) \\\n",
    "    .rename(columns={'Global_Sales':'Total_Sales'}) \\\n",
    "    .sort_values(by='Total_Sales', ascending=False) \\\n",
    "    .iloc[0].Name"
   ]
  },
  {
   "cell_type": "code",
   "execution_count": 34,
   "metadata": {},
   "outputs": [],
   "source": [
    "# @task()\n",
    "def get_best_selling_game(target_year_data : str):\n",
    "    df = pd.read_csv(StringIO(target_year_data))\n",
    "\n",
    "    return df.groupby(by='Name', as_index=False) \\\n",
    "        .agg({'Global_Sales':'sum'}) \\\n",
    "        .rename(columns={'Global_Sales':'Total_Sales'}) \\\n",
    "        .sort_values(by='Total_Sales', ascending=False) \\\n",
    "        .iloc[0].Name"
   ]
  },
  {
   "cell_type": "markdown",
   "metadata": {},
   "source": [
    "### Task 3\n",
    "Игры какого жанра были самыми продаваемыми в Европе? Перечислить все, если их несколько"
   ]
  },
  {
   "cell_type": "code",
   "execution_count": 56,
   "metadata": {},
   "outputs": [
    {
     "data": {
      "text/plain": [
       "'Action'"
      ]
     },
     "execution_count": 56,
     "metadata": {},
     "output_type": "execute_result"
    }
   ],
   "source": [
    "df_genre_eu_sales = df.groupby(by='Genre', as_index=False) \\\n",
    "    .agg({'EU_Sales':'sum'})\n",
    "\n",
    "max_sales = df_genre_eu_sales.EU_Sales.max()\n",
    "\n",
    "','.join(df_genre_eu_sales.query('EU_Sales == @max_sales').Genre.tolist())\n"
   ]
  },
  {
   "cell_type": "code",
   "execution_count": 57,
   "metadata": {},
   "outputs": [],
   "source": [
    "#@task()\n",
    "def get_best_selling_games_eu(target_year_data : str):\n",
    "    df = pd.read_csv(StringIO(target_year_data))\n",
    "\n",
    "    df_genre_eu_sales = df.groupby(by='Genre', as_index=False).agg({'EU_Sales':'sum'})\n",
    "\n",
    "    max_sales = df_genre_eu_sales.EU_Sales.max()\n",
    "\n",
    "    return ', '.join(df_genre_eu_sales.query('EU_Sales == @max_sales').Genre.tolist())"
   ]
  },
  {
   "cell_type": "markdown",
   "metadata": {},
   "source": [
    "### Task 4\n",
    "На какой платформе было больше всего игр, которые продались более чем миллионным тиражом в Северной Америке?\n",
    "Перечислить все, если их несколько"
   ]
  },
  {
   "cell_type": "code",
   "execution_count": 67,
   "metadata": {},
   "outputs": [
    {
     "data": {
      "text/plain": [
       "'PS2'"
      ]
     },
     "execution_count": 67,
     "metadata": {},
     "output_type": "execute_result"
    }
   ],
   "source": [
    "df['IsGreatThan1M'] = df.NA_Sales > 1.0\n",
    "\n",
    "df_platform_count = df.groupby(by=['Platform'], as_index=False) \\\n",
    "    .agg({'IsGreatThan1M':'sum'}) \\\n",
    "    .rename(columns={'IsGreatThan1M':'Count_games'})\n",
    "\n",
    "max_1m = df_platform_count.Count_games.max()\n",
    "\n",
    "', '.join(df_platform_count.query('Count_games == @max_1m').Platform.tolist())"
   ]
  },
  {
   "cell_type": "code",
   "execution_count": 69,
   "metadata": {},
   "outputs": [],
   "source": [
    "# @task()\n",
    "def get_1m_platform_na(target_year_data : str):\n",
    "    df = pd.read_csv(StringIO(target_year_data))\n",
    "\n",
    "    df['IsGreatThan1M'] = df.NA_Sales > 1.0\n",
    "\n",
    "    df = df.groupby(by=['Platform'], as_index=False) \\\n",
    "        .agg({'IsGreatThan1M':'sum'}) \\\n",
    "        .rename(columns={'IsGreatThan1M':'Count_games'})\n",
    "\n",
    "    max_1m = df.Count_games.max()\n",
    "\n",
    "    return ', '.join(df.query('Count_games == @max_1m').Platform.tolist())\n"
   ]
  },
  {
   "cell_type": "markdown",
   "metadata": {},
   "source": [
    "### Task 5\n",
    "У какого издателя самые высокие средние продажи в Японии?\n",
    "Перечислить все, если их несколько"
   ]
  },
  {
   "cell_type": "code",
   "execution_count": 74,
   "metadata": {},
   "outputs": [
    {
     "data": {
      "text/plain": [
       "'Nintendo'"
      ]
     },
     "execution_count": 74,
     "metadata": {},
     "output_type": "execute_result"
    }
   ],
   "source": [
    "df_avg_jp = df.groupby(by='Publisher', as_index=False) \\\n",
    "                .agg({'JP_Sales':'mean'})\n",
    "\n",
    "max_avg_jp = df_avg_jp.JP_Sales.max()\n",
    "\n",
    "', '.join(df_avg_jp.query('JP_Sales == @max_avg_jp').Publisher.tolist())"
   ]
  },
  {
   "cell_type": "code",
   "execution_count": 76,
   "metadata": {},
   "outputs": [],
   "source": [
    "# @task()\n",
    "def get_publisher_with_max_avegrage_jp(target_year_data : str):\n",
    "    df = pd.read_csv(StringIO(target_year_data))\n",
    "\n",
    "    df_avg_jp = df.groupby(by='Publisher', as_index=False) \\\n",
    "                .agg({'JP_Sales':'mean'})\n",
    "\n",
    "    max_avg_jp = df_avg_jp.JP_Sales.max()\n",
    "\n",
    "    return ', '.join(df_avg_jp.query('JP_Sales == @max_avg_jp').Publisher.tolist())"
   ]
  },
  {
   "cell_type": "markdown",
   "metadata": {},
   "source": [
    "### Task 6\n",
    "Сколько игр продались лучше в Европе, чем в Японии?"
   ]
  },
  {
   "cell_type": "code",
   "execution_count": 84,
   "metadata": {},
   "outputs": [
    {
     "data": {
      "text/plain": [
       "484"
      ]
     },
     "execution_count": 84,
     "metadata": {},
     "output_type": "execute_result"
    }
   ],
   "source": [
    "df_game_eu_vs_jp =df.groupby(by='Name') \\\n",
    "    .agg({'EU_Sales':'sum', 'JP_Sales' : 'sum'})\n",
    "\n",
    "(df_game_eu_vs_jp.EU_Sales > df_game_eu_vs_jp.JP_Sales).sum()"
   ]
  },
  {
   "cell_type": "code",
   "execution_count": 85,
   "metadata": {},
   "outputs": [],
   "source": [
    "# @task()\n",
    "def get_count_eu_games(target_year_data : str):\n",
    "    df = pd.read_csv(StringIO(target_year_data))\n",
    "\n",
    "    df_game_eu_vs_jp =df.groupby(by='Name') \\\n",
    "        .agg({'EU_Sales':'sum', 'JP_Sales' : 'sum'})\n",
    "\n",
    "    return (df_game_eu_vs_jp.EU_Sales > df_game_eu_vs_jp.JP_Sales).sum()\n"
   ]
  },
  {
   "cell_type": "markdown",
   "metadata": {},
   "source": [
    "### Task 7\n",
    "Вывод в консоль"
   ]
  },
  {
   "cell_type": "code",
   "execution_count": 49,
   "metadata": {},
   "outputs": [
    {
     "data": {
      "text/plain": [
       "datetime.date(2022, 8, 22)"
      ]
     },
     "execution_count": 49,
     "metadata": {},
     "output_type": "execute_result"
    }
   ],
   "source": [
    "date.today()"
   ]
  },
  {
   "cell_type": "code",
   "execution_count": 53,
   "metadata": {},
   "outputs": [],
   "source": [
    "# замокаем метод для получения airflow контекста\n",
    "def get_current_context():\n",
    "    return {'ds':date.today()}"
   ]
  },
  {
   "cell_type": "code",
   "execution_count": 86,
   "metadata": {},
   "outputs": [],
   "source": [
    "# @task()\n",
    "def print_result(best_selling_game,\n",
    "                 best_selling_games_eu,\n",
    "                 platform_with_1m,\n",
    "                 publisher_with_max_avegrage_jp,\n",
    "                 eu_vs_jp):\n",
    "    \n",
    "    context = get_current_context()\n",
    "\n",
    "    date = context['ds']\n",
    "    print(f'''Дата: {date}\n",
    "\n",
    "    1. Какая игра была самой продаваемой в этом году во всем мире?\n",
    "    *{best_selling_game}*\n",
    "\n",
    "    2. Игры какого жанра были самыми продаваемыми в Европе?\n",
    "    {best_selling_games_eu}\n",
    "\n",
    "    3. На какой платформе было больше всего игр, которые продались более чем миллионным тиражом в Северной Америке?\n",
    "    {platform_with_1m}\n",
    "\n",
    "    4. У какого издателя самые высокие средние продажи в Японии?\n",
    "    {publisher_with_max_avegrage_jp}\n",
    "    \n",
    "    5. Сколько игр продались лучше в Европе, чем в Японии?\n",
    "    {eu_vs_jp}\n",
    "    ''')\n",
    "    "
   ]
  },
  {
   "cell_type": "markdown",
   "metadata": {},
   "source": [
    "### Test"
   ]
  },
  {
   "cell_type": "code",
   "execution_count": 87,
   "metadata": {},
   "outputs": [
    {
     "name": "stdout",
     "output_type": "stream",
     "text": [
      "Будем смотреть данные за 2002г.\n",
      "Дата: 2022-08-22\n",
      "\n",
      "    1. Какая игра была самой продаваемой в этом году во всем мире?\n",
      "    *Grand Theft Auto: Vice City*\n",
      "\n",
      "    2. Игры какого жанра были самыми продаваемыми в Европе?\n",
      "    Action\n",
      "\n",
      "    3. На какой платформе было больше всего игр, которые продались более чем миллионным тиражом в Северной Америке?\n",
      "    PS2\n",
      "\n",
      "    4. У какого издателя самые высокие средние продажи в Японии?\n",
      "    Nintendo\n",
      "    \n",
      "    5. Сколько игр продались лучше в Европе, чем в Японии?\n",
      "    484\n",
      "    \n"
     ]
    }
   ],
   "source": [
    "target_year_data = get_target_year_data()\n",
    "best_selling_game = get_best_selling_game(target_year_data)\n",
    "best_selling_games_eu = get_best_selling_games_eu(target_year_data)\n",
    "platform_with_1m = get_1m_platform_na(target_year_data)\n",
    "publisher_with_max_avegrage_jp = get_publisher_with_max_avegrage_jp(target_year_data)\n",
    "eu_vs_jp = get_count_eu_games(target_year_data)\n",
    "\n",
    "print_result(best_selling_game, best_selling_games_eu, platform_with_1m, publisher_with_max_avegrage_jp, eu_vs_jp)"
   ]
  },
  {
   "cell_type": "code",
   "execution_count": 95,
   "metadata": {},
   "outputs": [],
   "source": [
    "r = requests.get('https://api.telegram.org/bot5407072426:AAFCawYX4BjbHDTdbsO9gKDlCScW5cgJhSM/getUpdates')"
   ]
  },
  {
   "cell_type": "code",
   "execution_count": 96,
   "metadata": {},
   "outputs": [
    {
     "data": {
      "text/plain": [
       "b'{\"ok\":true,\"result\":[{\"update_id\":766037090,\\n\"message\":{\"message_id\":2,\"from\":{\"id\":351301198,\"is_bot\":false,\"first_name\":\"Pavel\",\"last_name\":\"Syrnev\",\"username\":\"psyrnev\",\"language_code\":\"ru\"},\"chat\":{\"id\":351301198,\"first_name\":\"Pavel\",\"last_name\":\"Syrnev\",\"username\":\"psyrnev\",\"type\":\"private\"},\"date\":1661191276,\"text\":\"\\\\u0442\\\\u0435\\\\u0441\\\\u0442\\\\u043e\\\\u0432\\\\u043e\\\\u0435\"}}]}'"
      ]
     },
     "execution_count": 96,
     "metadata": {},
     "output_type": "execute_result"
    }
   ],
   "source": [
    "r.content"
   ]
  },
  {
   "cell_type": "code",
   "execution_count": null,
   "metadata": {},
   "outputs": [],
   "source": []
  }
 ],
 "metadata": {
  "kernelspec": {
   "display_name": "Python 3.8.8 ('base')",
   "language": "python",
   "name": "python3"
  },
  "language_info": {
   "codemirror_mode": {
    "name": "ipython",
    "version": 3
   },
   "file_extension": ".py",
   "mimetype": "text/x-python",
   "name": "python",
   "nbconvert_exporter": "python",
   "pygments_lexer": "ipython3",
   "version": "3.8.8"
  },
  "orig_nbformat": 4,
  "vscode": {
   "interpreter": {
    "hash": "4c62ffd6e4fba16dfdbb3c8124c485821ec2dc2c629030f80ae71594aa9915f5"
   }
  }
 },
 "nbformat": 4,
 "nbformat_minor": 2
}
