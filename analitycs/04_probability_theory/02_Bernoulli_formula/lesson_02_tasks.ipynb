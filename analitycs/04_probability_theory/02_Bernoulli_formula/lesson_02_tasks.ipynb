{
 "cells": [
  {
   "cell_type": "code",
   "execution_count": 41,
   "metadata": {},
   "outputs": [],
   "source": [
    "from scipy import special #модуль питона, предназначенный для научных и инженерных расчетов\n",
    "# special.comb(n, k) #биномиальный коэффициент\n",
    "\n",
    "import numpy as np"
   ]
  },
  {
   "cell_type": "code",
   "execution_count": 2,
   "metadata": {},
   "outputs": [],
   "source": [
    "def bernuli(n, k, p, q):\n",
    "    c = special.comb(n, k)\n",
    "    return c * (p**k) * (q**(n-k))"
   ]
  },
  {
   "cell_type": "markdown",
   "metadata": {},
   "source": [
    "Задание 1\n",
    "\n",
    "Устройство, состоящее из пяти независимо работающих элементов, включается за время Т. Вероятность отказа каждого из них за это время равна 0,4. Найти вероятность того, что откажут три элемента. Ответ округлите до четырёх знаков после запятой. В качестве десятичного разделителя используйте точку."
   ]
  },
  {
   "cell_type": "code",
   "execution_count": 4,
   "metadata": {},
   "outputs": [
    {
     "name": "stdout",
     "output_type": "stream",
     "text": [
      "0.2304\n"
     ]
    }
   ],
   "source": [
    "n = 5\n",
    "k = 3\n",
    "p = 0.4\n",
    "q = 1-p\n",
    "\n",
    "print(round(bernuli(n, k, p, q), 4))\n"
   ]
  },
  {
   "cell_type": "markdown",
   "metadata": {},
   "source": [
    "Задание 2\n",
    "\n",
    "Устройство, состоящее из пяти независимо работающих элементов, включается за время Т. Вероятность отказа каждого из них за это время равна 0,4. Найдите вероятность того, что хотя бы один элемент откажет. Ответ округлите до трёх знаков после запятой. В качестве десятичного разделителя используйте точку."
   ]
  },
  {
   "cell_type": "code",
   "execution_count": 9,
   "metadata": {},
   "outputs": [
    {
     "name": "stdout",
     "output_type": "stream",
     "text": [
      "0.922\n"
     ]
    }
   ],
   "source": [
    "n = 5\n",
    "k = 1\n",
    "p = 0.4\n",
    "q = 1-p\n",
    "\n",
    "#вероятность того что не один не откажет\n",
    "r = q**n\n",
    "\n",
    "print(round(1-r,3))"
   ]
  },
  {
   "cell_type": "markdown",
   "metadata": {},
   "source": [
    "Задание 3\n",
    "\n",
    "Производится 8 выстрелов по цели, в каждом из которых вероятность попадания равна 0,3. Найти вероятность того, что цель будет поражена хотя бы два раза. Ответ округлите до тысячных. В качестве десятичного разделителя используйте точку."
   ]
  },
  {
   "cell_type": "code",
   "execution_count": 21,
   "metadata": {},
   "outputs": [
    {
     "name": "stdout",
     "output_type": "stream",
     "text": [
      "0.7447016700000001\n",
      "0.745\n",
      "0.745\n"
     ]
    }
   ],
   "source": [
    "p = 0.3\n",
    "q = 1-p\n",
    "n = 8\n",
    "\n",
    "# 0 попаданий\n",
    "p_0 = q**n\n",
    "\n",
    "# 1 попадание\n",
    "p_1 = bernuli(n, 1, p, q)\n",
    "\n",
    "#0 или 1 попадание\n",
    "p_0_1 = p_0 + p_1\n",
    "\n",
    "p_2 = 1 - p_0_1\n",
    "\n",
    "print(p_2)\n",
    "\n",
    "print(round(p_2,3))\n",
    "\n",
    "p_2 = 0\n",
    "for i in range(2,9):\n",
    "    p_2 += bernuli(n, i, p, q)\n",
    "\n",
    "print(round(p_2,3))"
   ]
  },
  {
   "cell_type": "markdown",
   "metadata": {},
   "source": [
    "Задание 4\n",
    "\n",
    "В магазине 7 покупателей. Каждый может совершить покупку с вероятностью 0,4. Найти вероятность того, что не более двух человек совершат покупку. Ответ округлите до сотых. В качестве десятичного разделителя используйте точку."
   ]
  },
  {
   "cell_type": "code",
   "execution_count": 23,
   "metadata": {},
   "outputs": [
    {
     "name": "stdout",
     "output_type": "stream",
     "text": [
      "0.42\n"
     ]
    }
   ],
   "source": [
    "n = 7\n",
    "p = 0.4\n",
    "q = 1-p\n",
    "\n",
    "# 0 попкупок\n",
    "p_0 = q**n\n",
    "\n",
    "# 1 покупка\n",
    "p_1 = bernuli(n, 1, p, q)\n",
    "\n",
    "# 2 покупка\n",
    "p_2 = bernuli(n, 2, p, q)\n",
    "\n",
    "p = p_0 + p_1 + p_2\n",
    "\n",
    "print(round(p,2))"
   ]
  },
  {
   "cell_type": "markdown",
   "metadata": {},
   "source": [
    "Задание 5\n",
    "\n",
    "В телеателье имеется 7 телевизоров. Для каждого телевизора вероятность того, что в данный момент он включен, равна 0,5. Найти вероятность того, что в данный момент включены не менее трех телевизоров. Ответ округлите до тысячных. В качестве десятичного разделителя используйте точку."
   ]
  },
  {
   "cell_type": "code",
   "execution_count": 25,
   "metadata": {},
   "outputs": [
    {
     "name": "stdout",
     "output_type": "stream",
     "text": [
      "0.773\n"
     ]
    }
   ],
   "source": [
    "n = 7\n",
    "k = 3\n",
    "p = 0.5\n",
    "q = 1-p\n",
    "\n",
    "p_3 = 0\n",
    "for i in range(k, n+1):\n",
    "    p_3 += bernuli(n, i, p, q)\n",
    "\n",
    "print(round(p_3, 3))"
   ]
  },
  {
   "cell_type": "markdown",
   "metadata": {},
   "source": [
    "Задание 6\n",
    "\n",
    "Пусть вероятность того, что покупателю необходим компьютер с операционной системой Linux, равна 0.25. Найдите вероятность того, что из шести покупателей по крайней мере двум необходим компьютер с операционной системой Linux.\n",
    "\n",
    "Ответ округлите до сотых, в качестве разделителя используйте точку."
   ]
  },
  {
   "cell_type": "code",
   "execution_count": 29,
   "metadata": {},
   "outputs": [
    {
     "name": "stdout",
     "output_type": "stream",
     "text": [
      "0.466064453125\n",
      "0.47\n"
     ]
    }
   ],
   "source": [
    "p = 0.25\n",
    "q = 1-p\n",
    "n = 6\n",
    "k = 2\n",
    "\n",
    "# 0 покупателей\n",
    "p_0 = q**n\n",
    "\n",
    "# 1 покупатель\n",
    "p_1 = bernuli(n, 1, p, q)\n",
    "\n",
    "p_2 = 1 - (p_0 + p_1)\n",
    "\n",
    "print(p_2)\n",
    "\n",
    "print(round(p_2, 2))"
   ]
  },
  {
   "cell_type": "markdown",
   "metadata": {},
   "source": [
    "Задание 7\n",
    "\n",
    "Для нормальной работы отдела по дата-аналитике необходимо, чтобы в офисе было не менее восьми программистов, а всего в штате 10 программистов. Вероятность того, что программист заболеет, равна 0.1. Найдите вероятность нормальной работы отдела по дата-аналитике.\n",
    "\n",
    "Ответ округлите до сотых, а в качестве разделителя используйте точку."
   ]
  },
  {
   "cell_type": "code",
   "execution_count": 34,
   "metadata": {},
   "outputs": [
    {
     "name": "stdout",
     "output_type": "stream",
     "text": [
      "0.93\n"
     ]
    }
   ],
   "source": [
    "n = 10\n",
    "k = 8\n",
    "p = 0.1\n",
    "q = 1-p\n",
    "\n",
    "p_2 = 0\n",
    "for i in range(0, (n-k) + 1):\n",
    "    p_2 += bernuli(n, i, p, q)\n",
    "\n",
    "print(round(p_2, 2))"
   ]
  },
  {
   "cell_type": "markdown",
   "metadata": {},
   "source": [
    "Задание 8\n",
    "\n",
    "Среди всех скриптов, которые пишет программист, с 10%-ой вероятностью скрипт будет с ошибкой. Найдем вероятность того, что среди 30 скриптов два не будут работать.\n",
    "\n",
    "Ответ округлите до тысячных, в качестве десятичного разделителя используйте точку."
   ]
  },
  {
   "cell_type": "code",
   "execution_count": 39,
   "metadata": {},
   "outputs": [
    {
     "name": "stdout",
     "output_type": "stream",
     "text": [
      "0.22765622036690203\n",
      "0.228\n"
     ]
    }
   ],
   "source": [
    "n = 30\n",
    "k = 2\n",
    "p = 0.1\n",
    "q = 1-p\n",
    "\n",
    "p = bernuli(n, k, p, q)\n",
    "\n",
    "print(p)\n",
    "\n",
    "print(round(p, 3))"
   ]
  },
  {
   "cell_type": "markdown",
   "metadata": {},
   "source": [
    "Задание 9\n",
    "\n",
    "В очень большом чате по дата аналитике сидит 1730 человек. Вероятность того, что день рождения наугад взятого участника чата приходится на определенный день года, равна 1/365 для каждого из 365 дней. Найдем наиболее вероятное число счастливчиков, которые родились 1 марта."
   ]
  },
  {
   "cell_type": "code",
   "execution_count": 43,
   "metadata": {},
   "outputs": [
    {
     "name": "stdout",
     "output_type": "stream",
     "text": [
      "3.742465753424658 <= k <= 5.736986301369863\n"
     ]
    },
    {
     "data": {
      "text/plain": [
       "4.739726027397261"
      ]
     },
     "execution_count": 43,
     "metadata": {},
     "output_type": "execute_result"
    }
   ],
   "source": [
    "n = 1730\n",
    "p = 1 / 365\n",
    "q = 1-p\n",
    "\n",
    "# n * p - q <= k <= n * p + q\n",
    "\n",
    "p_l = n * p - q\n",
    "\n",
    "p_r = n * p + q\n",
    "\n",
    "print(f'{p_l} <= k <= {p_r}')\n",
    "\n",
    "np.mean([p_l, p_r])"
   ]
  },
  {
   "cell_type": "markdown",
   "metadata": {},
   "source": [
    "Задание 10\n",
    "\n",
    "В урне 20 шаров: 15 белых и 5 чёрных. Вынули подряд 5 шаров, причём каждый вынутый шар возвращается в урну и перед извлечением следующего шары в урне тщательно перемешиваются. Найдите вероятность того, что из пяти вынутых шаров будет 2 белых.\n",
    "\n",
    "Ответ округлите до тысячных, в качестве десятичного разделителя используйте точку."
   ]
  },
  {
   "cell_type": "code",
   "execution_count": 46,
   "metadata": {},
   "outputs": [
    {
     "name": "stdout",
     "output_type": "stream",
     "text": [
      "0.087890625\n",
      "0.088\n"
     ]
    }
   ],
   "source": [
    "n = 5\n",
    "k = 2\n",
    "p = 15 / 20\n",
    "q = 1-p\n",
    "\n",
    "p_2 = bernuli(n, k, p, q)\n",
    "\n",
    "print(p_2)\n",
    "\n",
    "print(round(p_2, 3))"
   ]
  },
  {
   "cell_type": "code",
   "execution_count": null,
   "metadata": {},
   "outputs": [],
   "source": []
  }
 ],
 "metadata": {
  "interpreter": {
   "hash": "4c62ffd6e4fba16dfdbb3c8124c485821ec2dc2c629030f80ae71594aa9915f5"
  },
  "kernelspec": {
   "display_name": "Python 3.8.8 ('base')",
   "language": "python",
   "name": "python3"
  },
  "language_info": {
   "codemirror_mode": {
    "name": "ipython",
    "version": 3
   },
   "file_extension": ".py",
   "mimetype": "text/x-python",
   "name": "python",
   "nbconvert_exporter": "python",
   "pygments_lexer": "ipython3",
   "version": "3.8.8"
  },
  "orig_nbformat": 4
 },
 "nbformat": 4,
 "nbformat_minor": 2
}
