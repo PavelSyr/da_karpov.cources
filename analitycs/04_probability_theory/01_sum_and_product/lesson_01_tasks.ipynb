{
 "cells": [
  {
   "cell_type": "code",
   "execution_count": 32,
   "metadata": {},
   "outputs": [],
   "source": [
    "import numpy as np\n",
    "import pandas as pd"
   ]
  },
  {
   "cell_type": "markdown",
   "metadata": {},
   "source": [
    "Задание 1\n",
    "\n",
    "Два человека одновременно стреляют по мишени. Вероятность попадания по мишени у первого стрелка равна 0,5, у второго — 0,8. Какова вероятность того, что в мишени будет только одна пробоина?\n",
    "\n",
    "Примечание: в этой и последующих задачах десятичным разделителем должна быть точка."
   ]
  },
  {
   "cell_type": "code",
   "execution_count": 1,
   "metadata": {},
   "outputs": [
    {
     "name": "stdout",
     "output_type": "stream",
     "text": [
      "0.5\n"
     ]
    }
   ],
   "source": [
    "p1 = 0.5\n",
    "p2 = 0.8\n",
    "\n",
    "p = p1 * (1 - p2) + p2 * (1 - p1)\n",
    "print(p)"
   ]
  },
  {
   "cell_type": "markdown",
   "metadata": {},
   "source": [
    "Задание 2\n",
    "\n",
    "Трое аналитиков на экзамене независимо друг от друга решают одну и ту же задачу. Вероятности ее решения этими аналитиками равны 0,8, 0,7 и 0,6 соответственно. Найдите вероятность того, что хотя бы один аналитик решит задачу."
   ]
  },
  {
   "cell_type": "code",
   "execution_count": 9,
   "metadata": {},
   "outputs": [
    {
     "name": "stdout",
     "output_type": "stream",
     "text": [
      "0.976\n"
     ]
    }
   ],
   "source": [
    "p1 = 0.8\n",
    "p2 = 0.7\n",
    "p3 = 0.6\n",
    "\n",
    "# решит только один\n",
    "# p_only_one = p1 * (1-p2) * (1-p3) + p2 * (1-p1) * (1-p3) + p3 * (1-p1) * (1-p2)\n",
    "\n",
    "#не решил 1ый\n",
    "p_o_1 = 1 - p1\n",
    "\n",
    "#не решил 2ый\n",
    "p_o_2 = 1 - p2 \n",
    "\n",
    "#не решил 3ий\n",
    "p_o_3 = 1 - p3\n",
    "\n",
    "# никто не решил\n",
    "p_no_one = p_o_1 * p_o_2 * p_o_3\n",
    "\n",
    "p = 1 - p_no_one\n",
    "\n",
    "print(p)"
   ]
  },
  {
   "cell_type": "markdown",
   "metadata": {},
   "source": [
    "Задание 3\n",
    "\n",
    "В первой урне находятся 10 белых и 4 черных шаров, а во второй 5 белых и 9 черных шаров. Из каждой урны вынули по шару. Какова вероятность того, что оба шара окажутся черными? В ответ запишите значение, округленное до тысячных."
   ]
  },
  {
   "cell_type": "code",
   "execution_count": 11,
   "metadata": {},
   "outputs": [
    {
     "name": "stdout",
     "output_type": "stream",
     "text": [
      "0.184\n"
     ]
    }
   ],
   "source": [
    "n1_w = 10\n",
    "n1_b = 4\n",
    "n1 = n1_w + n1_b\n",
    "\n",
    "n2_w = 5\n",
    "n2_b = 9\n",
    "n2 = n2_w + n2_b\n",
    "\n",
    "p1_b = n1_b / n1\n",
    "p2_b = n2_b / n2\n",
    "\n",
    "p = p1_b * p2_b\n",
    "\n",
    "print(round(p,3))"
   ]
  },
  {
   "cell_type": "markdown",
   "metadata": {},
   "source": [
    "Задание 4\n",
    "\n",
    "Вероятность хотя бы одного попадания в цель при четырех выстрелах равна 0,9984. Найдите вероятность попадания в цель при одном выстреле. "
   ]
  },
  {
   "cell_type": "code",
   "execution_count": 21,
   "metadata": {},
   "outputs": [
    {
     "name": "stdout",
     "output_type": "stream",
     "text": [
      "0.8\n"
     ]
    }
   ],
   "source": [
    "p_at_least_1_from_4 = 0.9984\n",
    "# p_at_least_1_from_4 = p1 + p2 + p3 + p4 \n",
    "\n",
    "p_no_one = 1 - p_at_least_1_from_4\n",
    "# p_no_one = (1-p) * (1-p) * (1-p) * (1-p) \n",
    "# p_no_one = (1-p)**4\n",
    "\n",
    "p = 1 - np.sqrt(np.sqrt(p_no_one))\n",
    "\n",
    "print(round(p,1))"
   ]
  },
  {
   "cell_type": "markdown",
   "metadata": {},
   "source": [
    "Задание 6\n",
    "\n",
    "В конверте находится 10 лотерейных билетов, среди которых 3 выигрышных. Из конверта последовательно извлекаются билеты. Найти вероятность того, что три первых лотерейных билета будут выигрышными. Ответ округлите до десятитысячных. В качестве десятичного разделителя используйте точку."
   ]
  },
  {
   "cell_type": "code",
   "execution_count": 22,
   "metadata": {},
   "outputs": [
    {
     "name": "stdout",
     "output_type": "stream",
     "text": [
      "0.0083\n"
     ]
    }
   ],
   "source": [
    "n_win = 3\n",
    "m = 10\n",
    "\n",
    "p = n_win / m * (n_win - 1) / (m - 1) * (n_win - 2) / (m-2)\n",
    "\n",
    "print(round(p, 4))"
   ]
  },
  {
   "cell_type": "markdown",
   "metadata": {},
   "source": [
    "Задание 7\n",
    "\n",
    "В трех углах равностороннего треугольника находится по роботу. Каждый из роботов начинает двигаться в случайно выбранный угол по стороне треугольника. Какова вероятность того, что ни один из роботов не столкнется с другим роботом?\n",
    "\n",
    "Ответ округлите до сотых. В качестве десятичного разделителя используйте точку."
   ]
  },
  {
   "cell_type": "code",
   "execution_count": 31,
   "metadata": {},
   "outputs": [
    {
     "name": "stdout",
     "output_type": "stream",
     "text": [
      "0.25\n"
     ]
    }
   ],
   "source": [
    "# треугольник ABC\n",
    "p = 2 / 2**3\n",
    "\n",
    "print(round(p, 2))\n"
   ]
  },
  {
   "cell_type": "markdown",
   "metadata": {},
   "source": [
    "Задание 9\n",
    "\n",
    "Бросаются 2 игральных кубика. Определите вероятность того, что произведение числа очков на обоих кубиках не превосходит 10.\n",
    "\n",
    "В ответ запишите число округленное до тысячных. В качестве десятичного разделителя используйте точку."
   ]
  },
  {
   "cell_type": "code",
   "execution_count": 39,
   "metadata": {},
   "outputs": [],
   "source": [
    "c = list(range(1,7))\n",
    "\n",
    "df = pd.DataFrame(c, columns=['c'])\n",
    "\n",
    "df = df.merge(df.copy(), how='cross')"
   ]
  },
  {
   "cell_type": "code",
   "execution_count": 43,
   "metadata": {},
   "outputs": [
    {
     "data": {
      "text/plain": [
       "(36, 4)"
      ]
     },
     "execution_count": 43,
     "metadata": {},
     "output_type": "execute_result"
    }
   ],
   "source": [
    "df.shape"
   ]
  },
  {
   "cell_type": "code",
   "execution_count": 45,
   "metadata": {},
   "outputs": [
    {
     "name": "stdout",
     "output_type": "stream",
     "text": [
      "0.528\n"
     ]
    }
   ],
   "source": [
    "df['mul'] = df.c_x.mul(df.c_y)\n",
    "df['mul_more_10'] = df['mul'] <= 10\n",
    "print(round(df.mul_more_10.sum() / df.shape[0], 3))\n"
   ]
  },
  {
   "cell_type": "code",
   "execution_count": null,
   "metadata": {},
   "outputs": [],
   "source": [
    "df"
   ]
  }
 ],
 "metadata": {
  "interpreter": {
   "hash": "4c62ffd6e4fba16dfdbb3c8124c485821ec2dc2c629030f80ae71594aa9915f5"
  },
  "kernelspec": {
   "display_name": "Python 3.8.8 ('base')",
   "language": "python",
   "name": "python3"
  },
  "language_info": {
   "codemirror_mode": {
    "name": "ipython",
    "version": 3
   },
   "file_extension": ".py",
   "mimetype": "text/x-python",
   "name": "python",
   "nbconvert_exporter": "python",
   "pygments_lexer": "ipython3",
   "version": "3.8.8"
  },
  "orig_nbformat": 4
 },
 "nbformat": 4,
 "nbformat_minor": 2
}
