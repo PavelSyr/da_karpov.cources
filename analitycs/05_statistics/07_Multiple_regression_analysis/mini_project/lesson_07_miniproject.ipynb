{
 "cells": [
  {
   "cell_type": "code",
   "execution_count": 61,
   "metadata": {},
   "outputs": [],
   "source": [
    "import pandas as pd\n",
    "import numpy as np\n",
    "\n",
    "import statsmodels.api as sm\n",
    "import statsmodels.formula.api as smf "
   ]
  },
  {
   "cell_type": "markdown",
   "metadata": {},
   "source": [
    "#### Задание 1\n",
    "Загрузите данные, проверьте типы, пропущенные значения. \n",
    "\n",
    "Сколько пропущенных значений встретилось в датасете?"
   ]
  },
  {
   "cell_type": "code",
   "execution_count": 2,
   "metadata": {},
   "outputs": [],
   "source": [
    "df = pd.read_csv('cars.csv')"
   ]
  },
  {
   "cell_type": "code",
   "execution_count": 20,
   "metadata": {},
   "outputs": [
    {
     "data": {
      "text/plain": [
       "0"
      ]
     },
     "execution_count": 20,
     "metadata": {},
     "output_type": "execute_result"
    }
   ],
   "source": [
    "df.isna().sum().sum()"
   ]
  },
  {
   "cell_type": "markdown",
   "metadata": {},
   "source": [
    "#### Задание 2\n",
    "Сгенерируем первый признак.\n",
    "\n",
    "Использовать полное название машины – не самый хороший вариант, поэтому создадим новый признак – марку автомобиля (company). Для этого используйте столбец CarName, разбейте значения ячеек по пробелу и запишите в колонку первый элемент. Например:\n",
    "\n",
    "'audi 100 ls' → 'audi'\n",
    "Сколько всего уникальных марок машины встречается в датасете? Столбец CarName с полным названием машины удалите из датасета, а также car_ID, они не пригодятся для дальнейшего анализа.\n"
   ]
  },
  {
   "cell_type": "code",
   "execution_count": 16,
   "metadata": {},
   "outputs": [],
   "source": [
    "df['company'] = df.CarName.str.split(' ').str[0]"
   ]
  },
  {
   "cell_type": "code",
   "execution_count": 22,
   "metadata": {},
   "outputs": [],
   "source": [
    "df = df.drop(columns=['car_ID','CarName'])"
   ]
  },
  {
   "cell_type": "code",
   "execution_count": 23,
   "metadata": {},
   "outputs": [
    {
     "data": {
      "text/plain": [
       "28"
      ]
     },
     "execution_count": 23,
     "metadata": {},
     "output_type": "execute_result"
    }
   ],
   "source": [
    "df.company.nunique()"
   ]
  },
  {
   "cell_type": "markdown",
   "metadata": {},
   "source": [
    "#### Задание 3\n",
    "Теперь внимательнее посмотрите на уникальные значения company. Часть из них оказалась с ошибками!\n",
    "\n",
    "* 'maxda' → 'mazda'\n",
    "* 'Nissan' → 'nissan'\n",
    "* 'porcshce' → 'porsche'\n",
    "* 'toyouta' → 'toyota'\n",
    "* 'vokswagen' & 'vw' → 'volkswagen'\n",
    "\n",
    "Сколько уникальных производителей осталось в итоге?"
   ]
  },
  {
   "cell_type": "code",
   "execution_count": 28,
   "metadata": {},
   "outputs": [
    {
     "data": {
      "text/plain": [
       "array(['alfa-romero', 'audi', 'bmw', 'chevrolet', 'dodge', 'honda',\n",
       "       'isuzu', 'jaguar', 'maxda', 'mazda', 'buick', 'mercury',\n",
       "       'mitsubishi', 'nissan', 'peugeot', 'plymouth', 'porsche',\n",
       "       'porcshce', 'renault', 'saab', 'subaru', 'toyota', 'volkswagen',\n",
       "       'volvo'], dtype=object)"
      ]
     },
     "execution_count": 28,
     "metadata": {},
     "output_type": "execute_result"
    }
   ],
   "source": [
    "df.company.unique()"
   ]
  },
  {
   "cell_type": "code",
   "execution_count": 30,
   "metadata": {},
   "outputs": [],
   "source": [
    "df['company'] = df.company.str.lower()\n",
    "\n",
    "to_replace = {\n",
    "    'toyouta':'toyota',\n",
    "    'vokswagen' : 'volkswagen',\n",
    "    'vw' :'volkswagen',\n",
    "    'maxda' : 'mazda',\n",
    "    'porcshce' : 'porsche'\n",
    "}\n",
    "\n",
    "for typo in to_replace:\n",
    "    df.loc[df.company == typo, 'company'] = to_replace[typo]"
   ]
  },
  {
   "cell_type": "code",
   "execution_count": 31,
   "metadata": {},
   "outputs": [
    {
     "data": {
      "text/plain": [
       "22"
      ]
     },
     "execution_count": 31,
     "metadata": {},
     "output_type": "execute_result"
    }
   ],
   "source": [
    "df.company.nunique()"
   ]
  },
  {
   "cell_type": "markdown",
   "metadata": {},
   "source": [
    "#### Задание 4\n",
    "Отлично! Чтобы не перегружать модель большим количеством предикторов, оставим только часть из них:\n",
    "\n",
    "<pre>\n",
    "'company', 'fueltype', 'aspiration','carbody',\n",
    "'drivewheel', 'wheelbase', 'carlength','carwidth',\n",
    "'curbweight', 'enginetype', 'cylindernumber', 'enginesize',\n",
    "'boreratio','horsepower'\n",
    "</pre>\n",
    "также не забыв про то, что мы предсказываем – 'price'. \n",
    "\n",
    "После этого посчитайте корреляцию между price и другими переменными. Чему равна корреляция между price и horsepower? Ответ округлите до 2 знаков после точки.\n",
    "\n",
    "Hint: можно использовать метод для датафрейма – .corr()"
   ]
  },
  {
   "cell_type": "code",
   "execution_count": 34,
   "metadata": {},
   "outputs": [],
   "source": [
    "interested = ['price','company', 'fueltype', 'aspiration','carbody',\n",
    "'drivewheel', 'wheelbase', 'carlength','carwidth',\n",
    "'curbweight', 'enginetype', 'cylindernumber', 'enginesize',\n",
    "'boreratio','horsepower']"
   ]
  },
  {
   "cell_type": "code",
   "execution_count": 108,
   "metadata": {},
   "outputs": [],
   "source": [
    "df_ = df[interested]"
   ]
  },
  {
   "cell_type": "code",
   "execution_count": 109,
   "metadata": {},
   "outputs": [
    {
     "data": {
      "text/html": [
       "<div>\n",
       "<style scoped>\n",
       "    .dataframe tbody tr th:only-of-type {\n",
       "        vertical-align: middle;\n",
       "    }\n",
       "\n",
       "    .dataframe tbody tr th {\n",
       "        vertical-align: top;\n",
       "    }\n",
       "\n",
       "    .dataframe thead th {\n",
       "        text-align: right;\n",
       "    }\n",
       "</style>\n",
       "<table border=\"1\" class=\"dataframe\">\n",
       "  <thead>\n",
       "    <tr style=\"text-align: right;\">\n",
       "      <th></th>\n",
       "      <th>price</th>\n",
       "      <th>wheelbase</th>\n",
       "      <th>carlength</th>\n",
       "      <th>carwidth</th>\n",
       "      <th>curbweight</th>\n",
       "      <th>enginesize</th>\n",
       "      <th>boreratio</th>\n",
       "      <th>horsepower</th>\n",
       "    </tr>\n",
       "  </thead>\n",
       "  <tbody>\n",
       "    <tr>\n",
       "      <th>price</th>\n",
       "      <td>1.00</td>\n",
       "      <td>0.58</td>\n",
       "      <td>0.68</td>\n",
       "      <td>0.76</td>\n",
       "      <td>0.84</td>\n",
       "      <td>0.87</td>\n",
       "      <td>0.55</td>\n",
       "      <td>0.81</td>\n",
       "    </tr>\n",
       "    <tr>\n",
       "      <th>wheelbase</th>\n",
       "      <td>0.58</td>\n",
       "      <td>1.00</td>\n",
       "      <td>0.87</td>\n",
       "      <td>0.80</td>\n",
       "      <td>0.78</td>\n",
       "      <td>0.57</td>\n",
       "      <td>0.49</td>\n",
       "      <td>0.35</td>\n",
       "    </tr>\n",
       "    <tr>\n",
       "      <th>carlength</th>\n",
       "      <td>0.68</td>\n",
       "      <td>0.87</td>\n",
       "      <td>1.00</td>\n",
       "      <td>0.84</td>\n",
       "      <td>0.88</td>\n",
       "      <td>0.68</td>\n",
       "      <td>0.61</td>\n",
       "      <td>0.55</td>\n",
       "    </tr>\n",
       "    <tr>\n",
       "      <th>carwidth</th>\n",
       "      <td>0.76</td>\n",
       "      <td>0.80</td>\n",
       "      <td>0.84</td>\n",
       "      <td>1.00</td>\n",
       "      <td>0.87</td>\n",
       "      <td>0.74</td>\n",
       "      <td>0.56</td>\n",
       "      <td>0.64</td>\n",
       "    </tr>\n",
       "    <tr>\n",
       "      <th>curbweight</th>\n",
       "      <td>0.84</td>\n",
       "      <td>0.78</td>\n",
       "      <td>0.88</td>\n",
       "      <td>0.87</td>\n",
       "      <td>1.00</td>\n",
       "      <td>0.85</td>\n",
       "      <td>0.65</td>\n",
       "      <td>0.75</td>\n",
       "    </tr>\n",
       "    <tr>\n",
       "      <th>enginesize</th>\n",
       "      <td>0.87</td>\n",
       "      <td>0.57</td>\n",
       "      <td>0.68</td>\n",
       "      <td>0.74</td>\n",
       "      <td>0.85</td>\n",
       "      <td>1.00</td>\n",
       "      <td>0.58</td>\n",
       "      <td>0.81</td>\n",
       "    </tr>\n",
       "    <tr>\n",
       "      <th>boreratio</th>\n",
       "      <td>0.55</td>\n",
       "      <td>0.49</td>\n",
       "      <td>0.61</td>\n",
       "      <td>0.56</td>\n",
       "      <td>0.65</td>\n",
       "      <td>0.58</td>\n",
       "      <td>1.00</td>\n",
       "      <td>0.57</td>\n",
       "    </tr>\n",
       "    <tr>\n",
       "      <th>horsepower</th>\n",
       "      <td>0.81</td>\n",
       "      <td>0.35</td>\n",
       "      <td>0.55</td>\n",
       "      <td>0.64</td>\n",
       "      <td>0.75</td>\n",
       "      <td>0.81</td>\n",
       "      <td>0.57</td>\n",
       "      <td>1.00</td>\n",
       "    </tr>\n",
       "  </tbody>\n",
       "</table>\n",
       "</div>"
      ],
      "text/plain": [
       "            price  wheelbase  carlength  carwidth  curbweight  enginesize  \\\n",
       "price        1.00       0.58       0.68      0.76        0.84        0.87   \n",
       "wheelbase    0.58       1.00       0.87      0.80        0.78        0.57   \n",
       "carlength    0.68       0.87       1.00      0.84        0.88        0.68   \n",
       "carwidth     0.76       0.80       0.84      1.00        0.87        0.74   \n",
       "curbweight   0.84       0.78       0.88      0.87        1.00        0.85   \n",
       "enginesize   0.87       0.57       0.68      0.74        0.85        1.00   \n",
       "boreratio    0.55       0.49       0.61      0.56        0.65        0.58   \n",
       "horsepower   0.81       0.35       0.55      0.64        0.75        0.81   \n",
       "\n",
       "            boreratio  horsepower  \n",
       "price            0.55        0.81  \n",
       "wheelbase        0.49        0.35  \n",
       "carlength        0.61        0.55  \n",
       "carwidth         0.56        0.64  \n",
       "curbweight       0.65        0.75  \n",
       "enginesize       0.58        0.81  \n",
       "boreratio        1.00        0.57  \n",
       "horsepower       0.57        1.00  "
      ]
     },
     "execution_count": 109,
     "metadata": {},
     "output_type": "execute_result"
    }
   ],
   "source": [
    "df_.corr().round(2)"
   ]
  },
  {
   "cell_type": "markdown",
   "metadata": {},
   "source": [
    "#### Задание 5\n",
    "Последний шаг в подготовке данных: линейная регрессия в python не справляется с категориальными переменными (типом object в pandas), поэтому давайте применим pd.get_dummies(). Пример использования:\n",
    "\n",
    "<code>\n",
    "df_dummy = pd.get_dummies(data=cars[[список_столбцов_типа_object]], drop_first = True)\n",
    "</code>\n",
    "\n",
    "Не забудьте присоединить к полученному датасету столбцы с переменными других типов :) Также обратите внимание: мы должны использовать тот же набор колонок, который был на предыдущем шаге!\n",
    "\n",
    "Сколько колонок теперь имеется в датасете?\n",
    "\n",
    "Hint: pd.concat([df_1, df_2], axis=1)"
   ]
  },
  {
   "cell_type": "code",
   "execution_count": 99,
   "metadata": {},
   "outputs": [
    {
     "data": {
      "text/html": [
       "<div>\n",
       "<style scoped>\n",
       "    .dataframe tbody tr th:only-of-type {\n",
       "        vertical-align: middle;\n",
       "    }\n",
       "\n",
       "    .dataframe tbody tr th {\n",
       "        vertical-align: top;\n",
       "    }\n",
       "\n",
       "    .dataframe thead th {\n",
       "        text-align: right;\n",
       "    }\n",
       "</style>\n",
       "<table border=\"1\" class=\"dataframe\">\n",
       "  <thead>\n",
       "    <tr style=\"text-align: right;\">\n",
       "      <th></th>\n",
       "      <th>price</th>\n",
       "      <th>company</th>\n",
       "      <th>fueltype</th>\n",
       "      <th>aspiration</th>\n",
       "      <th>carbody</th>\n",
       "      <th>drivewheel</th>\n",
       "      <th>wheelbase</th>\n",
       "      <th>carlength</th>\n",
       "      <th>carwidth</th>\n",
       "      <th>curbweight</th>\n",
       "      <th>enginetype</th>\n",
       "      <th>cylindernumber</th>\n",
       "      <th>enginesize</th>\n",
       "      <th>boreratio</th>\n",
       "      <th>horsepower</th>\n",
       "    </tr>\n",
       "  </thead>\n",
       "  <tbody>\n",
       "    <tr>\n",
       "      <th>0</th>\n",
       "      <td>13495.0</td>\n",
       "      <td>alfa-romero</td>\n",
       "      <td>gas</td>\n",
       "      <td>std</td>\n",
       "      <td>convertible</td>\n",
       "      <td>rwd</td>\n",
       "      <td>88.6</td>\n",
       "      <td>168.8</td>\n",
       "      <td>64.1</td>\n",
       "      <td>2548</td>\n",
       "      <td>dohc</td>\n",
       "      <td>four</td>\n",
       "      <td>130</td>\n",
       "      <td>3.47</td>\n",
       "      <td>111</td>\n",
       "    </tr>\n",
       "    <tr>\n",
       "      <th>1</th>\n",
       "      <td>16500.0</td>\n",
       "      <td>alfa-romero</td>\n",
       "      <td>gas</td>\n",
       "      <td>std</td>\n",
       "      <td>convertible</td>\n",
       "      <td>rwd</td>\n",
       "      <td>88.6</td>\n",
       "      <td>168.8</td>\n",
       "      <td>64.1</td>\n",
       "      <td>2548</td>\n",
       "      <td>dohc</td>\n",
       "      <td>four</td>\n",
       "      <td>130</td>\n",
       "      <td>3.47</td>\n",
       "      <td>111</td>\n",
       "    </tr>\n",
       "    <tr>\n",
       "      <th>2</th>\n",
       "      <td>16500.0</td>\n",
       "      <td>alfa-romero</td>\n",
       "      <td>gas</td>\n",
       "      <td>std</td>\n",
       "      <td>hatchback</td>\n",
       "      <td>rwd</td>\n",
       "      <td>94.5</td>\n",
       "      <td>171.2</td>\n",
       "      <td>65.5</td>\n",
       "      <td>2823</td>\n",
       "      <td>ohcv</td>\n",
       "      <td>six</td>\n",
       "      <td>152</td>\n",
       "      <td>2.68</td>\n",
       "      <td>154</td>\n",
       "    </tr>\n",
       "    <tr>\n",
       "      <th>3</th>\n",
       "      <td>13950.0</td>\n",
       "      <td>audi</td>\n",
       "      <td>gas</td>\n",
       "      <td>std</td>\n",
       "      <td>sedan</td>\n",
       "      <td>fwd</td>\n",
       "      <td>99.8</td>\n",
       "      <td>176.6</td>\n",
       "      <td>66.2</td>\n",
       "      <td>2337</td>\n",
       "      <td>ohc</td>\n",
       "      <td>four</td>\n",
       "      <td>109</td>\n",
       "      <td>3.19</td>\n",
       "      <td>102</td>\n",
       "    </tr>\n",
       "    <tr>\n",
       "      <th>4</th>\n",
       "      <td>17450.0</td>\n",
       "      <td>audi</td>\n",
       "      <td>gas</td>\n",
       "      <td>std</td>\n",
       "      <td>sedan</td>\n",
       "      <td>4wd</td>\n",
       "      <td>99.4</td>\n",
       "      <td>176.6</td>\n",
       "      <td>66.4</td>\n",
       "      <td>2824</td>\n",
       "      <td>ohc</td>\n",
       "      <td>five</td>\n",
       "      <td>136</td>\n",
       "      <td>3.19</td>\n",
       "      <td>115</td>\n",
       "    </tr>\n",
       "  </tbody>\n",
       "</table>\n",
       "</div>"
      ],
      "text/plain": [
       "     price      company fueltype aspiration      carbody drivewheel  \\\n",
       "0  13495.0  alfa-romero      gas        std  convertible        rwd   \n",
       "1  16500.0  alfa-romero      gas        std  convertible        rwd   \n",
       "2  16500.0  alfa-romero      gas        std    hatchback        rwd   \n",
       "3  13950.0         audi      gas        std        sedan        fwd   \n",
       "4  17450.0         audi      gas        std        sedan        4wd   \n",
       "\n",
       "   wheelbase  carlength  carwidth  curbweight enginetype cylindernumber  \\\n",
       "0       88.6      168.8      64.1        2548       dohc           four   \n",
       "1       88.6      168.8      64.1        2548       dohc           four   \n",
       "2       94.5      171.2      65.5        2823       ohcv            six   \n",
       "3       99.8      176.6      66.2        2337        ohc           four   \n",
       "4       99.4      176.6      66.4        2824        ohc           five   \n",
       "\n",
       "   enginesize  boreratio  horsepower  \n",
       "0         130       3.47         111  \n",
       "1         130       3.47         111  \n",
       "2         152       2.68         154  \n",
       "3         109       3.19         102  \n",
       "4         136       3.19         115  "
      ]
     },
     "execution_count": 99,
     "metadata": {},
     "output_type": "execute_result"
    }
   ],
   "source": [
    "df_.head()"
   ]
  },
  {
   "cell_type": "code",
   "execution_count": 110,
   "metadata": {},
   "outputs": [
    {
     "data": {
      "text/plain": [
       "(205, 15)"
      ]
     },
     "execution_count": 110,
     "metadata": {},
     "output_type": "execute_result"
    }
   ],
   "source": [
    "df_.shape"
   ]
  },
  {
   "cell_type": "code",
   "execution_count": 100,
   "metadata": {},
   "outputs": [],
   "source": [
    "to_dummies = df_.dtypes[df_.dtypes == 'object'].index.values"
   ]
  },
  {
   "cell_type": "code",
   "execution_count": 111,
   "metadata": {},
   "outputs": [],
   "source": [
    "df_dummy = pd.concat([df_.drop(columns=to_dummies), pd.get_dummies(data=df_[to_dummies], drop_first=True)], axis=1)"
   ]
  },
  {
   "cell_type": "code",
   "execution_count": 113,
   "metadata": {},
   "outputs": [
    {
     "data": {
      "text/plain": [
       "(205, 49)"
      ]
     },
     "execution_count": 113,
     "metadata": {},
     "output_type": "execute_result"
    }
   ],
   "source": [
    "df_dummy.shape"
   ]
  },
  {
   "cell_type": "code",
   "execution_count": 112,
   "metadata": {},
   "outputs": [
    {
     "data": {
      "text/plain": [
       "49"
      ]
     },
     "execution_count": 112,
     "metadata": {},
     "output_type": "execute_result"
    }
   ],
   "source": [
    "len(df_dummy.columns)"
   ]
  },
  {
   "cell_type": "markdown",
   "metadata": {},
   "source": [
    "#### Задание 6\n",
    "Сначала построим небольшую модель всего с одним предиктором цены (price) – horsepower.\n",
    "\n",
    "Какой процент изменчивости объясняет полученная модель? (округлите до целого)"
   ]
  },
  {
   "cell_type": "code",
   "execution_count": 114,
   "metadata": {},
   "outputs": [
    {
     "name": "stdout",
     "output_type": "stream",
     "text": [
      "                            OLS Regression Results                            \n",
      "==============================================================================\n",
      "Dep. Variable:                  price   R-squared:                       0.653\n",
      "Model:                            OLS   Adj. R-squared:                  0.651\n",
      "Method:                 Least Squares   F-statistic:                     382.2\n",
      "Date:                Sat, 25 Jun 2022   Prob (F-statistic):           1.48e-48\n",
      "Time:                        02:00:55   Log-Likelihood:                -2024.0\n",
      "No. Observations:                 205   AIC:                             4052.\n",
      "Df Residuals:                     203   BIC:                             4059.\n",
      "Df Model:                           1                                         \n",
      "Covariance Type:            nonrobust                                         \n",
      "==============================================================================\n",
      "                 coef    std err          t      P>|t|      [0.025      0.975]\n",
      "------------------------------------------------------------------------------\n",
      "Intercept  -3721.7615    929.849     -4.003      0.000   -5555.163   -1888.360\n",
      "horsepower   163.2631      8.351     19.549      0.000     146.796     179.730\n",
      "==============================================================================\n",
      "Omnibus:                       47.741   Durbin-Watson:                   0.792\n",
      "Prob(Omnibus):                  0.000   Jarque-Bera (JB):               91.702\n",
      "Skew:                           1.141   Prob(JB):                     1.22e-20\n",
      "Kurtosis:                       5.352   Cond. No.                         314.\n",
      "==============================================================================\n",
      "\n",
      "Notes:\n",
      "[1] Standard Errors assume that the covariance matrix of the errors is correctly specified.\n"
     ]
    }
   ],
   "source": [
    "results = smf.ols('price ~ horsepower', data=df_dummy).fit()\n",
    "summ = results.summary()\n",
    "print(summ)"
   ]
  },
  {
   "cell_type": "code",
   "execution_count": 104,
   "metadata": {},
   "outputs": [
    {
     "data": {
      "text/plain": [
       "65.0"
      ]
     },
     "execution_count": 104,
     "metadata": {},
     "output_type": "execute_result"
    }
   ],
   "source": [
    "round(0.651 * 100, 0)"
   ]
  },
  {
   "cell_type": "markdown",
   "metadata": {},
   "source": [
    "#### Задание 7\n",
    "Теперь – две модели:\n",
    "\n",
    "* модель со всеми предикторами\n",
    "* модель со всеми предикторами, кроме марок машин\n",
    "\n",
    "Обратите внимание на изменения в R^2, коэффициентах и их значимости. Какую модель лучше оставить?\n",
    "* Где больше предикторов, там R2 самый большой\n",
    "* Вообще с одним предиктором – horsepower!\n",
    "* **Где меньше предикторов, ведь R2 изменился не очень сильно, а часть марок вообще не значима**"
   ]
  },
  {
   "cell_type": "code",
   "execution_count": 115,
   "metadata": {},
   "outputs": [],
   "source": [
    "all_predictors = df_dummy.columns[df_dummy.columns != 'price'].values"
   ]
  },
  {
   "cell_type": "code",
   "execution_count": 123,
   "metadata": {},
   "outputs": [
    {
     "name": "stdout",
     "output_type": "stream",
     "text": [
      "                            OLS Regression Results                            \n",
      "==============================================================================\n",
      "Dep. Variable:                  price   R-squared:                       0.959\n",
      "Model:                            OLS   Adj. R-squared:                  0.948\n",
      "Method:                 Least Squares   F-statistic:                     81.09\n",
      "Date:                Sat, 25 Jun 2022   Prob (F-statistic):           4.86e-89\n",
      "Time:                        02:11:21   Log-Likelihood:                -1804.2\n",
      "No. Observations:                 205   AIC:                             3702.\n",
      "Df Residuals:                     158   BIC:                             3858.\n",
      "Df Model:                          46                                         \n",
      "Covariance Type:            nonrobust                                         \n",
      "=========================================================================================\n",
      "                            coef    std err          t      P>|t|      [0.025      0.975]\n",
      "-----------------------------------------------------------------------------------------\n",
      "const                 -3.472e+04   1.17e+04     -2.959      0.004   -5.79e+04   -1.15e+04\n",
      "wheelbase               147.1396     76.234      1.930      0.055      -3.429     297.708\n",
      "carlength              -113.2012     48.949     -2.313      0.022    -209.881     -16.522\n",
      "carwidth                809.1860    214.508      3.772      0.000     385.514    1232.858\n",
      "curbweight                4.1822      1.582      2.643      0.009       1.057       7.307\n",
      "enginesize               61.4212     23.643      2.598      0.010      14.724     108.119\n",
      "boreratio             -4319.4728   1759.825     -2.454      0.015   -7795.288    -843.657\n",
      "horsepower               34.7010     18.000      1.928      0.056      -0.850      70.252\n",
      "company_audi            437.1040   2125.971      0.206      0.837   -3761.885    4636.093\n",
      "company_bmw            7993.4998   2105.132      3.797      0.000    3835.671    1.22e+04\n",
      "company_buick          3431.0969   2472.252      1.388      0.167   -1451.829    8314.023\n",
      "company_chevrolet     -2107.0167   2054.269     -1.026      0.307   -6164.387    1950.353\n",
      "company_dodge         -3034.5530   1686.337     -1.799      0.074   -6365.224     296.118\n",
      "company_honda         -2328.7396   1622.141     -1.436      0.153   -5532.617     875.138\n",
      "company_isuzu          -926.1643   1819.489     -0.509      0.611   -4519.823    2667.495\n",
      "company_jaguar         2695.2664   2546.268      1.059      0.291   -2333.847    7724.379\n",
      "company_mazda         -1291.5657   1652.561     -0.782      0.436   -4555.527    1972.395\n",
      "company_mercury       -2762.0259   2786.701     -0.991      0.323   -8266.016    2741.965\n",
      "company_mitsubishi    -3699.6473   1650.046     -2.242      0.026   -6958.640    -440.654\n",
      "company_nissan        -1488.1217   1563.564     -0.952      0.343   -4576.305    1600.061\n",
      "company_peugeot       -2671.4595   1795.328     -1.488      0.139   -6217.398     874.479\n",
      "company_plymouth      -3052.1258   1670.829     -1.827      0.070   -6352.166     247.915\n",
      "company_porsche        4915.9715   2797.761      1.757      0.081    -609.864    1.04e+04\n",
      "company_renault       -2865.2197   2073.046     -1.382      0.169   -6959.676    1229.237\n",
      "company_saab            719.8222   1767.620      0.407      0.684   -2771.390    4211.035\n",
      "company_subaru        -1.164e+04   3416.221     -3.407      0.001   -1.84e+04   -4892.375\n",
      "company_toyota        -2608.7871   1539.320     -1.695      0.092   -5649.086     431.512\n",
      "company_volkswagen    -2261.9355   1606.886     -1.408      0.161   -5435.683     911.812\n",
      "company_volvo            68.2605   1943.170      0.035      0.972   -3769.679    3906.200\n",
      "fueltype_gas           -243.7792    908.310     -0.268      0.789   -2037.774    1550.216\n",
      "aspiration_turbo        596.6566    676.548      0.882      0.379    -739.588    1932.902\n",
      "carbody_hardtop       -2556.7157   1213.929     -2.106      0.037   -4954.337    -159.094\n",
      "carbody_hatchback     -3044.4196   1107.064     -2.750      0.007   -5230.972    -857.867\n",
      "carbody_sedan         -2256.9173   1154.971     -1.954      0.052   -4538.090      24.256\n",
      "carbody_wagon         -2815.4970   1223.156     -2.302      0.023   -5231.343    -399.651\n",
      "drivewheel_fwd         -169.4926    888.585     -0.191      0.849   -1924.531    1585.545\n",
      "drivewheel_rwd          231.9066   1039.685      0.223      0.824   -1821.566    2285.380\n",
      "enginetype_dohcv      -8358.0756   4326.239     -1.932      0.055   -1.69e+04     186.645\n",
      "enginetype_l          -1067.3120   1602.125     -0.666      0.506   -4231.657    2097.033\n",
      "enginetype_ohc         -273.7175   1063.557     -0.257      0.797   -2374.341    1826.906\n",
      "enginetype_ohcf        1.031e+04   2672.508      3.857      0.000    5028.873    1.56e+04\n",
      "enginetype_ohcv       -2393.8587   1214.631     -1.971      0.050   -4792.867       5.150\n",
      "enginetype_rotor         37.4715   2092.597      0.018      0.986   -4095.600    4170.543\n",
      "cylindernumber_five   -5235.5232   2887.214     -1.813      0.072   -1.09e+04     466.990\n",
      "cylindernumber_four   -3741.3604   3542.130     -1.056      0.292   -1.07e+04    3254.673\n",
      "cylindernumber_six    -5441.5317   2628.646     -2.070      0.040   -1.06e+04    -249.713\n",
      "cylindernumber_three   1604.1476   2774.698      0.578      0.564   -3876.137    7084.432\n",
      "cylindernumber_twelve -8097.1585   3616.336     -2.239      0.027   -1.52e+04    -954.561\n",
      "cylindernumber_two       37.4715   2092.597      0.018      0.986   -4095.600    4170.543\n",
      "==============================================================================\n",
      "Omnibus:                       81.075   Durbin-Watson:                   1.382\n",
      "Prob(Omnibus):                  0.000   Jarque-Bera (JB):              487.187\n",
      "Skew:                           1.379   Prob(JB):                    1.62e-106\n",
      "Kurtosis:                      10.031   Cond. No.                     1.02e+16\n",
      "==============================================================================\n",
      "\n",
      "Notes:\n",
      "[1] Standard Errors assume that the covariance matrix of the errors is correctly specified.\n",
      "[2] The smallest eigenvalue is 1.35e-23. This might indicate that there are\n",
      "strong multicollinearity problems or that the design matrix is singular.\n"
     ]
    }
   ],
   "source": [
    "X = sm.add_constant(df_dummy[all_predictors])  # добавить константу, чтобы был свободный член\n",
    "Y = df.price\n",
    "model = sm.OLS(Y, X)  # говорим модели, что у нас ЗП, а что НП\n",
    "results = model.fit()  # строим регрессионную прямую\n",
    "all_predictors_summ = results.summary()\n",
    "print(all_predictors_summ)  # смотрим результат"
   ]
  },
  {
   "cell_type": "code",
   "execution_count": 173,
   "metadata": {},
   "outputs": [
    {
     "data": {
      "text/html": [
       "<div>\n",
       "<style scoped>\n",
       "    .dataframe tbody tr th:only-of-type {\n",
       "        vertical-align: middle;\n",
       "    }\n",
       "\n",
       "    .dataframe tbody tr th {\n",
       "        vertical-align: top;\n",
       "    }\n",
       "\n",
       "    .dataframe thead th {\n",
       "        text-align: right;\n",
       "    }\n",
       "</style>\n",
       "<table border=\"1\" class=\"dataframe\">\n",
       "  <thead>\n",
       "    <tr style=\"text-align: right;\">\n",
       "      <th></th>\n",
       "      <th>coef</th>\n",
       "      <th>std err</th>\n",
       "      <th>t</th>\n",
       "      <th>P&gt;|t|</th>\n",
       "      <th>[0.025</th>\n",
       "      <th>0.975]</th>\n",
       "    </tr>\n",
       "  </thead>\n",
       "  <tbody>\n",
       "    <tr>\n",
       "      <th>const</th>\n",
       "      <td>-34720.0000</td>\n",
       "      <td>11700.000</td>\n",
       "      <td>-2.959</td>\n",
       "      <td>0.004</td>\n",
       "      <td>-57900.000</td>\n",
       "      <td>-11500.000</td>\n",
       "    </tr>\n",
       "    <tr>\n",
       "      <th>wheelbase</th>\n",
       "      <td>147.1396</td>\n",
       "      <td>76.234</td>\n",
       "      <td>1.930</td>\n",
       "      <td>0.055</td>\n",
       "      <td>-3.429</td>\n",
       "      <td>297.708</td>\n",
       "    </tr>\n",
       "    <tr>\n",
       "      <th>carlength</th>\n",
       "      <td>-113.2012</td>\n",
       "      <td>48.949</td>\n",
       "      <td>-2.313</td>\n",
       "      <td>0.022</td>\n",
       "      <td>-209.881</td>\n",
       "      <td>-16.522</td>\n",
       "    </tr>\n",
       "    <tr>\n",
       "      <th>carwidth</th>\n",
       "      <td>809.1860</td>\n",
       "      <td>214.508</td>\n",
       "      <td>3.772</td>\n",
       "      <td>0.000</td>\n",
       "      <td>385.514</td>\n",
       "      <td>1232.858</td>\n",
       "    </tr>\n",
       "    <tr>\n",
       "      <th>curbweight</th>\n",
       "      <td>4.1822</td>\n",
       "      <td>1.582</td>\n",
       "      <td>2.643</td>\n",
       "      <td>0.009</td>\n",
       "      <td>1.057</td>\n",
       "      <td>7.307</td>\n",
       "    </tr>\n",
       "  </tbody>\n",
       "</table>\n",
       "</div>"
      ],
      "text/plain": [
       "                  coef    std err      t  P>|t|     [0.025     0.975]\n",
       "const      -34720.0000  11700.000 -2.959  0.004 -57900.000 -11500.000\n",
       "wheelbase     147.1396     76.234  1.930  0.055     -3.429    297.708\n",
       "carlength    -113.2012     48.949 -2.313  0.022   -209.881    -16.522\n",
       "carwidth      809.1860    214.508  3.772  0.000    385.514   1232.858\n",
       "curbweight      4.1822      1.582  2.643  0.009      1.057      7.307"
      ]
     },
     "execution_count": 173,
     "metadata": {},
     "output_type": "execute_result"
    }
   ],
   "source": [
    "# Note that tables is a list. The table at index 1 is the \"core\" table. Additionally, read_html puts dfs in a list, so we want index 0\n",
    "results_as_html = all_predictors_summ.tables[1].as_html()\n",
    "df_reg = pd.read_html(results_as_html, header=0, index_col=0)[0]\n",
    "df_reg.head()"
   ]
  },
  {
   "cell_type": "code",
   "execution_count": 175,
   "metadata": {},
   "outputs": [
    {
     "data": {
      "text/plain": [
       "33"
      ]
     },
     "execution_count": 175,
     "metadata": {},
     "output_type": "execute_result"
    }
   ],
   "source": [
    "(df_reg['P>|t|'] > 0.05).sum()"
   ]
  },
  {
   "cell_type": "code",
   "execution_count": 119,
   "metadata": {},
   "outputs": [],
   "source": [
    "predictors = df_dummy.columns[df_dummy.columns != 'price']\n",
    "predictors = predictors[~predictors.str.contains('company')].values"
   ]
  },
  {
   "cell_type": "code",
   "execution_count": 176,
   "metadata": {},
   "outputs": [
    {
     "name": "stdout",
     "output_type": "stream",
     "text": [
      "                            OLS Regression Results                            \n",
      "==============================================================================\n",
      "Dep. Variable:                  price   R-squared:                       0.914\n",
      "Model:                            OLS   Adj. R-squared:                  0.901\n",
      "Method:                 Least Squares   F-statistic:                     72.32\n",
      "Date:                Sat, 25 Jun 2022   Prob (F-statistic):           9.86e-81\n",
      "Time:                        02:30:07   Log-Likelihood:                -1881.6\n",
      "No. Observations:                 205   AIC:                             3817.\n",
      "Df Residuals:                     178   BIC:                             3907.\n",
      "Df Model:                          26                                         \n",
      "Covariance Type:            nonrobust                                         \n",
      "=========================================================================================\n",
      "                            coef    std err          t      P>|t|      [0.025      0.975]\n",
      "-----------------------------------------------------------------------------------------\n",
      "const                   -1.7e+04    1.3e+04     -1.309      0.192   -4.26e+04    8625.219\n",
      "wheelbase                71.1868     87.028      0.818      0.414    -100.552     242.925\n",
      "carlength               -51.3497     50.341     -1.020      0.309    -150.692      47.993\n",
      "carwidth                541.8700    253.327      2.139      0.034      41.958    1041.782\n",
      "curbweight                2.9577      1.796      1.647      0.101      -0.585       6.501\n",
      "enginesize               36.0515     22.376      1.611      0.109      -8.105      80.208\n",
      "boreratio             -2230.4519   1731.681     -1.288      0.199   -5647.719    1186.815\n",
      "horsepower               86.8164     16.717      5.193      0.000      53.827     119.806\n",
      "fueltype_gas          -2423.0935    975.579     -2.484      0.014   -4348.283    -497.904\n",
      "aspiration_turbo      -1139.2334    787.230     -1.447      0.150   -2692.738     414.271\n",
      "carbody_hardtop       -3728.0949   1519.366     -2.454      0.015   -6726.383    -729.807\n",
      "carbody_hatchback     -4639.1279   1294.594     -3.583      0.000   -7193.855   -2084.401\n",
      "carbody_sedan         -3337.7854   1356.075     -2.461      0.015   -6013.838    -661.732\n",
      "carbody_wagon         -4315.4661   1465.089     -2.946      0.004   -7206.646   -1424.287\n",
      "drivewheel_fwd          297.2402   1121.766      0.265      0.791   -1916.431    2510.912\n",
      "drivewheel_rwd         1939.1594   1226.536      1.581      0.116    -481.263    4359.582\n",
      "enginetype_dohcv      -1.713e+04   4540.120     -3.773      0.000   -2.61e+04   -8171.142\n",
      "enginetype_l           2176.0521   1332.818      1.633      0.104    -454.106    4806.211\n",
      "enginetype_ohc         4006.5687    897.437      4.464      0.000    2235.584    5777.553\n",
      "enginetype_ohcf        5421.2822   1388.078      3.906      0.000    2682.076    8160.488\n",
      "enginetype_ohcv       -5001.2242   1345.435     -3.717      0.000   -7656.280   -2346.169\n",
      "enginetype_rotor      -5196.6413   2084.532     -2.493      0.014   -9310.217   -1083.066\n",
      "cylindernumber_five   -1.389e+04   2891.599     -4.802      0.000   -1.96e+04   -8180.353\n",
      "cylindernumber_four   -1.618e+04   3243.610     -4.989      0.000   -2.26e+04   -9780.800\n",
      "cylindernumber_six    -1.175e+04   2287.516     -5.135      0.000   -1.63e+04   -7231.547\n",
      "cylindernumber_three  -9264.0553   4750.899     -1.950      0.053   -1.86e+04     111.279\n",
      "cylindernumber_twelve -1.214e+04   3386.507     -3.585      0.000   -1.88e+04   -5458.378\n",
      "cylindernumber_two    -5196.6413   2084.532     -2.493      0.014   -9310.217   -1083.066\n",
      "==============================================================================\n",
      "Omnibus:                       18.493   Durbin-Watson:                   1.249\n",
      "Prob(Omnibus):                  0.000   Jarque-Bera (JB):               50.728\n",
      "Skew:                           0.293   Prob(JB):                     9.65e-12\n",
      "Kurtosis:                       5.365   Cond. No.                     1.02e+16\n",
      "==============================================================================\n",
      "\n",
      "Notes:\n",
      "[1] Standard Errors assume that the covariance matrix of the errors is correctly specified.\n",
      "[2] The smallest eigenvalue is 1.35e-23. This might indicate that there are\n",
      "strong multicollinearity problems or that the design matrix is singular.\n"
     ]
    }
   ],
   "source": [
    "X = sm.add_constant(df_dummy[predictors])  # добавить константу, чтобы был свободный член\n",
    "Y = df.price\n",
    "model = sm.OLS(Y, X)  # говорим модели, что у нас ЗП, а что НП\n",
    "results = model.fit()  # строим регрессионную прямую\n",
    "summ = results.summary() \n",
    "print(summ)  # смотрим результат"
   ]
  },
  {
   "cell_type": "markdown",
   "metadata": {},
   "source": [
    "#### Задание 8\n",
    "Заполните пропуски:\n",
    "\n"
   ]
  },
  {
   "cell_type": "code",
   "execution_count": 180,
   "metadata": {},
   "outputs": [
    {
     "data": {
      "text/plain": [
       "27"
      ]
     },
     "execution_count": 180,
     "metadata": {},
     "output_type": "execute_result"
    }
   ],
   "source": [
    "len(predictors)"
   ]
  },
  {
   "cell_type": "code",
   "execution_count": 184,
   "metadata": {},
   "outputs": [
    {
     "data": {
      "text/html": [
       "<div>\n",
       "<style scoped>\n",
       "    .dataframe tbody tr th:only-of-type {\n",
       "        vertical-align: middle;\n",
       "    }\n",
       "\n",
       "    .dataframe tbody tr th {\n",
       "        vertical-align: top;\n",
       "    }\n",
       "\n",
       "    .dataframe thead th {\n",
       "        text-align: right;\n",
       "    }\n",
       "</style>\n",
       "<table border=\"1\" class=\"dataframe\">\n",
       "  <thead>\n",
       "    <tr style=\"text-align: right;\">\n",
       "      <th></th>\n",
       "      <th>coef</th>\n",
       "      <th>std err</th>\n",
       "      <th>t</th>\n",
       "      <th>P&gt;|t|</th>\n",
       "      <th>[0.025</th>\n",
       "      <th>0.975]</th>\n",
       "    </tr>\n",
       "  </thead>\n",
       "  <tbody>\n",
       "    <tr>\n",
       "      <th>const</th>\n",
       "      <td>-17000.0000</td>\n",
       "      <td>13000.000</td>\n",
       "      <td>-1.309</td>\n",
       "      <td>0.192</td>\n",
       "      <td>-42600.000</td>\n",
       "      <td>8625.219</td>\n",
       "    </tr>\n",
       "    <tr>\n",
       "      <th>wheelbase</th>\n",
       "      <td>71.1868</td>\n",
       "      <td>87.028</td>\n",
       "      <td>0.818</td>\n",
       "      <td>0.414</td>\n",
       "      <td>-100.552</td>\n",
       "      <td>242.925</td>\n",
       "    </tr>\n",
       "    <tr>\n",
       "      <th>carlength</th>\n",
       "      <td>-51.3497</td>\n",
       "      <td>50.341</td>\n",
       "      <td>-1.020</td>\n",
       "      <td>0.309</td>\n",
       "      <td>-150.692</td>\n",
       "      <td>47.993</td>\n",
       "    </tr>\n",
       "    <tr>\n",
       "      <th>carwidth</th>\n",
       "      <td>541.8700</td>\n",
       "      <td>253.327</td>\n",
       "      <td>2.139</td>\n",
       "      <td>0.034</td>\n",
       "      <td>41.958</td>\n",
       "      <td>1041.782</td>\n",
       "    </tr>\n",
       "    <tr>\n",
       "      <th>curbweight</th>\n",
       "      <td>2.9577</td>\n",
       "      <td>1.796</td>\n",
       "      <td>1.647</td>\n",
       "      <td>0.101</td>\n",
       "      <td>-0.585</td>\n",
       "      <td>6.501</td>\n",
       "    </tr>\n",
       "    <tr>\n",
       "      <th>enginesize</th>\n",
       "      <td>36.0515</td>\n",
       "      <td>22.376</td>\n",
       "      <td>1.611</td>\n",
       "      <td>0.109</td>\n",
       "      <td>-8.105</td>\n",
       "      <td>80.208</td>\n",
       "    </tr>\n",
       "    <tr>\n",
       "      <th>boreratio</th>\n",
       "      <td>-2230.4519</td>\n",
       "      <td>1731.681</td>\n",
       "      <td>-1.288</td>\n",
       "      <td>0.199</td>\n",
       "      <td>-5647.719</td>\n",
       "      <td>1186.815</td>\n",
       "    </tr>\n",
       "    <tr>\n",
       "      <th>horsepower</th>\n",
       "      <td>86.8164</td>\n",
       "      <td>16.717</td>\n",
       "      <td>5.193</td>\n",
       "      <td>0.000</td>\n",
       "      <td>53.827</td>\n",
       "      <td>119.806</td>\n",
       "    </tr>\n",
       "    <tr>\n",
       "      <th>fueltype_gas</th>\n",
       "      <td>-2423.0935</td>\n",
       "      <td>975.579</td>\n",
       "      <td>-2.484</td>\n",
       "      <td>0.014</td>\n",
       "      <td>-4348.283</td>\n",
       "      <td>-497.904</td>\n",
       "    </tr>\n",
       "    <tr>\n",
       "      <th>aspiration_turbo</th>\n",
       "      <td>-1139.2334</td>\n",
       "      <td>787.230</td>\n",
       "      <td>-1.447</td>\n",
       "      <td>0.150</td>\n",
       "      <td>-2692.738</td>\n",
       "      <td>414.271</td>\n",
       "    </tr>\n",
       "    <tr>\n",
       "      <th>carbody_hardtop</th>\n",
       "      <td>-3728.0949</td>\n",
       "      <td>1519.366</td>\n",
       "      <td>-2.454</td>\n",
       "      <td>0.015</td>\n",
       "      <td>-6726.383</td>\n",
       "      <td>-729.807</td>\n",
       "    </tr>\n",
       "    <tr>\n",
       "      <th>carbody_hatchback</th>\n",
       "      <td>-4639.1279</td>\n",
       "      <td>1294.594</td>\n",
       "      <td>-3.583</td>\n",
       "      <td>0.000</td>\n",
       "      <td>-7193.855</td>\n",
       "      <td>-2084.401</td>\n",
       "    </tr>\n",
       "    <tr>\n",
       "      <th>carbody_sedan</th>\n",
       "      <td>-3337.7854</td>\n",
       "      <td>1356.075</td>\n",
       "      <td>-2.461</td>\n",
       "      <td>0.015</td>\n",
       "      <td>-6013.838</td>\n",
       "      <td>-661.732</td>\n",
       "    </tr>\n",
       "    <tr>\n",
       "      <th>carbody_wagon</th>\n",
       "      <td>-4315.4661</td>\n",
       "      <td>1465.089</td>\n",
       "      <td>-2.946</td>\n",
       "      <td>0.004</td>\n",
       "      <td>-7206.646</td>\n",
       "      <td>-1424.287</td>\n",
       "    </tr>\n",
       "    <tr>\n",
       "      <th>drivewheel_fwd</th>\n",
       "      <td>297.2402</td>\n",
       "      <td>1121.766</td>\n",
       "      <td>0.265</td>\n",
       "      <td>0.791</td>\n",
       "      <td>-1916.431</td>\n",
       "      <td>2510.912</td>\n",
       "    </tr>\n",
       "    <tr>\n",
       "      <th>drivewheel_rwd</th>\n",
       "      <td>1939.1594</td>\n",
       "      <td>1226.536</td>\n",
       "      <td>1.581</td>\n",
       "      <td>0.116</td>\n",
       "      <td>-481.263</td>\n",
       "      <td>4359.582</td>\n",
       "    </tr>\n",
       "    <tr>\n",
       "      <th>enginetype_dohcv</th>\n",
       "      <td>-17130.0000</td>\n",
       "      <td>4540.120</td>\n",
       "      <td>-3.773</td>\n",
       "      <td>0.000</td>\n",
       "      <td>-26100.000</td>\n",
       "      <td>-8171.142</td>\n",
       "    </tr>\n",
       "    <tr>\n",
       "      <th>enginetype_l</th>\n",
       "      <td>2176.0521</td>\n",
       "      <td>1332.818</td>\n",
       "      <td>1.633</td>\n",
       "      <td>0.104</td>\n",
       "      <td>-454.106</td>\n",
       "      <td>4806.211</td>\n",
       "    </tr>\n",
       "    <tr>\n",
       "      <th>enginetype_ohc</th>\n",
       "      <td>4006.5687</td>\n",
       "      <td>897.437</td>\n",
       "      <td>4.464</td>\n",
       "      <td>0.000</td>\n",
       "      <td>2235.584</td>\n",
       "      <td>5777.553</td>\n",
       "    </tr>\n",
       "    <tr>\n",
       "      <th>enginetype_ohcf</th>\n",
       "      <td>5421.2822</td>\n",
       "      <td>1388.078</td>\n",
       "      <td>3.906</td>\n",
       "      <td>0.000</td>\n",
       "      <td>2682.076</td>\n",
       "      <td>8160.488</td>\n",
       "    </tr>\n",
       "    <tr>\n",
       "      <th>enginetype_ohcv</th>\n",
       "      <td>-5001.2242</td>\n",
       "      <td>1345.435</td>\n",
       "      <td>-3.717</td>\n",
       "      <td>0.000</td>\n",
       "      <td>-7656.280</td>\n",
       "      <td>-2346.169</td>\n",
       "    </tr>\n",
       "    <tr>\n",
       "      <th>enginetype_rotor</th>\n",
       "      <td>-5196.6413</td>\n",
       "      <td>2084.532</td>\n",
       "      <td>-2.493</td>\n",
       "      <td>0.014</td>\n",
       "      <td>-9310.217</td>\n",
       "      <td>-1083.066</td>\n",
       "    </tr>\n",
       "    <tr>\n",
       "      <th>cylindernumber_five</th>\n",
       "      <td>-13890.0000</td>\n",
       "      <td>2891.599</td>\n",
       "      <td>-4.802</td>\n",
       "      <td>0.000</td>\n",
       "      <td>-19600.000</td>\n",
       "      <td>-8180.353</td>\n",
       "    </tr>\n",
       "    <tr>\n",
       "      <th>cylindernumber_four</th>\n",
       "      <td>-16180.0000</td>\n",
       "      <td>3243.610</td>\n",
       "      <td>-4.989</td>\n",
       "      <td>0.000</td>\n",
       "      <td>-22600.000</td>\n",
       "      <td>-9780.800</td>\n",
       "    </tr>\n",
       "    <tr>\n",
       "      <th>cylindernumber_six</th>\n",
       "      <td>-11750.0000</td>\n",
       "      <td>2287.516</td>\n",
       "      <td>-5.135</td>\n",
       "      <td>0.000</td>\n",
       "      <td>-16300.000</td>\n",
       "      <td>-7231.547</td>\n",
       "    </tr>\n",
       "    <tr>\n",
       "      <th>cylindernumber_three</th>\n",
       "      <td>-9264.0553</td>\n",
       "      <td>4750.899</td>\n",
       "      <td>-1.950</td>\n",
       "      <td>0.053</td>\n",
       "      <td>-18600.000</td>\n",
       "      <td>111.279</td>\n",
       "    </tr>\n",
       "    <tr>\n",
       "      <th>cylindernumber_twelve</th>\n",
       "      <td>-12140.0000</td>\n",
       "      <td>3386.507</td>\n",
       "      <td>-3.585</td>\n",
       "      <td>0.000</td>\n",
       "      <td>-18800.000</td>\n",
       "      <td>-5458.378</td>\n",
       "    </tr>\n",
       "    <tr>\n",
       "      <th>cylindernumber_two</th>\n",
       "      <td>-5196.6413</td>\n",
       "      <td>2084.532</td>\n",
       "      <td>-2.493</td>\n",
       "      <td>0.014</td>\n",
       "      <td>-9310.217</td>\n",
       "      <td>-1083.066</td>\n",
       "    </tr>\n",
       "  </tbody>\n",
       "</table>\n",
       "</div>"
      ],
      "text/plain": [
       "                             coef    std err      t  P>|t|     [0.025  \\\n",
       "const                 -17000.0000  13000.000 -1.309  0.192 -42600.000   \n",
       "wheelbase                 71.1868     87.028  0.818  0.414   -100.552   \n",
       "carlength                -51.3497     50.341 -1.020  0.309   -150.692   \n",
       "carwidth                 541.8700    253.327  2.139  0.034     41.958   \n",
       "curbweight                 2.9577      1.796  1.647  0.101     -0.585   \n",
       "enginesize                36.0515     22.376  1.611  0.109     -8.105   \n",
       "boreratio              -2230.4519   1731.681 -1.288  0.199  -5647.719   \n",
       "horsepower                86.8164     16.717  5.193  0.000     53.827   \n",
       "fueltype_gas           -2423.0935    975.579 -2.484  0.014  -4348.283   \n",
       "aspiration_turbo       -1139.2334    787.230 -1.447  0.150  -2692.738   \n",
       "carbody_hardtop        -3728.0949   1519.366 -2.454  0.015  -6726.383   \n",
       "carbody_hatchback      -4639.1279   1294.594 -3.583  0.000  -7193.855   \n",
       "carbody_sedan          -3337.7854   1356.075 -2.461  0.015  -6013.838   \n",
       "carbody_wagon          -4315.4661   1465.089 -2.946  0.004  -7206.646   \n",
       "drivewheel_fwd           297.2402   1121.766  0.265  0.791  -1916.431   \n",
       "drivewheel_rwd          1939.1594   1226.536  1.581  0.116   -481.263   \n",
       "enginetype_dohcv      -17130.0000   4540.120 -3.773  0.000 -26100.000   \n",
       "enginetype_l            2176.0521   1332.818  1.633  0.104   -454.106   \n",
       "enginetype_ohc          4006.5687    897.437  4.464  0.000   2235.584   \n",
       "enginetype_ohcf         5421.2822   1388.078  3.906  0.000   2682.076   \n",
       "enginetype_ohcv        -5001.2242   1345.435 -3.717  0.000  -7656.280   \n",
       "enginetype_rotor       -5196.6413   2084.532 -2.493  0.014  -9310.217   \n",
       "cylindernumber_five   -13890.0000   2891.599 -4.802  0.000 -19600.000   \n",
       "cylindernumber_four   -16180.0000   3243.610 -4.989  0.000 -22600.000   \n",
       "cylindernumber_six    -11750.0000   2287.516 -5.135  0.000 -16300.000   \n",
       "cylindernumber_three   -9264.0553   4750.899 -1.950  0.053 -18600.000   \n",
       "cylindernumber_twelve -12140.0000   3386.507 -3.585  0.000 -18800.000   \n",
       "cylindernumber_two     -5196.6413   2084.532 -2.493  0.014  -9310.217   \n",
       "\n",
       "                         0.975]  \n",
       "const                  8625.219  \n",
       "wheelbase               242.925  \n",
       "carlength                47.993  \n",
       "carwidth               1041.782  \n",
       "curbweight                6.501  \n",
       "enginesize               80.208  \n",
       "boreratio              1186.815  \n",
       "horsepower              119.806  \n",
       "fueltype_gas           -497.904  \n",
       "aspiration_turbo        414.271  \n",
       "carbody_hardtop        -729.807  \n",
       "carbody_hatchback     -2084.401  \n",
       "carbody_sedan          -661.732  \n",
       "carbody_wagon         -1424.287  \n",
       "drivewheel_fwd         2510.912  \n",
       "drivewheel_rwd         4359.582  \n",
       "enginetype_dohcv      -8171.142  \n",
       "enginetype_l           4806.211  \n",
       "enginetype_ohc         5777.553  \n",
       "enginetype_ohcf        8160.488  \n",
       "enginetype_ohcv       -2346.169  \n",
       "enginetype_rotor      -1083.066  \n",
       "cylindernumber_five   -8180.353  \n",
       "cylindernumber_four   -9780.800  \n",
       "cylindernumber_six    -7231.547  \n",
       "cylindernumber_three    111.279  \n",
       "cylindernumber_twelve -5458.378  \n",
       "cylindernumber_two    -1083.066  "
      ]
     },
     "execution_count": 184,
     "metadata": {},
     "output_type": "execute_result"
    }
   ],
   "source": [
    "results_as_html = summ.tables[1].as_html()\n",
    "df_reg = pd.read_html(results_as_html, header=0, index_col=0)[0]\n",
    "df_reg"
   ]
  },
  {
   "cell_type": "code",
   "execution_count": 191,
   "metadata": {},
   "outputs": [
    {
     "data": {
      "text/plain": [
       "10"
      ]
     },
     "execution_count": 191,
     "metadata": {},
     "output_type": "execute_result"
    }
   ],
   "source": [
    "# исключаем const\n",
    "(df_reg['P>|t|'][1:] > 0.05).sum()"
   ]
  }
 ],
 "metadata": {
  "kernelspec": {
   "display_name": "Python 3.8.8 ('base')",
   "language": "python",
   "name": "python3"
  },
  "language_info": {
   "codemirror_mode": {
    "name": "ipython",
    "version": 3
   },
   "file_extension": ".py",
   "mimetype": "text/x-python",
   "name": "python",
   "nbconvert_exporter": "python",
   "pygments_lexer": "ipython3",
   "version": "3.8.8"
  },
  "orig_nbformat": 4,
  "vscode": {
   "interpreter": {
    "hash": "4c62ffd6e4fba16dfdbb3c8124c485821ec2dc2c629030f80ae71594aa9915f5"
   }
  }
 },
 "nbformat": 4,
 "nbformat_minor": 2
}
