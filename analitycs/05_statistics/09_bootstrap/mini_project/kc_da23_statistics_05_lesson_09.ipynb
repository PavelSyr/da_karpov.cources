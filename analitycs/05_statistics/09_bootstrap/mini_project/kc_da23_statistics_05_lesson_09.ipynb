{
 "cells": [
  {
   "cell_type": "code",
   "execution_count": 15,
   "metadata": {},
   "outputs": [],
   "source": [
    "import pandas as pd\n",
    "import numpy as np\n",
    "from scipy.stats import norm, mannwhitneyu\n",
    "from tqdm.auto import tqdm\n",
    "\n",
    "import seaborn as sns\n",
    "import matplotlib.pyplot as plt"
   ]
  },
  {
   "cell_type": "markdown",
   "metadata": {},
   "source": [
    "# Описание эксперимента\n",
    "Перед вами таблица, где числовая переменная – непрерывная. Задача – сравнить группы двумя способами: бутстрэпом и u-тестом."
   ]
  },
  {
   "cell_type": "markdown",
   "metadata": {},
   "source": [
    "# Загрузим данные"
   ]
  },
  {
   "cell_type": "markdown",
   "metadata": {},
   "source": [
    "## Описание колонок\n",
    "* **value** – значения метрики\n",
    "* **experimentVariant** – Вариант теста (*Control* – контроль, *Treatment* – тест)"
   ]
  },
  {
   "cell_type": "code",
   "execution_count": 16,
   "metadata": {},
   "outputs": [],
   "source": [
    "df = pd.read_csv('hw_bootstrap.csv', sep=';', index_col=0)"
   ]
  },
  {
   "cell_type": "markdown",
   "metadata": {},
   "source": [
    "## Посмотрим на данные и типы данных"
   ]
  },
  {
   "cell_type": "code",
   "execution_count": 17,
   "metadata": {},
   "outputs": [
    {
     "name": "stdout",
     "output_type": "stream",
     "text": [
      "\n",
      "количество строк: 1000\n",
      "количество колонок: 2\n",
      "количество пропущенных значений: 0\n",
      "\n"
     ]
    }
   ],
   "source": [
    "print(f'''\n",
    "количество строк: {df.shape[0]}\n",
    "количество колонок: {df.shape[1]}\n",
    "количество пропущенных значений: {df.isna().sum().sum()}\n",
    "''')"
   ]
  },
  {
   "cell_type": "code",
   "execution_count": 18,
   "metadata": {},
   "outputs": [
    {
     "data": {
      "text/html": [
       "<div>\n",
       "<style scoped>\n",
       "    .dataframe tbody tr th:only-of-type {\n",
       "        vertical-align: middle;\n",
       "    }\n",
       "\n",
       "    .dataframe tbody tr th {\n",
       "        vertical-align: top;\n",
       "    }\n",
       "\n",
       "    .dataframe thead th {\n",
       "        text-align: right;\n",
       "    }\n",
       "</style>\n",
       "<table border=\"1\" class=\"dataframe\">\n",
       "  <thead>\n",
       "    <tr style=\"text-align: right;\">\n",
       "      <th></th>\n",
       "      <th>value</th>\n",
       "      <th>experimentVariant</th>\n",
       "    </tr>\n",
       "  </thead>\n",
       "  <tbody>\n",
       "    <tr>\n",
       "      <th>1</th>\n",
       "      <td>10,3804953740268</td>\n",
       "      <td>Control</td>\n",
       "    </tr>\n",
       "    <tr>\n",
       "      <th>2</th>\n",
       "      <td>9,54686666784264</td>\n",
       "      <td>Control</td>\n",
       "    </tr>\n",
       "    <tr>\n",
       "      <th>3</th>\n",
       "      <td>11,0882146509904</td>\n",
       "      <td>Control</td>\n",
       "    </tr>\n",
       "    <tr>\n",
       "      <th>4</th>\n",
       "      <td>10,1472740570122</td>\n",
       "      <td>Control</td>\n",
       "    </tr>\n",
       "    <tr>\n",
       "      <th>5</th>\n",
       "      <td>9,78980767524929</td>\n",
       "      <td>Control</td>\n",
       "    </tr>\n",
       "  </tbody>\n",
       "</table>\n",
       "</div>"
      ],
      "text/plain": [
       "              value experimentVariant\n",
       "1  10,3804953740268           Control\n",
       "2  9,54686666784264           Control\n",
       "3  11,0882146509904           Control\n",
       "4  10,1472740570122           Control\n",
       "5  9,78980767524929           Control"
      ]
     },
     "execution_count": 18,
     "metadata": {},
     "output_type": "execute_result"
    }
   ],
   "source": [
    "df.head()"
   ]
  },
  {
   "cell_type": "code",
   "execution_count": 19,
   "metadata": {},
   "outputs": [
    {
     "data": {
      "text/plain": [
       "array(['Control', 'Treatment'], dtype=object)"
      ]
     },
     "execution_count": 19,
     "metadata": {},
     "output_type": "execute_result"
    }
   ],
   "source": [
    "df.experimentVariant.unique()"
   ]
  },
  {
   "cell_type": "code",
   "execution_count": 20,
   "metadata": {},
   "outputs": [
    {
     "data": {
      "text/plain": [
       "value                object\n",
       "experimentVariant    object\n",
       "dtype: object"
      ]
     },
     "execution_count": 20,
     "metadata": {},
     "output_type": "execute_result"
    }
   ],
   "source": [
    "df.dtypes"
   ]
  },
  {
   "cell_type": "code",
   "execution_count": 37,
   "metadata": {},
   "outputs": [
    {
     "data": {
      "text/plain": [
       "Control      500\n",
       "Treatment    500\n",
       "Name: experimentVariant, dtype: int64"
      ]
     },
     "execution_count": 37,
     "metadata": {},
     "output_type": "execute_result"
    }
   ],
   "source": [
    "df.experimentVariant.value_counts()"
   ]
  },
  {
   "cell_type": "markdown",
   "metadata": {},
   "source": [
    "Из-за разделителя запятой **value** имеет строковый тип данных"
   ]
  },
  {
   "cell_type": "markdown",
   "metadata": {},
   "source": [
    "## Предобработаем данные\n",
    "**value** нужно сделать числовым, для этого:\n",
    "* воспользуемся функцией **str.replase** и заменим *запятую* на *точку*\n",
    "* далее приведем к типу **float**"
   ]
  },
  {
   "cell_type": "code",
   "execution_count": 21,
   "metadata": {},
   "outputs": [],
   "source": [
    "\n",
    "df.value = df.value.str.replace(',','.').astype('float')"
   ]
  },
  {
   "cell_type": "code",
   "execution_count": 22,
   "metadata": {},
   "outputs": [
    {
     "data": {
      "text/plain": [
       "value                float64\n",
       "experimentVariant     object\n",
       "dtype: object"
      ]
     },
     "execution_count": 22,
     "metadata": {},
     "output_type": "execute_result"
    }
   ],
   "source": [
    "df.dtypes"
   ]
  },
  {
   "cell_type": "code",
   "execution_count": 23,
   "metadata": {},
   "outputs": [
    {
     "data": {
      "text/html": [
       "<div>\n",
       "<style scoped>\n",
       "    .dataframe tbody tr th:only-of-type {\n",
       "        vertical-align: middle;\n",
       "    }\n",
       "\n",
       "    .dataframe tbody tr th {\n",
       "        vertical-align: top;\n",
       "    }\n",
       "\n",
       "    .dataframe thead th {\n",
       "        text-align: right;\n",
       "    }\n",
       "</style>\n",
       "<table border=\"1\" class=\"dataframe\">\n",
       "  <thead>\n",
       "    <tr style=\"text-align: right;\">\n",
       "      <th></th>\n",
       "      <th>value</th>\n",
       "      <th>experimentVariant</th>\n",
       "    </tr>\n",
       "  </thead>\n",
       "  <tbody>\n",
       "    <tr>\n",
       "      <th>1</th>\n",
       "      <td>10.380495</td>\n",
       "      <td>Control</td>\n",
       "    </tr>\n",
       "    <tr>\n",
       "      <th>2</th>\n",
       "      <td>9.546867</td>\n",
       "      <td>Control</td>\n",
       "    </tr>\n",
       "    <tr>\n",
       "      <th>3</th>\n",
       "      <td>11.088215</td>\n",
       "      <td>Control</td>\n",
       "    </tr>\n",
       "    <tr>\n",
       "      <th>4</th>\n",
       "      <td>10.147274</td>\n",
       "      <td>Control</td>\n",
       "    </tr>\n",
       "    <tr>\n",
       "      <th>5</th>\n",
       "      <td>9.789808</td>\n",
       "      <td>Control</td>\n",
       "    </tr>\n",
       "  </tbody>\n",
       "</table>\n",
       "</div>"
      ],
      "text/plain": [
       "       value experimentVariant\n",
       "1  10.380495           Control\n",
       "2   9.546867           Control\n",
       "3  11.088215           Control\n",
       "4  10.147274           Control\n",
       "5   9.789808           Control"
      ]
     },
     "execution_count": 23,
     "metadata": {},
     "output_type": "execute_result"
    }
   ],
   "source": [
    "df.head()"
   ]
  },
  {
   "cell_type": "markdown",
   "metadata": {},
   "source": [
    "Разделим выборки на **test** и **control**"
   ]
  },
  {
   "cell_type": "code",
   "execution_count": 73,
   "metadata": {},
   "outputs": [],
   "source": [
    "test = df.query('experimentVariant == \"Treatment\"').reset_index().value\n",
    "control = df.query('experimentVariant == \"Control\"').reset_index().value"
   ]
  },
  {
   "cell_type": "code",
   "execution_count": 170,
   "metadata": {},
   "outputs": [
    {
     "data": {
      "text/plain": [
       "<AxesSubplot:xlabel='experimentVariant', ylabel='value'>"
      ]
     },
     "execution_count": 170,
     "metadata": {},
     "output_type": "execute_result"
    },
    {
     "data": {
      "image/png": "[encoded data removed]",
      "text/plain": [
       "<Figure size 432x288 with 1 Axes>"
      ]
     },
     "metadata": {},
     "output_type": "display_data"
    }
   ],
   "source": [
    "sns.boxplot(data=df, x='experimentVariant', y='value')"
   ]
  },
  {
   "cell_type": "code",
   "execution_count": 172,
   "metadata": {},
   "outputs": [
    {
     "data": {
      "text/plain": [
       "<seaborn.axisgrid.FacetGrid at 0x13b48721d60>"
      ]
     },
     "execution_count": 172,
     "metadata": {},
     "output_type": "execute_result"
    },
    {
     "data": {
      "image/png": "[encoded data removed]",
      "text/plain": [
       "<Figure size 360x360 with 1 Axes>"
      ]
     },
     "metadata": {},
     "output_type": "display_data"
    }
   ],
   "source": [
    "sns.displot(control)"
   ]
  },
  {
   "cell_type": "code",
   "execution_count": 227,
   "metadata": {},
   "outputs": [
    {
     "data": {
      "text/plain": [
       "<seaborn.axisgrid.FacetGrid at 0x13b0e89c7f0>"
      ]
     },
     "execution_count": 227,
     "metadata": {},
     "output_type": "execute_result"
    },
    {
     "data": {
      "image/png": "[encoded data removed]",
      "text/plain": [
       "<Figure size 360x360 with 1 Axes>"
      ]
     },
     "metadata": {},
     "output_type": "display_data"
    }
   ],
   "source": [
    "# как видно из боксплота, в тестовой выборке есть (предположительно) выбросы - отфильтруем их\n",
    "sns.displot(test[test < 500])"
   ]
  },
  {
   "cell_type": "markdown",
   "metadata": {},
   "source": [
    "# Задача 1.\n",
    "Сравните результат между тестом и контролем по двум кейсам:\n",
    "* Примените бутстрэп (с **np.mean**) и критерий **mann-whitney**, а потом сравните **p-value**\n",
    "* Примените бутстрэп (с **np.median**) и критерий **mann-whitney**, а потом сравните **p-value**."
   ]
  },
  {
   "cell_type": "markdown",
   "metadata": {},
   "source": [
    "## Объявим функцию\n",
    "Подходящую функцию возьмем из ноутбука **lecture_2.2_bootstrap.ipynb**, который использовался в <a href='https://lab.karpov.courses/learning/85/module/1061/lesson/9089/26685/118949/'>лекции</a>.\n",
    "\n",
    "Немного пропатчим визуализацию для выделения значений, попадающих в доверительный интервал."
   ]
  },
  {
   "cell_type": "code",
   "execution_count": 220,
   "metadata": {},
   "outputs": [],
   "source": [
    "# Объявим функцию, которая позволит проверять гипотезы с помощью бутстрэпа\n",
    "def get_bootstrap(\n",
    "    data_column_1, # числовые значения первой выборки\n",
    "    data_column_2, # числовые значения второй выборки\n",
    "    boot_it = 1000, # количество бутстрэп-подвыборок\n",
    "    statistic = np.mean, # интересующая нас статистика\n",
    "    bootstrap_conf_level = 0.95 # уровень значимости\n",
    "):\n",
    "    boot_len = max([len(data_column_1), len(data_column_2)])\n",
    "    boot_data = []\n",
    "    for i in tqdm(range(boot_it)): # извлекаем подвыборки\n",
    "        samples_1 = data_column_1.sample(\n",
    "            boot_len, \n",
    "            replace = True # параметр возвращения\n",
    "        ).values\n",
    "        \n",
    "        samples_2 = data_column_2.sample(\n",
    "            boot_len, \n",
    "            replace = True\n",
    "        ).values\n",
    "        \n",
    "        boot_data.append(statistic(samples_1-samples_2)) # mean() - применяем статистику\n",
    "        \n",
    "    pd_boot_data = pd.DataFrame(boot_data)\n",
    "        \n",
    "    left_quant = (1 - bootstrap_conf_level)/2\n",
    "    right_quant = 1 - (1 - bootstrap_conf_level) / 2\n",
    "    # confidence interval\n",
    "    ci = pd_boot_data.quantile([left_quant, right_quant])\n",
    "        \n",
    "    p_1 = norm.cdf(\n",
    "        x = 0, \n",
    "        loc = np.mean(boot_data), \n",
    "        scale = np.std(boot_data)\n",
    "    )\n",
    "    p_2 = norm.cdf(\n",
    "        x = 0, \n",
    "        loc = -np.mean(boot_data), \n",
    "        scale = np.std(boot_data)\n",
    "    )\n",
    "    p_value = min(p_1, p_2) * 2\n",
    "\n",
    "    raw_statistic_value = statistic(data_column_1-data_column_2)\n",
    "\n",
    "    # Визуализация\n",
    "    _, _, bars = plt.hist(pd_boot_data[0], bins = 50)\n",
    "    low = ci.iloc[0][0]\n",
    "    high = ci.iloc[1][0]\n",
    "    # выделим серым значения, попадающие в доверительный интервал\n",
    "    for b in bars:\n",
    "        abs_x = abs(b.get_x())\n",
    "        if abs_x <= low or abs_x >= high:\n",
    "            b.set_facecolor('red')\n",
    "        else:\n",
    "            b.set_facecolor('grey') \n",
    "            b.set_edgecolor('black')\n",
    "    \n",
    "    plt.style.use('ggplot')\n",
    "    plt.vlines(ci,ymin=0,ymax=50,linestyle='--',colors='gray')\n",
    "    plt.vlines(raw_statistic_value,ymin=0,ymax=50,linestyle='-',colors='y')\n",
    "    plt.xlabel('boot_data')\n",
    "    plt.ylabel('frequency')\n",
    "    plt.title(\"Histogram of boot_data\")\n",
    "    plt.show()\n",
    "       \n",
    "    return {\"boot_data\": boot_data, \n",
    "            \"ci\": ci, \n",
    "            \"p_value\": p_value,\n",
    "            \"statistic\":raw_statistic_value}"
   ]
  },
  {
   "cell_type": "code",
   "execution_count": 228,
   "metadata": {},
   "outputs": [],
   "source": [
    "# определим общие строковые константы, чтобы не дублировать их далее\n",
    "__can_reject_h0 = 'Есть основания для отклонения нулевой гипотезы'\n",
    "__cannot_reject_h0 = 'Не можем отклонить нулевую гипотезу'\n",
    "__h0_mean = 'о равенстве средних в контрольной и тестовой группах'\n",
    "__h0_median = 'о равенстве медиан в контрольной и тестовой группах'"
   ]
  },
  {
   "cell_type": "code",
   "execution_count": 229,
   "metadata": {},
   "outputs": [],
   "source": [
    "# объявим функцию для получения сообщения на основе p-value\n",
    "def get_conclusion_msg(p_value, alpha, h0):\n",
    "    how =''\n",
    "    conclusion = f'{__can_reject_h0} {h0}'\n",
    "    sign = \"<=\"\n",
    "    if p_value > alpha:\n",
    "        how = 'НЕ'\n",
    "        conclusion = f'{__cannot_reject_h0} {h0}'\n",
    "        sign = '>'\n",
    "    \n",
    "    return f'{round(p_value,6)}{sign}{alpha}\\nСредние значения тестовой и контрольной групп отличаются {how}значимо\\n{conclusion}'\n"
   ]
  },
  {
   "cell_type": "code",
   "execution_count": 232,
   "metadata": {},
   "outputs": [],
   "source": [
    "# объявим функцию для получения сообщения на основе результата бутстрэпа\n",
    "def get_conclusion_msg_by_bootstrap(low, high, statistic, statistic_name , h0):\n",
    "\n",
    "    conclusion = f'{__cannot_reject_h0} {h0}'\n",
    "    if low < 0 and 0 < high:\n",
    "        conclusion = f'{__cannot_reject_h0} {h0}' \n",
    "\n",
    "    return f'''Результат бутстрэпа:\n",
    "Доверительный интервал: ({round(low,4)} ; {round(high,4)})\n",
    "{statistic_name}: {round(statistic,4)}\n",
    "{conclusion}'''"
   ]
  },
  {
   "cell_type": "markdown",
   "metadata": {},
   "source": [
    "Применим бутстрэп (с **np.mean**)"
   ]
  },
  {
   "cell_type": "code",
   "execution_count": 213,
   "metadata": {},
   "outputs": [
    {
     "name": "stderr",
     "output_type": "stream",
     "text": [
      "100%|██████████| 2000/2000 [00:00<00:00, 2331.53it/s]\n"
     ]
    },
    {
     "data": {
      "image/png": "[encoded data removed]",
      "text/plain": [
       "<Figure size 432x288 with 1 Axes>"
      ]
     },
     "metadata": {},
     "output_type": "display_data"
    }
   ],
   "source": [
    "result_mean = get_bootstrap(\n",
    "    data_column_1=test, \n",
    "    data_column_2=control,\n",
    "    boot_it=2000,\n",
    "    statistic=np.mean,\n",
    "    bootstrap_conf_level = 0.95)\n"
   ]
  },
  {
   "cell_type": "code",
   "execution_count": 233,
   "metadata": {},
   "outputs": [
    {
     "name": "stdout",
     "output_type": "stream",
     "text": [
      "0.034905<=0.05\n",
      "Средние значения тестовой и контрольной групп отличаются значимо\n",
      "Есть основания для отклонения нулевой гипотезы о равенстве средних в контрольной и тестовой группах\n",
      "\n",
      "Результат бутстрэпа:\n",
      "Доверительный интервал: (3.8758 ; 36.1683)\n",
      "Среднее: 17.2946\n",
      "Не можем отклонить нулевую гипотезу о равенстве средних в контрольной и тестовой группах\n"
     ]
    }
   ],
   "source": [
    "conclusion_pvalue = get_conclusion_msg(result_mean['p_value'], 0.05, __h0_mean)\n",
    "\n",
    "conclusion_ci = get_conclusion_msg_by_bootstrap(\n",
    "    low=result_mean['ci'].iloc[0][0],\n",
    "    high=result_mean['ci'].iloc[1][0],\n",
    "    statistic=result_mean['statistic'],\n",
    "    statistic_name='Среднее',\n",
    "    h0=__h0_mean\n",
    ")\n",
    "\n",
    "print(f'{conclusion_pvalue}\\n\\n{conclusion_ci}')"
   ]
  },
  {
   "cell_type": "markdown",
   "metadata": {},
   "source": [
    "Применим бутстрэп (с **np.median**)"
   ]
  },
  {
   "cell_type": "code",
   "execution_count": 216,
   "metadata": {},
   "outputs": [
    {
     "name": "stderr",
     "output_type": "stream",
     "text": [
      "100%|██████████| 2000/2000 [00:01<00:00, 1599.14it/s]\n"
     ]
    },
    {
     "data": {
      "image/png": "[encoded data removed]",
      "text/plain": [
       "<Figure size 432x288 with 1 Axes>"
      ]
     },
     "metadata": {},
     "output_type": "display_data"
    }
   ],
   "source": [
    "result_median = get_bootstrap(\n",
    "    data_column_1=test, \n",
    "    data_column_2=control,\n",
    "    boot_it=2000,\n",
    "    statistic=np.median,\n",
    "    bootstrap_conf_level = 0.95)"
   ]
  },
  {
   "cell_type": "code",
   "execution_count": 234,
   "metadata": {},
   "outputs": [
    {
     "name": "stdout",
     "output_type": "stream",
     "text": [
      "0.902362>0.05\n",
      "Средние значения тестовой и контрольной групп отличаются НЕзначимо\n",
      "Не можем отклонить нулевую гипотезу о равенстве медиан в контрольной и тестовой группах\n",
      "\n",
      "Результат бутстрэпа:\n",
      "Доверительный интервал: (-0.1367 ; 0.1498)\n",
      "Медиана: 0.0\n",
      "Не можем отклонить нулевую гипотезу о равенстве медиан в контрольной и тестовой группах\n"
     ]
    }
   ],
   "source": [
    "conclusion_pvalue = get_conclusion_msg(result_median['p_value'], 0.05, __h0_median)\n",
    "\n",
    "conclusion_ci = get_conclusion_msg_by_bootstrap(\n",
    "    low=result_median['ci'].iloc[0][0],\n",
    "    high=result_median['ci'].iloc[1][0],\n",
    "    statistic=result_median['statistic'],\n",
    "    statistic_name='Медиана',\n",
    "    h0=__h0_median\n",
    ")\n",
    "\n",
    "print(f'{conclusion_pvalue}\\n\\n{conclusion_ci}')"
   ]
  },
  {
   "cell_type": "markdown",
   "metadata": {},
   "source": [
    "Применим U-критерий Манна — Уитни (**mannwhitneyu**)"
   ]
  },
  {
   "cell_type": "code",
   "execution_count": 218,
   "metadata": {},
   "outputs": [],
   "source": [
    "statistic, p_value = mannwhitneyu(\n",
    "    x=test,\n",
    "    y=control\n",
    ")"
   ]
  },
  {
   "cell_type": "code",
   "execution_count": 235,
   "metadata": {},
   "outputs": [
    {
     "name": "stdout",
     "output_type": "stream",
     "text": [
      "Результат U-критерия Манна — Уитни:\n",
      "Значение критерия: 125810.5\n",
      "p-value: 0.8592148582485579\n",
      "\n",
      "0.859215>0.05\n",
      "Средние значения тестовой и контрольной групп отличаются НЕзначимо\n",
      "Не можем отклонить нулевую гипотезу о равенстве средних в контрольной и тестовой группах\n"
     ]
    }
   ],
   "source": [
    "conclusion = get_conclusion_msg(p_value, 0.05, __h0_mean)\n",
    "\n",
    "print(f'''Результат U-критерия Манна — Уитни:\n",
    "Значение критерия: {statistic}\n",
    "p-value: {p_value}\n",
    "\n",
    "{conclusion}''')"
   ]
  },
  {
   "cell_type": "markdown",
   "metadata": {},
   "source": [
    "# Задача 2. Выводы"
   ]
  },
  {
   "cell_type": "markdown",
   "metadata": {},
   "source": [
    "1. бутстрэп для подсчета среднего (**np.mean**) показал, что выборки значимо отличаются:\n",
    "    * **p-value** (0.034905<=0.05);\n",
    "    * а также доверительный интервал (3.8758 ; 36.1683) НЕ включает 0.\n",
    "    \n",
    "2.  бутстрэп для подсчета медианы (**np.median**) показал, что выборки не отличаются:\n",
    "    * **p-value** (0.902362>0.05);\n",
    "    * а также доверительный интервал (-0.1367 ; 0.1498) включет 0.\n",
    "\n",
    "3. Использование U-критерия Манна—Уитни показало, что выборки не отличаются:\n",
    "    * **p-value** (0.859215>0.05), что согласуется со вторым способом бутстрэп от медианы.\n",
    "\n",
    "Получается, что использование среднего как сравнительной статистики для оценки схожести имеющихся выборок привело бы к ошибке I рода, неверному отклонению нулевой гипотезы и принятии решения о значимом различии результатов.\n",
    "\n",
    "Кроме того что бутсрэп от медианы в данном случае согласуется с U-критерием Манна-Уитни, результат бутсрэпа позволяет с большей уверенностью придерживаться версии о равенстве выборок (нулевой гипотезы), благодаря более высокому **p-value** (0.90 против 0.86)."
   ]
  }
 ],
 "metadata": {
  "kernelspec": {
   "display_name": "Python 3",
   "language": "python",
   "name": "python3"
  },
  "language_info": {
   "codemirror_mode": {
    "name": "ipython",
    "version": 3
   },
   "file_extension": ".py",
   "mimetype": "text/x-python",
   "name": "python",
   "nbconvert_exporter": "python",
   "pygments_lexer": "ipython3",
   "version": "3.8.8"
  },
  "vscode": {
   "interpreter": {
    "hash": "4c62ffd6e4fba16dfdbb3c8124c485821ec2dc2c629030f80ae71594aa9915f5"
   }
  }
 },
 "nbformat": 4,
 "nbformat_minor": 4
}
