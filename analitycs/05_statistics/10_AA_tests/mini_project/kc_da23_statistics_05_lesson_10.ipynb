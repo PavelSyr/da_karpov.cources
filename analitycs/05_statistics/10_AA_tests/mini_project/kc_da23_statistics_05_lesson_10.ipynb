{
 "cells": [
  {
   "cell_type": "code",
   "execution_count": 111,
   "metadata": {},
   "outputs": [],
   "source": [
    "import numpy as np\n",
    "import pandas as pd\n",
    "from scipy import stats\n",
    "import matplotlib.pyplot as plt\n",
    "\n",
    "from tqdm.auto import tqdm\n",
    "\n",
    "import seaborn as sns\n",
    "import matplotlib.pyplot as plt"
   ]
  },
  {
   "cell_type": "markdown",
   "metadata": {},
   "source": [
    "# Описание задания\n",
    "А/А-тестирование мобильного приложения. Необходимо посчитать результаты A/A-теста, проверяя метрику качества FPR (будем проверять на конверсии в покупку). Известно, что сплит-система сломана. Требуется проверить утверждение о поломке и найти ее причины, если сплит-система действительно сломана."
   ]
  },
  {
   "cell_type": "markdown",
   "metadata": {},
   "source": [
    "# Загрузим данные"
   ]
  },
  {
   "cell_type": "markdown",
   "metadata": {},
   "source": [
    "## Описание колонок\n",
    "* **experimentVariant** – вариант эксперимента\n",
    "* **version** – версия приложения\n",
    "* **purchase** – факт покупки"
   ]
  },
  {
   "cell_type": "code",
   "execution_count": 112,
   "metadata": {},
   "outputs": [],
   "source": [
    "df = pd.read_csv('hw_aa.csv', sep = ';', index_col=0)"
   ]
  },
  {
   "cell_type": "markdown",
   "metadata": {},
   "source": [
    "## Посмотрим на данные и типы данных"
   ]
  },
  {
   "cell_type": "code",
   "execution_count": 113,
   "metadata": {},
   "outputs": [
    {
     "name": "stdout",
     "output_type": "stream",
     "text": [
      "\n",
      "количество строк: 127018\n",
      "количество колонок: 4\n",
      "количество пропущенных значений: 0\n",
      "\n"
     ]
    }
   ],
   "source": [
    "print(f'''\n",
    "количество строк: {df.shape[0]}\n",
    "количество колонок: {df.shape[1]}\n",
    "количество пропущенных значений: {df.isna().sum().sum()}\n",
    "''')"
   ]
  },
  {
   "cell_type": "code",
   "execution_count": 114,
   "metadata": {},
   "outputs": [
    {
     "name": "stdout",
     "output_type": "stream",
     "text": [
      "uid(object) : 127018 : [...]\n",
      "experimentVariant(int64) : 2 : [1 0]\n",
      "version(object) : 4 : ['v2.8.0' 'v2.9.0' 'v3.7.4.0' 'v3.8.0.0']\n",
      "purchase(int64) : 2 : [0 1]\n"
     ]
    }
   ],
   "source": [
    "for c in df.columns:\n",
    "    dtype = df[c].dtype\n",
    "    nunique = df[c].nunique()\n",
    "    unique = '[...]'\n",
    "    if nunique <= 5:\n",
    "       unique =  df[c].unique()\n",
    "    print(f'{c}({dtype}) : {nunique} : {unique}')"
   ]
  },
  {
   "cell_type": "markdown",
   "metadata": {},
   "source": [
    "# Задача 1\n",
    "Запустите A/A-тест\n"
   ]
  },
  {
   "cell_type": "code",
   "execution_count": 191,
   "metadata": {},
   "outputs": [],
   "source": [
    "# определим функцию для запуска A/A теста, визуализации полученных p-value\n",
    "def get_aa_pvalues(a1: pd.Series, a2: pd.Series, simulations: int, n_s: int, hist_title: str = '', display_hist: bool = True):\n",
    "    res = []\n",
    "    # Запуск симуляций A/A теста\n",
    "    for i in tqdm(range(simulations)):\n",
    "        s1 = a1.sample(n_s, replace = False).values\n",
    "        s2 = a2.sample(n_s, replace = False).values\n",
    "        res.append(stats.ttest_ind(s1, s2, equal_var = False)[1]) # сохраняем pvalue\n",
    "\n",
    "    if display_hist:\n",
    "        # визуализация\n",
    "        plt.hist(res, bins = 50)\n",
    "        plt.style.use('ggplot')\n",
    "        plt.xlabel('pvalues')\n",
    "        plt.ylabel('frequency')\n",
    "        plt.title(f'Histogram of ttest A/A simulations {hist_title}')\n",
    "        plt.show()\n",
    "\n",
    "    return res"
   ]
  },
  {
   "cell_type": "code",
   "execution_count": 246,
   "metadata": {},
   "outputs": [],
   "source": [
    "# обределим функцию для проверки величины FPR для заданных альфа уровней\n",
    "def print_conglusion_by_fpr(fpr: dict):\n",
    "    for alpha in fpr:\n",
    "        if fpr[alpha] > alpha:\n",
    "            print(f'частота ложноположительных случаев {fpr[alpha]} превышает альфа {alpha}')\n",
    "        else:\n",
    "            print(f'частота ложноположительных случаев {fpr[alpha]} НЕ превышает альфа {alpha}')"
   ]
  },
  {
   "cell_type": "code",
   "execution_count": 196,
   "metadata": {},
   "outputs": [],
   "source": [
    "# обределим функцию для проверки ложноположительных случаев\n",
    "def get_fpr_by_alpha(pvalues, alpha_levels):\n",
    "    alphas = {}\n",
    "\n",
    "    l = len(pvalues)\n",
    "    np_arr = np.array(pvalues)\n",
    "\n",
    "    # Проверяем, что количество ложноположительных случаев не превышает альфа\n",
    "    for a in alpha_levels:\n",
    "        alphas[a] = sum(np_arr < a) / l\n",
    "    \n",
    "    return alphas"
   ]
  },
  {
   "cell_type": "code",
   "execution_count": 180,
   "metadata": {},
   "outputs": [],
   "source": [
    "# Объявим настройки симуляции\n",
    "simulations = 1000\n",
    "n_s = 1000"
   ]
  },
  {
   "cell_type": "code",
   "execution_count": 192,
   "metadata": {},
   "outputs": [
    {
     "name": "stderr",
     "output_type": "stream",
     "text": [
      "100%|██████████| 1000/1000 [00:06<00:00, 165.59it/s]\n"
     ]
    },
    {
     "data": {
      "image/png": "[encoded data removed]",
      "text/plain": [
       "<Figure size 432x288 with 1 Axes>"
      ]
     },
     "metadata": {},
     "output_type": "display_data"
    }
   ],
   "source": [
    "a1 = df.query('experimentVariant == 0').purchase\n",
    "a2 = df.query('experimentVariant == 1').purchase\n",
    "\n",
    "aa_pvalues = get_aa_pvalues(a1, a2, simulations, n_s)"
   ]
  },
  {
   "cell_type": "markdown",
   "metadata": {},
   "source": [
    "# Задача 2\n",
    "Посчитайте FPR на уровне альфа = 0.05 (ставьте подвыборки без возвращения объемом 1000). Вы увидите, что FPR > альфа! Нам нужно наоборот – чтобы было меньше."
   ]
  },
  {
   "cell_type": "code",
   "execution_count": 197,
   "metadata": {},
   "outputs": [
    {
     "name": "stdout",
     "output_type": "stream",
     "text": [
      "частота ложноположительных случаев 0.934 превышает альфа 0.05\n"
     ]
    }
   ],
   "source": [
    "# alphas = [0.01, 0.02, 0.03, 0.04, 0.05]\n",
    "alphas = [0.05]\n",
    "fpr = get_fpr_by_alpha(aa_pvalues, alphas)\n",
    "print_conglusion_by_fpr(fpr)"
   ]
  },
  {
   "cell_type": "markdown",
   "metadata": {},
   "source": [
    "Видно, что результат согласуется с заданием, **FPR** для *0.05* равен *0.934*, что больше *0.05* и указывает на то, что выборки не схожи между собой. Нужно искать причины."
   ]
  },
  {
   "cell_type": "markdown",
   "metadata": {},
   "source": [
    "# Задача 3\n",
    "Найдите причины поломки сплит-системы, ориентируясь на результаты эксперимента (подсказка: найдите аномалию в версии приложения)."
   ]
  },
  {
   "cell_type": "markdown",
   "metadata": {},
   "source": [
    "Посморим на версию выборки в зависимости от версии приложенния **version**"
   ]
  },
  {
   "cell_type": "code",
   "execution_count": 164,
   "metadata": {},
   "outputs": [
    {
     "data": {
      "text/plain": [
       "<seaborn.axisgrid.FacetGrid at 0x237173bca30>"
      ]
     },
     "execution_count": 164,
     "metadata": {},
     "output_type": "execute_result"
    },
    {
     "data": {
      "image/png": "[encoded data removed]",
      "text/plain": [
       "<Figure size 1540.88x360 with 4 Axes>"
      ]
     },
     "metadata": {},
     "output_type": "display_data"
    }
   ],
   "source": [
    "sns.displot(data=df, x='experimentVariant', hue='experimentVariant', col='version', bins=3)"
   ]
  },
  {
   "cell_type": "code",
   "execution_count": 165,
   "metadata": {},
   "outputs": [
    {
     "data": {
      "text/plain": [
       "version   experimentVariant\n",
       "v2.8.0    1                    41552\n",
       "          0                    41283\n",
       "v2.9.0    1                    12033\n",
       "          0                    11921\n",
       "v3.7.4.0  1                     4221\n",
       "          0                     4204\n",
       "v3.8.0.0  1                     6110\n",
       "          0                     5694\n",
       "Name: experimentVariant, dtype: int64"
      ]
     },
     "execution_count": 165,
     "metadata": {},
     "output_type": "execute_result"
    }
   ],
   "source": [
    "df.groupby(by='version').experimentVariant.value_counts()"
   ]
  },
  {
   "cell_type": "markdown",
   "metadata": {},
   "source": [
    "Посчитаем конверсию в зависимости от версии приложения"
   ]
  },
  {
   "cell_type": "code",
   "execution_count": 166,
   "metadata": {},
   "outputs": [
    {
     "data": {
      "text/html": [
       "<div>\n",
       "<style scoped>\n",
       "    .dataframe tbody tr th:only-of-type {\n",
       "        vertical-align: middle;\n",
       "    }\n",
       "\n",
       "    .dataframe tbody tr th {\n",
       "        vertical-align: top;\n",
       "    }\n",
       "\n",
       "    .dataframe thead th {\n",
       "        text-align: right;\n",
       "    }\n",
       "</style>\n",
       "<table border=\"1\" class=\"dataframe\">\n",
       "  <thead>\n",
       "    <tr style=\"text-align: right;\">\n",
       "      <th></th>\n",
       "      <th>version</th>\n",
       "      <th>purchase</th>\n",
       "      <th>conversion</th>\n",
       "    </tr>\n",
       "  </thead>\n",
       "  <tbody>\n",
       "    <tr>\n",
       "      <th>1</th>\n",
       "      <td>v2.8.0</td>\n",
       "      <td>1</td>\n",
       "      <td>2.3</td>\n",
       "    </tr>\n",
       "    <tr>\n",
       "      <th>3</th>\n",
       "      <td>v2.9.0</td>\n",
       "      <td>1</td>\n",
       "      <td>7.3</td>\n",
       "    </tr>\n",
       "    <tr>\n",
       "      <th>5</th>\n",
       "      <td>v3.7.4.0</td>\n",
       "      <td>1</td>\n",
       "      <td>6.1</td>\n",
       "    </tr>\n",
       "    <tr>\n",
       "      <th>7</th>\n",
       "      <td>v3.8.0.0</td>\n",
       "      <td>1</td>\n",
       "      <td>6.0</td>\n",
       "    </tr>\n",
       "  </tbody>\n",
       "</table>\n",
       "</div>"
      ],
      "text/plain": [
       "    version  purchase  conversion\n",
       "1    v2.8.0         1         2.3\n",
       "3    v2.9.0         1         7.3\n",
       "5  v3.7.4.0         1         6.1\n",
       "7  v3.8.0.0         1         6.0"
      ]
     },
     "execution_count": 166,
     "metadata": {},
     "output_type": "execute_result"
    }
   ],
   "source": [
    "df_version_conversion = df.groupby(by='version') \\\n",
    "    .purchase \\\n",
    "    .value_counts(normalize=True) \\\n",
    "    .round(3).mul(100) \\\n",
    "    .to_frame() \\\n",
    "    .rename(columns={'purchase':'conversion'}) \\\n",
    "    .reset_index() \\\n",
    "    .query('purchase == 1')\n",
    "\n",
    "df_version_conversion"
   ]
  },
  {
   "cell_type": "code",
   "execution_count": 167,
   "metadata": {},
   "outputs": [
    {
     "data": {
      "text/plain": [
       "<AxesSubplot:xlabel='version', ylabel='conversion'>"
      ]
     },
     "execution_count": 167,
     "metadata": {},
     "output_type": "execute_result"
    },
    {
     "data": {
      "image/png": "[encoded data removed]",
      "text/plain": [
       "<Figure size 432x288 with 1 Axes>"
      ]
     },
     "metadata": {},
     "output_type": "display_data"
    }
   ],
   "source": [
    "sns.barplot(data=df_version_conversion, x='version', y='conversion')"
   ]
  },
  {
   "cell_type": "markdown",
   "metadata": {},
   "source": [
    "В версии *v2.8.0* конверсия ниже, чем в других версиях, проверим FPR в разных версиях, вероятно, данные из старой версии портят выборку."
   ]
  },
  {
   "cell_type": "code",
   "execution_count": 183,
   "metadata": {},
   "outputs": [
    {
     "data": {
      "text/plain": [
       "array(['v2.8.0', 'v2.9.0', 'v3.7.4.0', 'v3.8.0.0'], dtype=object)"
      ]
     },
     "execution_count": 183,
     "metadata": {},
     "output_type": "execute_result"
    }
   ],
   "source": [
    "versions = df.version.unique()\n",
    "versions"
   ]
  },
  {
   "cell_type": "markdown",
   "metadata": {},
   "source": [
    "Для каждой версии выполним AA тест и получим **FPR**, но выполним несколько симуляций для каждой версии"
   ]
  },
  {
   "cell_type": "code",
   "execution_count": null,
   "metadata": {},
   "outputs": [],
   "source": [
    "num_tests = 100\n",
    "alpha_level = [0.05]\n",
    "df_dict = {'version':[], 'alpha': [], 'fpr':[]}"
   ]
  },
  {
   "cell_type": "markdown",
   "metadata": {},
   "source": [
    "ВАЖНО! Следующие расчеты выполнялись **~9минут!** Для тестов имеет смысл изменить значение *num_test*."
   ]
  },
  {
   "cell_type": "code",
   "execution_count": 198,
   "metadata": {},
   "outputs": [
    {
     "name": "stderr",
     "output_type": "stream",
     "text": [
      "100%|██████████| 1000/1000 [00:03<00:00, 332.35it/s]\n",
      "100%|██████████| 1000/1000 [00:01<00:00, 853.86it/s]\n",
      "100%|██████████| 1000/1000 [00:00<00:00, 1304.22it/s]\n",
      "100%|██████████| 1000/1000 [00:01<00:00, 974.36it/s]\n",
      "100%|██████████| 1000/1000 [00:02<00:00, 359.45it/s]\n",
      "100%|██████████| 1000/1000 [00:01<00:00, 836.39it/s]\n",
      "100%|██████████| 1000/1000 [00:00<00:00, 1189.88it/s]\n",
      "100%|██████████| 1000/1000 [00:00<00:00, 1180.64it/s]\n",
      "100%|██████████| 1000/1000 [00:02<00:00, 341.42it/s]\n",
      "100%|██████████| 1000/1000 [00:01<00:00, 739.54it/s]\n",
      "100%|██████████| 1000/1000 [00:00<00:00, 1286.75it/s]\n",
      "100%|██████████| 1000/1000 [00:00<00:00, 1129.99it/s]\n",
      "100%|██████████| 1000/1000 [00:03<00:00, 332.74it/s]\n",
      "100%|██████████| 1000/1000 [00:01<00:00, 783.22it/s]\n",
      "100%|██████████| 1000/1000 [00:00<00:00, 1285.78it/s]\n",
      "100%|██████████| 1000/1000 [00:00<00:00, 1151.22it/s]\n",
      "100%|██████████| 1000/1000 [00:02<00:00, 346.07it/s]\n",
      "100%|██████████| 1000/1000 [00:01<00:00, 846.34it/s]\n",
      "100%|██████████| 1000/1000 [00:00<00:00, 1352.81it/s]\n",
      "100%|██████████| 1000/1000 [00:00<00:00, 1145.03it/s]\n",
      "100%|██████████| 1000/1000 [00:02<00:00, 353.82it/s]\n",
      "100%|██████████| 1000/1000 [00:01<00:00, 828.78it/s]\n",
      "100%|██████████| 1000/1000 [00:00<00:00, 1225.59it/s]\n",
      "100%|██████████| 1000/1000 [00:00<00:00, 1028.23it/s]\n",
      "100%|██████████| 1000/1000 [00:02<00:00, 357.81it/s]\n",
      "100%|██████████| 1000/1000 [00:01<00:00, 768.14it/s]\n",
      "100%|██████████| 1000/1000 [00:00<00:00, 1327.71it/s]\n",
      "100%|██████████| 1000/1000 [00:00<00:00, 1163.39it/s]\n",
      "100%|██████████| 1000/1000 [00:02<00:00, 356.61it/s]\n",
      "100%|██████████| 1000/1000 [00:01<00:00, 822.00it/s]\n",
      "100%|██████████| 1000/1000 [00:00<00:00, 1253.25it/s]\n",
      "100%|██████████| 1000/1000 [00:00<00:00, 1170.61it/s]\n",
      "100%|██████████| 1000/1000 [00:02<00:00, 364.63it/s]\n",
      "100%|██████████| 1000/1000 [00:01<00:00, 771.63it/s]\n",
      "100%|██████████| 1000/1000 [00:00<00:00, 1278.84it/s]\n",
      "100%|██████████| 1000/1000 [00:00<00:00, 1160.99it/s]\n",
      "100%|██████████| 1000/1000 [00:02<00:00, 362.57it/s]\n",
      "100%|██████████| 1000/1000 [00:01<00:00, 842.38it/s]\n",
      "100%|██████████| 1000/1000 [00:00<00:00, 1209.43it/s]\n",
      "100%|██████████| 1000/1000 [00:00<00:00, 1134.49it/s]\n",
      "100%|██████████| 1000/1000 [00:02<00:00, 362.34it/s]\n",
      "100%|██████████| 1000/1000 [00:01<00:00, 854.36it/s]\n",
      "100%|██████████| 1000/1000 [00:00<00:00, 1406.86it/s]\n",
      "100%|██████████| 1000/1000 [00:00<00:00, 1164.71it/s]\n",
      "100%|██████████| 1000/1000 [00:02<00:00, 356.28it/s]\n",
      "100%|██████████| 1000/1000 [00:01<00:00, 762.64it/s]\n",
      "100%|██████████| 1000/1000 [00:00<00:00, 1275.21it/s]\n",
      "100%|██████████| 1000/1000 [00:00<00:00, 1153.82it/s]\n",
      "100%|██████████| 1000/1000 [00:02<00:00, 360.52it/s]\n",
      "100%|██████████| 1000/1000 [00:01<00:00, 848.74it/s]\n",
      "100%|██████████| 1000/1000 [00:00<00:00, 1338.96it/s]\n",
      "100%|██████████| 1000/1000 [00:00<00:00, 1049.23it/s]\n",
      "100%|██████████| 1000/1000 [00:02<00:00, 365.15it/s]\n",
      "100%|██████████| 1000/1000 [00:01<00:00, 831.20it/s]\n",
      "100%|██████████| 1000/1000 [00:00<00:00, 1296.26it/s]\n",
      "100%|██████████| 1000/1000 [00:00<00:00, 1155.48it/s]\n",
      "100%|██████████| 1000/1000 [00:02<00:00, 346.03it/s]\n",
      "100%|██████████| 1000/1000 [00:01<00:00, 845.79it/s]\n",
      "100%|██████████| 1000/1000 [00:00<00:00, 1339.44it/s]\n",
      "100%|██████████| 1000/1000 [00:00<00:00, 1146.22it/s]\n",
      "100%|██████████| 1000/1000 [00:02<00:00, 366.21it/s]\n",
      "100%|██████████| 1000/1000 [00:01<00:00, 832.58it/s]\n",
      "100%|██████████| 1000/1000 [00:00<00:00, 1344.31it/s]\n",
      "100%|██████████| 1000/1000 [00:00<00:00, 1018.40it/s]\n",
      "100%|██████████| 1000/1000 [00:02<00:00, 353.32it/s]\n",
      "100%|██████████| 1000/1000 [00:01<00:00, 841.61it/s]\n",
      "100%|██████████| 1000/1000 [00:00<00:00, 1320.24it/s]\n",
      "100%|██████████| 1000/1000 [00:00<00:00, 1096.49it/s]\n",
      "100%|██████████| 1000/1000 [00:02<00:00, 348.87it/s]\n",
      "100%|██████████| 1000/1000 [00:01<00:00, 801.19it/s]\n",
      "100%|██████████| 1000/1000 [00:00<00:00, 1273.50it/s]\n",
      "100%|██████████| 1000/1000 [00:00<00:00, 1160.34it/s]\n",
      "100%|██████████| 1000/1000 [00:02<00:00, 361.33it/s]\n",
      "100%|██████████| 1000/1000 [00:01<00:00, 837.86it/s]\n",
      "100%|██████████| 1000/1000 [00:00<00:00, 1316.98it/s]\n",
      "100%|██████████| 1000/1000 [00:00<00:00, 1170.43it/s]\n",
      "100%|██████████| 1000/1000 [00:02<00:00, 350.88it/s]\n",
      "100%|██████████| 1000/1000 [00:01<00:00, 817.33it/s]\n",
      "100%|██████████| 1000/1000 [00:00<00:00, 1307.08it/s]\n",
      "100%|██████████| 1000/1000 [00:01<00:00, 994.42it/s]\n",
      "100%|██████████| 1000/1000 [00:02<00:00, 355.55it/s]\n",
      "100%|██████████| 1000/1000 [00:01<00:00, 838.27it/s]\n",
      "100%|██████████| 1000/1000 [00:00<00:00, 1264.11it/s]\n",
      "100%|██████████| 1000/1000 [00:00<00:00, 1185.55it/s]\n",
      "100%|██████████| 1000/1000 [00:02<00:00, 361.98it/s]\n",
      "100%|██████████| 1000/1000 [00:01<00:00, 856.74it/s]\n",
      "100%|██████████| 1000/1000 [00:00<00:00, 1342.93it/s]\n",
      "100%|██████████| 1000/1000 [00:00<00:00, 1207.52it/s]\n",
      "100%|██████████| 1000/1000 [00:02<00:00, 352.88it/s]\n",
      "100%|██████████| 1000/1000 [00:01<00:00, 805.01it/s]\n",
      "100%|██████████| 1000/1000 [00:00<00:00, 1141.41it/s]\n",
      "100%|██████████| 1000/1000 [00:00<00:00, 1187.84it/s]\n",
      "100%|██████████| 1000/1000 [00:02<00:00, 362.81it/s]\n",
      "100%|██████████| 1000/1000 [00:01<00:00, 838.41it/s]\n",
      "100%|██████████| 1000/1000 [00:00<00:00, 1385.44it/s]\n",
      "100%|██████████| 1000/1000 [00:00<00:00, 1144.70it/s]\n",
      "100%|██████████| 1000/1000 [00:02<00:00, 368.83it/s]\n",
      "100%|██████████| 1000/1000 [00:01<00:00, 827.83it/s]\n",
      "100%|██████████| 1000/1000 [00:00<00:00, 1334.54it/s]\n",
      "100%|██████████| 1000/1000 [00:00<00:00, 1188.43it/s]\n",
      "100%|██████████| 1000/1000 [00:02<00:00, 357.20it/s]\n",
      "100%|██████████| 1000/1000 [00:01<00:00, 739.87it/s]\n",
      "100%|██████████| 1000/1000 [00:00<00:00, 1330.93it/s]\n",
      "100%|██████████| 1000/1000 [00:00<00:00, 1136.71it/s]\n",
      "100%|██████████| 1000/1000 [00:02<00:00, 353.86it/s]\n",
      "100%|██████████| 1000/1000 [00:01<00:00, 749.81it/s]\n",
      "100%|██████████| 1000/1000 [00:00<00:00, 1334.60it/s]\n",
      "100%|██████████| 1000/1000 [00:00<00:00, 1180.61it/s]\n",
      "100%|██████████| 1000/1000 [00:02<00:00, 356.22it/s]\n",
      "100%|██████████| 1000/1000 [00:01<00:00, 842.55it/s]\n",
      "100%|██████████| 1000/1000 [00:00<00:00, 1211.41it/s]\n",
      "100%|██████████| 1000/1000 [00:00<00:00, 1182.75it/s]\n",
      "100%|██████████| 1000/1000 [00:03<00:00, 303.10it/s]\n",
      "100%|██████████| 1000/1000 [00:01<00:00, 807.48it/s]\n",
      "100%|██████████| 1000/1000 [00:00<00:00, 1303.24it/s]\n",
      "100%|██████████| 1000/1000 [00:00<00:00, 1198.00it/s]\n",
      "100%|██████████| 1000/1000 [00:02<00:00, 365.54it/s]\n",
      "100%|██████████| 1000/1000 [00:01<00:00, 855.14it/s]\n",
      "100%|██████████| 1000/1000 [00:00<00:00, 1328.95it/s]\n",
      "100%|██████████| 1000/1000 [00:00<00:00, 1163.42it/s]\n",
      "100%|██████████| 1000/1000 [00:02<00:00, 360.76it/s]\n",
      "100%|██████████| 1000/1000 [00:01<00:00, 834.59it/s]\n",
      "100%|██████████| 1000/1000 [00:00<00:00, 1351.48it/s]\n",
      "100%|██████████| 1000/1000 [00:00<00:00, 1222.76it/s]\n",
      "100%|██████████| 1000/1000 [00:03<00:00, 332.11it/s]\n",
      "100%|██████████| 1000/1000 [00:01<00:00, 772.08it/s]\n",
      "100%|██████████| 1000/1000 [00:00<00:00, 1319.80it/s]\n",
      "100%|██████████| 1000/1000 [00:00<00:00, 1120.86it/s]\n",
      "100%|██████████| 1000/1000 [00:02<00:00, 365.87it/s]\n",
      "100%|██████████| 1000/1000 [00:01<00:00, 826.74it/s]\n",
      "100%|██████████| 1000/1000 [00:00<00:00, 1349.72it/s]\n",
      "100%|██████████| 1000/1000 [00:00<00:00, 1151.08it/s]\n",
      "100%|██████████| 1000/1000 [00:02<00:00, 364.84it/s]\n",
      "100%|██████████| 1000/1000 [00:01<00:00, 850.75it/s]\n",
      "100%|██████████| 1000/1000 [00:00<00:00, 1387.24it/s]\n",
      "100%|██████████| 1000/1000 [00:00<00:00, 1012.88it/s]\n",
      "100%|██████████| 1000/1000 [00:02<00:00, 344.46it/s]\n",
      "100%|██████████| 1000/1000 [00:01<00:00, 814.58it/s]\n",
      "100%|██████████| 1000/1000 [00:00<00:00, 1350.45it/s]\n",
      "100%|██████████| 1000/1000 [00:00<00:00, 1144.76it/s]\n",
      "100%|██████████| 1000/1000 [00:02<00:00, 356.27it/s]\n",
      "100%|██████████| 1000/1000 [00:01<00:00, 788.82it/s]\n",
      "100%|██████████| 1000/1000 [00:00<00:00, 1163.74it/s]\n",
      "100%|██████████| 1000/1000 [00:00<00:00, 1198.98it/s]\n",
      "100%|██████████| 1000/1000 [00:02<00:00, 365.29it/s]\n",
      "100%|██████████| 1000/1000 [00:01<00:00, 808.48it/s]\n",
      "100%|██████████| 1000/1000 [00:00<00:00, 1153.53it/s]\n",
      "100%|██████████| 1000/1000 [00:00<00:00, 1167.58it/s]\n",
      "100%|██████████| 1000/1000 [00:02<00:00, 361.03it/s]\n",
      "100%|██████████| 1000/1000 [00:01<00:00, 766.59it/s]\n",
      "100%|██████████| 1000/1000 [00:00<00:00, 1349.95it/s]\n",
      "100%|██████████| 1000/1000 [00:00<00:00, 1167.68it/s]\n",
      "100%|██████████| 1000/1000 [00:02<00:00, 364.18it/s]\n",
      "100%|██████████| 1000/1000 [00:01<00:00, 829.72it/s]\n",
      "100%|██████████| 1000/1000 [00:00<00:00, 1303.72it/s]\n",
      "100%|██████████| 1000/1000 [00:00<00:00, 1128.85it/s]\n",
      "100%|██████████| 1000/1000 [00:02<00:00, 355.79it/s]\n",
      "100%|██████████| 1000/1000 [00:01<00:00, 761.94it/s]\n",
      "100%|██████████| 1000/1000 [00:00<00:00, 1407.07it/s]\n",
      "100%|██████████| 1000/1000 [00:00<00:00, 1178.08it/s]\n",
      "100%|██████████| 1000/1000 [00:02<00:00, 365.03it/s]\n",
      "100%|██████████| 1000/1000 [00:01<00:00, 794.10it/s]\n",
      "100%|██████████| 1000/1000 [00:00<00:00, 1312.01it/s]\n",
      "100%|██████████| 1000/1000 [00:00<00:00, 1147.68it/s]\n",
      "100%|██████████| 1000/1000 [00:02<00:00, 346.48it/s]\n",
      "100%|██████████| 1000/1000 [00:01<00:00, 756.02it/s]\n",
      "100%|██████████| 1000/1000 [00:00<00:00, 1150.13it/s]\n",
      "100%|██████████| 1000/1000 [00:00<00:00, 1181.35it/s]\n",
      "100%|██████████| 1000/1000 [00:02<00:00, 341.46it/s]\n",
      "100%|██████████| 1000/1000 [00:01<00:00, 862.66it/s]\n",
      "100%|██████████| 1000/1000 [00:00<00:00, 1378.40it/s]\n",
      "100%|██████████| 1000/1000 [00:00<00:00, 1124.15it/s]\n",
      "100%|██████████| 1000/1000 [00:02<00:00, 363.05it/s]\n",
      "100%|██████████| 1000/1000 [00:01<00:00, 852.83it/s]\n",
      "100%|██████████| 1000/1000 [00:00<00:00, 1182.90it/s]\n",
      "100%|██████████| 1000/1000 [00:00<00:00, 1154.55it/s]\n",
      "100%|██████████| 1000/1000 [00:02<00:00, 361.30it/s]\n",
      "100%|██████████| 1000/1000 [00:01<00:00, 829.86it/s]\n",
      "100%|██████████| 1000/1000 [00:00<00:00, 1336.85it/s]\n",
      "100%|██████████| 1000/1000 [00:00<00:00, 1141.53it/s]\n",
      "100%|██████████| 1000/1000 [00:02<00:00, 351.02it/s]\n",
      "100%|██████████| 1000/1000 [00:01<00:00, 728.69it/s]\n",
      "100%|██████████| 1000/1000 [00:00<00:00, 1233.12it/s]\n",
      "100%|██████████| 1000/1000 [00:00<00:00, 1145.85it/s]\n",
      "100%|██████████| 1000/1000 [00:02<00:00, 351.13it/s]\n",
      "100%|██████████| 1000/1000 [00:01<00:00, 837.39it/s]\n",
      "100%|██████████| 1000/1000 [00:00<00:00, 1189.25it/s]\n",
      "100%|██████████| 1000/1000 [00:00<00:00, 1167.19it/s]\n",
      "100%|██████████| 1000/1000 [00:02<00:00, 362.22it/s]\n",
      "100%|██████████| 1000/1000 [00:01<00:00, 835.45it/s]\n",
      "100%|██████████| 1000/1000 [00:00<00:00, 1155.90it/s]\n",
      "100%|██████████| 1000/1000 [00:01<00:00, 967.74it/s]\n",
      "100%|██████████| 1000/1000 [00:02<00:00, 360.98it/s]\n",
      "100%|██████████| 1000/1000 [00:01<00:00, 849.14it/s]\n",
      "100%|██████████| 1000/1000 [00:00<00:00, 1335.05it/s]\n",
      "100%|██████████| 1000/1000 [00:00<00:00, 1136.13it/s]\n",
      "100%|██████████| 1000/1000 [00:02<00:00, 366.21it/s]\n",
      "100%|██████████| 1000/1000 [00:01<00:00, 867.59it/s]\n",
      "100%|██████████| 1000/1000 [00:00<00:00, 1351.87it/s]\n",
      "100%|██████████| 1000/1000 [00:00<00:00, 1027.25it/s]\n",
      "100%|██████████| 1000/1000 [00:02<00:00, 373.54it/s]\n",
      "100%|██████████| 1000/1000 [00:01<00:00, 721.49it/s]\n",
      "100%|██████████| 1000/1000 [00:00<00:00, 1152.54it/s]\n",
      "100%|██████████| 1000/1000 [00:00<00:00, 1156.36it/s]\n",
      "100%|██████████| 1000/1000 [00:02<00:00, 357.57it/s]\n",
      "100%|██████████| 1000/1000 [00:01<00:00, 838.34it/s]\n",
      "100%|██████████| 1000/1000 [00:00<00:00, 1277.26it/s]\n",
      "100%|██████████| 1000/1000 [00:00<00:00, 1207.25it/s]\n",
      "100%|██████████| 1000/1000 [00:02<00:00, 358.53it/s]\n",
      "100%|██████████| 1000/1000 [00:01<00:00, 815.52it/s]\n",
      "100%|██████████| 1000/1000 [00:00<00:00, 1326.50it/s]\n",
      "100%|██████████| 1000/1000 [00:00<00:00, 1170.65it/s]\n",
      "100%|██████████| 1000/1000 [00:03<00:00, 320.25it/s]\n",
      "100%|██████████| 1000/1000 [00:01<00:00, 787.38it/s]\n",
      "100%|██████████| 1000/1000 [00:00<00:00, 1277.43it/s]\n",
      "100%|██████████| 1000/1000 [00:00<00:00, 1035.60it/s]\n",
      "100%|██████████| 1000/1000 [00:02<00:00, 355.15it/s]\n",
      "100%|██████████| 1000/1000 [00:01<00:00, 839.06it/s]\n",
      "100%|██████████| 1000/1000 [00:00<00:00, 1342.67it/s]\n",
      "100%|██████████| 1000/1000 [00:00<00:00, 1195.66it/s]\n",
      "100%|██████████| 1000/1000 [00:02<00:00, 360.83it/s]\n",
      "100%|██████████| 1000/1000 [00:01<00:00, 850.48it/s]\n",
      "100%|██████████| 1000/1000 [00:00<00:00, 1238.65it/s]\n",
      "100%|██████████| 1000/1000 [00:00<00:00, 1163.67it/s]\n",
      "100%|██████████| 1000/1000 [00:02<00:00, 353.36it/s]\n",
      "100%|██████████| 1000/1000 [00:01<00:00, 853.33it/s]\n",
      "100%|██████████| 1000/1000 [00:00<00:00, 1342.97it/s]\n",
      "100%|██████████| 1000/1000 [00:00<00:00, 1190.04it/s]\n",
      "100%|██████████| 1000/1000 [00:02<00:00, 356.55it/s]\n",
      "100%|██████████| 1000/1000 [00:01<00:00, 870.96it/s]\n",
      "100%|██████████| 1000/1000 [00:00<00:00, 1312.01it/s]\n",
      "100%|██████████| 1000/1000 [00:00<00:00, 1223.28it/s]\n",
      "100%|██████████| 1000/1000 [00:02<00:00, 361.13it/s]\n",
      "100%|██████████| 1000/1000 [00:01<00:00, 772.45it/s]\n",
      "100%|██████████| 1000/1000 [00:00<00:00, 1220.21it/s]\n",
      "100%|██████████| 1000/1000 [00:01<00:00, 976.81it/s]\n",
      "100%|██████████| 1000/1000 [00:02<00:00, 344.97it/s]\n",
      "100%|██████████| 1000/1000 [00:01<00:00, 810.87it/s]\n",
      "100%|██████████| 1000/1000 [00:00<00:00, 1382.91it/s]\n",
      "100%|██████████| 1000/1000 [00:00<00:00, 1157.93it/s]\n",
      "100%|██████████| 1000/1000 [00:03<00:00, 330.60it/s]\n",
      "100%|██████████| 1000/1000 [00:01<00:00, 854.43it/s]\n",
      "100%|██████████| 1000/1000 [00:00<00:00, 1372.58it/s]\n",
      "100%|██████████| 1000/1000 [00:00<00:00, 1195.55it/s]\n",
      "100%|██████████| 1000/1000 [00:02<00:00, 357.52it/s]\n",
      "100%|██████████| 1000/1000 [00:01<00:00, 846.40it/s]\n",
      "100%|██████████| 1000/1000 [00:00<00:00, 1090.76it/s]\n",
      "100%|██████████| 1000/1000 [00:00<00:00, 1019.65it/s]\n",
      "100%|██████████| 1000/1000 [00:02<00:00, 360.83it/s]\n",
      "100%|██████████| 1000/1000 [00:01<00:00, 817.10it/s]\n",
      "100%|██████████| 1000/1000 [00:00<00:00, 1379.67it/s]\n",
      "100%|██████████| 1000/1000 [00:00<00:00, 1150.91it/s]\n",
      "100%|██████████| 1000/1000 [00:02<00:00, 359.00it/s]\n",
      "100%|██████████| 1000/1000 [00:01<00:00, 830.80it/s]\n",
      "100%|██████████| 1000/1000 [00:00<00:00, 1336.36it/s]\n",
      "100%|██████████| 1000/1000 [00:00<00:00, 1129.82it/s]\n",
      "100%|██████████| 1000/1000 [00:02<00:00, 372.49it/s]\n",
      "100%|██████████| 1000/1000 [00:01<00:00, 748.59it/s]\n",
      "100%|██████████| 1000/1000 [00:00<00:00, 1227.60it/s]\n",
      "100%|██████████| 1000/1000 [00:00<00:00, 1063.71it/s]\n",
      "100%|██████████| 1000/1000 [00:02<00:00, 353.01it/s]\n",
      "100%|██████████| 1000/1000 [00:01<00:00, 852.68it/s]\n",
      "100%|██████████| 1000/1000 [00:00<00:00, 1350.02it/s]\n",
      "100%|██████████| 1000/1000 [00:00<00:00, 1177.48it/s]\n",
      "100%|██████████| 1000/1000 [00:02<00:00, 359.60it/s]\n",
      "100%|██████████| 1000/1000 [00:01<00:00, 845.85it/s]\n",
      "100%|██████████| 1000/1000 [00:00<00:00, 1365.58it/s]\n",
      "100%|██████████| 1000/1000 [00:00<00:00, 1143.24it/s]\n",
      "100%|██████████| 1000/1000 [00:02<00:00, 350.42it/s]\n",
      "100%|██████████| 1000/1000 [00:01<00:00, 773.00it/s]\n",
      "100%|██████████| 1000/1000 [00:00<00:00, 1369.10it/s]\n",
      "100%|██████████| 1000/1000 [00:00<00:00, 1055.54it/s]\n",
      "100%|██████████| 1000/1000 [00:02<00:00, 362.62it/s]\n",
      "100%|██████████| 1000/1000 [00:01<00:00, 814.00it/s]\n",
      "100%|██████████| 1000/1000 [00:00<00:00, 1350.89it/s]\n",
      "100%|██████████| 1000/1000 [00:00<00:00, 1187.69it/s]\n",
      "100%|██████████| 1000/1000 [00:02<00:00, 352.03it/s]\n",
      "100%|██████████| 1000/1000 [00:01<00:00, 861.81it/s]\n",
      "100%|██████████| 1000/1000 [00:00<00:00, 1184.16it/s]\n",
      "100%|██████████| 1000/1000 [00:00<00:00, 1114.30it/s]\n",
      "100%|██████████| 1000/1000 [00:03<00:00, 331.02it/s]\n",
      "100%|██████████| 1000/1000 [00:01<00:00, 830.35it/s]\n",
      "100%|██████████| 1000/1000 [00:00<00:00, 1286.22it/s]\n",
      "100%|██████████| 1000/1000 [00:00<00:00, 1088.90it/s]\n",
      "100%|██████████| 1000/1000 [00:02<00:00, 371.69it/s]\n",
      "100%|██████████| 1000/1000 [00:01<00:00, 837.17it/s]\n",
      "100%|██████████| 1000/1000 [00:00<00:00, 1346.54it/s]\n",
      "100%|██████████| 1000/1000 [00:00<00:00, 1188.51it/s]\n",
      "100%|██████████| 1000/1000 [00:02<00:00, 370.65it/s]\n",
      "100%|██████████| 1000/1000 [00:01<00:00, 848.54it/s]\n",
      "100%|██████████| 1000/1000 [00:00<00:00, 1299.16it/s]\n",
      "100%|██████████| 1000/1000 [00:00<00:00, 1149.77it/s]\n",
      "100%|██████████| 1000/1000 [00:03<00:00, 333.01it/s]\n",
      "100%|██████████| 1000/1000 [00:01<00:00, 761.56it/s]\n",
      "100%|██████████| 1000/1000 [00:00<00:00, 1163.25it/s]\n",
      "100%|██████████| 1000/1000 [00:00<00:00, 1060.46it/s]\n",
      "100%|██████████| 1000/1000 [00:02<00:00, 360.29it/s]\n",
      "100%|██████████| 1000/1000 [00:01<00:00, 819.13it/s]\n",
      "100%|██████████| 1000/1000 [00:00<00:00, 1400.33it/s]\n",
      "100%|██████████| 1000/1000 [00:00<00:00, 1075.13it/s]\n",
      "100%|██████████| 1000/1000 [00:02<00:00, 355.18it/s]\n",
      "100%|██████████| 1000/1000 [00:01<00:00, 824.27it/s]\n",
      "100%|██████████| 1000/1000 [00:00<00:00, 1228.49it/s]\n",
      "100%|██████████| 1000/1000 [00:01<00:00, 975.41it/s]\n",
      "100%|██████████| 1000/1000 [00:03<00:00, 333.15it/s]\n",
      "100%|██████████| 1000/1000 [00:01<00:00, 704.43it/s]\n",
      "100%|██████████| 1000/1000 [00:00<00:00, 1337.93it/s]\n",
      "100%|██████████| 1000/1000 [00:00<00:00, 1144.01it/s]\n",
      "100%|██████████| 1000/1000 [00:02<00:00, 341.20it/s]\n",
      "100%|██████████| 1000/1000 [00:01<00:00, 734.40it/s]\n",
      "100%|██████████| 1000/1000 [00:00<00:00, 1338.24it/s]\n",
      "100%|██████████| 1000/1000 [00:00<00:00, 1179.56it/s]\n",
      "100%|██████████| 1000/1000 [00:02<00:00, 351.84it/s]\n",
      "100%|██████████| 1000/1000 [00:01<00:00, 694.86it/s]\n",
      "100%|██████████| 1000/1000 [00:00<00:00, 1060.70it/s]\n",
      "100%|██████████| 1000/1000 [00:00<00:00, 1132.99it/s]\n",
      "100%|██████████| 1000/1000 [00:02<00:00, 352.77it/s]\n",
      "100%|██████████| 1000/1000 [00:01<00:00, 827.68it/s]\n",
      "100%|██████████| 1000/1000 [00:00<00:00, 1278.36it/s]\n",
      "100%|██████████| 1000/1000 [00:00<00:00, 1193.89it/s]\n",
      "100%|██████████| 1000/1000 [00:02<00:00, 357.26it/s]\n",
      "100%|██████████| 1000/1000 [00:01<00:00, 823.71it/s]\n",
      "100%|██████████| 1000/1000 [00:00<00:00, 1375.75it/s]\n",
      "100%|██████████| 1000/1000 [00:00<00:00, 1141.01it/s]\n",
      "100%|██████████| 1000/1000 [00:02<00:00, 339.42it/s]\n",
      "100%|██████████| 1000/1000 [00:01<00:00, 778.98it/s]\n",
      "100%|██████████| 1000/1000 [00:00<00:00, 1329.39it/s]\n",
      "100%|██████████| 1000/1000 [00:00<00:00, 1134.77it/s]\n",
      "100%|██████████| 1000/1000 [00:02<00:00, 366.47it/s]\n",
      "100%|██████████| 1000/1000 [00:01<00:00, 835.08it/s]\n",
      "100%|██████████| 1000/1000 [00:00<00:00, 1318.56it/s]\n",
      "100%|██████████| 1000/1000 [00:00<00:00, 1133.04it/s]\n",
      "100%|██████████| 1000/1000 [00:02<00:00, 356.80it/s]\n",
      "100%|██████████| 1000/1000 [00:01<00:00, 818.11it/s]\n",
      "100%|██████████| 1000/1000 [00:00<00:00, 1311.06it/s]\n",
      "100%|██████████| 1000/1000 [00:00<00:00, 1127.16it/s]\n",
      "100%|██████████| 1000/1000 [00:02<00:00, 347.57it/s]\n",
      "100%|██████████| 1000/1000 [00:01<00:00, 750.83it/s]\n",
      "100%|██████████| 1000/1000 [00:00<00:00, 1293.60it/s]\n",
      "100%|██████████| 1000/1000 [00:00<00:00, 1170.76it/s]\n",
      "100%|██████████| 1000/1000 [00:02<00:00, 360.89it/s]\n",
      "100%|██████████| 1000/1000 [00:01<00:00, 813.62it/s]\n",
      "100%|██████████| 1000/1000 [00:00<00:00, 1343.09it/s]\n",
      "100%|██████████| 1000/1000 [00:00<00:00, 1162.55it/s]\n",
      "100%|██████████| 1000/1000 [00:02<00:00, 353.02it/s]\n",
      "100%|██████████| 1000/1000 [00:01<00:00, 739.37it/s]\n",
      "100%|██████████| 1000/1000 [00:00<00:00, 1079.19it/s]\n",
      "100%|██████████| 1000/1000 [00:00<00:00, 1065.89it/s]\n",
      "100%|██████████| 1000/1000 [00:02<00:00, 351.15it/s]\n",
      "100%|██████████| 1000/1000 [00:01<00:00, 825.08it/s]\n",
      "100%|██████████| 1000/1000 [00:00<00:00, 1252.97it/s]\n",
      "100%|██████████| 1000/1000 [00:01<00:00, 970.40it/s]\n",
      "100%|██████████| 1000/1000 [00:02<00:00, 357.21it/s]\n",
      "100%|██████████| 1000/1000 [00:01<00:00, 829.69it/s]\n",
      "100%|██████████| 1000/1000 [00:00<00:00, 1300.18it/s]\n",
      "100%|██████████| 1000/1000 [00:00<00:00, 1055.28it/s]\n",
      "100%|██████████| 1000/1000 [00:03<00:00, 333.11it/s]\n",
      "100%|██████████| 1000/1000 [00:01<00:00, 752.42it/s]\n",
      "100%|██████████| 1000/1000 [00:00<00:00, 1311.61it/s]\n",
      "100%|██████████| 1000/1000 [00:00<00:00, 1053.67it/s]\n",
      "100%|██████████| 1000/1000 [00:02<00:00, 360.64it/s]\n",
      "100%|██████████| 1000/1000 [00:01<00:00, 830.77it/s]\n",
      "100%|██████████| 1000/1000 [00:00<00:00, 1380.02it/s]\n",
      "100%|██████████| 1000/1000 [00:00<00:00, 1187.41it/s]\n",
      "100%|██████████| 1000/1000 [00:02<00:00, 361.90it/s]\n",
      "100%|██████████| 1000/1000 [00:01<00:00, 824.07it/s]\n",
      "100%|██████████| 1000/1000 [00:00<00:00, 1313.09it/s]\n",
      "100%|██████████| 1000/1000 [00:00<00:00, 1207.68it/s]\n",
      "100%|██████████| 1000/1000 [00:02<00:00, 337.56it/s]\n",
      "100%|██████████| 1000/1000 [00:01<00:00, 868.40it/s]\n",
      "100%|██████████| 1000/1000 [00:00<00:00, 1334.60it/s]\n",
      "100%|██████████| 1000/1000 [00:00<00:00, 1077.10it/s]\n",
      "100%|██████████| 1000/1000 [00:02<00:00, 348.58it/s]\n",
      "100%|██████████| 1000/1000 [00:01<00:00, 858.90it/s]\n",
      "100%|██████████| 1000/1000 [00:00<00:00, 1293.10it/s]\n",
      "100%|██████████| 1000/1000 [00:00<00:00, 1119.80it/s]\n",
      "100%|██████████| 1000/1000 [00:02<00:00, 357.88it/s]\n",
      "100%|██████████| 1000/1000 [00:01<00:00, 829.42it/s]\n",
      "100%|██████████| 1000/1000 [00:00<00:00, 1319.29it/s]\n",
      "100%|██████████| 1000/1000 [00:01<00:00, 981.58it/s]\n",
      "100%|██████████| 1000/1000 [00:02<00:00, 342.14it/s]\n",
      "100%|██████████| 1000/1000 [00:01<00:00, 872.28it/s]\n",
      "100%|██████████| 1000/1000 [00:00<00:00, 1178.60it/s]\n",
      "100%|██████████| 1000/1000 [00:00<00:00, 1066.36it/s]\n",
      "100%|██████████| 1000/1000 [00:02<00:00, 338.28it/s]\n",
      "100%|██████████| 1000/1000 [00:01<00:00, 819.21it/s]\n",
      "100%|██████████| 1000/1000 [00:00<00:00, 1205.06it/s]\n",
      "100%|██████████| 1000/1000 [00:01<00:00, 997.41it/s]\n",
      "100%|██████████| 1000/1000 [00:02<00:00, 353.18it/s]\n",
      "100%|██████████| 1000/1000 [00:01<00:00, 723.10it/s]\n",
      "100%|██████████| 1000/1000 [00:00<00:00, 1056.98it/s]\n",
      "100%|██████████| 1000/1000 [00:00<00:00, 1150.92it/s]\n",
      "100%|██████████| 1000/1000 [00:02<00:00, 340.48it/s]\n",
      "100%|██████████| 1000/1000 [00:01<00:00, 769.65it/s]\n",
      "100%|██████████| 1000/1000 [00:00<00:00, 1259.93it/s]\n",
      "100%|██████████| 1000/1000 [00:00<00:00, 1155.47it/s]\n",
      "100%|██████████| 1000/1000 [00:02<00:00, 371.36it/s]\n",
      "100%|██████████| 1000/1000 [00:01<00:00, 863.55it/s]\n",
      "100%|██████████| 1000/1000 [00:00<00:00, 1378.58it/s]\n",
      "100%|██████████| 1000/1000 [00:01<00:00, 913.90it/s]\n"
     ]
    }
   ],
   "source": [
    "# разделим выборки\n",
    "sets = {}\n",
    "for v in versions:\n",
    "    sets[v] = []\n",
    "    sets[v].append(df[df.version == v].query('experimentVariant == 0').purchase)\n",
    "    sets[v].append(df[df.version == v].query('experimentVariant == 1').purchase)\n",
    "\n",
    "for i in range(num_tests):\n",
    "    ver_pvalues = {}\n",
    "    ver_fpr = {}\n",
    "    \n",
    "    for v in versions:\n",
    "        a1 = sets[v][0]\n",
    "        a2 = sets[v][1]\n",
    "\n",
    "        # Запустим AA тест\n",
    "        ver_pvalues[v] = get_aa_pvalues(a1, a2, simulations, n_s, v, display_hist=False)\n",
    "\n",
    "        ver_fpr[v] = get_fpr_by_alpha(pvalues=ver_pvalues[v], alpha_levels=alpha_level)\n",
    "\n",
    "    for v in ver_fpr:\n",
    "        for a in ver_fpr[v]:\n",
    "            df_dict['version'].append(v)\n",
    "            df_dict['alpha'].append(a)\n",
    "            df_dict['fpr'].append(ver_fpr[v][a])\n",
    "\n",
    "df_fpr = pd.DataFrame(df_dict)"
   ]
  },
  {
   "cell_type": "code",
   "execution_count": 243,
   "metadata": {},
   "outputs": [],
   "source": [
    "# Выподним оценку FPR для заданных Alpha\n",
    "df_fpr['is_ok'] = df_fpr['fpr'] <= df_fpr['alpha']"
   ]
  },
  {
   "cell_type": "code",
   "execution_count": 225,
   "metadata": {},
   "outputs": [
    {
     "data": {
      "text/html": [
       "<div>\n",
       "<style scoped>\n",
       "    .dataframe tbody tr th:only-of-type {\n",
       "        vertical-align: middle;\n",
       "    }\n",
       "\n",
       "    .dataframe tbody tr th {\n",
       "        vertical-align: top;\n",
       "    }\n",
       "\n",
       "    .dataframe thead th {\n",
       "        text-align: right;\n",
       "    }\n",
       "</style>\n",
       "<table border=\"1\" class=\"dataframe\">\n",
       "  <thead>\n",
       "    <tr style=\"text-align: right;\">\n",
       "      <th></th>\n",
       "      <th>version</th>\n",
       "      <th>not_ok_rate</th>\n",
       "      <th>ok_rate</th>\n",
       "    </tr>\n",
       "  </thead>\n",
       "  <tbody>\n",
       "    <tr>\n",
       "      <th>0</th>\n",
       "      <td>v2.8.0</td>\n",
       "      <td>100.0</td>\n",
       "      <td>0.0</td>\n",
       "    </tr>\n",
       "    <tr>\n",
       "      <th>1</th>\n",
       "      <td>v2.9.0</td>\n",
       "      <td>38.0</td>\n",
       "      <td>62.0</td>\n",
       "    </tr>\n",
       "    <tr>\n",
       "      <th>2</th>\n",
       "      <td>v3.7.4.0</td>\n",
       "      <td>0.0</td>\n",
       "      <td>100.0</td>\n",
       "    </tr>\n",
       "    <tr>\n",
       "      <th>3</th>\n",
       "      <td>v3.8.0.0</td>\n",
       "      <td>83.0</td>\n",
       "      <td>17.0</td>\n",
       "    </tr>\n",
       "  </tbody>\n",
       "</table>\n",
       "</div>"
      ],
      "text/plain": [
       "    version  not_ok_rate  ok_rate\n",
       "0    v2.8.0        100.0      0.0\n",
       "1    v2.9.0         38.0     62.0\n",
       "2  v3.7.4.0          0.0    100.0\n",
       "3  v3.8.0.0         83.0     17.0"
      ]
     },
     "execution_count": 225,
     "metadata": {},
     "output_type": "execute_result"
    }
   ],
   "source": [
    "df_fpr_est = df_fpr.groupby(by='version') \\\n",
    "    .is_ok.value_counts(normalize=True) \\\n",
    "    .mul(100).round(2) \\\n",
    "    .to_frame() \\\n",
    "    .rename(columns={'is_ok': 'rate'}) \\\n",
    "    .reset_index() \\\n",
    "    .pivot(index='version', columns='is_ok', values='rate') \\\n",
    "    .fillna(0) \\\n",
    "    .reset_index() \\\n",
    "    .rename_axis(None, axis=1) \\\n",
    "    .rename(columns={True:'ok_rate', False:'not_ok_rate'})\n",
    "\n",
    "df_fpr_est"
   ]
  },
  {
   "cell_type": "markdown",
   "metadata": {},
   "source": [
    "Итак, видим, что по результатам 100 симуляций AA-тестов для каждой из версий:\n",
    "* данные из версии *v2.8.0* точно ломают выборку\n",
    "* данные из версии *v2.9.0* ломают выборку довольно часто (~40%)\n",
    "* данные из версии *v3.7.4.0* всегда проходят проверку на уровне *0.05*\n",
    "* данные из версии *v3.8.0.0* ломают выборку довольно часто (~83%)"
   ]
  },
  {
   "cell_type": "markdown",
   "metadata": {},
   "source": [
    "Оставим только те данные, которые точно не портят выборку"
   ]
  },
  {
   "cell_type": "code",
   "execution_count": 231,
   "metadata": {},
   "outputs": [],
   "source": [
    "wrong_versions = df_fpr_est[df_fpr_est.not_ok_rate > 0.0].version.values"
   ]
  },
  {
   "cell_type": "code",
   "execution_count": 240,
   "metadata": {},
   "outputs": [
    {
     "data": {
      "text/plain": [
       "'v3.7.4.0'"
      ]
     },
     "execution_count": 240,
     "metadata": {},
     "output_type": "execute_result"
    }
   ],
   "source": [
    "df_clear = df.query('version not in @wrong_versions')\n",
    "\n",
    "ver_str = ', '.join(df_clear.version.unique())\n",
    "ver_str"
   ]
  },
  {
   "cell_type": "code",
   "execution_count": 241,
   "metadata": {},
   "outputs": [
    {
     "name": "stderr",
     "output_type": "stream",
     "text": [
      "100%|██████████| 1000/1000 [00:00<00:00, 1117.94it/s]\n"
     ]
    },
    {
     "data": {
      "image/png": "[encoded data removed]",
      "text/plain": [
       "<Figure size 432x288 with 1 Axes>"
      ]
     },
     "metadata": {},
     "output_type": "display_data"
    }
   ],
   "source": [
    "# разделим выборки\n",
    "a1 = df_clear.query('experimentVariant == 0').purchase\n",
    "a2 = df_clear.query('experimentVariant == 1').purchase\n",
    "\n",
    "# запустим AA тест\n",
    "aa_pvalues_v2 = get_aa_pvalues(a1, a2, simulations, n_s, ver_str)"
   ]
  },
  {
   "cell_type": "code",
   "execution_count": 242,
   "metadata": {},
   "outputs": [
    {
     "name": "stdout",
     "output_type": "stream",
     "text": [
      "частота ложноположительных случаев 0.007 НЕ превышает альфа 0.01\n",
      "частота ложноположительных случаев 0.011 НЕ превышает альфа 0.02\n",
      "частота ложноположительных случаев 0.016 НЕ превышает альфа 0.03\n",
      "частота ложноположительных случаев 0.027 НЕ превышает альфа 0.04\n",
      "частота ложноположительных случаев 0.032 НЕ превышает альфа 0.05\n"
     ]
    }
   ],
   "source": [
    "alphas = [0.01, 0.02, 0.03, 0.04, 0.05]\n",
    "fpr_v2 = get_fpr_by_alpha(aa_pvalues_v2, alphas)\n",
    "print_conglusion_by_fpr(fpr_v2)"
   ]
  },
  {
   "cell_type": "markdown",
   "metadata": {},
   "source": [
    "# Задача 4\n",
    "Напишите выводы, которые можно сделать на основе анализа результатов A/A-теста"
   ]
  },
  {
   "cell_type": "markdown",
   "metadata": {},
   "source": [
    "Можем сделать следующие выводы:\n",
    "1. Не стоит смешивать данные из разных версий приложений:\n",
    "* Например, из имеющихся самая старая версия *v2.8.0* - 100% ломает выборку, это видно из:\n",
    "    * Графика, построенного для визуализации конверсии по версиям;\n",
    "    * AA тесты для груп из этой версии показывали высокий уровень ошибки I рода (*FPR*).\n",
    "* Другие версии могут ломать результаты, но при этом в некоторых случаях AA-тест будет пройден:\n",
    "    * Если бы не вносил измнения в функции и не перезаускал AA-тест, то не заметил бы этого и вывод был бы совсем другим=).\n",
    "* Да и это логично, странно запускать тест на данных из разных версих, в разных версиях очень много разных изменений.\n",
    "2. Одна итерация AA-теста может ввести в заблуждение и показать, что *FPR* низкий и всё ок, нужно более одной итерации."
   ]
  }
 ],
 "metadata": {
  "kernelspec": {
   "display_name": "Python 3",
   "language": "python",
   "name": "python3"
  },
  "language_info": {
   "codemirror_mode": {
    "name": "ipython",
    "version": 3
   },
   "file_extension": ".py",
   "mimetype": "text/x-python",
   "name": "python",
   "nbconvert_exporter": "python",
   "pygments_lexer": "ipython3",
   "version": "3.8.8"
  },
  "vscode": {
   "interpreter": {
    "hash": "4c62ffd6e4fba16dfdbb3c8124c485821ec2dc2c629030f80ae71594aa9915f5"
   }
  }
 },
 "nbformat": 4,
 "nbformat_minor": 4
}
