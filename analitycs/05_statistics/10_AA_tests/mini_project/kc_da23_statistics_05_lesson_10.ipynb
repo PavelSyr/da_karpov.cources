{
 "cells": [
  {
   "cell_type": "code",
   "execution_count": 1,
   "metadata": {},
   "outputs": [],
   "source": [
    "import numpy as np\n",
    "import pandas as pd\n",
    "from scipy import stats\n",
    "import matplotlib.pyplot as plt\n",
    "\n",
    "from tqdm.auto import tqdm"
   ]
  },
  {
   "cell_type": "markdown",
   "metadata": {},
   "source": [
    "# Описание задания\n",
    "А/А-тестирование мобильного приложения. Необходимо посчитать результаты A/A-теста, проверяя метрику качества FPR (будем проверять на конверсии в покупку). Известно, что сплит-система сломана. Требуется проверить утверждение о поломке и найти ее причины, если сплит-система действительно сломана"
   ]
  },
  {
   "cell_type": "markdown",
   "metadata": {},
   "source": [
    "# Загрузим данные"
   ]
  },
  {
   "cell_type": "markdown",
   "metadata": {},
   "source": [
    "## Описание колонок\n",
    "* **experimentVariant** – вариант эксперимента\n",
    "* **version** – версия приложения\n",
    "* **purchase** – факт покупки"
   ]
  },
  {
   "cell_type": "code",
   "execution_count": 12,
   "metadata": {},
   "outputs": [],
   "source": [
    "df = pd.read_csv('hw_aa.csv', sep = ';', index_col=0)"
   ]
  },
  {
   "cell_type": "markdown",
   "metadata": {},
   "source": [
    "## Посмотрим на данные и типы данных"
   ]
  },
  {
   "cell_type": "code",
   "execution_count": 14,
   "metadata": {},
   "outputs": [
    {
     "name": "stdout",
     "output_type": "stream",
     "text": [
      "\n",
      "количество строк: 127018\n",
      "количество колонок: 4\n",
      "количество пропущенных значений: 0\n",
      "\n"
     ]
    }
   ],
   "source": [
    "print(f'''\n",
    "количество строк: {df.shape[0]}\n",
    "количество колонок: {df.shape[1]}\n",
    "количество пропущенных значений: {df.isna().sum().sum()}\n",
    "''')"
   ]
  },
  {
   "cell_type": "code",
   "execution_count": 27,
   "metadata": {},
   "outputs": [
    {
     "name": "stdout",
     "output_type": "stream",
     "text": [
      "uid(object) : 127018 : [...]\n",
      "experimentVariant(int64) : 2 : [1 0]\n",
      "version(object) : 4 : ['v2.8.0' 'v2.9.0' 'v3.7.4.0' 'v3.8.0.0']\n",
      "purchase(int64) : 2 : [0 1]\n"
     ]
    }
   ],
   "source": [
    "for c in df.columns:\n",
    "    dtype = df[c].dtype\n",
    "    nunique = df[c].nunique()\n",
    "    unique = '[...]'\n",
    "    if nunique <= 5:\n",
    "       unique =  df[c].unique()\n",
    "    print(f'{c}({dtype}) : {nunique} : {unique}')"
   ]
  },
  {
   "cell_type": "markdown",
   "metadata": {},
   "source": [
    "# Задача 1\n",
    "Запустите A/A-тест\n"
   ]
  },
  {
   "cell_type": "markdown",
   "metadata": {},
   "source": [
    "Разделим выборки на **a1** и **a2**"
   ]
  },
  {
   "cell_type": "code",
   "execution_count": 28,
   "metadata": {},
   "outputs": [],
   "source": [
    "a1 = df.query('experimentVariant == 0').purchase\n",
    "a2 = df.query('experimentVariant == 1').purchase"
   ]
  },
  {
   "cell_type": "code",
   "execution_count": 30,
   "metadata": {},
   "outputs": [],
   "source": [
    "# определим функцию для запуска A/A теста, визуализации полученных p-value\n",
    "def get_fpr(a1: pd.Series, a2: pd.Series, simulations: int, n_s: int):\n",
    "    # Запуск симуляций A/A теста\n",
    "    for i in tqdm(range(simulations)):\n",
    "        s1 = a1.sample(n_s, replace = False).values\n",
    "        s2 = a2.sample(n_s, replace = False).values\n",
    "        res.append(stats.ttest_ind(s1, s2, equal_var = False)[1]) # сохраняем pvalue\n",
    "\n",
    "    # визуализация\n",
    "    plt.hist(res, bins = 50)\n",
    "    plt.style.use('ggplot')\n",
    "    plt.xlabel('pvalues')\n",
    "    plt.ylabel('frequency')\n",
    "    plt.title(\"Histogram of ttest A/A simulations \")\n",
    "    plt.show()\n",
    "\n",
    "    return res"
   ]
  },
  {
   "cell_type": "code",
   "execution_count": 33,
   "metadata": {},
   "outputs": [],
   "source": [
    "# обределим функцию для проверки ложноположительных случаев\n",
    "def get_wrong_alpha_level(fpr, alpha_levels):\n",
    "    alphas = {}\n",
    "\n",
    "    # Проверяем, что количество ложноположительных случаев не превышает альфа\n",
    "    for a in alpha_levels:\n",
    "        alphas[a] = sum(np.array(fpr) < a) / simulations\n",
    "        if a < alphas[a]:\n",
    "            print(f'количество ложноположительных случаев превышает альфа {a} < {alphas[a]}')\n",
    "    \n",
    "    return alphas"
   ]
  },
  {
   "cell_type": "code",
   "execution_count": 32,
   "metadata": {},
   "outputs": [
    {
     "name": "stderr",
     "output_type": "stream",
     "text": [
      "100%|██████████| 1000/1000 [00:06<00:00, 148.58it/s]\n"
     ]
    },
    {
     "data": {
      "image/png": "[encoded data removed]",
      "text/plain": [
       "<Figure size 432x288 with 1 Axes>"
      ]
     },
     "metadata": {},
     "output_type": "display_data"
    }
   ],
   "source": [
    "simulations = 1000\n",
    "n_s = 1000\n",
    "fpr = get_fpr(a1, a2, simulations, n_s)"
   ]
  },
  {
   "cell_type": "markdown",
   "metadata": {},
   "source": [
    "# Задача 2\n",
    "Посчитайте FPR на уровне альфа = 0.05 (ставьте подвыборки без возвращения объемом 1000). Вы увидите, что FPR > альфа! Нам нужно наоборот – чтобы было меньше."
   ]
  },
  {
   "cell_type": "code",
   "execution_count": 35,
   "metadata": {},
   "outputs": [
    {
     "name": "stdout",
     "output_type": "stream",
     "text": [
      "количество ложноположительных случаев превышает альфа 0.05 < 0.974\n"
     ]
    },
    {
     "data": {
      "text/plain": [
       "{0.05: 0.974}"
      ]
     },
     "execution_count": 35,
     "metadata": {},
     "output_type": "execute_result"
    }
   ],
   "source": [
    "# alphas = [0.01, 0.02, 0.03, 0.04, 0.05]\n",
    "alphas = [0.05]\n",
    "get_wrong_alpha_level(fpr, alphas)"
   ]
  },
  {
   "cell_type": "markdown",
   "metadata": {},
   "source": [
    "Видно, что результат согласуется с заданием **FPR** для *0.05* равен *0.974*, что больше *0.05* и у казывает на то, что выборки не сохожи между собой. Нужно искать причины!"
   ]
  },
  {
   "cell_type": "markdown",
   "metadata": {},
   "source": [
    "# Задача 3\n",
    "Найдите причины поломки сплит-системы, ориентируясь на результаты эксперимента (подсказка: найдите аномалию в версии приложения)"
   ]
  }
 ],
 "metadata": {
  "kernelspec": {
   "display_name": "Python 3.8.8 ('base')",
   "language": "python",
   "name": "python3"
  },
  "language_info": {
   "codemirror_mode": {
    "name": "ipython",
    "version": 3
   },
   "file_extension": ".py",
   "mimetype": "text/x-python",
   "name": "python",
   "nbconvert_exporter": "python",
   "pygments_lexer": "ipython3",
   "version": "3.8.8"
  },
  "vscode": {
   "interpreter": {
    "hash": "4c62ffd6e4fba16dfdbb3c8124c485821ec2dc2c629030f80ae71594aa9915f5"
   }
  }
 },
 "nbformat": 4,
 "nbformat_minor": 4
}
