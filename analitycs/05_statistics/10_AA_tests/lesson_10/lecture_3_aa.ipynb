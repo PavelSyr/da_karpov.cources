{
 "cells": [
  {
   "cell_type": "code",
   "execution_count": 1,
   "metadata": {},
   "outputs": [],
   "source": [
    "import numpy as np\n",
    "import pandas as pd\n",
    "from scipy import stats\n",
    "import matplotlib.pyplot as plt\n",
    "\n",
    "from tqdm.auto import tqdm"
   ]
  },
  {
   "cell_type": "markdown",
   "metadata": {},
   "source": [
    "### A/A-тест, который сходится"
   ]
  },
  {
   "cell_type": "code",
   "execution_count": 2,
   "metadata": {},
   "outputs": [
    {
     "name": "stderr",
     "output_type": "stream",
     "text": [
      "100%|██████████| 1000/1000 [00:09<00:00, 104.27it/s]\n"
     ]
    },
    {
     "data": {
      "image/png": "[encoded data removed]",
      "text/plain": [
       "<Figure size 432x288 with 1 Axes>"
      ]
     },
     "metadata": {
      "needs_background": "light"
     },
     "output_type": "display_data"
    },
    {
     "data": {
      "text/plain": [
       "0.062"
      ]
     },
     "execution_count": 2,
     "metadata": {},
     "output_type": "execute_result"
    }
   ],
   "source": [
    "n = 100000\n",
    "simulations = 1000\n",
    "n_s = 1000\n",
    "res = []\n",
    "\n",
    "df = pd.DataFrame({\n",
    "    \"s1\": np.random.exponential(scale=1/0.001, size=n),\n",
    "    \"s2\": np.random.exponential(scale=1/0.001, size=n)\n",
    "})\n",
    "\n",
    "# Запуск симуляций A/A теста\n",
    "for i in tqdm(range(simulations)):\n",
    "    s1 = df['s1'].sample(n_s, replace = False).values\n",
    "    s2 = df['s2'].sample(n_s, replace = False).values\n",
    "    res.append(stats.ttest_ind(s1, s2, equal_var = False)[1]) # сохраняем pvalue\n",
    "\n",
    "plt.hist(res, bins = 50)\n",
    "plt.style.use('ggplot')\n",
    "plt.xlabel('pvalues')\n",
    "plt.ylabel('frequency')\n",
    "plt.title(\"Histogram of ttest A/A simulations \")\n",
    "plt.show()\n",
    "\n",
    "# Проверяем, что количество ложноположительных случаев не превышает альфа\n",
    "sum(np.array(res) <0.05) / simulations"
   ]
  },
  {
   "cell_type": "code",
   "execution_count": 4,
   "metadata": {},
   "outputs": [
    {
     "name": "stdout",
     "output_type": "stream",
     "text": [
      "количество ложноположительных случаев превышает альфа 0.05 < 0.062\n",
      "количество ложноположительных случаев превышает альфа 0.04 < 0.042\n",
      "количество ложноположительных случаев превышает альфа 0.03 < 0.033\n",
      "количество ложноположительных случаев превышает альфа 0.02 < 0.022\n",
      "количество ложноположительных случаев превышает альфа 0.01 < 0.013\n",
      "{0.05: 0.062, 0.04: 0.042, 0.03: 0.033, 0.02: 0.022, 0.01: 0.013}\n"
     ]
    }
   ],
   "source": [
    "alphas = { 0.05:0, 0.04:0, 0.03:0, 0.02:0, 0.01:0}\n",
    "\n",
    "for a in alphas:\n",
    "    alphas[a] = sum(np.array(res) < a) / simulations\n",
    "    if a < alphas[a]:\n",
    "        print(f'количество ложноположительных случаев превышает альфа {a} < {alphas[a]}')\n",
    "\n",
    "# Проверяем, что количество ложноположительных случаев не превышает альфа\n",
    "print(alphas)"
   ]
  },
  {
   "cell_type": "markdown",
   "metadata": {},
   "source": [
    "### Второй случай, когда A/A-тест не сходится"
   ]
  },
  {
   "cell_type": "code",
   "execution_count": 5,
   "metadata": {},
   "outputs": [
    {
     "name": "stderr",
     "output_type": "stream",
     "text": [
      "100%|██████████| 1000/1000 [00:09<00:00, 105.34it/s]\n"
     ]
    },
    {
     "data": {
      "image/png": "[encoded data removed]",
      "text/plain": [
       "<Figure size 432x288 with 1 Axes>"
      ]
     },
     "metadata": {},
     "output_type": "display_data"
    },
    {
     "data": {
      "text/plain": [
       "0.472"
      ]
     },
     "execution_count": 5,
     "metadata": {},
     "output_type": "execute_result"
    }
   ],
   "source": [
    "n = 100000\n",
    "simulations = 1000\n",
    "n_s = 1000\n",
    "res = []\n",
    "\n",
    "df = pd.DataFrame({\n",
    "    \"s1\": np.random.exponential(scale=1/0.001, size=n),\n",
    "    \"s2\": np.random.exponential(scale=1/0.001, size=n) * 1.1 # добавляем эффект 10%\n",
    "})\n",
    "\n",
    "for i in tqdm(range(simulations)):\n",
    "    s1 = df['s1'].sample(n_s, replace = False).values\n",
    "    s2 = df['s2'].sample(n_s, replace = False).values\n",
    "    res.append(stats.ttest_ind(s1, s2, equal_var = False)[1])\n",
    "\n",
    "plt.hist(res, bins = 50)\n",
    "plt.style.use('ggplot')\n",
    "plt.xlabel('pvalues')\n",
    "plt.ylabel('frequency')\n",
    "plt.title(\"Histogram of ttest A/A simulations \")\n",
    "plt.show()\n",
    "\n",
    "# FPR не сойдется\n",
    "sum(np.array(res) <0.05) / simulations"
   ]
  },
  {
   "cell_type": "code",
   "execution_count": 6,
   "metadata": {},
   "outputs": [
    {
     "name": "stdout",
     "output_type": "stream",
     "text": [
      "количество ложноположительных случаев превышает альфа 0.05 < 0.472\n",
      "количество ложноположительных случаев превышает альфа 0.04 < 0.423\n",
      "количество ложноположительных случаев превышает альфа 0.03 < 0.368\n",
      "количество ложноположительных случаев превышает альфа 0.02 < 0.315\n",
      "количество ложноположительных случаев превышает альфа 0.01 < 0.213\n",
      "{0.05: 0.472, 0.04: 0.423, 0.03: 0.368, 0.02: 0.315, 0.01: 0.213}\n"
     ]
    }
   ],
   "source": [
    "alphas = { 0.05:0, 0.04:0, 0.03:0, 0.02:0, 0.01:0}\n",
    "\n",
    "for a in alphas:\n",
    "    alphas[a] = sum(np.array(res) < a) / simulations\n",
    "    if a < alphas[a]:\n",
    "        print(f'количество ложноположительных случаев превышает альфа {a} < {alphas[a]}')\n",
    "\n",
    "# Проверяем, что количество ложноположительных случаев не превышает альфа\n",
    "print(alphas)"
   ]
  },
  {
   "cell_type": "code",
   "execution_count": null,
   "metadata": {},
   "outputs": [],
   "source": []
  }
 ],
 "metadata": {
  "kernelspec": {
   "display_name": "Python 3.8.8 ('base')",
   "language": "python",
   "name": "python3"
  },
  "language_info": {
   "codemirror_mode": {
    "name": "ipython",
    "version": 3
   },
   "file_extension": ".py",
   "mimetype": "text/x-python",
   "name": "python",
   "nbconvert_exporter": "python",
   "pygments_lexer": "ipython3",
   "version": "3.8.8"
  },
  "vscode": {
   "interpreter": {
    "hash": "4c62ffd6e4fba16dfdbb3c8124c485821ec2dc2c629030f80ae71594aa9915f5"
   }
  }
 },
 "nbformat": 4,
 "nbformat_minor": 4
}
