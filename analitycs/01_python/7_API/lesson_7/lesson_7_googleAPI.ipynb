{
 "cells": [
  {
   "cell_type": "code",
   "execution_count": 1,
   "id": "9484a32b",
   "metadata": {},
   "outputs": [],
   "source": [
    "import pandas as pd\n",
    "import numpy as np\n",
    "\n",
    "import requests\n",
    "\n",
    "import json\n",
    "\n",
    "import gspread\n",
    "from oauth2client.service_account import ServiceAccountCredentials\n",
    "from urllib.parse import urlencode"
   ]
  },
  {
   "cell_type": "code",
   "execution_count": 2,
   "id": "645822c3",
   "metadata": {},
   "outputs": [],
   "source": [
    "path_to_creds = '../../creds/karpov-cources-analytics-e22393e20418.json'"
   ]
  },
  {
   "cell_type": "code",
   "execution_count": 5,
   "id": "c3bb52b7",
   "metadata": {},
   "outputs": [],
   "source": [
    "with open(path_to_creds) as json_file:\n",
    "    data = json.load(json_file)\n",
    "\n",
    "email = data['client_email']"
   ]
  },
  {
   "cell_type": "code",
   "execution_count": null,
   "id": "dd4d62d5",
   "metadata": {},
   "outputs": [],
   "source": []
  },
  {
   "cell_type": "code",
   "execution_count": 8,
   "id": "1d2ee4df",
   "metadata": {},
   "outputs": [],
   "source": [
    "# Specify name of table in google sheets\n",
    "table_name = 'Hockey balance 2022'\n",
    "\n",
    "scope = ['https://spreadsheets.google.com/feeds',\n",
    "         'https://www.googleapis.com/auth/drive']\n",
    "\n",
    "credentials = ServiceAccountCredentials.from_json_keyfile_name(path_to_creds, scope)\n",
    "\n",
    "gs = gspread.authorize(credentials)\n",
    "work_sheet = gs.open(table_name)"
   ]
  },
  {
   "cell_type": "code",
   "execution_count": 19,
   "id": "e7f036c6",
   "metadata": {},
   "outputs": [],
   "source": [
    "tournament = work_sheet.worksheet('турнир 2022')"
   ]
  },
  {
   "cell_type": "code",
   "execution_count": 31,
   "id": "427ef1fc",
   "metadata": {},
   "outputs": [
    {
     "data": {
      "text/html": [
       "<div>\n",
       "<style scoped>\n",
       "    .dataframe tbody tr th:only-of-type {\n",
       "        vertical-align: middle;\n",
       "    }\n",
       "\n",
       "    .dataframe tbody tr th {\n",
       "        vertical-align: top;\n",
       "    }\n",
       "\n",
       "    .dataframe thead th {\n",
       "        text-align: right;\n",
       "    }\n",
       "</style>\n",
       "<table border=\"1\" class=\"dataframe\">\n",
       "  <thead>\n",
       "    <tr style=\"text-align: right;\">\n",
       "      <th></th>\n",
       "      <th>№</th>\n",
       "      <th>дата</th>\n",
       "      <th>синие</th>\n",
       "      <th>белые</th>\n",
       "      <th></th>\n",
       "    </tr>\n",
       "  </thead>\n",
       "  <tbody>\n",
       "    <tr>\n",
       "      <th>0</th>\n",
       "      <td>1</td>\n",
       "      <td>09.01.2022</td>\n",
       "      <td>9</td>\n",
       "      <td>3</td>\n",
       "      <td>синие</td>\n",
       "    </tr>\n",
       "    <tr>\n",
       "      <th>1</th>\n",
       "      <td>2</td>\n",
       "      <td>16.01.2022</td>\n",
       "      <td>5</td>\n",
       "      <td>8</td>\n",
       "      <td>белые</td>\n",
       "    </tr>\n",
       "    <tr>\n",
       "      <th>2</th>\n",
       "      <td>3</td>\n",
       "      <td>23.01.2022</td>\n",
       "      <td>7</td>\n",
       "      <td>7</td>\n",
       "      <td>Ничья</td>\n",
       "    </tr>\n",
       "    <tr>\n",
       "      <th>3</th>\n",
       "      <td>4</td>\n",
       "      <td>30.01.2022</td>\n",
       "      <td>6</td>\n",
       "      <td>7</td>\n",
       "      <td>белые</td>\n",
       "    </tr>\n",
       "    <tr>\n",
       "      <th>4</th>\n",
       "      <td>5</td>\n",
       "      <td>06.02.2022</td>\n",
       "      <td>15</td>\n",
       "      <td>12</td>\n",
       "      <td>синие</td>\n",
       "    </tr>\n",
       "  </tbody>\n",
       "</table>\n",
       "</div>"
      ],
      "text/plain": [
       "   №        дата синие белые       \n",
       "0  1  09.01.2022     9     3  синие\n",
       "1  2  16.01.2022     5     8  белые\n",
       "2  3  23.01.2022     7     7  Ничья\n",
       "3  4  30.01.2022     6     7  белые\n",
       "4  5  06.02.2022    15    12  синие"
      ]
     },
     "execution_count": 31,
     "metadata": {},
     "output_type": "execute_result"
    }
   ],
   "source": [
    "data = tournament.get_all_values()\n",
    "\n",
    "# Get header from data\n",
    "headers = data.pop(1)\n",
    "\n",
    "# Create df\n",
    "df = pd.DataFrame(data[1:], columns=headers)\n",
    "df.head()"
   ]
  },
  {
   "cell_type": "code",
   "execution_count": 30,
   "id": "6bd73129",
   "metadata": {},
   "outputs": [
    {
     "data": {
      "text/plain": [
       "[['1', '09.01.2022', '9', '3', 'синие'],\n",
       " ['2', '16.01.2022', '5', '8', 'белые'],\n",
       " ['3', '23.01.2022', '7', '7', 'Ничья'],\n",
       " ['4', '30.01.2022', '6', '7', 'белые'],\n",
       " ['5', '06.02.2022', '15', '12', 'синие'],\n",
       " ['6', '13.02.2022', '6', '6', 'Ничья'],\n",
       " ['7', '20.02.2022', '4', '9', 'белые'],\n",
       " ['8', '27.02.2022', '8', '9', 'белые'],\n",
       " ['9', '06.03.2022', '7', '8', 'белые'],\n",
       " ['10', '13.03.2022', '4', '4', 'Ничья'],\n",
       " ['11', '20.03.2022', '18', '10', 'синие'],\n",
       " ['12', '27.03.2022', '9', '13', 'белые'],\n",
       " ['13', '03.04.2022', '10', '9', 'синие'],\n",
       " ['14', '10.04.2022', '10', '9', 'синие'],\n",
       " ['15', '17.04.2022', '13', '14', 'белые'],\n",
       " ['16', '24.04.2022', '13', '13', 'Ничья'],\n",
       " ['17', '01.05.2022', '', '', ''],\n",
       " ['18', '08.05.2022', '', '', ''],\n",
       " ['19', '15.05.2022', '', '', ''],\n",
       " ['20', '22.05.2022', '', '', ''],\n",
       " ['21', '29.05.2022', '', '', ''],\n",
       " ['22', '05.06.2022', '', '', ''],\n",
       " ['23', '12.06.2022', '', '', ''],\n",
       " ['24', '19.06.2022', '', '', ''],\n",
       " ['25', '26.06.2022', '', '', ''],\n",
       " ['26', '03.07.2022', '', '', ''],\n",
       " ['27', '10.07.2022', '', '', ''],\n",
       " ['28', '17.07.2022', '', '', ''],\n",
       " ['29', '24.07.2022', '', '', ''],\n",
       " ['30', '31.07.2022', '', '', ''],\n",
       " ['31', '07.08.2022', '', '', ''],\n",
       " ['32', '14.08.2022', '', '', ''],\n",
       " ['33', '21.08.2022', '', '', ''],\n",
       " ['34', '28.08.2022', '', '', ''],\n",
       " ['35', '04.09.2022', '', '', ''],\n",
       " ['36', '11.09.2022', '', '', ''],\n",
       " ['37', '18.09.2022', '', '', ''],\n",
       " ['38', '25.09.2022', '', '', ''],\n",
       " ['39', '02.10.2022', '', '', ''],\n",
       " ['40', '09.10.2022', '', '', ''],\n",
       " ['41', '16.10.2022', '', '', ''],\n",
       " ['42', '23.10.2022', '', '', ''],\n",
       " ['43', '30.10.2022', '', '', ''],\n",
       " ['44', '06.11.2022', '', '', ''],\n",
       " ['45', '13.11.2022', '', '', ''],\n",
       " ['46', '20.11.2022', '', '', ''],\n",
       " ['47', '27.11.2022', '', '', ''],\n",
       " ['48', '04.12.2022', '', '', ''],\n",
       " ['49', '11.12.2022', '', '', ''],\n",
       " ['50', '18.12.2022', '', '', ''],\n",
       " ['51', '25.12.2022', '', '', ''],\n",
       " ['', 'итоги', '5', '7', ''],\n",
       " ['', 'Очки п-3', '15', '21', '']]"
      ]
     },
     "execution_count": 30,
     "metadata": {},
     "output_type": "execute_result"
    }
   ],
   "source": [
    "data[1:]"
   ]
  },
  {
   "cell_type": "code",
   "execution_count": null,
   "id": "59377d88",
   "metadata": {},
   "outputs": [],
   "source": []
  }
 ],
 "metadata": {
  "kernelspec": {
   "display_name": "Python 3",
   "language": "python",
   "name": "python3"
  },
  "language_info": {
   "codemirror_mode": {
    "name": "ipython",
    "version": 3
   },
   "file_extension": ".py",
   "mimetype": "text/x-python",
   "name": "python",
   "nbconvert_exporter": "python",
   "pygments_lexer": "ipython3",
   "version": "3.8.8"
  }
 },
 "nbformat": 4,
 "nbformat_minor": 5
}
