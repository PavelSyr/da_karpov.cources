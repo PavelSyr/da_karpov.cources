{
 "cells": [
  {
   "cell_type": "code",
   "execution_count": 6,
   "id": "349bced5",
   "metadata": {},
   "outputs": [],
   "source": [
    "#!pip install gspread\n",
    "#!pip install oauth2client"
   ]
  },
  {
   "cell_type": "code",
   "execution_count": 84,
   "id": "8c6a9e74",
   "metadata": {},
   "outputs": [],
   "source": [
    "import pandas as pd\n",
    "import numpy as np\n",
    "\n",
    "from io import BytesIO\n",
    "import requests\n",
    "\n",
    "import json\n",
    "import os\n",
    "\n",
    "import gspread\n",
    "from oauth2client.service_account import ServiceAccountCredentials\n",
    "from urllib.parse import urlencode"
   ]
  },
  {
   "cell_type": "code",
   "execution_count": 9,
   "id": "5aff69b4",
   "metadata": {},
   "outputs": [],
   "source": [
    "path_to_creds = '../../creds/karpov-cources-analytics-e22393e20418.json'"
   ]
  },
  {
   "cell_type": "code",
   "execution_count": 109,
   "id": "1b1f59f2",
   "metadata": {},
   "outputs": [],
   "source": [
    "with open(path_to_creds) as json_file:\n",
    "    data = json.load(json_file)\n",
    "\n",
    "email = data['client_email']"
   ]
  },
  {
   "cell_type": "code",
   "execution_count": null,
   "id": "9713b56b",
   "metadata": {},
   "outputs": [],
   "source": [
    "# Specify name of table in google sheets\n",
    "table_name = 'name of your table'\n",
    "\n",
    "scope = ['https://spreadsheets.google.com/feeds',\n",
    "         'https://www.googleapis.com/auth/drive']\n",
    "\n",
    "credentials = ServiceAccountCredentials.from_json_keyfile_name(path_to_creds, scope)\n",
    "\n",
    "gs = gspread.authorize(credentials)"
   ]
  },
  {
   "cell_type": "markdown",
   "id": "5158f59f",
   "metadata": {},
   "source": [
    "Step 2 <a href='https://lab.karpov.courses/learning/85/module/1056/lesson/9044/26543/118020/'>link</a>\n",
    "<br>⭐️Задание со звёздочкой!⭐️\n",
    "\n",
    "Считайте данные из Google Sheets, которые находятся по этой ссылке при помощи библиотеки requests. Посчитайте процент мужчин среди всех посетителей сайта, округлите ответ до целых.\n",
    "\n",
    "Воспользуйтесь этим кодом, чтобы перевести данные из реквеста в пандас"
   ]
  },
  {
   "cell_type": "code",
   "execution_count": 20,
   "id": "cf5b7bfa",
   "metadata": {},
   "outputs": [],
   "source": [
    "link = 'https://docs.google.com/spreadsheets/d/1e3PRXmMNXo9AZZnaol1aHgYxtH6KYaCDymEQlK6jaO8/export?format=csv'"
   ]
  },
  {
   "cell_type": "code",
   "execution_count": 19,
   "id": "a7002fea",
   "metadata": {},
   "outputs": [
    {
     "data": {
      "text/html": [
       "<div>\n",
       "<style scoped>\n",
       "    .dataframe tbody tr th:only-of-type {\n",
       "        vertical-align: middle;\n",
       "    }\n",
       "\n",
       "    .dataframe tbody tr th {\n",
       "        vertical-align: top;\n",
       "    }\n",
       "\n",
       "    .dataframe thead th {\n",
       "        text-align: right;\n",
       "    }\n",
       "</style>\n",
       "<table border=\"1\" class=\"dataframe\">\n",
       "  <thead>\n",
       "    <tr style=\"text-align: right;\">\n",
       "      <th></th>\n",
       "      <th>date</th>\n",
       "      <th>gender</th>\n",
       "      <th>users</th>\n",
       "    </tr>\n",
       "  </thead>\n",
       "  <tbody>\n",
       "    <tr>\n",
       "      <th>0</th>\n",
       "      <td>2020-06-14</td>\n",
       "      <td>Not specified</td>\n",
       "      <td>150</td>\n",
       "    </tr>\n",
       "    <tr>\n",
       "      <th>1</th>\n",
       "      <td>2020-06-14</td>\n",
       "      <td>male</td>\n",
       "      <td>117</td>\n",
       "    </tr>\n",
       "    <tr>\n",
       "      <th>2</th>\n",
       "      <td>2020-06-14</td>\n",
       "      <td>female</td>\n",
       "      <td>21</td>\n",
       "    </tr>\n",
       "  </tbody>\n",
       "</table>\n",
       "</div>"
      ],
      "text/plain": [
       "         date         gender  users\n",
       "0  2020-06-14  Not specified    150\n",
       "1  2020-06-14           male    117\n",
       "2  2020-06-14         female     21"
      ]
     },
     "execution_count": 19,
     "metadata": {},
     "output_type": "execute_result"
    }
   ],
   "source": [
    "pd.read_csv('https://docs.google.com/spreadsheets/d/1e3PRXmMNXo9AZZnaol1aHgYxtH6KYaCDymEQlK6jaO8/export?format=csv')"
   ]
  },
  {
   "cell_type": "code",
   "execution_count": 22,
   "id": "6412aecd",
   "metadata": {},
   "outputs": [],
   "source": [
    "resp = requests.get(link)"
   ]
  },
  {
   "cell_type": "code",
   "execution_count": 33,
   "id": "90c9335e",
   "metadata": {},
   "outputs": [
    {
     "data": {
      "text/html": [
       "<div>\n",
       "<style scoped>\n",
       "    .dataframe tbody tr th:only-of-type {\n",
       "        vertical-align: middle;\n",
       "    }\n",
       "\n",
       "    .dataframe tbody tr th {\n",
       "        vertical-align: top;\n",
       "    }\n",
       "\n",
       "    .dataframe thead th {\n",
       "        text-align: right;\n",
       "    }\n",
       "</style>\n",
       "<table border=\"1\" class=\"dataframe\">\n",
       "  <thead>\n",
       "    <tr style=\"text-align: right;\">\n",
       "      <th></th>\n",
       "      <th>date</th>\n",
       "      <th>gender</th>\n",
       "      <th>users</th>\n",
       "    </tr>\n",
       "  </thead>\n",
       "  <tbody>\n",
       "    <tr>\n",
       "      <th>0</th>\n",
       "      <td>2020-06-14</td>\n",
       "      <td>Not specified</td>\n",
       "      <td>150</td>\n",
       "    </tr>\n",
       "    <tr>\n",
       "      <th>1</th>\n",
       "      <td>2020-06-14</td>\n",
       "      <td>male</td>\n",
       "      <td>117</td>\n",
       "    </tr>\n",
       "    <tr>\n",
       "      <th>2</th>\n",
       "      <td>2020-06-14</td>\n",
       "      <td>female</td>\n",
       "      <td>21</td>\n",
       "    </tr>\n",
       "  </tbody>\n",
       "</table>\n",
       "</div>"
      ],
      "text/plain": [
       "         date         gender  users\n",
       "0  2020-06-14  Not specified    150\n",
       "1  2020-06-14           male    117\n",
       "2  2020-06-14         female     21"
      ]
     },
     "execution_count": 33,
     "metadata": {},
     "output_type": "execute_result"
    }
   ],
   "source": [
    "data = resp.content\n",
    "\n",
    "df = pd.read_csv(BytesIO(data))\n",
    "df.head()"
   ]
  },
  {
   "cell_type": "code",
   "execution_count": 42,
   "id": "d35181e9",
   "metadata": {},
   "outputs": [
    {
     "data": {
      "text/plain": [
       "41.0"
      ]
     },
     "execution_count": 42,
     "metadata": {},
     "output_type": "execute_result"
    }
   ],
   "source": [
    "np.round(df[df.gender == 'male'].users.sum() / df.users.sum() * 100, 0)"
   ]
  },
  {
   "cell_type": "markdown",
   "id": "8a559246",
   "metadata": {},
   "source": [
    "Step 3 <a href='https://lab.karpov.courses/learning/85/module/1056/lesson/9044/26543/118021/'>link</a>\n",
    "<br>Скачайте файл с данными посещаемости сайта Яндекс.Метрика отсюда (сохранен в переменную df). При помощи функции np.where создайте серию, в которую будет записываться 1, если посещения были сделаны роботами с браузера, содержащего Chrome в названии, и 0 в других случаях. Поместите получившуюся серию в переменную chrome_robots."
   ]
  },
  {
   "cell_type": "code",
   "execution_count": 44,
   "id": "e92878ea",
   "metadata": {},
   "outputs": [],
   "source": [
    "df = pd.read_csv('7_browser.csv')"
   ]
  },
  {
   "cell_type": "code",
   "execution_count": 45,
   "id": "50a2f176",
   "metadata": {},
   "outputs": [
    {
     "data": {
      "text/html": [
       "<div>\n",
       "<style scoped>\n",
       "    .dataframe tbody tr th:only-of-type {\n",
       "        vertical-align: middle;\n",
       "    }\n",
       "\n",
       "    .dataframe tbody tr th {\n",
       "        vertical-align: top;\n",
       "    }\n",
       "\n",
       "    .dataframe thead th {\n",
       "        text-align: right;\n",
       "    }\n",
       "</style>\n",
       "<table border=\"1\" class=\"dataframe\">\n",
       "  <thead>\n",
       "    <tr style=\"text-align: right;\">\n",
       "      <th></th>\n",
       "      <th>date</th>\n",
       "      <th>browser</th>\n",
       "      <th>user_type</th>\n",
       "      <th>users</th>\n",
       "    </tr>\n",
       "  </thead>\n",
       "  <tbody>\n",
       "    <tr>\n",
       "      <th>0</th>\n",
       "      <td>2020-06-14</td>\n",
       "      <td>Google Chrome</td>\n",
       "      <td>People</td>\n",
       "      <td>139</td>\n",
       "    </tr>\n",
       "    <tr>\n",
       "      <th>1</th>\n",
       "      <td>2020-06-14</td>\n",
       "      <td>Chrome Mobile</td>\n",
       "      <td>People</td>\n",
       "      <td>35</td>\n",
       "    </tr>\n",
       "    <tr>\n",
       "      <th>2</th>\n",
       "      <td>2020-06-14</td>\n",
       "      <td>Google Chrome</td>\n",
       "      <td>Robots</td>\n",
       "      <td>28</td>\n",
       "    </tr>\n",
       "    <tr>\n",
       "      <th>3</th>\n",
       "      <td>2020-06-14</td>\n",
       "      <td>Yandex Browser</td>\n",
       "      <td>People</td>\n",
       "      <td>22</td>\n",
       "    </tr>\n",
       "    <tr>\n",
       "      <th>4</th>\n",
       "      <td>2020-06-14</td>\n",
       "      <td>Firefox</td>\n",
       "      <td>People</td>\n",
       "      <td>15</td>\n",
       "    </tr>\n",
       "  </tbody>\n",
       "</table>\n",
       "</div>"
      ],
      "text/plain": [
       "         date         browser user_type  users\n",
       "0  2020-06-14   Google Chrome    People    139\n",
       "1  2020-06-14   Chrome Mobile    People     35\n",
       "2  2020-06-14   Google Chrome    Robots     28\n",
       "3  2020-06-14  Yandex Browser    People     22\n",
       "4  2020-06-14         Firefox    People     15"
      ]
     },
     "execution_count": 45,
     "metadata": {},
     "output_type": "execute_result"
    }
   ],
   "source": [
    "df.head()"
   ]
  },
  {
   "cell_type": "code",
   "execution_count": 46,
   "id": "ba52a6b3",
   "metadata": {},
   "outputs": [
    {
     "data": {
      "text/plain": [
       "array(['People', 'Robots'], dtype=object)"
      ]
     },
     "execution_count": 46,
     "metadata": {},
     "output_type": "execute_result"
    }
   ],
   "source": [
    "df.user_type.unique()"
   ]
  },
  {
   "cell_type": "code",
   "execution_count": 59,
   "id": "133b4a9d",
   "metadata": {},
   "outputs": [],
   "source": [
    "df['chrome_robots'] = np.where(df.user_type == 'Robots',\n",
    "                               np.where(df.browser.str.contains('Chrome'), 1, 0),\n",
    "                               0)"
   ]
  },
  {
   "cell_type": "code",
   "execution_count": 61,
   "id": "a18c5429",
   "metadata": {},
   "outputs": [],
   "source": [
    "chrome_robots = pd.Series(np.where(df.user_type == 'Robots',\n",
    "                               np.where(df.browser.str.contains('Chrome'), 1, 0),\n",
    "                               0))"
   ]
  },
  {
   "cell_type": "markdown",
   "id": "9b0e64f3",
   "metadata": {},
   "source": [
    "Step 4 <a href='https://lab.karpov.courses/learning/85/module/1056/lesson/9044/26543/118022/'>link</a>\n",
    "<br>⭐️Задание со звёздочкой!⭐️\n",
    "\n",
    "У вас есть датасет с данными о кликах и показах по объявлению, в котором есть пропуски. Вычислите количество строк без пропусков в колонке click_type. Запишите ответ в переменную not_nan_count\n",
    "\n",
    "<br>ad_id – id объявления\n",
    "<br>user_id – id пользователя\n",
    "<br>click_type – тип клика (клик по заголовку объявления, клик по центру)"
   ]
  },
  {
   "cell_type": "code",
   "execution_count": 63,
   "id": "8997f202",
   "metadata": {},
   "outputs": [],
   "source": [
    "df = pd.read_csv('sample_ads.csv')"
   ]
  },
  {
   "cell_type": "code",
   "execution_count": 64,
   "id": "7cb73bb7",
   "metadata": {},
   "outputs": [
    {
     "data": {
      "text/html": [
       "<div>\n",
       "<style scoped>\n",
       "    .dataframe tbody tr th:only-of-type {\n",
       "        vertical-align: middle;\n",
       "    }\n",
       "\n",
       "    .dataframe tbody tr th {\n",
       "        vertical-align: top;\n",
       "    }\n",
       "\n",
       "    .dataframe thead th {\n",
       "        text-align: right;\n",
       "    }\n",
       "</style>\n",
       "<table border=\"1\" class=\"dataframe\">\n",
       "  <thead>\n",
       "    <tr style=\"text-align: right;\">\n",
       "      <th></th>\n",
       "      <th>ad_id</th>\n",
       "      <th>user_id</th>\n",
       "      <th>click_type</th>\n",
       "    </tr>\n",
       "  </thead>\n",
       "  <tbody>\n",
       "    <tr>\n",
       "      <th>0</th>\n",
       "      <td>12345</td>\n",
       "      <td>qwert</td>\n",
       "      <td>top</td>\n",
       "    </tr>\n",
       "    <tr>\n",
       "      <th>1</th>\n",
       "      <td>12345</td>\n",
       "      <td>fsssc</td>\n",
       "      <td>center</td>\n",
       "    </tr>\n",
       "    <tr>\n",
       "      <th>2</th>\n",
       "      <td>12345</td>\n",
       "      <td>vfvgg</td>\n",
       "      <td>NaN</td>\n",
       "    </tr>\n",
       "    <tr>\n",
       "      <th>3</th>\n",
       "      <td>12345</td>\n",
       "      <td>asrvv</td>\n",
       "      <td>NaN</td>\n",
       "    </tr>\n",
       "    <tr>\n",
       "      <th>4</th>\n",
       "      <td>12345</td>\n",
       "      <td>tynuy</td>\n",
       "      <td>top</td>\n",
       "    </tr>\n",
       "  </tbody>\n",
       "</table>\n",
       "</div>"
      ],
      "text/plain": [
       "   ad_id user_id click_type\n",
       "0  12345   qwert        top\n",
       "1  12345   fsssc     center\n",
       "2  12345   vfvgg        NaN\n",
       "3  12345   asrvv        NaN\n",
       "4  12345   tynuy        top"
      ]
     },
     "execution_count": 64,
     "metadata": {},
     "output_type": "execute_result"
    }
   ],
   "source": [
    "df.head()"
   ]
  },
  {
   "cell_type": "code",
   "execution_count": 66,
   "id": "429b56be",
   "metadata": {},
   "outputs": [],
   "source": [
    "not_nan_count = df.click_type.notna().sum()"
   ]
  },
  {
   "cell_type": "markdown",
   "id": "cd110ca2",
   "metadata": {},
   "source": [
    "Step 5 <a href='https://lab.karpov.courses/learning/85/module/1056/lesson/9044/26543/118023/'>link</a>\n",
    "<br>⭐️Задание со звёздочкой!⭐️\n",
    "\n",
    "В списке lst находятся различные элементы. Создайте список new_list и сделайте следующее:\n",
    "\n",
    "при помощи конструкции try except и цикла попробуйте преобразовать каждое значение в листе в int\n",
    "если это получилось – добавьте преобразованное значение  в список new_list"
   ]
  },
  {
   "cell_type": "code",
   "execution_count": 74,
   "id": "aa98c50b",
   "metadata": {},
   "outputs": [
    {
     "name": "stdout",
     "output_type": "stream",
     "text": [
      "[1, 1, 2, -35, 2]\n"
     ]
    }
   ],
   "source": [
    "lst = ['1', 1, 2, '3.2', '-35', '+2', 's', '.', '3,3']\n",
    "\n",
    "new_list = []\n",
    "\n",
    "for i in lst:\n",
    "    try:\n",
    "        new_list.append(int(i))\n",
    "    except:\n",
    "        continue\n",
    "#         pass\n",
    "        \n",
    "print(new_list)"
   ]
  },
  {
   "cell_type": "markdown",
   "id": "d7bce86f",
   "metadata": {},
   "source": [
    "Step 6 <a href='https://lab.karpov.courses/learning/85/module/1056/lesson/9044/26543/118024/'>link</a>\n",
    "<br>⭐️Задание со звёздочкой! ⭐️\n",
    "\n",
    "А теперь попробуем воспользоваться знаниями использования Telegram API. Отправьте себе в личку любое послание, а в ответ к этому шагу напишите ник бота, от имени которого будете отправлять сообщения."
   ]
  },
  {
   "cell_type": "code",
   "execution_count": 75,
   "id": "589542b7",
   "metadata": {},
   "outputs": [],
   "source": [
    "path_to_tg_json = '../../creds/my_tg_bot.json'"
   ]
  },
  {
   "cell_type": "code",
   "execution_count": 78,
   "id": "67c7be52",
   "metadata": {},
   "outputs": [],
   "source": [
    "\n",
    "with open(path_to_tg_json) as json_file:\n",
    "    data = json.load(json_file)\n",
    "\n",
    "#file has to contain 'token' and 'chat_id' fields \n",
    "token = data['token']\n",
    "chat_id = data['chat_id']"
   ]
  },
  {
   "cell_type": "code",
   "execution_count": 79,
   "id": "6e47d07d",
   "metadata": {},
   "outputs": [],
   "source": [
    "tg_get_updates_api = f'https://api.telegram.org/bot{token}/getUpdates'"
   ]
  },
  {
   "cell_type": "code",
   "execution_count": 106,
   "id": "1e2ee3ee",
   "metadata": {},
   "outputs": [],
   "source": [
    "resp=requests.get(tg_get_updates_api)\n",
    "resp_json = json.loads(resp.text)\n",
    "chat_id = resp_json['result'][0]['message']['chat']['id']"
   ]
  },
  {
   "cell_type": "code",
   "execution_count": 101,
   "id": "8a2af8a3",
   "metadata": {},
   "outputs": [],
   "source": [
    "message = 'test'  # text which you want to send\n",
    "\n",
    "params = {'chat_id': chat_id, 'text': message}\n",
    "\n",
    "base_url = f'https://api.telegram.org/bot{token}/'\n",
    "url = base_url + 'sendMessage?' + urlencode(params)\n",
    "# Only if you need it\n",
    "# proxy = {'https': 'https://77.48.23.199:57842'}\n",
    "\n",
    "# To send request via proxy\n",
    "# resp = requests.get(url, proxies=proxy)\n",
    "resp = requests.get(url)"
   ]
  },
  {
   "cell_type": "code",
   "execution_count": 102,
   "id": "120a7025",
   "metadata": {},
   "outputs": [
    {
     "data": {
      "text/plain": [
       "'{\"ok\":true,\"result\":{\"message_id\":1155,\"from\":{\"id\":551364995,\"is_bot\":true,\"first_name\":\"BaharatBot_v1\",\"username\":\"Psyr_bot\"},\"chat\":{\"id\":351301198,\"first_name\":\"Pavel\",\"last_name\":\"Syrnev\",\"username\":\"psyrnev\",\"type\":\"private\"},\"date\":1651302872,\"text\":\"test\"}}'"
      ]
     },
     "execution_count": 102,
     "metadata": {},
     "output_type": "execute_result"
    }
   ],
   "source": [
    "resp.text"
   ]
  },
  {
   "cell_type": "code",
   "execution_count": null,
   "id": "adf1b67d",
   "metadata": {},
   "outputs": [],
   "source": []
  }
 ],
 "metadata": {
  "kernelspec": {
   "display_name": "Python 3",
   "language": "python",
   "name": "python3"
  },
  "language_info": {
   "codemirror_mode": {
    "name": "ipython",
    "version": 3
   },
   "file_extension": ".py",
   "mimetype": "text/x-python",
   "name": "python",
   "nbconvert_exporter": "python",
   "pygments_lexer": "ipython3",
   "version": "3.8.8"
  }
 },
 "nbformat": 4,
 "nbformat_minor": 5
}
