{
 "cells": [
  {
   "cell_type": "code",
   "execution_count": 28,
   "id": "f4795676",
   "metadata": {},
   "outputs": [],
   "source": [
    "import requests\n",
    "import pandas as pd\n",
    "import numpy as np\n",
    "import seaborn as sns\n",
    "import matplotlib.pyplot as plt\n",
    "\n",
    "%matplotlib inline"
   ]
  },
  {
   "cell_type": "markdown",
   "id": "e09938c5",
   "metadata": {},
   "source": [
    "Step 2 <a href='https://lab.karpov.courses/learning/85/module/1056/lesson/9044/26545/118033/'>link</a>\n",
    "<br>Сам запрос к API должен состоять из нескольких параметров. Пример обращения к поиску (Search):\n",
    "\n",
    "r = requests.get('https://collectionapi.metmuseum.org/public/collection/v1/search?q=QUERY')\n",
    "res = r.json()\n",
    "\n",
    "где QUERY – ключевое слово.\n",
    "\n",
    "Предположим, ваша задача – найти все произведения, связанные с подсолнухами. Выполните поиск по слову \"sunflowers\". Внимательно посмотрите на формат ответа и сохраните id полученных объектов в список sunflower_ids.\n",
    "\n",
    "В качестве ответа выберите id объектов (3), которые присутствуют в полученном списке: [16822570, 2032, 437329, 436524, 20149]"
   ]
  },
  {
   "cell_type": "code",
   "execution_count": 69,
   "id": "f9c52c1a",
   "metadata": {},
   "outputs": [],
   "source": [
    "r = requests.get('https://collectionapi.metmuseum.org/public/collection/v1/search?q=sunflowers')\n",
    "res = r.json()"
   ]
  },
  {
   "cell_type": "code",
   "execution_count": 70,
   "id": "1394dfbe",
   "metadata": {},
   "outputs": [
    {
     "data": {
      "text/plain": [
       "85"
      ]
     },
     "execution_count": 70,
     "metadata": {},
     "output_type": "execute_result"
    }
   ],
   "source": [
    "sunflower_ids = res['objectIDs']\n",
    "len(sunflower_ids)"
   ]
  },
  {
   "cell_type": "code",
   "execution_count": 9,
   "id": "7ae6a50b",
   "metadata": {},
   "outputs": [
    {
     "name": "stdout",
     "output_type": "stream",
     "text": [
      "16822570 is in False\n",
      "2032 is in True\n",
      "437329 is in True\n",
      "436524 is in True\n",
      "20149 is in False\n"
     ]
    }
   ],
   "source": [
    "ids = [16822570, 2032, 437329, 436524, 20149]\n",
    "\n",
    "for i in ids:\n",
    "    print(f'{i} is in {i in sunflower_ids}')"
   ]
  },
  {
   "cell_type": "markdown",
   "id": "7596061b",
   "metadata": {},
   "source": [
    "Step 3 <a href='https://lab.karpov.courses/learning/85/module/1056/lesson/9044/26545/118034/'>link</a>\n",
    "<br>Отлично! На предыдущем шаге мы получили результаты поиска. Следущий этап – собрать информацию об этих объектах.\n",
    "\n",
    "Пример текста запроса для получения информации об одном объекте (Object):\n",
    "\n",
    "r_test = requests.get(f'https://collectionapi.metmuseum.org/public/collection/v1/objects/OBJECT_ID')\n",
    "<br>obj_test = r_test.json()\n",
    "\n",
    "где OBJECT_ID – id объекта.\n",
    "\n",
    "Выполните запрос для объекта 437980. Для проверки соотнесите полученные параметры с их значениями:"
   ]
  },
  {
   "cell_type": "code",
   "execution_count": 11,
   "id": "cf61fd20",
   "metadata": {},
   "outputs": [],
   "source": [
    "obj_id = 437980\n",
    "r_test = requests.get(f'https://collectionapi.metmuseum.org/public/collection/v1/objects/{obj_id}')\n",
    "obj_test = r_test.json()"
   ]
  },
  {
   "cell_type": "code",
   "execution_count": 17,
   "id": "c9bec251",
   "metadata": {},
   "outputs": [
    {
     "name": "stdout",
     "output_type": "stream",
     "text": [
      "department = European Paintings\n",
      "objectName = Painting\n",
      "title = Cypresses\n",
      "culture = \n",
      "artistDisplayName = Vincent van Gogh\n",
      "objectID = 437980\n",
      "GalleryNumber = 825\n"
     ]
    }
   ],
   "source": [
    "print('department = {}'.format(obj_test['department']))\n",
    "print('objectName = {}'.format(obj_test['objectName']))\n",
    "print('title = {}'.format(obj_test['title']))\n",
    "print('culture = {}'.format(obj_test['culture']))\n",
    "print('artistDisplayName = {}'.format(obj_test['artistDisplayName']))\n",
    "print('objectID = {}'.format(obj_test['objectID']))\n",
    "print('GalleryNumber = {}'.format(obj_test['GalleryNumber']))\n"
   ]
  },
  {
   "cell_type": "markdown",
   "id": "0b99808e",
   "metadata": {},
   "source": [
    "Step 4 <a href='https://lab.karpov.courses/learning/85/module/1056/lesson/9044/26545/118035/'>link</a>\n",
    "<br>Теперь напишите цикл, с помощью которого будет собрана информация об объектах, которые были получены на 2 шаге. Результаты запишите в датафрейм, а именно – следующие параметры:\n",
    "\n",
    "objectID – id объекта\n",
    "<br>title – название\n",
    "<br>artistDisplayName – автор\n",
    "<br>department – департамент\n",
    "<br>objectBeginDate – дата (начало)\n",
    "<br>objectEndDate – дата (конец)\n",
    "<br>period – название периода\n",
    "<br>objectName – название/категория объекта\n",
    "<br>culture – культура\n",
    "\n",
    "Сколько объектов относятся к японской культуре? (culture –Japan)"
   ]
  },
  {
   "cell_type": "code",
   "execution_count": 21,
   "id": "3a641f6c",
   "metadata": {},
   "outputs": [],
   "source": [
    "props = ['objectID', 'title', 'artistDisplayName', 'department', 'objectBeginDate', 'objectEndDate', 'period', 'objectName', 'culture']"
   ]
  },
  {
   "cell_type": "code",
   "execution_count": 46,
   "id": "034a37e7",
   "metadata": {},
   "outputs": [],
   "source": [
    "data = []\n",
    "errors = []\n",
    "for obj_id in sunflower_ids:\n",
    "    resp = requests.get(f'https://collectionapi.metmuseum.org/public/collection/v1/objects/{obj_id}')\n",
    "    if resp.status_code == 200:\n",
    "        obj = resp.json()\n",
    "        row = [obj[p] for p in props]\n",
    "        data.append(row)\n",
    "    else:\n",
    "        errors.append({'obj_id':obj_id, 'status_code':resp.status_code})\n",
    "\n",
    "obj_df = pd.DataFrame(data, columns=props)"
   ]
  },
  {
   "cell_type": "code",
   "execution_count": 48,
   "id": "ffdab541",
   "metadata": {},
   "outputs": [
    {
     "data": {
      "text/plain": [
       "[{839296: 404}, {704667: 404}, {696949: 404}]"
      ]
     },
     "execution_count": 48,
     "metadata": {},
     "output_type": "execute_result"
    }
   ],
   "source": [
    "errors"
   ]
  },
  {
   "cell_type": "code",
   "execution_count": 49,
   "id": "389f570f",
   "metadata": {},
   "outputs": [
    {
     "data": {
      "text/plain": [
       "objectID             0\n",
       "title                0\n",
       "artistDisplayName    0\n",
       "department           0\n",
       "objectBeginDate      0\n",
       "objectEndDate        0\n",
       "period               0\n",
       "objectName           0\n",
       "culture              0\n",
       "dtype: int64"
      ]
     },
     "execution_count": 49,
     "metadata": {},
     "output_type": "execute_result"
    }
   ],
   "source": [
    "obj_df.isna().sum()"
   ]
  },
  {
   "cell_type": "code",
   "execution_count": 52,
   "id": "1cae22a0",
   "metadata": {},
   "outputs": [
    {
     "data": {
      "text/html": [
       "<div>\n",
       "<style scoped>\n",
       "    .dataframe tbody tr th:only-of-type {\n",
       "        vertical-align: middle;\n",
       "    }\n",
       "\n",
       "    .dataframe tbody tr th {\n",
       "        vertical-align: top;\n",
       "    }\n",
       "\n",
       "    .dataframe thead th {\n",
       "        text-align: right;\n",
       "    }\n",
       "</style>\n",
       "<table border=\"1\" class=\"dataframe\">\n",
       "  <thead>\n",
       "    <tr style=\"text-align: right;\">\n",
       "      <th></th>\n",
       "      <th>objectID</th>\n",
       "    </tr>\n",
       "    <tr>\n",
       "      <th>culture</th>\n",
       "      <th></th>\n",
       "    </tr>\n",
       "  </thead>\n",
       "  <tbody>\n",
       "    <tr>\n",
       "      <th></th>\n",
       "      <td>71</td>\n",
       "    </tr>\n",
       "    <tr>\n",
       "      <th>American</th>\n",
       "      <td>8</td>\n",
       "    </tr>\n",
       "    <tr>\n",
       "      <th>Ancestral Pueblo</th>\n",
       "      <td>1</td>\n",
       "    </tr>\n",
       "    <tr>\n",
       "      <th>British</th>\n",
       "      <td>1</td>\n",
       "    </tr>\n",
       "    <tr>\n",
       "      <th>Japan</th>\n",
       "      <td>1</td>\n",
       "    </tr>\n",
       "  </tbody>\n",
       "</table>\n",
       "</div>"
      ],
      "text/plain": [
       "                  objectID\n",
       "culture                   \n",
       "                        71\n",
       "American                 8\n",
       "Ancestral Pueblo         1\n",
       "British                  1\n",
       "Japan                    1"
      ]
     },
     "execution_count": 52,
     "metadata": {},
     "output_type": "execute_result"
    }
   ],
   "source": [
    "obj_df.groupby(by='culture') \\\n",
    "    .agg({'objectID':'count'})"
   ]
  },
  {
   "cell_type": "markdown",
   "id": "b6a1d243",
   "metadata": {},
   "source": [
    "Step 5 <a href='https://lab.karpov.courses/learning/85/module/1056/lesson/9044/26545/118036/'>link</a>\n",
    "<br>Теперь попробуем построить более сложный запрос с помощью секции \"Search\"! На этот раз параметры необходимо передать через \"&\", например, departmentId (id департамента – 1) и q (ключевое слово – cat):\n",
    "\n",
    "r = requests.get('https://collectionapi.metmuseum.org/public/collection/v1/search?departmentId=1&q=cat')\n",
    "<br>cats = r.json()\n",
    "\n",
    "Выполните поисковый запрос для департамента \"Asian art\" (departmentId = 6) с тегом \"cat\" и запишите id объектов в cat_ids. <br>Используйте цикл из шага 4, чтобы получить данные о первой 1000 объектов из списка.\n",
    "\n",
    "Note: выполнение цикла может занять некоторое время (~5 минут), поэтому проверять его работоспособность лучше на более маленькой выборке!\n",
    "\n",
    "В качестве ответа укажите, в каком периоде (period) было выполнено наибольшее количество работ, представленных в музее?"
   ]
  },
  {
   "cell_type": "code",
   "execution_count": 131,
   "id": "7184ee00",
   "metadata": {},
   "outputs": [],
   "source": [
    "resp = requests.get('https://collectionapi.metmuseum.org/public/collection/v1/search?departmentId=6&q=cat')\n",
    "cats = resp.json()"
   ]
  },
  {
   "cell_type": "code",
   "execution_count": 132,
   "id": "248940a3",
   "metadata": {},
   "outputs": [
    {
     "data": {
      "text/plain": [
       "2909"
      ]
     },
     "execution_count": 132,
     "metadata": {},
     "output_type": "execute_result"
    }
   ],
   "source": [
    "cat_ids = cats['objectIDs']\n",
    "len(cat_ids)"
   ]
  },
  {
   "cell_type": "code",
   "execution_count": 134,
   "id": "401bace4",
   "metadata": {},
   "outputs": [
    {
     "data": {
      "text/plain": [
       "1000"
      ]
     },
     "execution_count": 134,
     "metadata": {},
     "output_type": "execute_result"
    }
   ],
   "source": [
    "max_count = 1000\n",
    "cat_ids = cat_ids[0:min(len(cat_ids), max_count)]\n",
    "len(cat_ids)"
   ]
  },
  {
   "cell_type": "code",
   "execution_count": 135,
   "id": "8cf8a153",
   "metadata": {},
   "outputs": [],
   "source": [
    "data = []\n",
    "errors = []\n",
    "for obj_id in cat_ids:\n",
    "    resp = requests.get(f'https://collectionapi.metmuseum.org/public/collection/v1/objects/{obj_id}')\n",
    "    if resp.status_code == 200:\n",
    "        obj = resp.json()\n",
    "        row = [obj[p] for p in props]\n",
    "        data.append(row)\n",
    "    else:\n",
    "        errors.append({'obj_id':obj_id, 'status_code':resp.status_code})\n",
    "\n",
    "cats_df = pd.DataFrame(data, columns=props)"
   ]
  },
  {
   "cell_type": "code",
   "execution_count": 136,
   "id": "1c8ced6a",
   "metadata": {},
   "outputs": [
    {
     "data": {
      "text/plain": [
       "[]"
      ]
     },
     "execution_count": 136,
     "metadata": {},
     "output_type": "execute_result"
    }
   ],
   "source": [
    "errors"
   ]
  },
  {
   "cell_type": "code",
   "execution_count": 143,
   "id": "d6639571",
   "metadata": {},
   "outputs": [],
   "source": [
    "cats_df.to_csv('cats.csv', index=False)"
   ]
  },
  {
   "cell_type": "code",
   "execution_count": 138,
   "id": "f46ddd40",
   "metadata": {},
   "outputs": [
    {
     "data": {
      "text/plain": [
       "(1000, 9)"
      ]
     },
     "execution_count": 138,
     "metadata": {},
     "output_type": "execute_result"
    }
   ],
   "source": [
    "cats_df.shape"
   ]
  },
  {
   "cell_type": "code",
   "execution_count": 142,
   "id": "d5774fb7",
   "metadata": {},
   "outputs": [
    {
     "data": {
      "text/html": [
       "<div>\n",
       "<style scoped>\n",
       "    .dataframe tbody tr th:only-of-type {\n",
       "        vertical-align: middle;\n",
       "    }\n",
       "\n",
       "    .dataframe tbody tr th {\n",
       "        vertical-align: top;\n",
       "    }\n",
       "\n",
       "    .dataframe thead th {\n",
       "        text-align: right;\n",
       "    }\n",
       "</style>\n",
       "<table border=\"1\" class=\"dataframe\">\n",
       "  <thead>\n",
       "    <tr style=\"text-align: right;\">\n",
       "      <th></th>\n",
       "      <th>period</th>\n",
       "      <th>counts</th>\n",
       "    </tr>\n",
       "  </thead>\n",
       "  <tbody>\n",
       "    <tr>\n",
       "      <th>16</th>\n",
       "      <td>Edo period (1615–1868)</td>\n",
       "      <td>455</td>\n",
       "    </tr>\n",
       "    <tr>\n",
       "      <th>0</th>\n",
       "      <td></td>\n",
       "      <td>95</td>\n",
       "    </tr>\n",
       "    <tr>\n",
       "      <th>75</th>\n",
       "      <td>Qing dynasty (1644–1911)</td>\n",
       "      <td>49</td>\n",
       "    </tr>\n",
       "    <tr>\n",
       "      <th>43</th>\n",
       "      <td>Ming dynasty (1368–1644)</td>\n",
       "      <td>49</td>\n",
       "    </tr>\n",
       "    <tr>\n",
       "      <th>63</th>\n",
       "      <td>Muromachi period (1392–1573)</td>\n",
       "      <td>30</td>\n",
       "    </tr>\n",
       "  </tbody>\n",
       "</table>\n",
       "</div>"
      ],
      "text/plain": [
       "                          period  counts\n",
       "16        Edo period (1615–1868)     455\n",
       "0                                     95\n",
       "75      Qing dynasty (1644–1911)      49\n",
       "43      Ming dynasty (1368–1644)      49\n",
       "63  Muromachi period (1392–1573)      30"
      ]
     },
     "execution_count": 142,
     "metadata": {},
     "output_type": "execute_result"
    }
   ],
   "source": [
    "cats_df.groupby('period', as_index=False) \\\n",
    "    .agg({'objectID':'count'}) \\\n",
    "    .rename(columns={'objectID':'counts'}) \\\n",
    "    .sort_values('counts', ascending=False) \\\n",
    "    .head()"
   ]
  },
  {
   "cell_type": "code",
   "execution_count": null,
   "id": "15467484",
   "metadata": {},
   "outputs": [],
   "source": []
  }
 ],
 "metadata": {
  "kernelspec": {
   "display_name": "Python 3",
   "language": "python",
   "name": "python3"
  },
  "language_info": {
   "codemirror_mode": {
    "name": "ipython",
    "version": 3
   },
   "file_extension": ".py",
   "mimetype": "text/x-python",
   "name": "python",
   "nbconvert_exporter": "python",
   "pygments_lexer": "ipython3",
   "version": "3.8.8"
  }
 },
 "nbformat": 4,
 "nbformat_minor": 5
}
