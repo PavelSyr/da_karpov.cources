{
 "cells": [
  {
   "cell_type": "code",
   "execution_count": 1,
   "id": "e0c06247",
   "metadata": {},
   "outputs": [],
   "source": [
    "import pandas as pd\n",
    "import numpy as np"
   ]
  },
  {
   "cell_type": "code",
   "execution_count": 5,
   "id": "92257ea0",
   "metadata": {},
   "outputs": [],
   "source": [
    "bikes_Q1 = pd.read_csv('bikes_q1_sample.csv')"
   ]
  },
  {
   "cell_type": "markdown",
   "id": "104a42e0",
   "metadata": {},
   "source": [
    "Step 1 <a href='https://lab.karpov.courses/learning/85/module/1056/lesson/9045/26549/118059/'>link</a>\n",
    "<br>Поместите колонку start_time в качестве индексов и сохраните изменения в исходный датасет. Предварительно проверьте тип переменной, и приведите её к правильному, если необходимо."
   ]
  },
  {
   "cell_type": "code",
   "execution_count": 7,
   "id": "8ff86a5e",
   "metadata": {},
   "outputs": [],
   "source": [
    "bikes_Q1.start_time = pd.to_datetime(bikes_Q1.start_time)"
   ]
  },
  {
   "cell_type": "code",
   "execution_count": 10,
   "id": "a61b2710",
   "metadata": {},
   "outputs": [],
   "source": [
    "bikes_Q1 = bikes_Q1.set_index('start_time')"
   ]
  },
  {
   "cell_type": "code",
   "execution_count": 11,
   "id": "df4f4e99",
   "metadata": {},
   "outputs": [
    {
     "data": {
      "text/html": [
       "<div>\n",
       "<style scoped>\n",
       "    .dataframe tbody tr th:only-of-type {\n",
       "        vertical-align: middle;\n",
       "    }\n",
       "\n",
       "    .dataframe tbody tr th {\n",
       "        vertical-align: top;\n",
       "    }\n",
       "\n",
       "    .dataframe thead th {\n",
       "        text-align: right;\n",
       "    }\n",
       "</style>\n",
       "<table border=\"1\" class=\"dataframe\">\n",
       "  <thead>\n",
       "    <tr style=\"text-align: right;\">\n",
       "      <th></th>\n",
       "      <th>trip_id</th>\n",
       "      <th>end_time</th>\n",
       "      <th>bikeid</th>\n",
       "      <th>tripduration</th>\n",
       "      <th>from_station_id</th>\n",
       "      <th>from_station_name</th>\n",
       "      <th>to_station_id</th>\n",
       "      <th>to_station_name</th>\n",
       "      <th>usertype</th>\n",
       "      <th>gender</th>\n",
       "      <th>birthyear</th>\n",
       "    </tr>\n",
       "    <tr>\n",
       "      <th>start_time</th>\n",
       "      <th></th>\n",
       "      <th></th>\n",
       "      <th></th>\n",
       "      <th></th>\n",
       "      <th></th>\n",
       "      <th></th>\n",
       "      <th></th>\n",
       "      <th></th>\n",
       "      <th></th>\n",
       "      <th></th>\n",
       "      <th></th>\n",
       "    </tr>\n",
       "  </thead>\n",
       "  <tbody>\n",
       "    <tr>\n",
       "      <th>2018-01-22 20:04:31</th>\n",
       "      <td>17617135</td>\n",
       "      <td>2018-01-22 20:11:53</td>\n",
       "      <td>1131</td>\n",
       "      <td>442.0</td>\n",
       "      <td>471</td>\n",
       "      <td>Francisco Ave &amp; Foster Ave</td>\n",
       "      <td>468</td>\n",
       "      <td>Budlong Woods Library</td>\n",
       "      <td>Subscriber</td>\n",
       "      <td>Female</td>\n",
       "      <td>1949.0</td>\n",
       "    </tr>\n",
       "    <tr>\n",
       "      <th>2018-03-16 19:47:59</th>\n",
       "      <td>17897619</td>\n",
       "      <td>2018-03-16 20:04:00</td>\n",
       "      <td>6146</td>\n",
       "      <td>961.0</td>\n",
       "      <td>296</td>\n",
       "      <td>Broadway &amp; Belmont Ave</td>\n",
       "      <td>253</td>\n",
       "      <td>Winthrop Ave &amp; Lawrence Ave</td>\n",
       "      <td>Subscriber</td>\n",
       "      <td>Male</td>\n",
       "      <td>1988.0</td>\n",
       "    </tr>\n",
       "    <tr>\n",
       "      <th>2018-03-14 18:49:20</th>\n",
       "      <td>17881307</td>\n",
       "      <td>2018-03-14 18:54:38</td>\n",
       "      <td>3847</td>\n",
       "      <td>318.0</td>\n",
       "      <td>260</td>\n",
       "      <td>Kedzie Ave &amp; Milwaukee Ave</td>\n",
       "      <td>503</td>\n",
       "      <td>Drake Ave &amp; Fullerton Ave</td>\n",
       "      <td>Subscriber</td>\n",
       "      <td>Male</td>\n",
       "      <td>1987.0</td>\n",
       "    </tr>\n",
       "    <tr>\n",
       "      <th>2018-03-14 18:33:48</th>\n",
       "      <td>17881130</td>\n",
       "      <td>2018-03-14 19:07:40</td>\n",
       "      <td>1483</td>\n",
       "      <td>2,032.0</td>\n",
       "      <td>199</td>\n",
       "      <td>Wabash Ave &amp; Grand Ave</td>\n",
       "      <td>199</td>\n",
       "      <td>Wabash Ave &amp; Grand Ave</td>\n",
       "      <td>Subscriber</td>\n",
       "      <td>Male</td>\n",
       "      <td>1990.0</td>\n",
       "    </tr>\n",
       "    <tr>\n",
       "      <th>2018-02-05 17:39:14</th>\n",
       "      <td>17686289</td>\n",
       "      <td>2018-02-05 17:46:13</td>\n",
       "      <td>6391</td>\n",
       "      <td>419.0</td>\n",
       "      <td>596</td>\n",
       "      <td>Benson Ave &amp; Church St</td>\n",
       "      <td>605</td>\n",
       "      <td>University Library (NU)</td>\n",
       "      <td>Subscriber</td>\n",
       "      <td>Male</td>\n",
       "      <td>1992.0</td>\n",
       "    </tr>\n",
       "  </tbody>\n",
       "</table>\n",
       "</div>"
      ],
      "text/plain": [
       "                      trip_id             end_time  bikeid tripduration  \\\n",
       "start_time                                                                \n",
       "2018-01-22 20:04:31  17617135  2018-01-22 20:11:53    1131        442.0   \n",
       "2018-03-16 19:47:59  17897619  2018-03-16 20:04:00    6146        961.0   \n",
       "2018-03-14 18:49:20  17881307  2018-03-14 18:54:38    3847        318.0   \n",
       "2018-03-14 18:33:48  17881130  2018-03-14 19:07:40    1483      2,032.0   \n",
       "2018-02-05 17:39:14  17686289  2018-02-05 17:46:13    6391        419.0   \n",
       "\n",
       "                     from_station_id           from_station_name  \\\n",
       "start_time                                                         \n",
       "2018-01-22 20:04:31              471  Francisco Ave & Foster Ave   \n",
       "2018-03-16 19:47:59              296      Broadway & Belmont Ave   \n",
       "2018-03-14 18:49:20              260  Kedzie Ave & Milwaukee Ave   \n",
       "2018-03-14 18:33:48              199      Wabash Ave & Grand Ave   \n",
       "2018-02-05 17:39:14              596      Benson Ave & Church St   \n",
       "\n",
       "                     to_station_id              to_station_name    usertype  \\\n",
       "start_time                                                                    \n",
       "2018-01-22 20:04:31            468        Budlong Woods Library  Subscriber   \n",
       "2018-03-16 19:47:59            253  Winthrop Ave & Lawrence Ave  Subscriber   \n",
       "2018-03-14 18:49:20            503    Drake Ave & Fullerton Ave  Subscriber   \n",
       "2018-03-14 18:33:48            199       Wabash Ave & Grand Ave  Subscriber   \n",
       "2018-02-05 17:39:14            605      University Library (NU)  Subscriber   \n",
       "\n",
       "                     gender  birthyear  \n",
       "start_time                              \n",
       "2018-01-22 20:04:31  Female     1949.0  \n",
       "2018-03-16 19:47:59    Male     1988.0  \n",
       "2018-03-14 18:49:20    Male     1987.0  \n",
       "2018-03-14 18:33:48    Male     1990.0  \n",
       "2018-02-05 17:39:14    Male     1992.0  "
      ]
     },
     "execution_count": 11,
     "metadata": {},
     "output_type": "execute_result"
    }
   ],
   "source": [
    "bikes_Q1.head()"
   ]
  },
  {
   "cell_type": "markdown",
   "id": "94a7955d",
   "metadata": {},
   "source": [
    "Step 2 <a href='https://lab.karpov.courses/learning/85/module/1056/lesson/9045/26549/118060/'>link</a>\n",
    "<br>В данных имеется как дата аренды, так и её точное время начала и окончания с точностью до секунд. Примените метод pd.resample() и агрегируйте данные по дням. В качестве ответа укажите максимальное число аренд за день."
   ]
  },
  {
   "cell_type": "code",
   "execution_count": 16,
   "id": "3aecf2f2",
   "metadata": {},
   "outputs": [
    {
     "data": {
      "text/plain": [
       "4196"
      ]
     },
     "execution_count": 16,
     "metadata": {},
     "output_type": "execute_result"
    }
   ],
   "source": [
    "bikes_Q1.resample(rule='D').trip_id.count().max()"
   ]
  },
  {
   "cell_type": "markdown",
   "id": "da92c748",
   "metadata": {},
   "source": [
    "Step 3 <a href='https://lab.karpov.courses/learning/85/module/1056/lesson/9045/26549/118061/'>link</a>\n",
    "<br>Посмотрим на распределение количества аренд для разных групп пользователей (usertype) — customers и subscribers в данных за апрель. Данные за нужный период можно подгрузить отсюда.\n",
    "\n",
    "Сделайте ресемпл по дням для каждой группы и в качестве ответа укажите число аренд за 18 апреля, сделанных пользователями типа Subscriber."
   ]
  },
  {
   "cell_type": "code",
   "execution_count": 21,
   "id": "7eac5a2b",
   "metadata": {
    "scrolled": true
   },
   "outputs": [],
   "source": [
    "bikes_april = pd.read_csv('bikes_april.csv')\n",
    "bikes_april.start_time = pd.to_datetime(bikes_april.start_time)\n",
    "bikes_april = bikes_april.set_index('start_time')"
   ]
  },
  {
   "cell_type": "code",
   "execution_count": 24,
   "id": "7d0fb14f",
   "metadata": {},
   "outputs": [
    {
     "data": {
      "text/plain": [
       "start_time  usertype  \n",
       "2018-04-18  Subscriber    2196\n",
       "            Customer        45\n",
       "Name: usertype, dtype: int64"
      ]
     },
     "execution_count": 24,
     "metadata": {},
     "output_type": "execute_result"
    }
   ],
   "source": [
    "bikes_april.resample(rule='D').usertype.value_counts().loc['2018-04-18']"
   ]
  },
  {
   "cell_type": "markdown",
   "id": "baa9e3fd",
   "metadata": {},
   "source": [
    "Step 4 <a href='https://lab.karpov.courses/learning/85/module/1056/lesson/9045/26549/118062/'>link</a>\n",
    "<br>⭐️ Посмотрим на данные за период с апреля по декабрь.\n",
    "\n",
    "Объедините сэмплы данных за нужные месяцы в один общий датасет bikes. Сделайте преобразование по дням для каждой группы пользователей (usertype), затем выберите дни, в которые число аренд, сделанных customers, было больше, чем у subscribers."
   ]
  },
  {
   "cell_type": "code",
   "execution_count": null,
   "id": "fbd50216",
   "metadata": {},
   "outputs": [],
   "source": []
  }
 ],
 "metadata": {
  "kernelspec": {
   "display_name": "Python 3",
   "language": "python",
   "name": "python3"
  },
  "language_info": {
   "codemirror_mode": {
    "name": "ipython",
    "version": 3
   },
   "file_extension": ".py",
   "mimetype": "text/x-python",
   "name": "python",
   "nbconvert_exporter": "python",
   "pygments_lexer": "ipython3",
   "version": "3.8.8"
  }
 },
 "nbformat": 4,
 "nbformat_minor": 5
}
