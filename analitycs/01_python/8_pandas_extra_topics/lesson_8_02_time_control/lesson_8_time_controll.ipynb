{
 "cells": [
  {
   "cell_type": "code",
   "execution_count": 165,
   "id": "e0c06247",
   "metadata": {},
   "outputs": [],
   "source": [
    "import pandas as pd\n",
    "import numpy as np\n",
    "from pathlib import Path\n",
    "import datetime as dt\n",
    "\n",
    "import seaborn as sns\n",
    "import matplotlib.pyplot as plt\n",
    "\n",
    "%matplotlib inline"
   ]
  },
  {
   "cell_type": "code",
   "execution_count": 5,
   "id": "92257ea0",
   "metadata": {},
   "outputs": [],
   "source": [
    "bikes_Q1 = pd.read_csv('bikes_q1_sample.csv')"
   ]
  },
  {
   "cell_type": "markdown",
   "id": "104a42e0",
   "metadata": {},
   "source": [
    "Step 1 <a href='https://lab.karpov.courses/learning/85/module/1056/lesson/9045/26549/118059/'>link</a>\n",
    "<br>Поместите колонку start_time в качестве индексов и сохраните изменения в исходный датасет. Предварительно проверьте тип переменной, и приведите её к правильному, если необходимо."
   ]
  },
  {
   "cell_type": "code",
   "execution_count": 7,
   "id": "8ff86a5e",
   "metadata": {},
   "outputs": [],
   "source": [
    "bikes_Q1.start_time = pd.to_datetime(bikes_Q1.start_time)"
   ]
  },
  {
   "cell_type": "code",
   "execution_count": 10,
   "id": "a61b2710",
   "metadata": {},
   "outputs": [],
   "source": [
    "bikes_Q1 = bikes_Q1.set_index('start_time')"
   ]
  },
  {
   "cell_type": "code",
   "execution_count": 11,
   "id": "df4f4e99",
   "metadata": {},
   "outputs": [
    {
     "data": {
      "text/html": [
       "<div>\n",
       "<style scoped>\n",
       "    .dataframe tbody tr th:only-of-type {\n",
       "        vertical-align: middle;\n",
       "    }\n",
       "\n",
       "    .dataframe tbody tr th {\n",
       "        vertical-align: top;\n",
       "    }\n",
       "\n",
       "    .dataframe thead th {\n",
       "        text-align: right;\n",
       "    }\n",
       "</style>\n",
       "<table border=\"1\" class=\"dataframe\">\n",
       "  <thead>\n",
       "    <tr style=\"text-align: right;\">\n",
       "      <th></th>\n",
       "      <th>trip_id</th>\n",
       "      <th>end_time</th>\n",
       "      <th>bikeid</th>\n",
       "      <th>tripduration</th>\n",
       "      <th>from_station_id</th>\n",
       "      <th>from_station_name</th>\n",
       "      <th>to_station_id</th>\n",
       "      <th>to_station_name</th>\n",
       "      <th>usertype</th>\n",
       "      <th>gender</th>\n",
       "      <th>birthyear</th>\n",
       "    </tr>\n",
       "    <tr>\n",
       "      <th>start_time</th>\n",
       "      <th></th>\n",
       "      <th></th>\n",
       "      <th></th>\n",
       "      <th></th>\n",
       "      <th></th>\n",
       "      <th></th>\n",
       "      <th></th>\n",
       "      <th></th>\n",
       "      <th></th>\n",
       "      <th></th>\n",
       "      <th></th>\n",
       "    </tr>\n",
       "  </thead>\n",
       "  <tbody>\n",
       "    <tr>\n",
       "      <th>2018-01-22 20:04:31</th>\n",
       "      <td>17617135</td>\n",
       "      <td>2018-01-22 20:11:53</td>\n",
       "      <td>1131</td>\n",
       "      <td>442.0</td>\n",
       "      <td>471</td>\n",
       "      <td>Francisco Ave &amp; Foster Ave</td>\n",
       "      <td>468</td>\n",
       "      <td>Budlong Woods Library</td>\n",
       "      <td>Subscriber</td>\n",
       "      <td>Female</td>\n",
       "      <td>1949.0</td>\n",
       "    </tr>\n",
       "    <tr>\n",
       "      <th>2018-03-16 19:47:59</th>\n",
       "      <td>17897619</td>\n",
       "      <td>2018-03-16 20:04:00</td>\n",
       "      <td>6146</td>\n",
       "      <td>961.0</td>\n",
       "      <td>296</td>\n",
       "      <td>Broadway &amp; Belmont Ave</td>\n",
       "      <td>253</td>\n",
       "      <td>Winthrop Ave &amp; Lawrence Ave</td>\n",
       "      <td>Subscriber</td>\n",
       "      <td>Male</td>\n",
       "      <td>1988.0</td>\n",
       "    </tr>\n",
       "    <tr>\n",
       "      <th>2018-03-14 18:49:20</th>\n",
       "      <td>17881307</td>\n",
       "      <td>2018-03-14 18:54:38</td>\n",
       "      <td>3847</td>\n",
       "      <td>318.0</td>\n",
       "      <td>260</td>\n",
       "      <td>Kedzie Ave &amp; Milwaukee Ave</td>\n",
       "      <td>503</td>\n",
       "      <td>Drake Ave &amp; Fullerton Ave</td>\n",
       "      <td>Subscriber</td>\n",
       "      <td>Male</td>\n",
       "      <td>1987.0</td>\n",
       "    </tr>\n",
       "    <tr>\n",
       "      <th>2018-03-14 18:33:48</th>\n",
       "      <td>17881130</td>\n",
       "      <td>2018-03-14 19:07:40</td>\n",
       "      <td>1483</td>\n",
       "      <td>2,032.0</td>\n",
       "      <td>199</td>\n",
       "      <td>Wabash Ave &amp; Grand Ave</td>\n",
       "      <td>199</td>\n",
       "      <td>Wabash Ave &amp; Grand Ave</td>\n",
       "      <td>Subscriber</td>\n",
       "      <td>Male</td>\n",
       "      <td>1990.0</td>\n",
       "    </tr>\n",
       "    <tr>\n",
       "      <th>2018-02-05 17:39:14</th>\n",
       "      <td>17686289</td>\n",
       "      <td>2018-02-05 17:46:13</td>\n",
       "      <td>6391</td>\n",
       "      <td>419.0</td>\n",
       "      <td>596</td>\n",
       "      <td>Benson Ave &amp; Church St</td>\n",
       "      <td>605</td>\n",
       "      <td>University Library (NU)</td>\n",
       "      <td>Subscriber</td>\n",
       "      <td>Male</td>\n",
       "      <td>1992.0</td>\n",
       "    </tr>\n",
       "  </tbody>\n",
       "</table>\n",
       "</div>"
      ],
      "text/plain": [
       "                      trip_id             end_time  bikeid tripduration  \\\n",
       "start_time                                                                \n",
       "2018-01-22 20:04:31  17617135  2018-01-22 20:11:53    1131        442.0   \n",
       "2018-03-16 19:47:59  17897619  2018-03-16 20:04:00    6146        961.0   \n",
       "2018-03-14 18:49:20  17881307  2018-03-14 18:54:38    3847        318.0   \n",
       "2018-03-14 18:33:48  17881130  2018-03-14 19:07:40    1483      2,032.0   \n",
       "2018-02-05 17:39:14  17686289  2018-02-05 17:46:13    6391        419.0   \n",
       "\n",
       "                     from_station_id           from_station_name  \\\n",
       "start_time                                                         \n",
       "2018-01-22 20:04:31              471  Francisco Ave & Foster Ave   \n",
       "2018-03-16 19:47:59              296      Broadway & Belmont Ave   \n",
       "2018-03-14 18:49:20              260  Kedzie Ave & Milwaukee Ave   \n",
       "2018-03-14 18:33:48              199      Wabash Ave & Grand Ave   \n",
       "2018-02-05 17:39:14              596      Benson Ave & Church St   \n",
       "\n",
       "                     to_station_id              to_station_name    usertype  \\\n",
       "start_time                                                                    \n",
       "2018-01-22 20:04:31            468        Budlong Woods Library  Subscriber   \n",
       "2018-03-16 19:47:59            253  Winthrop Ave & Lawrence Ave  Subscriber   \n",
       "2018-03-14 18:49:20            503    Drake Ave & Fullerton Ave  Subscriber   \n",
       "2018-03-14 18:33:48            199       Wabash Ave & Grand Ave  Subscriber   \n",
       "2018-02-05 17:39:14            605      University Library (NU)  Subscriber   \n",
       "\n",
       "                     gender  birthyear  \n",
       "start_time                              \n",
       "2018-01-22 20:04:31  Female     1949.0  \n",
       "2018-03-16 19:47:59    Male     1988.0  \n",
       "2018-03-14 18:49:20    Male     1987.0  \n",
       "2018-03-14 18:33:48    Male     1990.0  \n",
       "2018-02-05 17:39:14    Male     1992.0  "
      ]
     },
     "execution_count": 11,
     "metadata": {},
     "output_type": "execute_result"
    }
   ],
   "source": [
    "bikes_Q1.head()"
   ]
  },
  {
   "cell_type": "markdown",
   "id": "94a7955d",
   "metadata": {},
   "source": [
    "Step 2 <a href='https://lab.karpov.courses/learning/85/module/1056/lesson/9045/26549/118060/'>link</a>\n",
    "<br>В данных имеется как дата аренды, так и её точное время начала и окончания с точностью до секунд. Примените метод pd.resample() и агрегируйте данные по дням. В качестве ответа укажите максимальное число аренд за день."
   ]
  },
  {
   "cell_type": "code",
   "execution_count": 16,
   "id": "3aecf2f2",
   "metadata": {},
   "outputs": [
    {
     "data": {
      "text/plain": [
       "4196"
      ]
     },
     "execution_count": 16,
     "metadata": {},
     "output_type": "execute_result"
    }
   ],
   "source": [
    "bikes_Q1.resample(rule='D').trip_id.count().max()"
   ]
  },
  {
   "cell_type": "markdown",
   "id": "da92c748",
   "metadata": {},
   "source": [
    "Step 3 <a href='https://lab.karpov.courses/learning/85/module/1056/lesson/9045/26549/118061/'>link</a>\n",
    "<br>Посмотрим на распределение количества аренд для разных групп пользователей (usertype) — customers и subscribers в данных за апрель. Данные за нужный период можно подгрузить отсюда.\n",
    "\n",
    "Сделайте ресемпл по дням для каждой группы и в качестве ответа укажите число аренд за 18 апреля, сделанных пользователями типа Subscriber."
   ]
  },
  {
   "cell_type": "code",
   "execution_count": 21,
   "id": "7eac5a2b",
   "metadata": {
    "scrolled": true
   },
   "outputs": [],
   "source": [
    "bikes_april = pd.read_csv('bikes_april.csv')\n",
    "bikes_april.start_time = pd.to_datetime(bikes_april.start_time)\n",
    "bikes_april = bikes_april.set_index('start_time')"
   ]
  },
  {
   "cell_type": "markdown",
   "id": "313975d0",
   "metadata": {},
   "source": [
    "Step 4 <a href='https://lab.karpov.courses/learning/85/module/1056/lesson/9045/26549/118061/'>link</a>\n",
    "<br>Посмотрим на распределение количества аренд для разных групп пользователей (usertype) — customers и subscribers в данных за апрель. Данные за нужный период можно подгрузить отсюда.\n",
    "\n",
    "Сделайте ресемпл по дням для каждой группы и в качестве ответа укажите число аренд за 18 апреля, сделанных пользователями типа Subscriber."
   ]
  },
  {
   "cell_type": "code",
   "execution_count": 24,
   "id": "7d0fb14f",
   "metadata": {},
   "outputs": [
    {
     "data": {
      "text/plain": [
       "start_time  usertype  \n",
       "2018-04-18  Subscriber    2196\n",
       "            Customer        45\n",
       "Name: usertype, dtype: int64"
      ]
     },
     "execution_count": 24,
     "metadata": {},
     "output_type": "execute_result"
    }
   ],
   "source": [
    "bikes_april.resample(rule='D').usertype.value_counts().loc['2018-04-18']"
   ]
  },
  {
   "cell_type": "markdown",
   "id": "baa9e3fd",
   "metadata": {},
   "source": [
    "Step 5 <a href='https://lab.karpov.courses/learning/85/module/1056/lesson/9045/26549/118062/'>link</a>\n",
    "<br>⭐️ Посмотрим на данные за период с апреля по декабрь.\n",
    "\n",
    "Объедините сэмплы данных за нужные месяцы в один общий датасет bikes. Сделайте преобразование по дням для каждой группы пользователей (usertype), затем выберите дни, в которые число аренд, сделанных customers, было больше, чем у subscribers."
   ]
  },
  {
   "cell_type": "code",
   "execution_count": 4,
   "id": "332c847e",
   "metadata": {},
   "outputs": [],
   "source": [
    "path_to_csv_dir = 'bike_apr_dec'"
   ]
  },
  {
   "cell_type": "code",
   "execution_count": 5,
   "id": "763d36b1",
   "metadata": {},
   "outputs": [],
   "source": [
    "path = Path(path_to_csv_dir)"
   ]
  },
  {
   "cell_type": "code",
   "execution_count": 21,
   "id": "eb76a71b",
   "metadata": {},
   "outputs": [],
   "source": [
    "df = pd.DataFrame()\n",
    "for p in path.rglob('*csv'):\n",
    "    tmp_df = pd.read_csv(p)\n",
    "    \n",
    "    df = pd.concat([df, tmp_df])\n",
    "    \n",
    "df.start_time = pd.to_datetime(df.start_time)"
   ]
  },
  {
   "cell_type": "code",
   "execution_count": 25,
   "id": "37ddd07c",
   "metadata": {},
   "outputs": [],
   "source": [
    "df = df.set_index('start_time')"
   ]
  },
  {
   "cell_type": "code",
   "execution_count": 26,
   "id": "2ceda011",
   "metadata": {},
   "outputs": [
    {
     "data": {
      "text/html": [
       "<div>\n",
       "<style scoped>\n",
       "    .dataframe tbody tr th:only-of-type {\n",
       "        vertical-align: middle;\n",
       "    }\n",
       "\n",
       "    .dataframe tbody tr th {\n",
       "        vertical-align: top;\n",
       "    }\n",
       "\n",
       "    .dataframe thead th {\n",
       "        text-align: right;\n",
       "    }\n",
       "</style>\n",
       "<table border=\"1\" class=\"dataframe\">\n",
       "  <thead>\n",
       "    <tr style=\"text-align: right;\">\n",
       "      <th></th>\n",
       "      <th>trip_id</th>\n",
       "      <th>end_time</th>\n",
       "      <th>bikeid</th>\n",
       "      <th>tripduration</th>\n",
       "      <th>from_station_id</th>\n",
       "      <th>from_station_name</th>\n",
       "      <th>to_station_id</th>\n",
       "      <th>to_station_name</th>\n",
       "      <th>usertype</th>\n",
       "      <th>gender</th>\n",
       "      <th>birthyear</th>\n",
       "    </tr>\n",
       "    <tr>\n",
       "      <th>start_time</th>\n",
       "      <th></th>\n",
       "      <th></th>\n",
       "      <th></th>\n",
       "      <th></th>\n",
       "      <th></th>\n",
       "      <th></th>\n",
       "      <th></th>\n",
       "      <th></th>\n",
       "      <th></th>\n",
       "      <th></th>\n",
       "      <th></th>\n",
       "    </tr>\n",
       "  </thead>\n",
       "  <tbody>\n",
       "    <tr>\n",
       "      <th>2018-04-01 00:17:00</th>\n",
       "      <td>18000534</td>\n",
       "      <td>2018-04-01 00:22:53</td>\n",
       "      <td>1323</td>\n",
       "      <td>353.0</td>\n",
       "      <td>130</td>\n",
       "      <td>Damen Ave &amp; Division St</td>\n",
       "      <td>69</td>\n",
       "      <td>Damen Ave &amp; Pierce Ave</td>\n",
       "      <td>Subscriber</td>\n",
       "      <td>Male</td>\n",
       "      <td>1991.0</td>\n",
       "    </tr>\n",
       "    <tr>\n",
       "      <th>2018-04-01 00:20:00</th>\n",
       "      <td>18000536</td>\n",
       "      <td>2018-04-01 00:26:22</td>\n",
       "      <td>2602</td>\n",
       "      <td>382.0</td>\n",
       "      <td>121</td>\n",
       "      <td>Blackstone Ave &amp; Hyde Park Blvd</td>\n",
       "      <td>351</td>\n",
       "      <td>Cottage Grove Ave &amp; 51st St</td>\n",
       "      <td>Subscriber</td>\n",
       "      <td>Female</td>\n",
       "      <td>1992.0</td>\n",
       "    </tr>\n",
       "    <tr>\n",
       "      <th>2018-04-01 00:23:19</th>\n",
       "      <td>18000538</td>\n",
       "      <td>2018-04-01 00:35:01</td>\n",
       "      <td>4213</td>\n",
       "      <td>702.0</td>\n",
       "      <td>31</td>\n",
       "      <td>Franklin St &amp; Chicago Ave</td>\n",
       "      <td>180</td>\n",
       "      <td>Ritchie Ct &amp; Banks St</td>\n",
       "      <td>Subscriber</td>\n",
       "      <td>Male</td>\n",
       "      <td>1985.0</td>\n",
       "    </tr>\n",
       "    <tr>\n",
       "      <th>2018-04-01 00:24:46</th>\n",
       "      <td>18000540</td>\n",
       "      <td>2018-04-01 00:44:23</td>\n",
       "      <td>6401</td>\n",
       "      <td>1,177.0</td>\n",
       "      <td>596</td>\n",
       "      <td>Benson Ave &amp; Church St</td>\n",
       "      <td>517</td>\n",
       "      <td>Clark St &amp; Jarvis Ave</td>\n",
       "      <td>Subscriber</td>\n",
       "      <td>Male</td>\n",
       "      <td>1974.0</td>\n",
       "    </tr>\n",
       "    <tr>\n",
       "      <th>2018-04-01 00:26:04</th>\n",
       "      <td>18000541</td>\n",
       "      <td>2018-04-01 00:31:05</td>\n",
       "      <td>6333</td>\n",
       "      <td>301.0</td>\n",
       "      <td>145</td>\n",
       "      <td>Mies van der Rohe Way &amp; Chestnut St</td>\n",
       "      <td>24</td>\n",
       "      <td>Fairbanks Ct &amp; Grand Ave</td>\n",
       "      <td>Subscriber</td>\n",
       "      <td>Male</td>\n",
       "      <td>1984.0</td>\n",
       "    </tr>\n",
       "  </tbody>\n",
       "</table>\n",
       "</div>"
      ],
      "text/plain": [
       "                      trip_id             end_time  bikeid tripduration  \\\n",
       "start_time                                                                \n",
       "2018-04-01 00:17:00  18000534  2018-04-01 00:22:53    1323        353.0   \n",
       "2018-04-01 00:20:00  18000536  2018-04-01 00:26:22    2602        382.0   \n",
       "2018-04-01 00:23:19  18000538  2018-04-01 00:35:01    4213        702.0   \n",
       "2018-04-01 00:24:46  18000540  2018-04-01 00:44:23    6401      1,177.0   \n",
       "2018-04-01 00:26:04  18000541  2018-04-01 00:31:05    6333        301.0   \n",
       "\n",
       "                     from_station_id                    from_station_name  \\\n",
       "start_time                                                                  \n",
       "2018-04-01 00:17:00              130              Damen Ave & Division St   \n",
       "2018-04-01 00:20:00              121      Blackstone Ave & Hyde Park Blvd   \n",
       "2018-04-01 00:23:19               31            Franklin St & Chicago Ave   \n",
       "2018-04-01 00:24:46              596               Benson Ave & Church St   \n",
       "2018-04-01 00:26:04              145  Mies van der Rohe Way & Chestnut St   \n",
       "\n",
       "                     to_station_id              to_station_name    usertype  \\\n",
       "start_time                                                                    \n",
       "2018-04-01 00:17:00             69       Damen Ave & Pierce Ave  Subscriber   \n",
       "2018-04-01 00:20:00            351  Cottage Grove Ave & 51st St  Subscriber   \n",
       "2018-04-01 00:23:19            180        Ritchie Ct & Banks St  Subscriber   \n",
       "2018-04-01 00:24:46            517        Clark St & Jarvis Ave  Subscriber   \n",
       "2018-04-01 00:26:04             24     Fairbanks Ct & Grand Ave  Subscriber   \n",
       "\n",
       "                     gender  birthyear  \n",
       "start_time                              \n",
       "2018-04-01 00:17:00    Male     1991.0  \n",
       "2018-04-01 00:20:00  Female     1992.0  \n",
       "2018-04-01 00:23:19    Male     1985.0  \n",
       "2018-04-01 00:24:46    Male     1974.0  \n",
       "2018-04-01 00:26:04    Male     1984.0  "
      ]
     },
     "execution_count": 26,
     "metadata": {},
     "output_type": "execute_result"
    }
   ],
   "source": [
    "df.head()"
   ]
  },
  {
   "cell_type": "code",
   "execution_count": 39,
   "id": "b33492b2",
   "metadata": {},
   "outputs": [
    {
     "data": {
      "text/html": [
       "<div>\n",
       "<style scoped>\n",
       "    .dataframe tbody tr th:only-of-type {\n",
       "        vertical-align: middle;\n",
       "    }\n",
       "\n",
       "    .dataframe tbody tr th {\n",
       "        vertical-align: top;\n",
       "    }\n",
       "\n",
       "    .dataframe thead th {\n",
       "        text-align: right;\n",
       "    }\n",
       "</style>\n",
       "<table border=\"1\" class=\"dataframe\">\n",
       "  <thead>\n",
       "    <tr style=\"text-align: right;\">\n",
       "      <th>usertype</th>\n",
       "      <th>Customer</th>\n",
       "      <th>Subscriber</th>\n",
       "    </tr>\n",
       "    <tr>\n",
       "      <th>start_time</th>\n",
       "      <th></th>\n",
       "      <th></th>\n",
       "    </tr>\n",
       "  </thead>\n",
       "  <tbody>\n",
       "    <tr>\n",
       "      <th>2018-05-27</th>\n",
       "      <td>3263</td>\n",
       "      <td>2449</td>\n",
       "    </tr>\n",
       "    <tr>\n",
       "      <th>2018-09-02</th>\n",
       "      <td>2752</td>\n",
       "      <td>2183</td>\n",
       "    </tr>\n",
       "  </tbody>\n",
       "</table>\n",
       "</div>"
      ],
      "text/plain": [
       "usertype    Customer  Subscriber\n",
       "start_time                      \n",
       "2018-05-27      3263        2449\n",
       "2018-09-02      2752        2183"
      ]
     },
     "execution_count": 39,
     "metadata": {},
     "output_type": "execute_result"
    }
   ],
   "source": [
    "df.resample(rule='D').usertype.value_counts() \\\n",
    "    .to_frame().rename(columns={'usertype':'counts'}).reset_index() \\\n",
    "    .pivot(index='start_time', columns='usertype', values='counts') \\\n",
    "    .query('Customer > Subscriber')"
   ]
  },
  {
   "cell_type": "markdown",
   "id": "78d1cc32",
   "metadata": {},
   "source": [
    "Step 6 <a href='https://lab.karpov.courses/learning/85/module/1056/lesson/9045/26549/118063/'>link</a>\n",
    "<br>Отлично! Следующий шаг – более подробно посмотреть на летний период.\n",
    "\n",
    "Еще один плюс использования дат в качестве индексов – возможность выбрать данные за интересующий нас промежуток времени. В переменную bikes_summer сохраните наблюдения с 1 июня по 31 августа. Затем запишите в top_destination наиболее популярный пункт назначения (его название). Агрегируйте данные по дням и определите, в какой день в полученный пункт (top_destination) было совершено меньше всего поездок. Дату сохраните в bad_day, отформатировав timestamp с помощью .strftime('%Y-%m-%d')."
   ]
  },
  {
   "cell_type": "code",
   "execution_count": 135,
   "id": "6dd7fa6f",
   "metadata": {},
   "outputs": [],
   "source": [
    "bikes = df"
   ]
  },
  {
   "cell_type": "code",
   "execution_count": 150,
   "id": "94ee9fd2",
   "metadata": {},
   "outputs": [],
   "source": [
    "bikes_summer = bikes.sort_index().loc['2018-06-01 00:00:00':'2018-08-31 23:59:59']"
   ]
  },
  {
   "cell_type": "code",
   "execution_count": 140,
   "id": "7f392113",
   "metadata": {},
   "outputs": [
    {
     "data": {
      "text/plain": [
       "'Streeter Dr & Grand Ave'"
      ]
     },
     "execution_count": 140,
     "metadata": {},
     "output_type": "execute_result"
    }
   ],
   "source": [
    "top_destination = bikes_summer.to_station_name.value_counts().idxmax()\n",
    "top_destination"
   ]
  },
  {
   "cell_type": "code",
   "execution_count": 141,
   "id": "8eed4fd2",
   "metadata": {},
   "outputs": [],
   "source": [
    "bad_day = bikes_summer.resample(rule='D').to_station_name.value_counts() \\\n",
    "    .to_frame().rename(columns={'to_station_name':'counts'}) \\\n",
    "    .reset_index() \\\n",
    "    .query('to_station_name == @top_destination') \\\n",
    "    .sort_values('counts')['start_time'].head(1) \\\n",
    "    .dt.strftime('%Y-%m-%d').values[0]"
   ]
  },
  {
   "cell_type": "code",
   "execution_count": 142,
   "id": "eae01cf6",
   "metadata": {},
   "outputs": [
    {
     "data": {
      "text/plain": [
       "'2018-06-21'"
      ]
     },
     "execution_count": 142,
     "metadata": {},
     "output_type": "execute_result"
    }
   ],
   "source": [
    "bad_day"
   ]
  },
  {
   "cell_type": "markdown",
   "id": "5f68ddb4",
   "metadata": {},
   "source": [
    "Step 7 <a href='https://lab.karpov.courses/learning/85/module/1056/lesson/9045/26549/118064/'>link</a>\n",
    "<br>Куда больше всего ездят на выходных? Туда же, куда и в будние дни, или в другие пункты назначения?\n",
    "\n",
    "Используя данные за период с 1 июня по 31 августа, выберите верные утверждения."
   ]
  },
  {
   "cell_type": "code",
   "execution_count": 151,
   "id": "59e65349",
   "metadata": {},
   "outputs": [],
   "source": [
    "summer_days = bikes_summer.resample(rule='D').to_station_name.value_counts()\\\n",
    "    .to_frame().rename(columns={'to_station_name':'counts'}) \\\n",
    "    .reset_index()"
   ]
  },
  {
   "cell_type": "code",
   "execution_count": 157,
   "id": "afda65bb",
   "metadata": {},
   "outputs": [
    {
     "data": {
      "text/html": [
       "<div>\n",
       "<style scoped>\n",
       "    .dataframe tbody tr th:only-of-type {\n",
       "        vertical-align: middle;\n",
       "    }\n",
       "\n",
       "    .dataframe tbody tr th {\n",
       "        vertical-align: top;\n",
       "    }\n",
       "\n",
       "    .dataframe thead th {\n",
       "        text-align: right;\n",
       "    }\n",
       "</style>\n",
       "<table border=\"1\" class=\"dataframe\">\n",
       "  <thead>\n",
       "    <tr style=\"text-align: right;\">\n",
       "      <th></th>\n",
       "      <th>start_time</th>\n",
       "      <th>to_station_name</th>\n",
       "      <th>counts</th>\n",
       "      <th>is_weekend</th>\n",
       "    </tr>\n",
       "  </thead>\n",
       "  <tbody>\n",
       "    <tr>\n",
       "      <th>0</th>\n",
       "      <td>2018-06-01</td>\n",
       "      <td>Clinton St &amp; Washington Blvd</td>\n",
       "      <td>79</td>\n",
       "      <td>False</td>\n",
       "    </tr>\n",
       "    <tr>\n",
       "      <th>1</th>\n",
       "      <td>2018-06-01</td>\n",
       "      <td>Canal St &amp; Adams St</td>\n",
       "      <td>78</td>\n",
       "      <td>False</td>\n",
       "    </tr>\n",
       "    <tr>\n",
       "      <th>2</th>\n",
       "      <td>2018-06-01</td>\n",
       "      <td>Clinton St &amp; Madison St</td>\n",
       "      <td>74</td>\n",
       "      <td>False</td>\n",
       "    </tr>\n",
       "    <tr>\n",
       "      <th>3</th>\n",
       "      <td>2018-06-01</td>\n",
       "      <td>Streeter Dr &amp; Grand Ave</td>\n",
       "      <td>72</td>\n",
       "      <td>False</td>\n",
       "    </tr>\n",
       "    <tr>\n",
       "      <th>4</th>\n",
       "      <td>2018-06-01</td>\n",
       "      <td>Daley Center Plaza</td>\n",
       "      <td>60</td>\n",
       "      <td>False</td>\n",
       "    </tr>\n",
       "  </tbody>\n",
       "</table>\n",
       "</div>"
      ],
      "text/plain": [
       "  start_time               to_station_name  counts  is_weekend\n",
       "0 2018-06-01  Clinton St & Washington Blvd      79       False\n",
       "1 2018-06-01           Canal St & Adams St      78       False\n",
       "2 2018-06-01       Clinton St & Madison St      74       False\n",
       "3 2018-06-01       Streeter Dr & Grand Ave      72       False\n",
       "4 2018-06-01            Daley Center Plaza      60       False"
      ]
     },
     "execution_count": 157,
     "metadata": {},
     "output_type": "execute_result"
    }
   ],
   "source": [
    "summer_days.head()"
   ]
  },
  {
   "cell_type": "code",
   "execution_count": 171,
   "id": "7b68914f",
   "metadata": {},
   "outputs": [
    {
     "data": {
      "text/plain": [
       "0        d\n",
       "1        d\n",
       "2        d\n",
       "3        d\n",
       "4        d\n",
       "        ..\n",
       "41197    d\n",
       "41198    d\n",
       "41199    d\n",
       "41200    d\n",
       "41201    d\n",
       "Name: start_time, Length: 41202, dtype: category\n",
       "Categories (3, object): ['d' < 'st' < 'sn']"
      ]
     },
     "execution_count": 171,
     "metadata": {},
     "output_type": "execute_result"
    }
   ],
   "source": []
  },
  {
   "cell_type": "code",
   "execution_count": 188,
   "id": "92b99577",
   "metadata": {},
   "outputs": [],
   "source": [
    "week_day = summer_days.reset_index().start_time.dt.dayofweek\n",
    "summer_days['is_weekend'] = week_day >= 5\n",
    "summer_days['day_cut'] = pd.cut(week_day, bins=[-1,4,5,6], labels=['d', 'st', 'sn'])"
   ]
  },
  {
   "cell_type": "code",
   "execution_count": 189,
   "id": "a9da7162",
   "metadata": {},
   "outputs": [
    {
     "data": {
      "text/plain": [
       "['d', 'st', 'sn']\n",
       "Categories (3, object): ['d' < 'st' < 'sn']"
      ]
     },
     "execution_count": 189,
     "metadata": {},
     "output_type": "execute_result"
    }
   ],
   "source": [
    "summer_days.day_cut.unique()"
   ]
  },
  {
   "cell_type": "code",
   "execution_count": 198,
   "id": "97986cec",
   "metadata": {},
   "outputs": [],
   "source": [
    "summer_days['day'] = summer_days.start_time.dt.day_of_week\n",
    "if summer_days.query('day_cut == \"d\" and day > 4').shape[0] != 0:\n",
    "    print(\"Error in works day\")\n",
    "if summer_days.query('day_cut == \"st\" and day != 5').shape[0] != 0:\n",
    "    print(\"Error in saturday day\")\n",
    "if summer_days.query('day_cut == \"sn\" and day != 6').shape[0] != 0:\n",
    "    print(\"Error in sunday day\")"
   ]
  },
  {
   "cell_type": "code",
   "execution_count": 201,
   "id": "e5510752",
   "metadata": {},
   "outputs": [
    {
     "data": {
      "text/html": [
       "<div>\n",
       "<style scoped>\n",
       "    .dataframe tbody tr th:only-of-type {\n",
       "        vertical-align: middle;\n",
       "    }\n",
       "\n",
       "    .dataframe tbody tr th {\n",
       "        vertical-align: top;\n",
       "    }\n",
       "\n",
       "    .dataframe thead th {\n",
       "        text-align: right;\n",
       "    }\n",
       "</style>\n",
       "<table border=\"1\" class=\"dataframe\">\n",
       "  <thead>\n",
       "    <tr style=\"text-align: right;\">\n",
       "      <th></th>\n",
       "      <th>start_time</th>\n",
       "      <th>to_station_name</th>\n",
       "      <th>counts</th>\n",
       "      <th>is_weekend</th>\n",
       "      <th>day_cut</th>\n",
       "      <th>day</th>\n",
       "    </tr>\n",
       "  </thead>\n",
       "  <tbody>\n",
       "    <tr>\n",
       "      <th>0</th>\n",
       "      <td>2018-06-01</td>\n",
       "      <td>Clinton St &amp; Washington Blvd</td>\n",
       "      <td>79</td>\n",
       "      <td>False</td>\n",
       "      <td>d</td>\n",
       "      <td>4</td>\n",
       "    </tr>\n",
       "    <tr>\n",
       "      <th>1</th>\n",
       "      <td>2018-06-01</td>\n",
       "      <td>Canal St &amp; Adams St</td>\n",
       "      <td>78</td>\n",
       "      <td>False</td>\n",
       "      <td>d</td>\n",
       "      <td>4</td>\n",
       "    </tr>\n",
       "    <tr>\n",
       "      <th>2</th>\n",
       "      <td>2018-06-01</td>\n",
       "      <td>Clinton St &amp; Madison St</td>\n",
       "      <td>74</td>\n",
       "      <td>False</td>\n",
       "      <td>d</td>\n",
       "      <td>4</td>\n",
       "    </tr>\n",
       "    <tr>\n",
       "      <th>3</th>\n",
       "      <td>2018-06-01</td>\n",
       "      <td>Streeter Dr &amp; Grand Ave</td>\n",
       "      <td>72</td>\n",
       "      <td>False</td>\n",
       "      <td>d</td>\n",
       "      <td>4</td>\n",
       "    </tr>\n",
       "    <tr>\n",
       "      <th>4</th>\n",
       "      <td>2018-06-01</td>\n",
       "      <td>Daley Center Plaza</td>\n",
       "      <td>60</td>\n",
       "      <td>False</td>\n",
       "      <td>d</td>\n",
       "      <td>4</td>\n",
       "    </tr>\n",
       "  </tbody>\n",
       "</table>\n",
       "</div>"
      ],
      "text/plain": [
       "  start_time               to_station_name  counts  is_weekend day_cut  day\n",
       "0 2018-06-01  Clinton St & Washington Blvd      79       False       d    4\n",
       "1 2018-06-01           Canal St & Adams St      78       False       d    4\n",
       "2 2018-06-01       Clinton St & Madison St      74       False       d    4\n",
       "3 2018-06-01       Streeter Dr & Grand Ave      72       False       d    4\n",
       "4 2018-06-01            Daley Center Plaza      60       False       d    4"
      ]
     },
     "execution_count": 201,
     "metadata": {},
     "output_type": "execute_result"
    }
   ],
   "source": [
    "summer_days.head()"
   ]
  },
  {
   "cell_type": "code",
   "execution_count": 209,
   "id": "2051a23d",
   "metadata": {},
   "outputs": [],
   "source": [
    "weekends = summer_days.groupby(by=['day_cut', 'to_station_name'], as_index=False) \\\n",
    "    .counts.sum() \\\n",
    "    .rename(columns={'counts':'visits'}) \\\n",
    "    .sort_values(['visits', 'day_cut'], ascending=False)"
   ]
  },
  {
   "cell_type": "code",
   "execution_count": 210,
   "id": "11f06449",
   "metadata": {},
   "outputs": [
    {
     "data": {
      "text/html": [
       "<div>\n",
       "<style scoped>\n",
       "    .dataframe tbody tr th:only-of-type {\n",
       "        vertical-align: middle;\n",
       "    }\n",
       "\n",
       "    .dataframe tbody tr th {\n",
       "        vertical-align: top;\n",
       "    }\n",
       "\n",
       "    .dataframe thead th {\n",
       "        text-align: right;\n",
       "    }\n",
       "</style>\n",
       "<table border=\"1\" class=\"dataframe\">\n",
       "  <thead>\n",
       "    <tr style=\"text-align: right;\">\n",
       "      <th></th>\n",
       "      <th>day_cut</th>\n",
       "      <th>to_station_name</th>\n",
       "      <th>visits</th>\n",
       "    </tr>\n",
       "  </thead>\n",
       "  <tbody>\n",
       "    <tr>\n",
       "      <th>1089</th>\n",
       "      <td>st</td>\n",
       "      <td>Streeter Dr &amp; Grand Ave</td>\n",
       "      <td>3461</td>\n",
       "    </tr>\n",
       "    <tr>\n",
       "      <th>886</th>\n",
       "      <td>st</td>\n",
       "      <td>Lake Shore Dr &amp; North Blvd</td>\n",
       "      <td>1690</td>\n",
       "    </tr>\n",
       "    <tr>\n",
       "      <th>1091</th>\n",
       "      <td>st</td>\n",
       "      <td>Theater on the Lake</td>\n",
       "      <td>1470</td>\n",
       "    </tr>\n",
       "    <tr>\n",
       "      <th>885</th>\n",
       "      <td>st</td>\n",
       "      <td>Lake Shore Dr &amp; Monroe St</td>\n",
       "      <td>1232</td>\n",
       "    </tr>\n",
       "    <tr>\n",
       "      <th>954</th>\n",
       "      <td>st</td>\n",
       "      <td>Millennium Park</td>\n",
       "      <td>1080</td>\n",
       "    </tr>\n",
       "  </tbody>\n",
       "</table>\n",
       "</div>"
      ],
      "text/plain": [
       "     day_cut             to_station_name  visits\n",
       "1089      st     Streeter Dr & Grand Ave    3461\n",
       "886       st  Lake Shore Dr & North Blvd    1690\n",
       "1091      st         Theater on the Lake    1470\n",
       "885       st   Lake Shore Dr & Monroe St    1232\n",
       "954       st             Millennium Park    1080"
      ]
     },
     "execution_count": 210,
     "metadata": {},
     "output_type": "execute_result"
    }
   ],
   "source": [
    "weekends[weekends.day_cut == 'st'].head()"
   ]
  },
  {
   "cell_type": "code",
   "execution_count": 211,
   "id": "96734d07",
   "metadata": {},
   "outputs": [
    {
     "data": {
      "text/html": [
       "<div>\n",
       "<style scoped>\n",
       "    .dataframe tbody tr th:only-of-type {\n",
       "        vertical-align: middle;\n",
       "    }\n",
       "\n",
       "    .dataframe tbody tr th {\n",
       "        vertical-align: top;\n",
       "    }\n",
       "\n",
       "    .dataframe thead th {\n",
       "        text-align: right;\n",
       "    }\n",
       "</style>\n",
       "<table border=\"1\" class=\"dataframe\">\n",
       "  <thead>\n",
       "    <tr style=\"text-align: right;\">\n",
       "      <th></th>\n",
       "      <th>day_cut</th>\n",
       "      <th>to_station_name</th>\n",
       "      <th>visits</th>\n",
       "    </tr>\n",
       "  </thead>\n",
       "  <tbody>\n",
       "    <tr>\n",
       "      <th>510</th>\n",
       "      <td>d</td>\n",
       "      <td>Streeter Dr &amp; Grand Ave</td>\n",
       "      <td>7614</td>\n",
       "    </tr>\n",
       "    <tr>\n",
       "      <th>81</th>\n",
       "      <td>d</td>\n",
       "      <td>Canal St &amp; Adams St</td>\n",
       "      <td>6142</td>\n",
       "    </tr>\n",
       "    <tr>\n",
       "      <th>144</th>\n",
       "      <td>d</td>\n",
       "      <td>Clinton St &amp; Washington Blvd</td>\n",
       "      <td>4857</td>\n",
       "    </tr>\n",
       "    <tr>\n",
       "      <th>140</th>\n",
       "      <td>d</td>\n",
       "      <td>Clinton St &amp; Madison St</td>\n",
       "      <td>4694</td>\n",
       "    </tr>\n",
       "    <tr>\n",
       "      <th>307</th>\n",
       "      <td>d</td>\n",
       "      <td>Lake Shore Dr &amp; North Blvd</td>\n",
       "      <td>4213</td>\n",
       "    </tr>\n",
       "  </tbody>\n",
       "</table>\n",
       "</div>"
      ],
      "text/plain": [
       "    day_cut               to_station_name  visits\n",
       "510       d       Streeter Dr & Grand Ave    7614\n",
       "81        d           Canal St & Adams St    6142\n",
       "144       d  Clinton St & Washington Blvd    4857\n",
       "140       d       Clinton St & Madison St    4694\n",
       "307       d    Lake Shore Dr & North Blvd    4213"
      ]
     },
     "execution_count": 211,
     "metadata": {},
     "output_type": "execute_result"
    }
   ],
   "source": [
    "weekends[weekends.day_cut == 'd'].head()"
   ]
  },
  {
   "cell_type": "code",
   "execution_count": null,
   "id": "8191f174",
   "metadata": {},
   "outputs": [],
   "source": []
  }
 ],
 "metadata": {
  "kernelspec": {
   "display_name": "Python 3",
   "language": "python",
   "name": "python3"
  },
  "language_info": {
   "codemirror_mode": {
    "name": "ipython",
    "version": 3
   },
   "file_extension": ".py",
   "mimetype": "text/x-python",
   "name": "python",
   "nbconvert_exporter": "python",
   "pygments_lexer": "ipython3",
   "version": "3.8.8"
  }
 },
 "nbformat": 4,
 "nbformat_minor": 5
}
