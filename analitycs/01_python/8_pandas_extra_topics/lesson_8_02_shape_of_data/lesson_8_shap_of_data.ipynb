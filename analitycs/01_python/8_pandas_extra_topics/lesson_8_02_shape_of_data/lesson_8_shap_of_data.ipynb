{
 "cells": [
  {
   "cell_type": "code",
   "execution_count": 1,
   "id": "6265b80d",
   "metadata": {},
   "outputs": [],
   "source": [
    "import pandas as pd\n",
    "import numpy as np"
   ]
  },
  {
   "cell_type": "code",
   "execution_count": 10,
   "id": "169e30a4",
   "metadata": {},
   "outputs": [],
   "source": [
    "pokemon = pd.read_csv('Pokemon.csv')"
   ]
  },
  {
   "cell_type": "code",
   "execution_count": 11,
   "id": "3544d612",
   "metadata": {},
   "outputs": [
    {
     "data": {
      "text/html": [
       "<div>\n",
       "<style scoped>\n",
       "    .dataframe tbody tr th:only-of-type {\n",
       "        vertical-align: middle;\n",
       "    }\n",
       "\n",
       "    .dataframe tbody tr th {\n",
       "        vertical-align: top;\n",
       "    }\n",
       "\n",
       "    .dataframe thead th {\n",
       "        text-align: right;\n",
       "    }\n",
       "</style>\n",
       "<table border=\"1\" class=\"dataframe\">\n",
       "  <thead>\n",
       "    <tr style=\"text-align: right;\">\n",
       "      <th></th>\n",
       "      <th>#</th>\n",
       "      <th>Name</th>\n",
       "      <th>Type 1</th>\n",
       "      <th>Type 2</th>\n",
       "      <th>Total</th>\n",
       "      <th>HP</th>\n",
       "      <th>Attack</th>\n",
       "      <th>Defense</th>\n",
       "      <th>Sp. Atk</th>\n",
       "      <th>Sp. Def</th>\n",
       "      <th>Speed</th>\n",
       "      <th>Generation</th>\n",
       "      <th>Legendary</th>\n",
       "    </tr>\n",
       "  </thead>\n",
       "  <tbody>\n",
       "    <tr>\n",
       "      <th>0</th>\n",
       "      <td>1</td>\n",
       "      <td>Bulbasaur</td>\n",
       "      <td>Grass</td>\n",
       "      <td>Poison</td>\n",
       "      <td>318</td>\n",
       "      <td>45</td>\n",
       "      <td>49</td>\n",
       "      <td>49</td>\n",
       "      <td>65</td>\n",
       "      <td>65</td>\n",
       "      <td>45</td>\n",
       "      <td>1</td>\n",
       "      <td>False</td>\n",
       "    </tr>\n",
       "  </tbody>\n",
       "</table>\n",
       "</div>"
      ],
      "text/plain": [
       "   #       Name Type 1  Type 2  Total  HP  Attack  Defense  Sp. Atk  Sp. Def  \\\n",
       "0  1  Bulbasaur  Grass  Poison    318  45      49       49       65       65   \n",
       "\n",
       "   Speed  Generation  Legendary  \n",
       "0     45           1      False  "
      ]
     },
     "execution_count": 11,
     "metadata": {},
     "output_type": "execute_result"
    }
   ],
   "source": [
    "pokemon.head(1)"
   ]
  },
  {
   "cell_type": "markdown",
   "id": "5a07eba3",
   "metadata": {},
   "source": [
    "Step 3 <a href='https://lab.karpov.courses/learning/85/module/1056/lesson/9045/26548/118051/'>link</a>\n",
    "<br/>пробелы и точки нужно заменить на \"_\" (напр. Sp. Atk → sp_atk).\n",
    "приведите все названия к нижнему регистру\n",
    "колонку \"#\" переименовать в \"id\"\n",
    "Полученные результаты запишите в исходный датафрейм pokemon.\n",
    "\n",
    "Затем сгруппируйте данные по поколению покемонов (generation), и с помощью value_counts() посчитайте, сколько в каком поколении легендарных покемонов (legendary), а также сколько в этих поколениях нелегендарных покемонов. Полученный объект приведите к формату датафрейма (.to_frame()) и сохраните в legends."
   ]
  },
  {
   "cell_type": "code",
   "execution_count": 12,
   "id": "728d7eed",
   "metadata": {},
   "outputs": [],
   "source": [
    "pokemon = pokemon \\\n",
    "    .rename(columns=lambda c: c.replace('. ', '_').replace(' ', '_').lower()) \\\n",
    "    .rename(columns={'#':'id'})"
   ]
  },
  {
   "cell_type": "code",
   "execution_count": 13,
   "id": "0e71a4d7",
   "metadata": {},
   "outputs": [
    {
     "data": {
      "text/html": [
       "<div>\n",
       "<style scoped>\n",
       "    .dataframe tbody tr th:only-of-type {\n",
       "        vertical-align: middle;\n",
       "    }\n",
       "\n",
       "    .dataframe tbody tr th {\n",
       "        vertical-align: top;\n",
       "    }\n",
       "\n",
       "    .dataframe thead th {\n",
       "        text-align: right;\n",
       "    }\n",
       "</style>\n",
       "<table border=\"1\" class=\"dataframe\">\n",
       "  <thead>\n",
       "    <tr style=\"text-align: right;\">\n",
       "      <th></th>\n",
       "      <th>id</th>\n",
       "      <th>name</th>\n",
       "      <th>type_1</th>\n",
       "      <th>type_2</th>\n",
       "      <th>total</th>\n",
       "      <th>hp</th>\n",
       "      <th>attack</th>\n",
       "      <th>defense</th>\n",
       "      <th>sp_atk</th>\n",
       "      <th>sp_def</th>\n",
       "      <th>speed</th>\n",
       "      <th>generation</th>\n",
       "      <th>legendary</th>\n",
       "    </tr>\n",
       "  </thead>\n",
       "  <tbody>\n",
       "    <tr>\n",
       "      <th>0</th>\n",
       "      <td>1</td>\n",
       "      <td>Bulbasaur</td>\n",
       "      <td>Grass</td>\n",
       "      <td>Poison</td>\n",
       "      <td>318</td>\n",
       "      <td>45</td>\n",
       "      <td>49</td>\n",
       "      <td>49</td>\n",
       "      <td>65</td>\n",
       "      <td>65</td>\n",
       "      <td>45</td>\n",
       "      <td>1</td>\n",
       "      <td>False</td>\n",
       "    </tr>\n",
       "    <tr>\n",
       "      <th>1</th>\n",
       "      <td>2</td>\n",
       "      <td>Ivysaur</td>\n",
       "      <td>Grass</td>\n",
       "      <td>Poison</td>\n",
       "      <td>405</td>\n",
       "      <td>60</td>\n",
       "      <td>62</td>\n",
       "      <td>63</td>\n",
       "      <td>80</td>\n",
       "      <td>80</td>\n",
       "      <td>60</td>\n",
       "      <td>1</td>\n",
       "      <td>False</td>\n",
       "    </tr>\n",
       "    <tr>\n",
       "      <th>2</th>\n",
       "      <td>3</td>\n",
       "      <td>Venusaur</td>\n",
       "      <td>Grass</td>\n",
       "      <td>Poison</td>\n",
       "      <td>525</td>\n",
       "      <td>80</td>\n",
       "      <td>82</td>\n",
       "      <td>83</td>\n",
       "      <td>100</td>\n",
       "      <td>100</td>\n",
       "      <td>80</td>\n",
       "      <td>1</td>\n",
       "      <td>False</td>\n",
       "    </tr>\n",
       "    <tr>\n",
       "      <th>3</th>\n",
       "      <td>3</td>\n",
       "      <td>VenusaurMega Venusaur</td>\n",
       "      <td>Grass</td>\n",
       "      <td>Poison</td>\n",
       "      <td>625</td>\n",
       "      <td>80</td>\n",
       "      <td>100</td>\n",
       "      <td>123</td>\n",
       "      <td>122</td>\n",
       "      <td>120</td>\n",
       "      <td>80</td>\n",
       "      <td>1</td>\n",
       "      <td>False</td>\n",
       "    </tr>\n",
       "    <tr>\n",
       "      <th>4</th>\n",
       "      <td>4</td>\n",
       "      <td>Charmander</td>\n",
       "      <td>Fire</td>\n",
       "      <td>NaN</td>\n",
       "      <td>309</td>\n",
       "      <td>39</td>\n",
       "      <td>52</td>\n",
       "      <td>43</td>\n",
       "      <td>60</td>\n",
       "      <td>50</td>\n",
       "      <td>65</td>\n",
       "      <td>1</td>\n",
       "      <td>False</td>\n",
       "    </tr>\n",
       "  </tbody>\n",
       "</table>\n",
       "</div>"
      ],
      "text/plain": [
       "   id                   name type_1  type_2  total  hp  attack  defense  \\\n",
       "0   1              Bulbasaur  Grass  Poison    318  45      49       49   \n",
       "1   2                Ivysaur  Grass  Poison    405  60      62       63   \n",
       "2   3               Venusaur  Grass  Poison    525  80      82       83   \n",
       "3   3  VenusaurMega Venusaur  Grass  Poison    625  80     100      123   \n",
       "4   4             Charmander   Fire     NaN    309  39      52       43   \n",
       "\n",
       "   sp_atk  sp_def  speed  generation  legendary  \n",
       "0      65      65     45           1      False  \n",
       "1      80      80     60           1      False  \n",
       "2     100     100     80           1      False  \n",
       "3     122     120     80           1      False  \n",
       "4      60      50     65           1      False  "
      ]
     },
     "execution_count": 13,
     "metadata": {},
     "output_type": "execute_result"
    }
   ],
   "source": [
    "pokemon.head()"
   ]
  },
  {
   "cell_type": "code",
   "execution_count": 14,
   "id": "33eb3374",
   "metadata": {},
   "outputs": [],
   "source": [
    "legends = pokemon.groupby(by='generation') \\\n",
    "    .legendary \\\n",
    "    .value_counts() \\\n",
    "    .to_frame()"
   ]
  },
  {
   "cell_type": "code",
   "execution_count": 17,
   "id": "66a01863",
   "metadata": {},
   "outputs": [
    {
     "data": {
      "text/html": [
       "<div>\n",
       "<style scoped>\n",
       "    .dataframe tbody tr th:only-of-type {\n",
       "        vertical-align: middle;\n",
       "    }\n",
       "\n",
       "    .dataframe tbody tr th {\n",
       "        vertical-align: top;\n",
       "    }\n",
       "\n",
       "    .dataframe thead th {\n",
       "        text-align: right;\n",
       "    }\n",
       "</style>\n",
       "<table border=\"1\" class=\"dataframe\">\n",
       "  <thead>\n",
       "    <tr style=\"text-align: right;\">\n",
       "      <th></th>\n",
       "      <th></th>\n",
       "      <th>legendary_count</th>\n",
       "    </tr>\n",
       "    <tr>\n",
       "      <th>generation</th>\n",
       "      <th>legendary</th>\n",
       "      <th></th>\n",
       "    </tr>\n",
       "  </thead>\n",
       "  <tbody>\n",
       "    <tr>\n",
       "      <th rowspan=\"2\" valign=\"top\">1</th>\n",
       "      <th>False</th>\n",
       "      <td>160</td>\n",
       "    </tr>\n",
       "    <tr>\n",
       "      <th>True</th>\n",
       "      <td>6</td>\n",
       "    </tr>\n",
       "    <tr>\n",
       "      <th rowspan=\"2\" valign=\"top\">2</th>\n",
       "      <th>False</th>\n",
       "      <td>101</td>\n",
       "    </tr>\n",
       "    <tr>\n",
       "      <th>True</th>\n",
       "      <td>5</td>\n",
       "    </tr>\n",
       "    <tr>\n",
       "      <th>3</th>\n",
       "      <th>False</th>\n",
       "      <td>142</td>\n",
       "    </tr>\n",
       "  </tbody>\n",
       "</table>\n",
       "</div>"
      ],
      "text/plain": [
       "                      legendary_count\n",
       "generation legendary                 \n",
       "1          False                  160\n",
       "           True                     6\n",
       "2          False                  101\n",
       "           True                     5\n",
       "3          False                  142"
      ]
     },
     "execution_count": 17,
     "metadata": {},
     "output_type": "execute_result"
    }
   ],
   "source": [
    "legends.head()"
   ]
  },
  {
   "cell_type": "markdown",
   "id": "5dc86407",
   "metadata": {},
   "source": [
    "Step 4 <a href='https://lab.karpov.courses/learning/85/module/1056/lesson/9045/26548/118052/'>link</a>\n",
    "<br/>Как вы могли заметить,  есть только одна колонка со значениями, которая называется legendary, а в качестве индекса используются две колонки — generation и legendary. Два одинаковых названия — не очень хорошо, поэтому необходимо переименовать колонку legendary в legendary_count. \n",
    "\n",
    "Используйте датафрейм legends, полученный на предыдущем шаге, и измените в нём название столбца, перезаписав его в ту же переменную. Затем используйте unstack, чтобы поместить уровень индекса legendary в уровень оси столбцов. Иными словами, должно получиться две колонки – False & True. Результат сохраните в legends_unstacked."
   ]
  },
  {
   "cell_type": "code",
   "execution_count": 16,
   "id": "3140d1d7",
   "metadata": {},
   "outputs": [],
   "source": [
    "legends = legends.rename(columns={'legendary':'legendary_count'})"
   ]
  },
  {
   "cell_type": "code",
   "execution_count": 19,
   "id": "5c8de943",
   "metadata": {},
   "outputs": [],
   "source": [
    "legends_unstacked = legends.unstack()"
   ]
  },
  {
   "cell_type": "markdown",
   "id": "36448056",
   "metadata": {},
   "source": [
    "Step 5 <a href='https://lab.karpov.courses/learning/85/module/1056/lesson/9045/26548/118053/'>link</a>\n",
    "<br/>Немного усложним задачу. Теперь попробуем узнать, среди каких типов покемонов и какого поколения больше всего легендарных.\n",
    "\n",
    "Сгруппируйте датасет pokemon по переменным generation и type_1, посчитайте количество легендарных покемонов внутри групп. Приведите данные в формат датафрейма, а затем используйте unstack(). В качестве ответа выберите вид и поколение покемона, среди которых больше всего легендарных.\n",
    "\n",
    "Hint: обратиться к колонке с мультииндексом можно с помощью .loc[:,('legendary', True)]"
   ]
  },
  {
   "cell_type": "code",
   "execution_count": 45,
   "id": "35324cf2",
   "metadata": {},
   "outputs": [
    {
     "data": {
      "text/plain": [
       "generation  type_1\n",
       "3           Dragon    6.0\n",
       "Name: (legendary, True), dtype: float64"
      ]
     },
     "execution_count": 45,
     "metadata": {},
     "output_type": "execute_result"
    }
   ],
   "source": [
    "pokemon.groupby(by=['generation', 'type_1']) \\\n",
    "    .legendary \\\n",
    "    .value_counts() \\\n",
    "    .to_frame() \\\n",
    "    .unstack() \\\n",
    "    .sort_values(('legendary', True), ascending=False) \\\n",
    "    .loc[:, ('legendary', True)].head(1)"
   ]
  },
  {
   "cell_type": "markdown",
   "id": "95fc37c3",
   "metadata": {},
   "source": [
    "Step 7 <a href='https://lab.karpov.courses/learning/85/module/1056/lesson/9045/26548/118055/'>link</a>\n",
    "<br>Преобразуйте представленные данные в длинный формат и запишите в переменную avocado_agg_long. В качестве индекса используйте type"
   ]
  },
  {
   "cell_type": "code",
   "execution_count": 46,
   "id": "68e8883d",
   "metadata": {},
   "outputs": [
    {
     "data": {
      "text/html": [
       "<div>\n",
       "<style scoped>\n",
       "    .dataframe tbody tr th:only-of-type {\n",
       "        vertical-align: middle;\n",
       "    }\n",
       "\n",
       "    .dataframe tbody tr th {\n",
       "        vertical-align: top;\n",
       "    }\n",
       "\n",
       "    .dataframe thead th {\n",
       "        text-align: right;\n",
       "    }\n",
       "</style>\n",
       "<table border=\"1\" class=\"dataframe\">\n",
       "  <thead>\n",
       "    <tr style=\"text-align: right;\">\n",
       "      <th></th>\n",
       "      <th>type</th>\n",
       "      <th>AvgPrice_2015</th>\n",
       "      <th>AvgPrice_2016</th>\n",
       "      <th>AvgPrice_2017</th>\n",
       "      <th>AvgPrice_2018</th>\n",
       "    </tr>\n",
       "  </thead>\n",
       "  <tbody>\n",
       "    <tr>\n",
       "      <th>0</th>\n",
       "      <td>conventional</td>\n",
       "      <td>1.077963</td>\n",
       "      <td>1.105595</td>\n",
       "      <td>1.294888</td>\n",
       "      <td>1.127886</td>\n",
       "    </tr>\n",
       "    <tr>\n",
       "      <th>1</th>\n",
       "      <td>organic</td>\n",
       "      <td>1.673324</td>\n",
       "      <td>1.571684</td>\n",
       "      <td>1.735521</td>\n",
       "      <td>1.567176</td>\n",
       "    </tr>\n",
       "  </tbody>\n",
       "</table>\n",
       "</div>"
      ],
      "text/plain": [
       "           type  AvgPrice_2015  AvgPrice_2016  AvgPrice_2017  AvgPrice_2018\n",
       "0  conventional       1.077963       1.105595       1.294888       1.127886\n",
       "1       organic       1.673324       1.571684       1.735521       1.567176"
      ]
     },
     "execution_count": 46,
     "metadata": {},
     "output_type": "execute_result"
    }
   ],
   "source": [
    "avocado_agg = pd.DataFrame({'type' : ['conventional', 'organic'],\n",
    "                            'AvgPrice_2015' : [1.077963, 1.673324],\n",
    "                            'AvgPrice_2016' : [1.105595, 1.571684],\n",
    "                            'AvgPrice_2017' : [1.294888, 1.735521],\n",
    "                            'AvgPrice_2018' : [1.127886, 1.567176],\n",
    "                            })\n",
    "avocado_agg"
   ]
  },
  {
   "cell_type": "code",
   "execution_count": 48,
   "id": "873956c6",
   "metadata": {},
   "outputs": [
    {
     "data": {
      "text/html": [
       "<div>\n",
       "<style scoped>\n",
       "    .dataframe tbody tr th:only-of-type {\n",
       "        vertical-align: middle;\n",
       "    }\n",
       "\n",
       "    .dataframe tbody tr th {\n",
       "        vertical-align: top;\n",
       "    }\n",
       "\n",
       "    .dataframe thead th {\n",
       "        text-align: right;\n",
       "    }\n",
       "</style>\n",
       "<table border=\"1\" class=\"dataframe\">\n",
       "  <thead>\n",
       "    <tr style=\"text-align: right;\">\n",
       "      <th></th>\n",
       "      <th></th>\n",
       "      <th>AvgPrice</th>\n",
       "    </tr>\n",
       "    <tr>\n",
       "      <th>type</th>\n",
       "      <th>year</th>\n",
       "      <th></th>\n",
       "    </tr>\n",
       "  </thead>\n",
       "  <tbody>\n",
       "    <tr>\n",
       "      <th>conventional</th>\n",
       "      <th>2015</th>\n",
       "      <td>1.077963</td>\n",
       "    </tr>\n",
       "    <tr>\n",
       "      <th>organic</th>\n",
       "      <th>2015</th>\n",
       "      <td>1.673324</td>\n",
       "    </tr>\n",
       "    <tr>\n",
       "      <th>conventional</th>\n",
       "      <th>2016</th>\n",
       "      <td>1.105595</td>\n",
       "    </tr>\n",
       "    <tr>\n",
       "      <th>organic</th>\n",
       "      <th>2016</th>\n",
       "      <td>1.571684</td>\n",
       "    </tr>\n",
       "    <tr>\n",
       "      <th>conventional</th>\n",
       "      <th>2017</th>\n",
       "      <td>1.294888</td>\n",
       "    </tr>\n",
       "    <tr>\n",
       "      <th>organic</th>\n",
       "      <th>2017</th>\n",
       "      <td>1.735521</td>\n",
       "    </tr>\n",
       "    <tr>\n",
       "      <th>conventional</th>\n",
       "      <th>2018</th>\n",
       "      <td>1.127886</td>\n",
       "    </tr>\n",
       "    <tr>\n",
       "      <th>organic</th>\n",
       "      <th>2018</th>\n",
       "      <td>1.567176</td>\n",
       "    </tr>\n",
       "  </tbody>\n",
       "</table>\n",
       "</div>"
      ],
      "text/plain": [
       "                   AvgPrice\n",
       "type         year          \n",
       "conventional 2015  1.077963\n",
       "organic      2015  1.673324\n",
       "conventional 2016  1.105595\n",
       "organic      2016  1.571684\n",
       "conventional 2017  1.294888\n",
       "organic      2017  1.735521\n",
       "conventional 2018  1.127886\n",
       "organic      2018  1.567176"
      ]
     },
     "execution_count": 48,
     "metadata": {},
     "output_type": "execute_result"
    }
   ],
   "source": [
    "pd.wide_to_long(df=avocado_agg, stubnames=['AvgPrice'], i='type', j='year', sep='_')"
   ]
  },
  {
   "cell_type": "markdown",
   "id": "95aef05f",
   "metadata": {},
   "source": [
    "Step 8 <a href='https://lab.karpov.courses/learning/85/module/1056/lesson/9045/26548/118056/'>link</a>\n",
    "<br>⭐️ Имеется набор данных о супергероях в широком формате. В первой колонке Name находятся их имена, а остальные 167 столбцов — различные характеристики (суперсилы), принимающие значение либо True, либо False. Давайте преобразуем датафрейм так, чтобы \"собрать\" эти признаки в один столбец под названием superpower, а в качестве значений поместить туда списки имеющихся у того или иного героя суперсил. \n",
    "\n",
    "То есть привести в следующий формат:\n",
    "\n",
    "           Name                                         superpower\n",
    "568  Spider-Man  [Reflexes, Animal Oriented Powers, Danger Sens...\n",
    "\n",
    "Сначала приведите данные к длинному формату, где единственным идентификатором будет имя героя Name. Новый столбец с названиями суперсил переименуйте в superpower. Полученный датафрейм запишите в superheroes_long.\n",
    "\n",
    "Для того, чтобы соединить силы в списки и привести данные в желаемую форму, отфильтруйте колонку value так, чтобы остались строки только со значением True. Сгруппируйте датасет по Name, после чего возьмите столбец superpower и используйте .apply(list). Результат сохраните в superheroes_powers. Обратите внимание, что результирующий объект тоже должен быть датафреймом, а колонки должно быть всего две — Name и superpower."
   ]
  },
  {
   "cell_type": "code",
   "execution_count": 55,
   "id": "8fed52f7",
   "metadata": {},
   "outputs": [],
   "source": [
    "sh_df = pd.read_csv('superheroes_power_matrix.csv')"
   ]
  },
  {
   "cell_type": "code",
   "execution_count": 70,
   "id": "35d84215",
   "metadata": {
    "scrolled": true
   },
   "outputs": [],
   "source": [
    "superheroes_long = sh_df.melt(id_vars='Name', var_name='superpower')"
   ]
  },
  {
   "cell_type": "code",
   "execution_count": 72,
   "id": "6ffc13ed",
   "metadata": {},
   "outputs": [
    {
     "data": {
      "text/html": [
       "<div>\n",
       "<style scoped>\n",
       "    .dataframe tbody tr th:only-of-type {\n",
       "        vertical-align: middle;\n",
       "    }\n",
       "\n",
       "    .dataframe tbody tr th {\n",
       "        vertical-align: top;\n",
       "    }\n",
       "\n",
       "    .dataframe thead th {\n",
       "        text-align: right;\n",
       "    }\n",
       "</style>\n",
       "<table border=\"1\" class=\"dataframe\">\n",
       "  <thead>\n",
       "    <tr style=\"text-align: right;\">\n",
       "      <th></th>\n",
       "      <th>Name</th>\n",
       "      <th>superpower</th>\n",
       "      <th>value</th>\n",
       "    </tr>\n",
       "  </thead>\n",
       "  <tbody>\n",
       "    <tr>\n",
       "      <th>0</th>\n",
       "      <td>3-D Man</td>\n",
       "      <td>Agility</td>\n",
       "      <td>True</td>\n",
       "    </tr>\n",
       "    <tr>\n",
       "      <th>1</th>\n",
       "      <td>A-Bomb</td>\n",
       "      <td>Agility</td>\n",
       "      <td>False</td>\n",
       "    </tr>\n",
       "    <tr>\n",
       "      <th>2</th>\n",
       "      <td>Abe Sapien</td>\n",
       "      <td>Agility</td>\n",
       "      <td>True</td>\n",
       "    </tr>\n",
       "    <tr>\n",
       "      <th>3</th>\n",
       "      <td>Abin Sur</td>\n",
       "      <td>Agility</td>\n",
       "      <td>False</td>\n",
       "    </tr>\n",
       "    <tr>\n",
       "      <th>4</th>\n",
       "      <td>Abomination</td>\n",
       "      <td>Agility</td>\n",
       "      <td>False</td>\n",
       "    </tr>\n",
       "  </tbody>\n",
       "</table>\n",
       "</div>"
      ],
      "text/plain": [
       "          Name superpower  value\n",
       "0      3-D Man    Agility   True\n",
       "1       A-Bomb    Agility  False\n",
       "2   Abe Sapien    Agility   True\n",
       "3     Abin Sur    Agility  False\n",
       "4  Abomination    Agility  False"
      ]
     },
     "execution_count": 72,
     "metadata": {},
     "output_type": "execute_result"
    }
   ],
   "source": [
    "superheroes_long.head()"
   ]
  },
  {
   "cell_type": "code",
   "execution_count": 76,
   "id": "cf5be96f",
   "metadata": {},
   "outputs": [],
   "source": [
    "superheroes_powers = superheroes_long.query('value == True') \\\n",
    "    .groupby(by='Name')\\\n",
    "    .superpower.apply(list) \\\n",
    "    .to_frame() \\\n",
    "    .reset_index()"
   ]
  },
  {
   "cell_type": "code",
   "execution_count": 77,
   "id": "ff6158a1",
   "metadata": {},
   "outputs": [
    {
     "data": {
      "text/html": [
       "<div>\n",
       "<style scoped>\n",
       "    .dataframe tbody tr th:only-of-type {\n",
       "        vertical-align: middle;\n",
       "    }\n",
       "\n",
       "    .dataframe tbody tr th {\n",
       "        vertical-align: top;\n",
       "    }\n",
       "\n",
       "    .dataframe thead th {\n",
       "        text-align: right;\n",
       "    }\n",
       "</style>\n",
       "<table border=\"1\" class=\"dataframe\">\n",
       "  <thead>\n",
       "    <tr style=\"text-align: right;\">\n",
       "      <th></th>\n",
       "      <th>Name</th>\n",
       "      <th>superpower</th>\n",
       "    </tr>\n",
       "  </thead>\n",
       "  <tbody>\n",
       "    <tr>\n",
       "      <th>0</th>\n",
       "      <td>3-D Man</td>\n",
       "      <td>[Agility, Super Strength, Stamina, Super Speed]</td>\n",
       "    </tr>\n",
       "    <tr>\n",
       "      <th>1</th>\n",
       "      <td>A-Bomb</td>\n",
       "      <td>[Accelerated Healing, Durability, Longevity, S...</td>\n",
       "    </tr>\n",
       "    <tr>\n",
       "      <th>2</th>\n",
       "      <td>Abe Sapien</td>\n",
       "      <td>[Agility, Accelerated Healing, Cold Resistance...</td>\n",
       "    </tr>\n",
       "    <tr>\n",
       "      <th>3</th>\n",
       "      <td>Abin Sur</td>\n",
       "      <td>[Lantern Power Ring]</td>\n",
       "    </tr>\n",
       "    <tr>\n",
       "      <th>4</th>\n",
       "      <td>Abomination</td>\n",
       "      <td>[Accelerated Healing, Intelligence, Super Stre...</td>\n",
       "    </tr>\n",
       "  </tbody>\n",
       "</table>\n",
       "</div>"
      ],
      "text/plain": [
       "          Name                                         superpower\n",
       "0      3-D Man    [Agility, Super Strength, Stamina, Super Speed]\n",
       "1       A-Bomb  [Accelerated Healing, Durability, Longevity, S...\n",
       "2   Abe Sapien  [Agility, Accelerated Healing, Cold Resistance...\n",
       "3     Abin Sur                               [Lantern Power Ring]\n",
       "4  Abomination  [Accelerated Healing, Intelligence, Super Stre..."
      ]
     },
     "execution_count": 77,
     "metadata": {},
     "output_type": "execute_result"
    }
   ],
   "source": [
    "superheroes_powers.head()"
   ]
  },
  {
   "cell_type": "markdown",
   "id": "4e0b9c88",
   "metadata": {},
   "source": [
    "Step 9 <a href='https://lab.karpov.courses/learning/85/module/1056/lesson/9045/26548/118057/'>link</a>\n",
    "<br>Метод explode\n",
    "\n",
    "Одно из нововведений в pandas версии 0.25.0 — метод explode(). Сначала создадим датафрейм из двух столбцов: колонку B заполним единичками, а в А запишем следующие элементы:\n",
    "\n",
    "в две ячейки – списки, состоящие из нескольких элементов"
   ]
  },
  {
   "cell_type": "code",
   "execution_count": 78,
   "id": "1fb33a53",
   "metadata": {},
   "outputs": [
    {
     "data": {
      "text/html": [
       "<div>\n",
       "<style scoped>\n",
       "    .dataframe tbody tr th:only-of-type {\n",
       "        vertical-align: middle;\n",
       "    }\n",
       "\n",
       "    .dataframe tbody tr th {\n",
       "        vertical-align: top;\n",
       "    }\n",
       "\n",
       "    .dataframe thead th {\n",
       "        text-align: right;\n",
       "    }\n",
       "</style>\n",
       "<table border=\"1\" class=\"dataframe\">\n",
       "  <thead>\n",
       "    <tr style=\"text-align: right;\">\n",
       "      <th></th>\n",
       "      <th>A</th>\n",
       "      <th>B</th>\n",
       "    </tr>\n",
       "  </thead>\n",
       "  <tbody>\n",
       "    <tr>\n",
       "      <th>0</th>\n",
       "      <td>[1, 2, 3]</td>\n",
       "      <td>1</td>\n",
       "    </tr>\n",
       "    <tr>\n",
       "      <th>1</th>\n",
       "      <td>kitten</td>\n",
       "      <td>1</td>\n",
       "    </tr>\n",
       "    <tr>\n",
       "      <th>2</th>\n",
       "      <td>[]</td>\n",
       "      <td>1</td>\n",
       "    </tr>\n",
       "    <tr>\n",
       "      <th>3</th>\n",
       "      <td>[kitten, puppy]</td>\n",
       "      <td>1</td>\n",
       "    </tr>\n",
       "  </tbody>\n",
       "</table>\n",
       "</div>"
      ],
      "text/plain": [
       "                 A  B\n",
       "0        [1, 2, 3]  1\n",
       "1           kitten  1\n",
       "2               []  1\n",
       "3  [kitten, puppy]  1"
      ]
     },
     "execution_count": 78,
     "metadata": {},
     "output_type": "execute_result"
    }
   ],
   "source": [
    "df = pd.DataFrame({'A': [[1, 2, 3], \n",
    "                         'kitten', \n",
    "                         [], \n",
    "                         ['kitten', 'puppy']], \n",
    "                   'B': 1})\n",
    "df"
   ]
  },
  {
   "cell_type": "code",
   "execution_count": 79,
   "id": "0e391968",
   "metadata": {},
   "outputs": [
    {
     "data": {
      "text/html": [
       "<div>\n",
       "<style scoped>\n",
       "    .dataframe tbody tr th:only-of-type {\n",
       "        vertical-align: middle;\n",
       "    }\n",
       "\n",
       "    .dataframe tbody tr th {\n",
       "        vertical-align: top;\n",
       "    }\n",
       "\n",
       "    .dataframe thead th {\n",
       "        text-align: right;\n",
       "    }\n",
       "</style>\n",
       "<table border=\"1\" class=\"dataframe\">\n",
       "  <thead>\n",
       "    <tr style=\"text-align: right;\">\n",
       "      <th></th>\n",
       "      <th>A</th>\n",
       "      <th>B</th>\n",
       "    </tr>\n",
       "  </thead>\n",
       "  <tbody>\n",
       "    <tr>\n",
       "      <th>0</th>\n",
       "      <td>1</td>\n",
       "      <td>1</td>\n",
       "    </tr>\n",
       "    <tr>\n",
       "      <th>0</th>\n",
       "      <td>2</td>\n",
       "      <td>1</td>\n",
       "    </tr>\n",
       "    <tr>\n",
       "      <th>0</th>\n",
       "      <td>3</td>\n",
       "      <td>1</td>\n",
       "    </tr>\n",
       "    <tr>\n",
       "      <th>1</th>\n",
       "      <td>kitten</td>\n",
       "      <td>1</td>\n",
       "    </tr>\n",
       "    <tr>\n",
       "      <th>2</th>\n",
       "      <td>NaN</td>\n",
       "      <td>1</td>\n",
       "    </tr>\n",
       "    <tr>\n",
       "      <th>3</th>\n",
       "      <td>kitten</td>\n",
       "      <td>1</td>\n",
       "    </tr>\n",
       "    <tr>\n",
       "      <th>3</th>\n",
       "      <td>puppy</td>\n",
       "      <td>1</td>\n",
       "    </tr>\n",
       "  </tbody>\n",
       "</table>\n",
       "</div>"
      ],
      "text/plain": [
       "        A  B\n",
       "0       1  1\n",
       "0       2  1\n",
       "0       3  1\n",
       "1  kitten  1\n",
       "2     NaN  1\n",
       "3  kitten  1\n",
       "3   puppy  1"
      ]
     },
     "execution_count": 79,
     "metadata": {},
     "output_type": "execute_result"
    }
   ],
   "source": [
    "df.explode('A')"
   ]
  },
  {
   "cell_type": "code",
   "execution_count": null,
   "id": "e13be4eb",
   "metadata": {},
   "outputs": [],
   "source": []
  }
 ],
 "metadata": {
  "kernelspec": {
   "display_name": "Python 3",
   "language": "python",
   "name": "python3"
  },
  "language_info": {
   "codemirror_mode": {
    "name": "ipython",
    "version": 3
   },
   "file_extension": ".py",
   "mimetype": "text/x-python",
   "name": "python",
   "nbconvert_exporter": "python",
   "pygments_lexer": "ipython3",
   "version": "3.8.8"
  }
 },
 "nbformat": 4,
 "nbformat_minor": 5
}
