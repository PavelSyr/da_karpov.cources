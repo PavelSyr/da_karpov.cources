{
 "cells": [
  {
   "cell_type": "code",
   "execution_count": 1,
   "id": "a313645a",
   "metadata": {},
   "outputs": [],
   "source": [
    "import pandas as pd\n",
    "\n",
    "from pathlib import Path"
   ]
  },
  {
   "cell_type": "code",
   "execution_count": 3,
   "id": "f388bb7b",
   "metadata": {},
   "outputs": [],
   "source": [
    "p = Path('Res_Tree/')"
   ]
  },
  {
   "cell_type": "code",
   "execution_count": 6,
   "id": "591e0bf0",
   "metadata": {},
   "outputs": [],
   "source": [
    "file_pathes = [path for path in p.rglob('*.txt')]"
   ]
  },
  {
   "cell_type": "code",
   "execution_count": 7,
   "id": "eafe21b4",
   "metadata": {},
   "outputs": [
    {
     "data": {
      "text/plain": [
       "[WindowsPath('Res_Tree/F000545/res_2019.09.10_0.0_6493B6_Container-dat_2110_84-99-223_F000545/meals_list_2.txt'),\n",
       " WindowsPath('Res_Tree/F000545/res_2019.09.11_0.0_6493B6_Container-dat_2125_91-105-165_F000545/meals_list_2.txt'),\n",
       " WindowsPath('Res_Tree/F000570/res_2019.09.17_0.0_66544A_Container-dat_1129_82-59-66_F000570/meals_list.txt'),\n",
       " WindowsPath('Res_Tree/M000547/res_2019.09.13_0.0_6655DA_Container-dat_3057_144-149-294_M000547/meals_list_2.txt')]"
      ]
     },
     "execution_count": 7,
     "metadata": {},
     "output_type": "execute_result"
    }
   ],
   "source": [
    "file_pathes"
   ]
  }
 ],
 "metadata": {
  "kernelspec": {
   "display_name": "Python 3",
   "language": "python",
   "name": "python3"
  },
  "language_info": {
   "codemirror_mode": {
    "name": "ipython",
    "version": 3
   },
   "file_extension": ".py",
   "mimetype": "text/x-python",
   "name": "python",
   "nbconvert_exporter": "python",
   "pygments_lexer": "ipython3",
   "version": "3.8.8"
  }
 },
 "nbformat": 4,
 "nbformat_minor": 5
}
