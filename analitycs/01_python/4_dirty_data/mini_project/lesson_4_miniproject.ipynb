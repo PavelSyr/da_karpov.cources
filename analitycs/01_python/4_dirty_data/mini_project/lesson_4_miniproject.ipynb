{
 "cells": [
  {
   "cell_type": "code",
   "execution_count": 84,
   "id": "a3670f9d",
   "metadata": {},
   "outputs": [],
   "source": [
    "import pandas as pd\n",
    "import numpy as np\n",
    "import seaborn as sns\n",
    "import matplotlib.pyplot as plt\n",
    "from pathlib import Path\n",
    "\n",
    "%matplotlib inline"
   ]
  },
  {
   "cell_type": "markdown",
   "id": "4c17ddf2",
   "metadata": {},
   "source": [
    "Step 2 <a href='https://lab.karpov.courses/learning/85/module/1056/lesson/9041/26526/117902/'>link</a>\n",
    "<br>💀 Сложное задание! 💀\n",
    "\n",
    "Соберите все данные из папки data в один датафрэйм, имеющий следующие столбцы: колонки из самих файлов (product_id, quantity), имя пользователя (name), и дату этих покупок (date), соответствует названию папки, где лежит папка с пользователем).\n",
    "\n",
    "Пример итоговой таблицы:\n",
    "\n",
    "<br>    product_id  quantity    name             date\n",
    "<br>0       56          2         Anatoly_Karpov   2020-12-30\n",
    "<br>1       7           2         Anatoly_Karpov   2020-12-30\n",
    "<br>2       9           3         Anatoly_Karpov   2020-12-30\n",
    "\n",
    "Для объединения датафреймов, читаемых из файлов, можно использовать метод pd.concat(). Например:\n",
    "\n",
    "1. Имеются следующие данные:\n",
    "\n",
    "df_1\n",
    "<br>    product_id  quantity    name               date\n",
    "<br>0       56          2         Anatoly_Karpov     2020-12-30\n",
    "<br>1       7           2         Anatoly_Karpov     2020-12-30\n",
    "<br>2       9           3         Anatoly_Karpov     2020-12-30\n",
    "\n",
    " df_2\n",
    "<br>    product_id  quantity    name               date\n",
    "<br>0       4           2         Кatya_Skriptsova   2020-12-30\n",
    "<br>1       71          1         Кatya_Skriptsova   2020-12-31\n",
    "\n",
    "2. Соединяем, передав pd.concat на вход список датафреймов, которые нужно объединить. Обратите внимание: индексы повторяются, поэтому после соединения всех данных нужно их сбросить.\n",
    "\n",
    "df = pd.concat([df_1, df_2])\n",
    "<br>df\n",
    "<br>    product_id  quantity    name                date\n",
    "<br>0       56          2         Anatoly_Karpov      2020-12-30\n",
    "<br>1       7           2         Anatoly_Karpov      2020-12-30\n",
    "<br>2       9           3         Anatoly_Karpov      2020-12-30\n",
    "<br>0       4           2         Кatya_Skriptsova    2020-12-30\n",
    "<br>1       71          1         Кatya_Skriptsova    2020-12-31\n",
    "\n",
    "В качестве ответа укажите сумму по колонке quantity."
   ]
  },
  {
   "cell_type": "code",
   "execution_count": 54,
   "id": "562f94a2",
   "metadata": {},
   "outputs": [
    {
     "data": {
      "text/plain": [
       "44"
      ]
     },
     "execution_count": 54,
     "metadata": {},
     "output_type": "execute_result"
    }
   ],
   "source": [
    "file_pathes = [path for path in Path('data/').rglob('*.csv')]\n",
    "len(file_pathes)"
   ]
  },
  {
   "cell_type": "code",
   "execution_count": 55,
   "id": "bd5a2cab",
   "metadata": {},
   "outputs": [],
   "source": [
    "#from pathlib import Path\n",
    "root = Path('data/')\n",
    "\n",
    "df = pd.DataFrame()\n",
    "\n",
    "for path_to_file in root.rglob('*.csv'):\n",
    "    tmp_df = pd.read_csv(path_to_file, index_col=0)\n",
    "    splitted = str(path_to_file).split('\\\\')\n",
    "    tmp_df['name'] = splitted[2]\n",
    "    tmp_df['date'] = pd.to_datetime(splitted[1])\n",
    "    \n",
    "    df = pd.concat([df, tmp_df])\n",
    "\n",
    "df = df.reset_index(drop=True)"
   ]
  },
  {
   "cell_type": "code",
   "execution_count": 56,
   "id": "c724e898",
   "metadata": {},
   "outputs": [
    {
     "data": {
      "text/plain": [
       "(161, 4)"
      ]
     },
     "execution_count": 56,
     "metadata": {},
     "output_type": "execute_result"
    }
   ],
   "source": [
    "df.shape"
   ]
  },
  {
   "cell_type": "code",
   "execution_count": 57,
   "id": "9da4c024",
   "metadata": {},
   "outputs": [
    {
     "data": {
      "text/plain": [
       "480"
      ]
     },
     "execution_count": 57,
     "metadata": {},
     "output_type": "execute_result"
    }
   ],
   "source": [
    "df.quantity.sum()"
   ]
  },
  {
   "cell_type": "markdown",
   "id": "d3622eb0",
   "metadata": {},
   "source": [
    "Step 3 <a href='https://lab.karpov.courses/learning/85/module/1056/lesson/9041/26526/117902/'>link</a>\n",
    "<br>Выясните, какой пользователь купил больше всего товаров. Если их несколько, то перечислите имена через запятую с пробелом и в алфавитном порядке. Например:\n",
    "\n",
    "Anatoly_Karpov, Nekto_Ktotovich, Lena_Uhanova, Ignat, Sasha_Tokarev"
   ]
  },
  {
   "cell_type": "code",
   "execution_count": 80,
   "id": "796896a9",
   "metadata": {},
   "outputs": [
    {
     "name": "stdout",
     "output_type": "stream",
     "text": [
      "Alexey_Smirnov, Petr_Smirnov\n"
     ]
    }
   ],
   "source": [
    "quantity_df = df.groupby(by='name', as_index=False) \\\n",
    "    .agg({'quantity':'sum'}) \\\n",
    "    .sort_values('quantity', ascending=False)\n",
    "\n",
    "#get top buyers\n",
    "top = quantity_df[quantity_df.quantity == quantity_df.quantity.max()].name.to_list()\n",
    "\n",
    "print(', '.join(top))"
   ]
  },
  {
   "cell_type": "markdown",
   "id": "68d32ad1",
   "metadata": {},
   "source": [
    "Step 4 <a href='https://lab.karpov.courses/learning/85/module/1056/lesson/9041/26526/117904/'>link</a>\n",
    "<br>Найдите топ-10 товаров по числу проданных единиц за всё время и постройте барплот (столбчатую диаграмму, sns.barplot), где:\n",
    "\n",
    "по оси x – идентификаторы товаров (product_id) \n",
    "по оси y – суммарное число их покупок (сколько товаров с таким product_id было продано)\n",
    "Для практики попробуйте изменить параметры графика: цвет (color), прозрачность (alpha), сортировку значений по оси х (order). \n",
    "\n",
    "В качестве ответа укажите, сколько было продано единиц товара с product_id равным 56."
   ]
  },
  {
   "cell_type": "code",
   "execution_count": 91,
   "id": "94146bc3",
   "metadata": {},
   "outputs": [
    {
     "data": {
      "text/plain": [
       "71"
      ]
     },
     "execution_count": 91,
     "metadata": {},
     "output_type": "execute_result"
    }
   ],
   "source": [
    "df.product_id.nunique()"
   ]
  },
  {
   "cell_type": "code",
   "execution_count": 107,
   "id": "75680650",
   "metadata": {},
   "outputs": [],
   "source": [
    "top_products = df.groupby(by='product_id', as_index=False) \\\n",
    "    .agg({'quantity':'sum'}) \\\n",
    "    .sort_values('quantity', ascending=False) \\\n",
    "    .head(10)"
   ]
  },
  {
   "cell_type": "code",
   "execution_count": 113,
   "id": "5c266762",
   "metadata": {},
   "outputs": [
    {
     "data": {
      "text/plain": [
       "<AxesSubplot:xlabel='product_id', ylabel='quantity'>"
      ]
     },
     "execution_count": 113,
     "metadata": {},
     "output_type": "execute_result"
    },
    {
     "data": {
      "image/png": "[encoded data removed]",
      "text/plain": [
       "<Figure size 1440x648 with 1 Axes>"
      ]
     },
     "metadata": {
      "needs_background": "light"
     },
     "output_type": "display_data"
    }
   ],
   "source": [
    "plt.figure(figsize=(20,9))\n",
    "sns.barplot(data=top_products, x='product_id', y='quantity', color='orange', alpha=0.5)"
   ]
  },
  {
   "cell_type": "markdown",
   "id": "6b35b9e6",
   "metadata": {},
   "source": [
    "Step 5 <a href='https://lab.karpov.courses/learning/85/module/1056/lesson/9041/26526/117905/'>link</a>\n",
    "<br>Посмотрим на продажи по дням! Для визуализации снова используйте барплот, только теперь по оси x будут дни, по которым у нас есть данные (date). Далее выберите верные утверждения:\n",
    "\n",
    "<br>Меньше всего продуктов было приобретено 4 декабря\n",
    "<br>5 декабря было куплено почти в три раза меньше товаров, чем в предыдущий день\n",
    "<br>7 декабря было куплено почти в два раза больше товаров, чем в предыдущий день\n",
    "<br>Максимальное число товаров было продано 4 декабря\n",
    "<br>8 и 9 декабря было продано примерно одинаковое число товаров\n",
    "<br>Меньше всего товаров было приобретено 6 декабря\n",
    "<br>4 декабря было куплено почти в два раза больше товаров, чем в предыдущий день\n",
    "<br>5 декабря было куплено почти в два раза больше товаров, чем в предыдущий день"
   ]
  },
  {
   "cell_type": "code",
   "execution_count": 115,
   "id": "52a2afef",
   "metadata": {},
   "outputs": [
    {
     "data": {
      "text/html": [
       "<div>\n",
       "<style scoped>\n",
       "    .dataframe tbody tr th:only-of-type {\n",
       "        vertical-align: middle;\n",
       "    }\n",
       "\n",
       "    .dataframe tbody tr th {\n",
       "        vertical-align: top;\n",
       "    }\n",
       "\n",
       "    .dataframe thead th {\n",
       "        text-align: right;\n",
       "    }\n",
       "</style>\n",
       "<table border=\"1\" class=\"dataframe\">\n",
       "  <thead>\n",
       "    <tr style=\"text-align: right;\">\n",
       "      <th></th>\n",
       "      <th>date</th>\n",
       "      <th>quantity</th>\n",
       "    </tr>\n",
       "  </thead>\n",
       "  <tbody>\n",
       "    <tr>\n",
       "      <th>1</th>\n",
       "      <td>2020-12-04</td>\n",
       "      <td>113</td>\n",
       "    </tr>\n",
       "    <tr>\n",
       "      <th>4</th>\n",
       "      <td>2020-12-07</td>\n",
       "      <td>94</td>\n",
       "    </tr>\n",
       "    <tr>\n",
       "      <th>6</th>\n",
       "      <td>2020-12-09</td>\n",
       "      <td>69</td>\n",
       "    </tr>\n",
       "    <tr>\n",
       "      <th>5</th>\n",
       "      <td>2020-12-08</td>\n",
       "      <td>68</td>\n",
       "    </tr>\n",
       "    <tr>\n",
       "      <th>2</th>\n",
       "      <td>2020-12-05</td>\n",
       "      <td>61</td>\n",
       "    </tr>\n",
       "  </tbody>\n",
       "</table>\n",
       "</div>"
      ],
      "text/plain": [
       "        date  quantity\n",
       "1 2020-12-04       113\n",
       "4 2020-12-07        94\n",
       "6 2020-12-09        69\n",
       "5 2020-12-08        68\n",
       "2 2020-12-05        61"
      ]
     },
     "execution_count": 115,
     "metadata": {},
     "output_type": "execute_result"
    }
   ],
   "source": [
    "date_df = df.groupby(by='date', as_index=False) \\\n",
    "    .agg({'quantity':'sum'}) \\\n",
    "    .sort_values('quantity', ascending=False)\n",
    "\n",
    "date_df.head()"
   ]
  },
  {
   "cell_type": "code",
   "execution_count": 127,
   "id": "899cd3a7",
   "metadata": {},
   "outputs": [],
   "source": [
    "order = date_df.date.sort_values()"
   ]
  },
  {
   "cell_type": "code",
   "execution_count": 134,
   "id": "8336b904",
   "metadata": {},
   "outputs": [
    {
     "data": {
      "text/plain": [
       "(array([0, 1, 2, 3, 4, 5, 6]),\n",
       " [Text(0, 0, '2020-12-03'),\n",
       "  Text(1, 0, '2020-12-04'),\n",
       "  Text(2, 0, '2020-12-05'),\n",
       "  Text(3, 0, '2020-12-06'),\n",
       "  Text(4, 0, '2020-12-07'),\n",
       "  Text(5, 0, '2020-12-08'),\n",
       "  Text(6, 0, '2020-12-09')])"
      ]
     },
     "execution_count": 134,
     "metadata": {},
     "output_type": "execute_result"
    },
    {
     "data": {
      "image/png": "[encoded data removed]",
      "text/plain": [
       "<Figure size 1440x576 with 1 Axes>"
      ]
     },
     "metadata": {
      "needs_background": "light"
     },
     "output_type": "display_data"
    }
   ],
   "source": [
    "fig, ax = plt.subplots(figsize = (20,8))\n",
    "ax = sns.barplot(data=date_df, x='date', y='quantity', ax=ax, order=order)\n",
    "\n",
    "x_dates = order.dt.strftime('%Y-%m-%d')\n",
    "ax.set_xticklabels(labels=x_dates, rotation=45, ha='right')\n",
    "\n",
    "plt.xticks(rotation=45)"
   ]
  },
  {
   "cell_type": "markdown",
   "id": "1be84654",
   "metadata": {},
   "source": [
    "Step 6 <a href='https://lab.karpov.courses/learning/85/module/1056/lesson/9041/26526/117906/'>link</a>\n",
    "<br>💀 Сложное задание! 💀\n",
    "\n",
    "Сколько пользователей приобрели какой-либо товар повторно (более 1 раза)? Повтором будем считать покупку товара с одинаковым product_id, совершенную в разные дни. \n",
    "\n",
    "Например, пользователь Sasha Tsarev дважды приобрел товар 6. Поскольку покупка была совершена в один и тот же день, повторной в данном случае она считаться не будет. Katya Skriptsova также сделал две покупки товара 7, но в разные дни, поэтому этот случай засчитывается."
   ]
  },
  {
   "cell_type": "code",
   "execution_count": 141,
   "id": "e3b0c8c7",
   "metadata": {
    "scrolled": true
   },
   "outputs": [
    {
     "data": {
      "text/html": [
       "<div>\n",
       "<style scoped>\n",
       "    .dataframe tbody tr th:only-of-type {\n",
       "        vertical-align: middle;\n",
       "    }\n",
       "\n",
       "    .dataframe tbody tr th {\n",
       "        vertical-align: top;\n",
       "    }\n",
       "\n",
       "    .dataframe thead th {\n",
       "        text-align: right;\n",
       "    }\n",
       "</style>\n",
       "<table border=\"1\" class=\"dataframe\">\n",
       "  <thead>\n",
       "    <tr style=\"text-align: right;\">\n",
       "      <th></th>\n",
       "      <th>product_id</th>\n",
       "      <th>name</th>\n",
       "      <th>date</th>\n",
       "    </tr>\n",
       "  </thead>\n",
       "  <tbody>\n",
       "    <tr>\n",
       "      <th>24</th>\n",
       "      <td>15</td>\n",
       "      <td>Anton_Ivanov</td>\n",
       "      <td>2</td>\n",
       "    </tr>\n",
       "    <tr>\n",
       "      <th>150</th>\n",
       "      <td>94</td>\n",
       "      <td>Petr_Fedorov</td>\n",
       "      <td>2</td>\n",
       "    </tr>\n",
       "  </tbody>\n",
       "</table>\n",
       "</div>"
      ],
      "text/plain": [
       "     product_id          name  date\n",
       "24           15  Anton_Ivanov     2\n",
       "150          94  Petr_Fedorov     2"
      ]
     },
     "execution_count": 141,
     "metadata": {},
     "output_type": "execute_result"
    }
   ],
   "source": [
    "df.groupby(by=['product_id','name'], as_index=False) \\\n",
    "    .agg({'date':pd.Series.nunique}) \\\n",
    "    .sort_values('date', ascending=False) \\\n",
    "    .query('date > 1')"
   ]
  },
  {
   "cell_type": "code",
   "execution_count": null,
   "id": "817383a3",
   "metadata": {},
   "outputs": [],
   "source": []
  }
 ],
 "metadata": {
  "kernelspec": {
   "display_name": "Python 3",
   "language": "python",
   "name": "python3"
  },
  "language_info": {
   "codemirror_mode": {
    "name": "ipython",
    "version": 3
   },
   "file_extension": ".py",
   "mimetype": "text/x-python",
   "name": "python",
   "nbconvert_exporter": "python",
   "pygments_lexer": "ipython3",
   "version": "3.8.8"
  }
 },
 "nbformat": 4,
 "nbformat_minor": 5
}
