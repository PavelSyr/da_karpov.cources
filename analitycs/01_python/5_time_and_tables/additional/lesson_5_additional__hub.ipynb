{
 "cells": [
  {
   "cell_type": "code",
   "execution_count": 4,
   "metadata": {},
   "outputs": [],
   "source": [
    "import pandas as pd\n",
    "import numpy as np\n",
    "from pathlib import Path"
   ]
  },
  {
   "cell_type": "code",
   "execution_count": 68,
   "metadata": {},
   "outputs": [],
   "source": [
    "path_log = '/mnt/HC_Volume_18315164/home-jupyter/jupyter-p-syrnev/shared/homeworks/python_ds_miniprojects/5_subsid/subsid/prod_activations_logs.csv'"
   ]
  },
  {
   "cell_type": "code",
   "execution_count": 85,
   "metadata": {},
   "outputs": [],
   "source": [
    "log_df = pd.read_csv(path_log, parse_dates=['START_DTTM','END_DTTM'], dayfirst=[True, True], sep=';', index_col=0)"
   ]
  },
  {
   "cell_type": "code",
   "execution_count": 89,
   "metadata": {},
   "outputs": [
    {
     "data": {
      "text/html": [
       "<div>\n",
       "<style scoped>\n",
       "    .dataframe tbody tr th:only-of-type {\n",
       "        vertical-align: middle;\n",
       "    }\n",
       "\n",
       "    .dataframe tbody tr th {\n",
       "        vertical-align: top;\n",
       "    }\n",
       "\n",
       "    .dataframe thead th {\n",
       "        text-align: right;\n",
       "    }\n",
       "</style>\n",
       "<table border=\"1\" class=\"dataframe\">\n",
       "  <thead>\n",
       "    <tr style=\"text-align: right;\">\n",
       "      <th></th>\n",
       "      <th>SUBS_ID</th>\n",
       "      <th>PROD_ID</th>\n",
       "      <th>START_DTTM</th>\n",
       "      <th>END_DTTM</th>\n",
       "      <th>difference</th>\n",
       "    </tr>\n",
       "  </thead>\n",
       "  <tbody>\n",
       "    <tr>\n",
       "      <th>0</th>\n",
       "      <td>id4651830</td>\n",
       "      <td>1954</td>\n",
       "      <td>2020-03-20 14:59:00</td>\n",
       "      <td>2020-12-01 00:00:00</td>\n",
       "      <td>255 days 09:01:00</td>\n",
       "    </tr>\n",
       "    <tr>\n",
       "      <th>1</th>\n",
       "      <td>id7646509</td>\n",
       "      <td>6431</td>\n",
       "      <td>2020-03-19 13:00:00</td>\n",
       "      <td>2020-03-19 13:03:00</td>\n",
       "      <td>0 days 00:03:00</td>\n",
       "    </tr>\n",
       "    <tr>\n",
       "      <th>2</th>\n",
       "      <td>id7461794</td>\n",
       "      <td>3310</td>\n",
       "      <td>2020-03-20 17:25:00</td>\n",
       "      <td>2020-12-01 00:00:00</td>\n",
       "      <td>255 days 06:35:00</td>\n",
       "    </tr>\n",
       "    <tr>\n",
       "      <th>3</th>\n",
       "      <td>id5416547</td>\n",
       "      <td>1743</td>\n",
       "      <td>2020-03-17 10:17:00</td>\n",
       "      <td>2020-03-25 11:00:00</td>\n",
       "      <td>8 days 00:43:00</td>\n",
       "    </tr>\n",
       "    <tr>\n",
       "      <th>4</th>\n",
       "      <td>id8238421</td>\n",
       "      <td>1859</td>\n",
       "      <td>2020-03-01 11:42:00</td>\n",
       "      <td>2020-03-01 11:43:00</td>\n",
       "      <td>0 days 00:01:00</td>\n",
       "    </tr>\n",
       "    <tr>\n",
       "      <th>5</th>\n",
       "      <td>id8641743</td>\n",
       "      <td>2752</td>\n",
       "      <td>2020-03-20 15:44:00</td>\n",
       "      <td>2020-04-21 15:44:00</td>\n",
       "      <td>32 days 00:00:00</td>\n",
       "    </tr>\n",
       "    <tr>\n",
       "      <th>6</th>\n",
       "      <td>id2185490</td>\n",
       "      <td>3210</td>\n",
       "      <td>2020-03-16 16:28:00</td>\n",
       "      <td>2020-12-01 00:00:00</td>\n",
       "      <td>259 days 07:32:00</td>\n",
       "    </tr>\n",
       "    <tr>\n",
       "      <th>7</th>\n",
       "      <td>id7642700</td>\n",
       "      <td>3020</td>\n",
       "      <td>2020-03-15 14:21:00</td>\n",
       "      <td>2020-03-15 23:42:00</td>\n",
       "      <td>0 days 09:21:00</td>\n",
       "    </tr>\n",
       "    <tr>\n",
       "      <th>8</th>\n",
       "      <td>id8741631</td>\n",
       "      <td>5677</td>\n",
       "      <td>2020-03-19 12:28:00</td>\n",
       "      <td>2020-12-01 00:00:00</td>\n",
       "      <td>256 days 11:32:00</td>\n",
       "    </tr>\n",
       "  </tbody>\n",
       "</table>\n",
       "</div>"
      ],
      "text/plain": [
       "     SUBS_ID PROD_ID          START_DTTM            END_DTTM        difference\n",
       "0  id4651830    1954 2020-03-20 14:59:00 2020-12-01 00:00:00 255 days 09:01:00\n",
       "1  id7646509    6431 2020-03-19 13:00:00 2020-03-19 13:03:00   0 days 00:03:00\n",
       "2  id7461794    3310 2020-03-20 17:25:00 2020-12-01 00:00:00 255 days 06:35:00\n",
       "3  id5416547    1743 2020-03-17 10:17:00 2020-03-25 11:00:00   8 days 00:43:00\n",
       "4  id8238421    1859 2020-03-01 11:42:00 2020-03-01 11:43:00   0 days 00:01:00\n",
       "5  id8641743    2752 2020-03-20 15:44:00 2020-04-21 15:44:00  32 days 00:00:00\n",
       "6  id2185490    3210 2020-03-16 16:28:00 2020-12-01 00:00:00 259 days 07:32:00\n",
       "7  id7642700    3020 2020-03-15 14:21:00 2020-03-15 23:42:00   0 days 09:21:00\n",
       "8  id8741631    5677 2020-03-19 12:28:00 2020-12-01 00:00:00 256 days 11:32:00"
      ]
     },
     "execution_count": 89,
     "metadata": {},
     "output_type": "execute_result"
    }
   ],
   "source": [
    "log_df = log_df.reset_index(drop=True)\n",
    "log_df['difference'] = log_df.END_DTTM - log_df.START_DTTM\n",
    "\n",
    "log_df"
   ]
  },
  {
   "cell_type": "code",
   "execution_count": 92,
   "metadata": {},
   "outputs": [],
   "source": [
    "#log_df.difference > '00:05:00'\n",
    "#log_df.difference > '5m'"
   ]
  },
  {
   "cell_type": "code",
   "execution_count": 94,
   "metadata": {},
   "outputs": [],
   "source": [
    "log_df_success = log_df.query('difference > \"00:05:00\"')"
   ]
  },
  {
   "cell_type": "code",
   "execution_count": 52,
   "metadata": {},
   "outputs": [],
   "source": [
    "root = Path('/mnt/HC_Volume_18315164/home-jupyter/jupyter-p-syrnev/shared/homeworks/python_ds_miniprojects/5_subsid/subsid/')\n",
    "\n",
    "tm_sales_df = pd.DataFrame()\n",
    "for path in root.rglob('tm_sales_*.csv'):\n",
    "    tmp_df = pd.read_csv(path, sep=';', parse_dates=['ACT_DTTM'], dayfirst=True)\n",
    "    tm_sales_df = pd.concat([tm_sales_df, tmp_df])\n",
    "\n",
    "tm_sales_df = tm_sales_df.dropna(subset=['SUBS_ID']).reset_index(drop=True)\n",
    "\n",
    "tm_sales_df.SUBS_ID = tm_sales_df.SUBS_ID.apply(lambda x: x if 'id' in x else 'id' + x)"
   ]
  },
  {
   "cell_type": "code",
   "execution_count": 61,
   "metadata": {},
   "outputs": [],
   "source": []
  },
  {
   "cell_type": "code",
   "execution_count": 62,
   "metadata": {},
   "outputs": [
    {
     "data": {
      "text/html": [
       "<div>\n",
       "<style scoped>\n",
       "    .dataframe tbody tr th:only-of-type {\n",
       "        vertical-align: middle;\n",
       "    }\n",
       "\n",
       "    .dataframe tbody tr th {\n",
       "        vertical-align: top;\n",
       "    }\n",
       "\n",
       "    .dataframe thead th {\n",
       "        text-align: right;\n",
       "    }\n",
       "</style>\n",
       "<table border=\"1\" class=\"dataframe\">\n",
       "  <thead>\n",
       "    <tr style=\"text-align: right;\">\n",
       "      <th></th>\n",
       "      <th>SUBS_ID</th>\n",
       "      <th>FILIAL_ID</th>\n",
       "      <th>PROD_ID</th>\n",
       "      <th>ACT_DTTM</th>\n",
       "    </tr>\n",
       "  </thead>\n",
       "  <tbody>\n",
       "    <tr>\n",
       "      <th>0</th>\n",
       "      <td>id4651830</td>\n",
       "      <td>1</td>\n",
       "      <td>1954</td>\n",
       "      <td>2020-03-20 14:59:00</td>\n",
       "    </tr>\n",
       "    <tr>\n",
       "      <th>1</th>\n",
       "      <td>id7646509</td>\n",
       "      <td>5</td>\n",
       "      <td>6431</td>\n",
       "      <td>2020-03-19 13:00:00</td>\n",
       "    </tr>\n",
       "    <tr>\n",
       "      <th>2</th>\n",
       "      <td>id7412683</td>\n",
       "      <td>4</td>\n",
       "      <td>3313</td>\n",
       "      <td>2020-03-22 17:25:00</td>\n",
       "    </tr>\n",
       "    <tr>\n",
       "      <th>3</th>\n",
       "      <td>id5416547</td>\n",
       "      <td>3</td>\n",
       "      <td>1743</td>\n",
       "      <td>2020-03-17 10:17:00</td>\n",
       "    </tr>\n",
       "    <tr>\n",
       "      <th>4</th>\n",
       "      <td>id8362218</td>\n",
       "      <td>7</td>\n",
       "      <td>9879</td>\n",
       "      <td>2020-03-05 11:42:00</td>\n",
       "    </tr>\n",
       "    <tr>\n",
       "      <th>5</th>\n",
       "      <td>id2185490</td>\n",
       "      <td>2</td>\n",
       "      <td>3210</td>\n",
       "      <td>2020-03-16 16:28:00</td>\n",
       "    </tr>\n",
       "    <tr>\n",
       "      <th>6</th>\n",
       "      <td>id5764122</td>\n",
       "      <td>3</td>\n",
       "      <td>1499</td>\n",
       "      <td>2020-03-18 15:44:00</td>\n",
       "    </tr>\n",
       "    <tr>\n",
       "      <th>7</th>\n",
       "      <td>id7642700</td>\n",
       "      <td>6</td>\n",
       "      <td>3020</td>\n",
       "      <td>2020-03-15 14:21:00</td>\n",
       "    </tr>\n",
       "    <tr>\n",
       "      <th>8</th>\n",
       "      <td>id1374509</td>\n",
       "      <td>2</td>\n",
       "      <td>5677</td>\n",
       "      <td>2020-03-17 11:48:00</td>\n",
       "    </tr>\n",
       "  </tbody>\n",
       "</table>\n",
       "</div>"
      ],
      "text/plain": [
       "     SUBS_ID  FILIAL_ID  PROD_ID            ACT_DTTM\n",
       "0  id4651830          1     1954 2020-03-20 14:59:00\n",
       "1  id7646509          5     6431 2020-03-19 13:00:00\n",
       "2  id7412683          4     3313 2020-03-22 17:25:00\n",
       "3  id5416547          3     1743 2020-03-17 10:17:00\n",
       "4  id8362218          7     9879 2020-03-05 11:42:00\n",
       "5  id2185490          2     3210 2020-03-16 16:28:00\n",
       "6  id5764122          3     1499 2020-03-18 15:44:00\n",
       "7  id7642700          6     3020 2020-03-15 14:21:00\n",
       "8  id1374509          2     5677 2020-03-17 11:48:00"
      ]
     },
     "execution_count": 62,
     "metadata": {},
     "output_type": "execute_result"
    }
   ],
   "source": [
    "tm_sales_df"
   ]
  },
  {
   "cell_type": "code",
   "execution_count": 98,
   "metadata": {},
   "outputs": [
    {
     "data": {
      "text/html": [
       "<div>\n",
       "<style scoped>\n",
       "    .dataframe tbody tr th:only-of-type {\n",
       "        vertical-align: middle;\n",
       "    }\n",
       "\n",
       "    .dataframe tbody tr th {\n",
       "        vertical-align: top;\n",
       "    }\n",
       "\n",
       "    .dataframe thead th {\n",
       "        text-align: right;\n",
       "    }\n",
       "</style>\n",
       "<table border=\"1\" class=\"dataframe\">\n",
       "  <thead>\n",
       "    <tr style=\"text-align: right;\">\n",
       "      <th></th>\n",
       "      <th>SUBS_ID</th>\n",
       "      <th>PROD_ID</th>\n",
       "      <th>START_DTTM</th>\n",
       "      <th>END_DTTM</th>\n",
       "      <th>difference</th>\n",
       "      <th>FILIAL_ID</th>\n",
       "      <th>ACT_DTTM</th>\n",
       "    </tr>\n",
       "  </thead>\n",
       "  <tbody>\n",
       "    <tr>\n",
       "      <th>0</th>\n",
       "      <td>id4651830</td>\n",
       "      <td>1954</td>\n",
       "      <td>2020-03-20 14:59:00</td>\n",
       "      <td>2020-12-01 00:00:00</td>\n",
       "      <td>255 days 09:01:00</td>\n",
       "      <td>1</td>\n",
       "      <td>2020-03-20 14:59:00</td>\n",
       "    </tr>\n",
       "    <tr>\n",
       "      <th>1</th>\n",
       "      <td>id5416547</td>\n",
       "      <td>1743</td>\n",
       "      <td>2020-03-17 10:17:00</td>\n",
       "      <td>2020-03-25 11:00:00</td>\n",
       "      <td>8 days 00:43:00</td>\n",
       "      <td>3</td>\n",
       "      <td>2020-03-17 10:17:00</td>\n",
       "    </tr>\n",
       "    <tr>\n",
       "      <th>2</th>\n",
       "      <td>id2185490</td>\n",
       "      <td>3210</td>\n",
       "      <td>2020-03-16 16:28:00</td>\n",
       "      <td>2020-12-01 00:00:00</td>\n",
       "      <td>259 days 07:32:00</td>\n",
       "      <td>2</td>\n",
       "      <td>2020-03-16 16:28:00</td>\n",
       "    </tr>\n",
       "    <tr>\n",
       "      <th>3</th>\n",
       "      <td>id7642700</td>\n",
       "      <td>3020</td>\n",
       "      <td>2020-03-15 14:21:00</td>\n",
       "      <td>2020-03-15 23:42:00</td>\n",
       "      <td>0 days 09:21:00</td>\n",
       "      <td>6</td>\n",
       "      <td>2020-03-15 14:21:00</td>\n",
       "    </tr>\n",
       "  </tbody>\n",
       "</table>\n",
       "</div>"
      ],
      "text/plain": [
       "     SUBS_ID PROD_ID          START_DTTM            END_DTTM  \\\n",
       "0  id4651830    1954 2020-03-20 14:59:00 2020-12-01 00:00:00   \n",
       "1  id5416547    1743 2020-03-17 10:17:00 2020-03-25 11:00:00   \n",
       "2  id2185490    3210 2020-03-16 16:28:00 2020-12-01 00:00:00   \n",
       "3  id7642700    3020 2020-03-15 14:21:00 2020-03-15 23:42:00   \n",
       "\n",
       "         difference  FILIAL_ID            ACT_DTTM  \n",
       "0 255 days 09:01:00          1 2020-03-20 14:59:00  \n",
       "1   8 days 00:43:00          3 2020-03-17 10:17:00  \n",
       "2 259 days 07:32:00          2 2020-03-16 16:28:00  \n",
       "3   0 days 09:21:00          6 2020-03-15 14:21:00  "
      ]
     },
     "execution_count": 98,
     "metadata": {},
     "output_type": "execute_result"
    }
   ],
   "source": [
    "interested_columns = ['SUBS_ID', 'FILIAL_ID', 'ACT_DTTM']\n",
    "success = log_df_success.merge(tm_sales_df[interested_columns], on='SUBS_ID')\n",
    "success"
   ]
  },
  {
   "cell_type": "code",
   "execution_count": 106,
   "metadata": {},
   "outputs": [
    {
     "data": {
      "text/plain": [
       "0    20-03-2020 14:59\n",
       "1    17-03-2020 10:17\n",
       "2    16-03-2020 16:28\n",
       "3    15-03-2020 14:21\n",
       "Name: ACT_DTTM, dtype: object"
      ]
     },
     "execution_count": 106,
     "metadata": {},
     "output_type": "execute_result"
    }
   ],
   "source": [
    "success.ACT_DTTM.dt.strftime('%d-%m-%Y %H:%M')"
   ]
  },
  {
   "cell_type": "code",
   "execution_count": 109,
   "metadata": {},
   "outputs": [],
   "source": [
    "interested_columns = ['ACT_DTTM', 'FILIAL_ID', 'difference']\n",
    "success[interested_columns].to_csv('success_connections.csv', sep=';',index=False, date_format='%d-%m-%Y %H:%M')"
   ]
  },
  {
   "cell_type": "code",
   "execution_count": 107,
   "metadata": {},
   "outputs": [],
   "source": [
    "??pd.DataFrame.to_csv"
   ]
  },
  {
   "cell_type": "code",
   "execution_count": 114,
   "metadata": {},
   "outputs": [
    {
     "data": {
      "text/plain": [
       "'id2185490, id4651830, id5416547, id7642700'"
      ]
     },
     "execution_count": 114,
     "metadata": {},
     "output_type": "execute_result"
    }
   ],
   "source": [
    "', '.join(success.SUBS_ID.sort_values().values)"
   ]
  },
  {
   "cell_type": "code",
   "execution_count": null,
   "metadata": {},
   "outputs": [],
   "source": []
  }
 ],
 "metadata": {
  "kernelspec": {
   "display_name": "Python 3",
   "language": "python",
   "name": "python3"
  },
  "language_info": {
   "codemirror_mode": {
    "name": "ipython",
    "version": 3
   },
   "file_extension": ".py",
   "mimetype": "text/x-python",
   "name": "python",
   "nbconvert_exporter": "python",
   "pygments_lexer": "ipython3",
   "version": "3.8.8"
  }
 },
 "nbformat": 4,
 "nbformat_minor": 4
}
