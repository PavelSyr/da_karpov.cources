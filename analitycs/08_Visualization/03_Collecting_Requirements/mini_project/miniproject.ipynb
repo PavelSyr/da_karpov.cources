{
 "cells": [
  {
   "cell_type": "markdown",
   "metadata": {},
   "source": [
    "# Задание\n",
    "\n",
    "<a href='https://150422karpova-viy7442.slack.com/archives/D03QMGLB8E9/p1658581217226699'>Сообщение в Slack</a>\n",
    "\n",
    "Ваша фирма занимается продажей товаров, но на этапе проектирования дашборда это будет не важно. Вы работаете в `отделе HR аналитики` и ваша `основная задача - счастливые и активные работники`, потому что компания – это люди, как бы банально ни звучало.\n",
    "\n",
    "Одна из ваших целей – `предотвращение выгорания` среди работников вашей компании, которое может быть косвенно проанализировано через уровень удовлетворенности работников. Вы с командой запустили тематический опрос по нескольким оценкам: удовлетворенность работой, обстановкой на работе и отношениями с коллегами, а также баланс работы и личной жизни.\n",
    "\n",
    "Для начала вы хотите понимать общий уровень разных видов удовлетворенности в компании и в разрезе департаментов и должностей. Вы предполагаете, что уровень удовлетворенности может зависеть от \"застоя\" сотрудников (количество лет в текущей позиции, с текущим менеджером или с последнего повышения) и уровня зарплаты, поэтому важно видеть есть ли такие зависимости. Если вы находите такую зависимость, то выносите вопрос на директора для пересмотра политики повышений или ротации.\n",
    "\n",
    "Когда вы видите, что в каком-то отделе уровень удовлетворенности низкий, то проваливаетесь до уровня сотрудников. Поэтому помимо обобщенной статистики по срезам вы хотите иметь возможность посмотреть на ответы каждого работника с возможностью сортировки по показателям удовлетворенности. Так же полезно сравнивать показатели сотрудника со средним по его департаменту и должности.\n",
    "Если показатели низкие для всех сотрудников подразделения, то назначаете встречу с руководителем команды, если проблемы только у нескольких сотрудников, то анализируете детально их работу. Для этого важно иметь возможность перехода на рабочую страницу сотрудника формата: `hr-karpov.ru/idEmployeeNumber`, чтобы проверять, давно ли он был в отпуске или частоту совещаний и распределение нагрузки внутри рабочего дня и т.п.\n",
    "\n",
    "Этим дашбордом будут пользоваться вы и ваши подчиненные — HR аналитики на компьютерах. Вы планируете проводить такой опрос несколько раз в год и для быстрой визуализации результатов вы будете переиспользовать его и дополнять его новыми данными. Часто некоторые графики или дашборд полностью будут экспортироваться как картинка в презентацию по одному отделу, чтобы обсудить результаты с коллегами. Задача со звёздочкой — сделать мобильную версию дашборда, чтобы ваши коллеги менеджеры могли смотреть его с телефона во время поездок.\n",
    "\n",
    "Разработайте дашборд, который будет решать ваши задачи.\n",
    "\n",
    "p.s. ссылка на страницу сотрудника фейковая и это условие сделано специально для оттачивания мастерства по созданию экшнов на дашбордах :легкая_улыбка:"
   ]
  },
  {
   "cell_type": "markdown",
   "metadata": {},
   "source": [
    "# Описание данных \n",
    "Hr data_satisfaction.xlsx\n",
    "\n",
    "1. `Age` - Возраст\n",
    "2. `BusinessTravel` - Категория частоты бизнес-поездок (часто или не часто ездит)\n",
    "3. `Department` - Департамент, в котором числится работник\n",
    "4. `DistanceFromHome` - Расстояние между домом и офисом в километрах\n",
    "5. `EducationField` - Область образования\n",
    "6. `EmployeeCount` - Колонка для расчета суммарного количества работников\n",
    "7. `EmployeeNumber` - ID работника\n",
    "8. `EnvironmentSatisfaction` - Уровень удовлетворенности рабочей средой (1-4, где 4 - очень удовлетворен)\n",
    "9. `Gender` - Пол (мужской, женский)\n",
    "10. `JobRole` - Должность\n",
    "11. `JobSatisfaction` - Уровень удовлетворенности работой (1-4, где 4 - очень удовлетворен)\n",
    "12. `MaritalStatus` - Семейное положение\n",
    "13. `MonthlyIncome` - Месячный доход\n",
    "14. `NumCompaniesWorked` - Количество компаний, в которых до этого работал сотрудник\n",
    "15. `PerformanceRating` - Оценка работы сотрудника (1-4, где 4 - превосходный результат)\n",
    "16. `RelationshipSatisfaction` - Уровень удовлетворенности отношениям внутри компании средой (1-4, где 4 - очень удовлетворен)\n",
    "17. `TotalWorkingYears` - Общий трудовой стаж (в годах)\n",
    "18. `TrainingTimesLastYear` - Количество часов повышения квалификации в прошлом году\n",
    "19. `WorkLifeBalance` - Уровень удовлетноренности соотношением работы и личной жизни (1-4, где 4 - отличный баланс)\n",
    "20. `YearsAtCompany` - Количество лет в компании\n",
    "21. `YearsInCurrentRole` - Количество лет в текущей должности\n",
    "22. `YearsSinceLastPromotion` - Количество лет с даты последнего повышения\n",
    "23. `YearsWithCurrManager` - Количество лет вместе с текущим менеджером"
   ]
  },
  {
   "cell_type": "code",
   "execution_count": 2,
   "metadata": {},
   "outputs": [],
   "source": [
    "import pandas as pd"
   ]
  },
  {
   "cell_type": "code",
   "execution_count": 6,
   "metadata": {},
   "outputs": [],
   "source": [
    "df_satisfaction = pd.read_excel('./incoming_data/Hr data_satisfaction.xlsx')"
   ]
  },
  {
   "cell_type": "code",
   "execution_count": 21,
   "metadata": {},
   "outputs": [
    {
     "name": "stdout",
     "output_type": "stream",
     "text": [
      "1. `Age` - Возраст\n",
      "2. `BusinessTravel` - Категория частоты бизнес-поездок (часто или не часто ездит)\n",
      "3. `Department` - Департамент, в котором числится работник\n",
      "4. `DistanceFromHome` - Расстояние между домом и офисом в километрах\n",
      "5. `EducationField` - Область образования\n",
      "6. `EmployeeCount` - Колонка для расчета суммарного количества работников\n",
      "7. `EmployeeNumber` - ID работника\n",
      "8. `EnvironmentSatisfaction` - Уровень удовлетворенности рабочей средой (1-4, где 4 - очень удовлетворен)\n",
      "9. `Gender` - Пол (мужской, женский)\n",
      "10. `JobRole` - Должность\n",
      "11. `JobSatisfaction` - Уровень удовлетворенности работой (1-4, где 4 - очень удовлетворен)\n",
      "12. `MaritalStatus` - Семейное положение\n",
      "13. `MonthlyIncome` - Месячный доход\n",
      "14. `NumCompaniesWorked` - Количество компаний, в которых до этого работал сотрудник\n",
      "15. `PerformanceRating` - Оценка работы сотрудника (1-4, где 4 - превосходный результат)\n",
      "16. `RelationshipSatisfaction` - Уровень удовлетворенности отношениям внутри компании средой (1-4, где 4 - очень удовлетворен)\n",
      "17. `TotalWorkingYears` - Общий трудовой стаж (в годах)\n",
      "18. `TrainingTimesLastYear` - Количество часов повышения квалификации в прошлом году\n",
      "19. `WorkLifeBalance` - Уровень удовлетноренности соотношением работы и личной жизни (1-4, где 4 - отличный баланс)\n",
      "20. `YearsAtCompany` - Количество лет в компании\n",
      "21. `YearsInCurrentRole` - Количество лет в текущей должности\n",
      "22. `YearsSinceLastPromotion` - Количество лет с даты последнего повышения\n",
      "23. `YearsWithCurrManager` - Количество лет вместе с текущим менеджером\n"
     ]
    }
   ],
   "source": [
    "# получим описание данных для data_satisfaction\n",
    "df_desc = pd.read_excel('./incoming_data/Описание полей.xlsx', skiprows=1)[['Name', 'Description']].dropna(axis=0)\n",
    "for t in df_desc.itertuples():\n",
    "    print(f'{t.Index + 1}. `{t.Name}` - {t.Description}')"
   ]
  },
  {
   "cell_type": "code",
   "execution_count": 22,
   "metadata": {},
   "outputs": [
    {
     "name": "stdout",
     "output_type": "stream",
     "text": [
      "Age | BusinessTravel | Department | DistanceFromHome | EducationField | EmployeeCount | EmployeeNumber | EnvironmentSatisfaction | Gender | JobRole | JobSatisfaction | MaritalStatus | MonthlyIncome | NumCompaniesWorked | PerformanceRating | RelationshipSatisfaction | TotalWorkingYears | TrainingTimesLastYear | WorkLifeBalance | YearsAtCompany | YearsInCurrentRole | YearsSinceLastPromotion | YearsWithCurrManager | \n"
     ]
    }
   ],
   "source": [
    "s = ''\n",
    "for t in df_desc.itertuples():\n",
    "    s += f'{t.Name} | '\n",
    "print(s)\n"
   ]
  },
  {
   "cell_type": "code",
   "execution_count": 25,
   "metadata": {},
   "outputs": [
    {
     "data": {
      "text/plain": [
       "array(['Sales', 'Research & Development', 'Human Resources'], dtype=object)"
      ]
     },
     "execution_count": 25,
     "metadata": {},
     "output_type": "execute_result"
    }
   ],
   "source": [
    "df_satisfaction.Department.unique()"
   ]
  },
  {
   "cell_type": "code",
   "execution_count": 26,
   "metadata": {},
   "outputs": [
    {
     "data": {
      "text/plain": [
       "array(['Sales Executive', 'Research Scientist', 'Laboratory Technician',\n",
       "       'Manufacturing Director', 'Healthcare Representative', 'Manager',\n",
       "       'Sales Representative', 'Research Director', 'Human Resources'],\n",
       "      dtype=object)"
      ]
     },
     "execution_count": 26,
     "metadata": {},
     "output_type": "execute_result"
    }
   ],
   "source": [
    "df_satisfaction.JobRole.unique()"
   ]
  },
  {
   "cell_type": "code",
   "execution_count": 37,
   "metadata": {},
   "outputs": [
    {
     "data": {
      "text/plain": [
       "id                  0\n",
       "SatisfactionName    0\n",
       "value               0\n",
       "dtype: int64"
      ]
     },
     "execution_count": 37,
     "metadata": {},
     "output_type": "execute_result"
    }
   ],
   "source": [
    "satisfactions = ['EnvironmentSatisfaction', 'JobSatisfaction', 'PerformanceRating', 'RelationshipSatisfaction', 'WorkLifeBalance']\n",
    "df_satisfaction \\\n",
    "    .reset_index() \\\n",
    "    .rename(columns={'index':'id'}) \\\n",
    "    .melt(id_vars='id', value_vars=satisfactions, var_name='SatisfactionName') \\\n",
    "    .to_csv('satisfactions.csv', index=False)"
   ]
  },
  {
   "cell_type": "markdown",
   "metadata": {},
   "source": [
    "# Сылка на перезентацию\n",
    "<a href='https://docs.google.com/presentation/d/1jB04sYoBX8yr4Z88UKuzPXknYErY7e4oTSR9QbkRSAM/edit?usp=sharing'>google presentation</a>"
   ]
  }
 ],
 "metadata": {
  "kernelspec": {
   "display_name": "Python 3.8.8 ('base')",
   "language": "python",
   "name": "python3"
  },
  "language_info": {
   "codemirror_mode": {
    "name": "ipython",
    "version": 3
   },
   "file_extension": ".py",
   "mimetype": "text/x-python",
   "name": "python",
   "nbconvert_exporter": "python",
   "pygments_lexer": "ipython3",
   "version": "3.8.8"
  },
  "orig_nbformat": 4,
  "vscode": {
   "interpreter": {
    "hash": "4c62ffd6e4fba16dfdbb3c8124c485821ec2dc2c629030f80ae71594aa9915f5"
   }
  }
 },
 "nbformat": 4,
 "nbformat_minor": 2
}
